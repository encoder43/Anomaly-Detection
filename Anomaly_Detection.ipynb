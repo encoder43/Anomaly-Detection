{
  "nbformat": 4,
  "nbformat_minor": 0,
  "metadata": {
    "colab": {
      "provenance": [],
      "collapsed_sections": [],
      "mount_file_id": "1MxlKPGgEQcVgwR0HGHilHBx45LDMoRMA",
      "authorship_tag": "ABX9TyPGE14uPF5NMBFJ67vE2cnH",
      "include_colab_link": true
    },
    "kernelspec": {
      "name": "python3",
      "display_name": "Python 3"
    },
    "language_info": {
      "name": "python"
    },
    "widgets": {
      "application/vnd.jupyter.widget-state+json": {
        "cd8efed0c7f84e93bf1d9c7d7cacbb97": {
          "model_module": "@jupyter-widgets/controls",
          "model_name": "HBoxModel",
          "model_module_version": "1.5.0",
          "state": {
            "_dom_classes": [],
            "_model_module": "@jupyter-widgets/controls",
            "_model_module_version": "1.5.0",
            "_model_name": "HBoxModel",
            "_view_count": null,
            "_view_module": "@jupyter-widgets/controls",
            "_view_module_version": "1.5.0",
            "_view_name": "HBoxView",
            "box_style": "",
            "children": [
              "IPY_MODEL_63630de33a514f668ccc4004ee1496ae",
              "IPY_MODEL_80269429926640aeb7dffd1956483414",
              "IPY_MODEL_4da5ae27d49e484dabd8005b02f067e8"
            ],
            "layout": "IPY_MODEL_8d54afae022340a0a3b43c507d0b4801"
          }
        },
        "63630de33a514f668ccc4004ee1496ae": {
          "model_module": "@jupyter-widgets/controls",
          "model_name": "HTMLModel",
          "model_module_version": "1.5.0",
          "state": {
            "_dom_classes": [],
            "_model_module": "@jupyter-widgets/controls",
            "_model_module_version": "1.5.0",
            "_model_name": "HTMLModel",
            "_view_count": null,
            "_view_module": "@jupyter-widgets/controls",
            "_view_module_version": "1.5.0",
            "_view_name": "HTMLView",
            "description": "",
            "description_tooltip": null,
            "layout": "IPY_MODEL_4e21e098f3dd4689ae0b15dbf9673b5f",
            "placeholder": "​",
            "style": "IPY_MODEL_10c918c886d14100a17f5d1e59023abb",
            "value": "Processing:   0%"
          }
        },
        "80269429926640aeb7dffd1956483414": {
          "model_module": "@jupyter-widgets/controls",
          "model_name": "FloatProgressModel",
          "model_module_version": "1.5.0",
          "state": {
            "_dom_classes": [],
            "_model_module": "@jupyter-widgets/controls",
            "_model_module_version": "1.5.0",
            "_model_name": "FloatProgressModel",
            "_view_count": null,
            "_view_module": "@jupyter-widgets/controls",
            "_view_module_version": "1.5.0",
            "_view_name": "ProgressView",
            "bar_style": "",
            "description": "",
            "description_tooltip": null,
            "layout": "IPY_MODEL_7c8ef7de6d2a41089b16e8e3ba7b2368",
            "max": 3,
            "min": 0,
            "orientation": "horizontal",
            "style": "IPY_MODEL_ffce6a9651c64b178bbef5e864241054",
            "value": 3
          }
        },
        "4da5ae27d49e484dabd8005b02f067e8": {
          "model_module": "@jupyter-widgets/controls",
          "model_name": "HTMLModel",
          "model_module_version": "1.5.0",
          "state": {
            "_dom_classes": [],
            "_model_module": "@jupyter-widgets/controls",
            "_model_module_version": "1.5.0",
            "_model_name": "HTMLModel",
            "_view_count": null,
            "_view_module": "@jupyter-widgets/controls",
            "_view_module_version": "1.5.0",
            "_view_name": "HTMLView",
            "description": "",
            "description_tooltip": null,
            "layout": "IPY_MODEL_29e768f475a744ac8a1f1d5f65d064ab",
            "placeholder": "​",
            "style": "IPY_MODEL_a063fee48fe34f119682d6074086042f",
            "value": " 0/3 [00:00&lt;?, ?it/s]"
          }
        },
        "8d54afae022340a0a3b43c507d0b4801": {
          "model_module": "@jupyter-widgets/base",
          "model_name": "LayoutModel",
          "model_module_version": "1.2.0",
          "state": {
            "_model_module": "@jupyter-widgets/base",
            "_model_module_version": "1.2.0",
            "_model_name": "LayoutModel",
            "_view_count": null,
            "_view_module": "@jupyter-widgets/base",
            "_view_module_version": "1.2.0",
            "_view_name": "LayoutView",
            "align_content": null,
            "align_items": null,
            "align_self": null,
            "border": null,
            "bottom": null,
            "display": null,
            "flex": null,
            "flex_flow": null,
            "grid_area": null,
            "grid_auto_columns": null,
            "grid_auto_flow": null,
            "grid_auto_rows": null,
            "grid_column": null,
            "grid_gap": null,
            "grid_row": null,
            "grid_template_areas": null,
            "grid_template_columns": null,
            "grid_template_rows": null,
            "height": null,
            "justify_content": null,
            "justify_items": null,
            "left": null,
            "margin": null,
            "max_height": null,
            "max_width": null,
            "min_height": null,
            "min_width": null,
            "object_fit": null,
            "object_position": null,
            "order": null,
            "overflow": null,
            "overflow_x": null,
            "overflow_y": null,
            "padding": null,
            "right": null,
            "top": null,
            "visibility": "hidden",
            "width": null
          }
        },
        "4e21e098f3dd4689ae0b15dbf9673b5f": {
          "model_module": "@jupyter-widgets/base",
          "model_name": "LayoutModel",
          "model_module_version": "1.2.0",
          "state": {
            "_model_module": "@jupyter-widgets/base",
            "_model_module_version": "1.2.0",
            "_model_name": "LayoutModel",
            "_view_count": null,
            "_view_module": "@jupyter-widgets/base",
            "_view_module_version": "1.2.0",
            "_view_name": "LayoutView",
            "align_content": null,
            "align_items": null,
            "align_self": null,
            "border": null,
            "bottom": null,
            "display": null,
            "flex": null,
            "flex_flow": null,
            "grid_area": null,
            "grid_auto_columns": null,
            "grid_auto_flow": null,
            "grid_auto_rows": null,
            "grid_column": null,
            "grid_gap": null,
            "grid_row": null,
            "grid_template_areas": null,
            "grid_template_columns": null,
            "grid_template_rows": null,
            "height": null,
            "justify_content": null,
            "justify_items": null,
            "left": null,
            "margin": null,
            "max_height": null,
            "max_width": null,
            "min_height": null,
            "min_width": null,
            "object_fit": null,
            "object_position": null,
            "order": null,
            "overflow": null,
            "overflow_x": null,
            "overflow_y": null,
            "padding": null,
            "right": null,
            "top": null,
            "visibility": null,
            "width": null
          }
        },
        "10c918c886d14100a17f5d1e59023abb": {
          "model_module": "@jupyter-widgets/controls",
          "model_name": "DescriptionStyleModel",
          "model_module_version": "1.5.0",
          "state": {
            "_model_module": "@jupyter-widgets/controls",
            "_model_module_version": "1.5.0",
            "_model_name": "DescriptionStyleModel",
            "_view_count": null,
            "_view_module": "@jupyter-widgets/base",
            "_view_module_version": "1.2.0",
            "_view_name": "StyleView",
            "description_width": ""
          }
        },
        "7c8ef7de6d2a41089b16e8e3ba7b2368": {
          "model_module": "@jupyter-widgets/base",
          "model_name": "LayoutModel",
          "model_module_version": "1.2.0",
          "state": {
            "_model_module": "@jupyter-widgets/base",
            "_model_module_version": "1.2.0",
            "_model_name": "LayoutModel",
            "_view_count": null,
            "_view_module": "@jupyter-widgets/base",
            "_view_module_version": "1.2.0",
            "_view_name": "LayoutView",
            "align_content": null,
            "align_items": null,
            "align_self": null,
            "border": null,
            "bottom": null,
            "display": null,
            "flex": null,
            "flex_flow": null,
            "grid_area": null,
            "grid_auto_columns": null,
            "grid_auto_flow": null,
            "grid_auto_rows": null,
            "grid_column": null,
            "grid_gap": null,
            "grid_row": null,
            "grid_template_areas": null,
            "grid_template_columns": null,
            "grid_template_rows": null,
            "height": null,
            "justify_content": null,
            "justify_items": null,
            "left": null,
            "margin": null,
            "max_height": null,
            "max_width": null,
            "min_height": null,
            "min_width": null,
            "object_fit": null,
            "object_position": null,
            "order": null,
            "overflow": null,
            "overflow_x": null,
            "overflow_y": null,
            "padding": null,
            "right": null,
            "top": null,
            "visibility": null,
            "width": null
          }
        },
        "ffce6a9651c64b178bbef5e864241054": {
          "model_module": "@jupyter-widgets/controls",
          "model_name": "ProgressStyleModel",
          "model_module_version": "1.5.0",
          "state": {
            "_model_module": "@jupyter-widgets/controls",
            "_model_module_version": "1.5.0",
            "_model_name": "ProgressStyleModel",
            "_view_count": null,
            "_view_module": "@jupyter-widgets/base",
            "_view_module_version": "1.2.0",
            "_view_name": "StyleView",
            "bar_color": null,
            "description_width": ""
          }
        },
        "29e768f475a744ac8a1f1d5f65d064ab": {
          "model_module": "@jupyter-widgets/base",
          "model_name": "LayoutModel",
          "model_module_version": "1.2.0",
          "state": {
            "_model_module": "@jupyter-widgets/base",
            "_model_module_version": "1.2.0",
            "_model_name": "LayoutModel",
            "_view_count": null,
            "_view_module": "@jupyter-widgets/base",
            "_view_module_version": "1.2.0",
            "_view_name": "LayoutView",
            "align_content": null,
            "align_items": null,
            "align_self": null,
            "border": null,
            "bottom": null,
            "display": null,
            "flex": null,
            "flex_flow": null,
            "grid_area": null,
            "grid_auto_columns": null,
            "grid_auto_flow": null,
            "grid_auto_rows": null,
            "grid_column": null,
            "grid_gap": null,
            "grid_row": null,
            "grid_template_areas": null,
            "grid_template_columns": null,
            "grid_template_rows": null,
            "height": null,
            "justify_content": null,
            "justify_items": null,
            "left": null,
            "margin": null,
            "max_height": null,
            "max_width": null,
            "min_height": null,
            "min_width": null,
            "object_fit": null,
            "object_position": null,
            "order": null,
            "overflow": null,
            "overflow_x": null,
            "overflow_y": null,
            "padding": null,
            "right": null,
            "top": null,
            "visibility": null,
            "width": null
          }
        },
        "a063fee48fe34f119682d6074086042f": {
          "model_module": "@jupyter-widgets/controls",
          "model_name": "DescriptionStyleModel",
          "model_module_version": "1.5.0",
          "state": {
            "_model_module": "@jupyter-widgets/controls",
            "_model_module_version": "1.5.0",
            "_model_name": "DescriptionStyleModel",
            "_view_count": null,
            "_view_module": "@jupyter-widgets/base",
            "_view_module_version": "1.2.0",
            "_view_name": "StyleView",
            "description_width": ""
          }
        },
        "8d99028a60c74512bf4f5f33b885cb3d": {
          "model_module": "@jupyter-widgets/controls",
          "model_name": "HBoxModel",
          "model_module_version": "1.5.0",
          "state": {
            "_dom_classes": [],
            "_model_module": "@jupyter-widgets/controls",
            "_model_module_version": "1.5.0",
            "_model_name": "HBoxModel",
            "_view_count": null,
            "_view_module": "@jupyter-widgets/controls",
            "_view_module_version": "1.5.0",
            "_view_name": "HBoxView",
            "box_style": "",
            "children": [
              "IPY_MODEL_b461fe6272cc4800ade7e7bcb032feb3",
              "IPY_MODEL_2b688715697b48b19b0273bff9d2d06a",
              "IPY_MODEL_807058cc175e45549e6bc5efc436b774"
            ],
            "layout": "IPY_MODEL_9664597abab248e397c005602accda2b"
          }
        },
        "b461fe6272cc4800ade7e7bcb032feb3": {
          "model_module": "@jupyter-widgets/controls",
          "model_name": "HTMLModel",
          "model_module_version": "1.5.0",
          "state": {
            "_dom_classes": [],
            "_model_module": "@jupyter-widgets/controls",
            "_model_module_version": "1.5.0",
            "_model_name": "HTMLModel",
            "_view_count": null,
            "_view_module": "@jupyter-widgets/controls",
            "_view_module_version": "1.5.0",
            "_view_name": "HTMLView",
            "description": "",
            "description_tooltip": null,
            "layout": "IPY_MODEL_aa30496b1bad46ba88aa27d48c33bbd4",
            "placeholder": "​",
            "style": "IPY_MODEL_54286710569e473d985ff5f4237167c3",
            "value": "Processing:   0%"
          }
        },
        "2b688715697b48b19b0273bff9d2d06a": {
          "model_module": "@jupyter-widgets/controls",
          "model_name": "FloatProgressModel",
          "model_module_version": "1.5.0",
          "state": {
            "_dom_classes": [],
            "_model_module": "@jupyter-widgets/controls",
            "_model_module_version": "1.5.0",
            "_model_name": "FloatProgressModel",
            "_view_count": null,
            "_view_module": "@jupyter-widgets/controls",
            "_view_module_version": "1.5.0",
            "_view_name": "ProgressView",
            "bar_style": "",
            "description": "",
            "description_tooltip": null,
            "layout": "IPY_MODEL_09861487478b4970a3f65ab51c55c5c0",
            "max": 3,
            "min": 0,
            "orientation": "horizontal",
            "style": "IPY_MODEL_0ff37dfe2eda4f42a8f48606675c0b55",
            "value": 3
          }
        },
        "807058cc175e45549e6bc5efc436b774": {
          "model_module": "@jupyter-widgets/controls",
          "model_name": "HTMLModel",
          "model_module_version": "1.5.0",
          "state": {
            "_dom_classes": [],
            "_model_module": "@jupyter-widgets/controls",
            "_model_module_version": "1.5.0",
            "_model_name": "HTMLModel",
            "_view_count": null,
            "_view_module": "@jupyter-widgets/controls",
            "_view_module_version": "1.5.0",
            "_view_name": "HTMLView",
            "description": "",
            "description_tooltip": null,
            "layout": "IPY_MODEL_ff85485c866245d3a8392c9a66b07dcc",
            "placeholder": "​",
            "style": "IPY_MODEL_a006148bf4764fb3971af537db0f9c7d",
            "value": " 0/3 [00:00&lt;?, ?it/s]"
          }
        },
        "9664597abab248e397c005602accda2b": {
          "model_module": "@jupyter-widgets/base",
          "model_name": "LayoutModel",
          "model_module_version": "1.2.0",
          "state": {
            "_model_module": "@jupyter-widgets/base",
            "_model_module_version": "1.2.0",
            "_model_name": "LayoutModel",
            "_view_count": null,
            "_view_module": "@jupyter-widgets/base",
            "_view_module_version": "1.2.0",
            "_view_name": "LayoutView",
            "align_content": null,
            "align_items": null,
            "align_self": null,
            "border": null,
            "bottom": null,
            "display": null,
            "flex": null,
            "flex_flow": null,
            "grid_area": null,
            "grid_auto_columns": null,
            "grid_auto_flow": null,
            "grid_auto_rows": null,
            "grid_column": null,
            "grid_gap": null,
            "grid_row": null,
            "grid_template_areas": null,
            "grid_template_columns": null,
            "grid_template_rows": null,
            "height": null,
            "justify_content": null,
            "justify_items": null,
            "left": null,
            "margin": null,
            "max_height": null,
            "max_width": null,
            "min_height": null,
            "min_width": null,
            "object_fit": null,
            "object_position": null,
            "order": null,
            "overflow": null,
            "overflow_x": null,
            "overflow_y": null,
            "padding": null,
            "right": null,
            "top": null,
            "visibility": "hidden",
            "width": null
          }
        },
        "aa30496b1bad46ba88aa27d48c33bbd4": {
          "model_module": "@jupyter-widgets/base",
          "model_name": "LayoutModel",
          "model_module_version": "1.2.0",
          "state": {
            "_model_module": "@jupyter-widgets/base",
            "_model_module_version": "1.2.0",
            "_model_name": "LayoutModel",
            "_view_count": null,
            "_view_module": "@jupyter-widgets/base",
            "_view_module_version": "1.2.0",
            "_view_name": "LayoutView",
            "align_content": null,
            "align_items": null,
            "align_self": null,
            "border": null,
            "bottom": null,
            "display": null,
            "flex": null,
            "flex_flow": null,
            "grid_area": null,
            "grid_auto_columns": null,
            "grid_auto_flow": null,
            "grid_auto_rows": null,
            "grid_column": null,
            "grid_gap": null,
            "grid_row": null,
            "grid_template_areas": null,
            "grid_template_columns": null,
            "grid_template_rows": null,
            "height": null,
            "justify_content": null,
            "justify_items": null,
            "left": null,
            "margin": null,
            "max_height": null,
            "max_width": null,
            "min_height": null,
            "min_width": null,
            "object_fit": null,
            "object_position": null,
            "order": null,
            "overflow": null,
            "overflow_x": null,
            "overflow_y": null,
            "padding": null,
            "right": null,
            "top": null,
            "visibility": null,
            "width": null
          }
        },
        "54286710569e473d985ff5f4237167c3": {
          "model_module": "@jupyter-widgets/controls",
          "model_name": "DescriptionStyleModel",
          "model_module_version": "1.5.0",
          "state": {
            "_model_module": "@jupyter-widgets/controls",
            "_model_module_version": "1.5.0",
            "_model_name": "DescriptionStyleModel",
            "_view_count": null,
            "_view_module": "@jupyter-widgets/base",
            "_view_module_version": "1.2.0",
            "_view_name": "StyleView",
            "description_width": ""
          }
        },
        "09861487478b4970a3f65ab51c55c5c0": {
          "model_module": "@jupyter-widgets/base",
          "model_name": "LayoutModel",
          "model_module_version": "1.2.0",
          "state": {
            "_model_module": "@jupyter-widgets/base",
            "_model_module_version": "1.2.0",
            "_model_name": "LayoutModel",
            "_view_count": null,
            "_view_module": "@jupyter-widgets/base",
            "_view_module_version": "1.2.0",
            "_view_name": "LayoutView",
            "align_content": null,
            "align_items": null,
            "align_self": null,
            "border": null,
            "bottom": null,
            "display": null,
            "flex": null,
            "flex_flow": null,
            "grid_area": null,
            "grid_auto_columns": null,
            "grid_auto_flow": null,
            "grid_auto_rows": null,
            "grid_column": null,
            "grid_gap": null,
            "grid_row": null,
            "grid_template_areas": null,
            "grid_template_columns": null,
            "grid_template_rows": null,
            "height": null,
            "justify_content": null,
            "justify_items": null,
            "left": null,
            "margin": null,
            "max_height": null,
            "max_width": null,
            "min_height": null,
            "min_width": null,
            "object_fit": null,
            "object_position": null,
            "order": null,
            "overflow": null,
            "overflow_x": null,
            "overflow_y": null,
            "padding": null,
            "right": null,
            "top": null,
            "visibility": null,
            "width": null
          }
        },
        "0ff37dfe2eda4f42a8f48606675c0b55": {
          "model_module": "@jupyter-widgets/controls",
          "model_name": "ProgressStyleModel",
          "model_module_version": "1.5.0",
          "state": {
            "_model_module": "@jupyter-widgets/controls",
            "_model_module_version": "1.5.0",
            "_model_name": "ProgressStyleModel",
            "_view_count": null,
            "_view_module": "@jupyter-widgets/base",
            "_view_module_version": "1.2.0",
            "_view_name": "StyleView",
            "bar_color": null,
            "description_width": ""
          }
        },
        "ff85485c866245d3a8392c9a66b07dcc": {
          "model_module": "@jupyter-widgets/base",
          "model_name": "LayoutModel",
          "model_module_version": "1.2.0",
          "state": {
            "_model_module": "@jupyter-widgets/base",
            "_model_module_version": "1.2.0",
            "_model_name": "LayoutModel",
            "_view_count": null,
            "_view_module": "@jupyter-widgets/base",
            "_view_module_version": "1.2.0",
            "_view_name": "LayoutView",
            "align_content": null,
            "align_items": null,
            "align_self": null,
            "border": null,
            "bottom": null,
            "display": null,
            "flex": null,
            "flex_flow": null,
            "grid_area": null,
            "grid_auto_columns": null,
            "grid_auto_flow": null,
            "grid_auto_rows": null,
            "grid_column": null,
            "grid_gap": null,
            "grid_row": null,
            "grid_template_areas": null,
            "grid_template_columns": null,
            "grid_template_rows": null,
            "height": null,
            "justify_content": null,
            "justify_items": null,
            "left": null,
            "margin": null,
            "max_height": null,
            "max_width": null,
            "min_height": null,
            "min_width": null,
            "object_fit": null,
            "object_position": null,
            "order": null,
            "overflow": null,
            "overflow_x": null,
            "overflow_y": null,
            "padding": null,
            "right": null,
            "top": null,
            "visibility": null,
            "width": null
          }
        },
        "a006148bf4764fb3971af537db0f9c7d": {
          "model_module": "@jupyter-widgets/controls",
          "model_name": "DescriptionStyleModel",
          "model_module_version": "1.5.0",
          "state": {
            "_model_module": "@jupyter-widgets/controls",
            "_model_module_version": "1.5.0",
            "_model_name": "DescriptionStyleModel",
            "_view_count": null,
            "_view_module": "@jupyter-widgets/base",
            "_view_module_version": "1.2.0",
            "_view_name": "StyleView",
            "description_width": ""
          }
        }
      }
    }
  },
  "cells": [
    {
      "cell_type": "markdown",
      "metadata": {
        "id": "view-in-github",
        "colab_type": "text"
      },
      "source": [
        "<a href=\"https://colab.research.google.com/github/encoder43/Anomaly-Detection/blob/main/Anomaly_Detection.ipynb\" target=\"_parent\"><img src=\"https://colab.research.google.com/assets/colab-badge.svg\" alt=\"Open In Colab\"/></a>"
      ]
    },
    {
      "cell_type": "markdown",
      "source": [
        "# **LIBRARIES AND DATA**"
      ],
      "metadata": {
        "id": "Lr_AT44OFK5L"
      }
    },
    {
      "cell_type": "code",
      "execution_count": 26,
      "metadata": {
        "id": "JNZtY-Ex4s8t",
        "colab": {
          "base_uri": "https://localhost:8080/"
        },
        "outputId": "70d75ab9-601c-4c6f-b3f7-aaf4e1815601"
      },
      "outputs": [
        {
          "output_type": "stream",
          "name": "stdout",
          "text": [
            "Looking in indexes: https://pypi.org/simple, https://us-python.pkg.dev/colab-wheels/public/simple/\n",
            "Requirement already satisfied: pycaret in /usr/local/lib/python3.7/dist-packages (3.0.0rc3)\n",
            "Requirement already satisfied: matplotlib>=3.3.0 in /usr/local/lib/python3.7/dist-packages (from pycaret) (3.5.3)\n",
            "Requirement already satisfied: plotly-resampler>=0.7.2.2 in /usr/local/lib/python3.7/dist-packages (from pycaret) (0.8.2rc1)\n",
            "Requirement already satisfied: scikit-learn>=1.0 in /usr/local/lib/python3.7/dist-packages (from pycaret) (1.0.2)\n",
            "Requirement already satisfied: schemdraw>=0.14 in /usr/local/lib/python3.7/dist-packages (from pycaret) (0.15)\n",
            "Requirement already satisfied: joblib>=1.1.0 in /usr/local/lib/python3.7/dist-packages (from pycaret) (1.1.0)\n",
            "Requirement already satisfied: scikit-plot>=0.3.7 in /usr/local/lib/python3.7/dist-packages (from pycaret) (0.3.7)\n",
            "Requirement already satisfied: pyod>=0.9.8 in /usr/local/lib/python3.7/dist-packages (from pycaret) (1.0.5)\n",
            "Requirement already satisfied: requests>=2.27.1 in /usr/local/lib/python3.7/dist-packages (from pycaret) (2.28.1)\n",
            "Requirement already satisfied: numpy~=1.21 in /usr/local/lib/python3.7/dist-packages (from pycaret) (1.21.6)\n",
            "Requirement already satisfied: ipython>=5.5.0 in /usr/local/lib/python3.7/dist-packages (from pycaret) (7.9.0)\n",
            "Requirement already satisfied: psutil>=5.9.0 in /usr/local/lib/python3.7/dist-packages (from pycaret) (5.9.2)\n",
            "Requirement already satisfied: statsmodels>=0.12.1 in /usr/local/lib/python3.7/dist-packages (from pycaret) (0.13.2)\n",
            "Requirement already satisfied: jinja2>=1.2 in /usr/local/lib/python3.7/dist-packages (from pycaret) (2.11.3)\n",
            "Requirement already satisfied: pandas<1.5.0,>=1.3.0 in /usr/local/lib/python3.7/dist-packages (from pycaret) (1.3.5)\n",
            "Requirement already satisfied: tqdm>=4.62.0 in /usr/local/lib/python3.7/dist-packages (from pycaret) (4.64.1)\n",
            "Requirement already satisfied: numba~=0.55.0 in /usr/local/lib/python3.7/dist-packages (from pycaret) (0.55.2)\n",
            "Requirement already satisfied: category-encoders>=2.4.0 in /usr/local/lib/python3.7/dist-packages (from pycaret) (2.5.0)\n",
            "Requirement already satisfied: kaleido>=0.2.1 in /usr/local/lib/python3.7/dist-packages (from pycaret) (0.2.1)\n",
            "Requirement already satisfied: pmdarima>=1.8.0 in /usr/local/lib/python3.7/dist-packages (from pycaret) (2.0.1)\n",
            "Requirement already satisfied: tbats>=1.1.0 in /usr/local/lib/python3.7/dist-packages (from pycaret) (1.1.0)\n",
            "Requirement already satisfied: lightgbm>=3.0.0 in /usr/local/lib/python3.7/dist-packages (from pycaret) (3.3.2)\n",
            "Requirement already satisfied: scipy<1.9.0 in /usr/local/lib/python3.7/dist-packages (from pycaret) (1.7.3)\n",
            "Requirement already satisfied: markupsafe>=2.0.1 in /usr/local/lib/python3.7/dist-packages (from pycaret) (2.0.1)\n",
            "Requirement already satisfied: ipywidgets>=7.6.5 in /usr/local/lib/python3.7/dist-packages (from pycaret) (7.7.1)\n",
            "Requirement already satisfied: imbalanced-learn>=0.8.1 in /usr/local/lib/python3.7/dist-packages (from pycaret) (0.8.1)\n",
            "Requirement already satisfied: plotly>=5.0.0 in /usr/local/lib/python3.7/dist-packages (from pycaret) (5.5.0)\n",
            "Requirement already satisfied: yellowbrick>=1.4 in /usr/local/lib/python3.7/dist-packages (from pycaret) (1.5)\n",
            "Requirement already satisfied: sktime~=0.11.4 in /usr/local/lib/python3.7/dist-packages (from pycaret) (0.11.4)\n",
            "Requirement already satisfied: patsy>=0.5.1 in /usr/local/lib/python3.7/dist-packages (from category-encoders>=2.4.0->pycaret) (0.5.2)\n",
            "Requirement already satisfied: backcall in /usr/local/lib/python3.7/dist-packages (from ipython>=5.5.0->pycaret) (0.2.0)\n",
            "Requirement already satisfied: pickleshare in /usr/local/lib/python3.7/dist-packages (from ipython>=5.5.0->pycaret) (0.7.5)\n",
            "Requirement already satisfied: pygments in /usr/local/lib/python3.7/dist-packages (from ipython>=5.5.0->pycaret) (2.6.1)\n",
            "Requirement already satisfied: decorator in /usr/local/lib/python3.7/dist-packages (from ipython>=5.5.0->pycaret) (4.4.2)\n",
            "Requirement already satisfied: traitlets>=4.2 in /usr/local/lib/python3.7/dist-packages (from ipython>=5.5.0->pycaret) (5.1.1)\n",
            "Requirement already satisfied: prompt-toolkit<2.1.0,>=2.0.0 in /usr/local/lib/python3.7/dist-packages (from ipython>=5.5.0->pycaret) (2.0.10)\n",
            "Requirement already satisfied: jedi>=0.10 in /usr/local/lib/python3.7/dist-packages (from ipython>=5.5.0->pycaret) (0.18.1)\n",
            "Requirement already satisfied: setuptools>=18.5 in /usr/local/lib/python3.7/dist-packages (from ipython>=5.5.0->pycaret) (57.4.0)\n",
            "Requirement already satisfied: pexpect in /usr/local/lib/python3.7/dist-packages (from ipython>=5.5.0->pycaret) (4.8.0)\n",
            "Requirement already satisfied: widgetsnbextension~=3.6.0 in /usr/local/lib/python3.7/dist-packages (from ipywidgets>=7.6.5->pycaret) (3.6.1)\n",
            "Requirement already satisfied: ipykernel>=4.5.1 in /usr/local/lib/python3.7/dist-packages (from ipywidgets>=7.6.5->pycaret) (5.3.4)\n",
            "Requirement already satisfied: jupyterlab-widgets>=1.0.0 in /usr/local/lib/python3.7/dist-packages (from ipywidgets>=7.6.5->pycaret) (3.0.3)\n",
            "Requirement already satisfied: ipython-genutils~=0.2.0 in /usr/local/lib/python3.7/dist-packages (from ipywidgets>=7.6.5->pycaret) (0.2.0)\n",
            "Requirement already satisfied: jupyter-client in /usr/local/lib/python3.7/dist-packages (from ipykernel>=4.5.1->ipywidgets>=7.6.5->pycaret) (6.1.12)\n",
            "Requirement already satisfied: tornado>=4.2 in /usr/local/lib/python3.7/dist-packages (from ipykernel>=4.5.1->ipywidgets>=7.6.5->pycaret) (5.1.1)\n",
            "Requirement already satisfied: parso<0.9.0,>=0.8.0 in /usr/local/lib/python3.7/dist-packages (from jedi>=0.10->ipython>=5.5.0->pycaret) (0.8.3)\n",
            "Requirement already satisfied: wheel in /usr/local/lib/python3.7/dist-packages (from lightgbm>=3.0.0->pycaret) (0.37.1)\n",
            "Requirement already satisfied: fonttools>=4.22.0 in /usr/local/lib/python3.7/dist-packages (from matplotlib>=3.3.0->pycaret) (4.37.2)\n",
            "Requirement already satisfied: pillow>=6.2.0 in /usr/local/lib/python3.7/dist-packages (from matplotlib>=3.3.0->pycaret) (7.1.2)\n",
            "Requirement already satisfied: packaging>=20.0 in /usr/local/lib/python3.7/dist-packages (from matplotlib>=3.3.0->pycaret) (21.3)\n",
            "Requirement already satisfied: pyparsing>=2.2.1 in /usr/local/lib/python3.7/dist-packages (from matplotlib>=3.3.0->pycaret) (3.0.9)\n",
            "Requirement already satisfied: python-dateutil>=2.7 in /usr/local/lib/python3.7/dist-packages (from matplotlib>=3.3.0->pycaret) (2.8.2)\n",
            "Requirement already satisfied: cycler>=0.10 in /usr/local/lib/python3.7/dist-packages (from matplotlib>=3.3.0->pycaret) (0.11.0)\n",
            "Requirement already satisfied: kiwisolver>=1.0.1 in /usr/local/lib/python3.7/dist-packages (from matplotlib>=3.3.0->pycaret) (1.4.4)\n",
            "Requirement already satisfied: typing-extensions in /usr/local/lib/python3.7/dist-packages (from kiwisolver>=1.0.1->matplotlib>=3.3.0->pycaret) (4.1.1)\n",
            "Requirement already satisfied: llvmlite<0.39,>=0.38.0rc1 in /usr/local/lib/python3.7/dist-packages (from numba~=0.55.0->pycaret) (0.38.1)\n",
            "Requirement already satisfied: pytz>=2017.3 in /usr/local/lib/python3.7/dist-packages (from pandas<1.5.0,>=1.3.0->pycaret) (2022.2.1)\n",
            "Requirement already satisfied: six in /usr/local/lib/python3.7/dist-packages (from patsy>=0.5.1->category-encoders>=2.4.0->pycaret) (1.15.0)\n",
            "Requirement already satisfied: tenacity>=6.2.0 in /usr/local/lib/python3.7/dist-packages (from plotly>=5.0.0->pycaret) (8.0.1)\n",
            "Requirement already satisfied: dash<3.0.0,>=2.2.0 in /usr/local/lib/python3.7/dist-packages (from plotly-resampler>=0.7.2.2->pycaret) (2.6.1)\n",
            "Requirement already satisfied: jupyter-dash>=0.4.2 in /usr/local/lib/python3.7/dist-packages (from plotly-resampler>=0.7.2.2->pycaret) (0.4.2)\n",
            "Requirement already satisfied: Flask-Cors<4.0.0,>=3.0.10 in /usr/local/lib/python3.7/dist-packages (from plotly-resampler>=0.7.2.2->pycaret) (3.0.10)\n",
            "Requirement already satisfied: orjson<4.0.0,>=3.7.7 in /usr/local/lib/python3.7/dist-packages (from plotly-resampler>=0.7.2.2->pycaret) (3.8.0)\n",
            "Requirement already satisfied: trace-updater>=0.0.8 in /usr/local/lib/python3.7/dist-packages (from plotly-resampler>=0.7.2.2->pycaret) (0.0.8)\n",
            "Requirement already satisfied: flask-compress in /usr/local/lib/python3.7/dist-packages (from dash<3.0.0,>=2.2.0->plotly-resampler>=0.7.2.2->pycaret) (1.12)\n",
            "Requirement already satisfied: dash-core-components==2.0.0 in /usr/local/lib/python3.7/dist-packages (from dash<3.0.0,>=2.2.0->plotly-resampler>=0.7.2.2->pycaret) (2.0.0)\n",
            "Requirement already satisfied: dash-table==5.0.0 in /usr/local/lib/python3.7/dist-packages (from dash<3.0.0,>=2.2.0->plotly-resampler>=0.7.2.2->pycaret) (5.0.0)\n",
            "Requirement already satisfied: dash-html-components==2.0.0 in /usr/local/lib/python3.7/dist-packages (from dash<3.0.0,>=2.2.0->plotly-resampler>=0.7.2.2->pycaret) (2.0.0)\n",
            "Requirement already satisfied: Flask>=1.0.4 in /usr/local/lib/python3.7/dist-packages (from dash<3.0.0,>=2.2.0->plotly-resampler>=0.7.2.2->pycaret) (1.1.4)\n",
            "Requirement already satisfied: itsdangerous<2.0,>=0.24 in /usr/local/lib/python3.7/dist-packages (from Flask>=1.0.4->dash<3.0.0,>=2.2.0->plotly-resampler>=0.7.2.2->pycaret) (1.1.0)\n",
            "Requirement already satisfied: Werkzeug<2.0,>=0.15 in /usr/local/lib/python3.7/dist-packages (from Flask>=1.0.4->dash<3.0.0,>=2.2.0->plotly-resampler>=0.7.2.2->pycaret) (1.0.1)\n",
            "Requirement already satisfied: click<8.0,>=5.1 in /usr/local/lib/python3.7/dist-packages (from Flask>=1.0.4->dash<3.0.0,>=2.2.0->plotly-resampler>=0.7.2.2->pycaret) (7.1.2)\n",
            "Requirement already satisfied: ansi2html in /usr/local/lib/python3.7/dist-packages (from jupyter-dash>=0.4.2->plotly-resampler>=0.7.2.2->pycaret) (1.8.0)\n",
            "Requirement already satisfied: retrying in /usr/local/lib/python3.7/dist-packages (from jupyter-dash>=0.4.2->plotly-resampler>=0.7.2.2->pycaret) (1.3.3)\n",
            "Requirement already satisfied: nest-asyncio in /usr/local/lib/python3.7/dist-packages (from jupyter-dash>=0.4.2->plotly-resampler>=0.7.2.2->pycaret) (1.5.5)\n",
            "Requirement already satisfied: urllib3 in /usr/local/lib/python3.7/dist-packages (from pmdarima>=1.8.0->pycaret) (1.24.3)\n",
            "Requirement already satisfied: Cython!=0.29.18,!=0.29.31,>=0.29 in /usr/local/lib/python3.7/dist-packages (from pmdarima>=1.8.0->pycaret) (0.29.32)\n",
            "Requirement already satisfied: wcwidth in /usr/local/lib/python3.7/dist-packages (from prompt-toolkit<2.1.0,>=2.0.0->ipython>=5.5.0->pycaret) (0.2.5)\n",
            "Requirement already satisfied: charset-normalizer<3,>=2 in /usr/local/lib/python3.7/dist-packages (from requests>=2.27.1->pycaret) (2.1.1)\n",
            "Requirement already satisfied: certifi>=2017.4.17 in /usr/local/lib/python3.7/dist-packages (from requests>=2.27.1->pycaret) (2022.6.15)\n",
            "Requirement already satisfied: idna<4,>=2.5 in /usr/local/lib/python3.7/dist-packages (from requests>=2.27.1->pycaret) (2.10)\n",
            "Requirement already satisfied: threadpoolctl>=2.0.0 in /usr/local/lib/python3.7/dist-packages (from scikit-learn>=1.0->pycaret) (3.1.0)\n",
            "Requirement already satisfied: deprecated>=1.2.13 in /usr/local/lib/python3.7/dist-packages (from sktime~=0.11.4->pycaret) (1.2.13)\n",
            "Requirement already satisfied: wrapt<2,>=1.10 in /usr/local/lib/python3.7/dist-packages (from deprecated>=1.2.13->sktime~=0.11.4->pycaret) (1.14.1)\n",
            "Requirement already satisfied: notebook>=4.4.1 in /usr/local/lib/python3.7/dist-packages (from widgetsnbextension~=3.6.0->ipywidgets>=7.6.5->pycaret) (5.3.1)\n",
            "Requirement already satisfied: jupyter-core>=4.4.0 in /usr/local/lib/python3.7/dist-packages (from notebook>=4.4.1->widgetsnbextension~=3.6.0->ipywidgets>=7.6.5->pycaret) (4.11.1)\n",
            "Requirement already satisfied: Send2Trash in /usr/local/lib/python3.7/dist-packages (from notebook>=4.4.1->widgetsnbextension~=3.6.0->ipywidgets>=7.6.5->pycaret) (1.8.0)\n",
            "Requirement already satisfied: terminado>=0.8.1 in /usr/local/lib/python3.7/dist-packages (from notebook>=4.4.1->widgetsnbextension~=3.6.0->ipywidgets>=7.6.5->pycaret) (0.13.3)\n",
            "Requirement already satisfied: nbformat in /usr/local/lib/python3.7/dist-packages (from notebook>=4.4.1->widgetsnbextension~=3.6.0->ipywidgets>=7.6.5->pycaret) (5.4.0)\n",
            "Requirement already satisfied: nbconvert in /usr/local/lib/python3.7/dist-packages (from notebook>=4.4.1->widgetsnbextension~=3.6.0->ipywidgets>=7.6.5->pycaret) (5.6.1)\n",
            "Requirement already satisfied: pyzmq>=13 in /usr/local/lib/python3.7/dist-packages (from jupyter-client->ipykernel>=4.5.1->ipywidgets>=7.6.5->pycaret) (23.2.1)\n",
            "Requirement already satisfied: ptyprocess in /usr/local/lib/python3.7/dist-packages (from terminado>=0.8.1->notebook>=4.4.1->widgetsnbextension~=3.6.0->ipywidgets>=7.6.5->pycaret) (0.7.0)\n",
            "Requirement already satisfied: importlib-metadata in /usr/local/lib/python3.7/dist-packages (from ansi2html->jupyter-dash>=0.4.2->plotly-resampler>=0.7.2.2->pycaret) (4.12.0)\n",
            "Requirement already satisfied: brotli in /usr/local/lib/python3.7/dist-packages (from flask-compress->dash<3.0.0,>=2.2.0->plotly-resampler>=0.7.2.2->pycaret) (1.0.9)\n",
            "Requirement already satisfied: zipp>=0.5 in /usr/local/lib/python3.7/dist-packages (from importlib-metadata->ansi2html->jupyter-dash>=0.4.2->plotly-resampler>=0.7.2.2->pycaret) (3.8.1)\n",
            "Requirement already satisfied: mistune<2,>=0.8.1 in /usr/local/lib/python3.7/dist-packages (from nbconvert->notebook>=4.4.1->widgetsnbextension~=3.6.0->ipywidgets>=7.6.5->pycaret) (0.8.4)\n",
            "Requirement already satisfied: bleach in /usr/local/lib/python3.7/dist-packages (from nbconvert->notebook>=4.4.1->widgetsnbextension~=3.6.0->ipywidgets>=7.6.5->pycaret) (5.0.1)\n",
            "Requirement already satisfied: entrypoints>=0.2.2 in /usr/local/lib/python3.7/dist-packages (from nbconvert->notebook>=4.4.1->widgetsnbextension~=3.6.0->ipywidgets>=7.6.5->pycaret) (0.4)\n",
            "Requirement already satisfied: testpath in /usr/local/lib/python3.7/dist-packages (from nbconvert->notebook>=4.4.1->widgetsnbextension~=3.6.0->ipywidgets>=7.6.5->pycaret) (0.6.0)\n",
            "Requirement already satisfied: pandocfilters>=1.4.1 in /usr/local/lib/python3.7/dist-packages (from nbconvert->notebook>=4.4.1->widgetsnbextension~=3.6.0->ipywidgets>=7.6.5->pycaret) (1.5.0)\n",
            "Requirement already satisfied: defusedxml in /usr/local/lib/python3.7/dist-packages (from nbconvert->notebook>=4.4.1->widgetsnbextension~=3.6.0->ipywidgets>=7.6.5->pycaret) (0.7.1)\n",
            "Requirement already satisfied: fastjsonschema in /usr/local/lib/python3.7/dist-packages (from nbformat->notebook>=4.4.1->widgetsnbextension~=3.6.0->ipywidgets>=7.6.5->pycaret) (2.16.1)\n",
            "Requirement already satisfied: jsonschema>=2.6 in /usr/local/lib/python3.7/dist-packages (from nbformat->notebook>=4.4.1->widgetsnbextension~=3.6.0->ipywidgets>=7.6.5->pycaret) (4.3.3)\n",
            "Requirement already satisfied: attrs>=17.4.0 in /usr/local/lib/python3.7/dist-packages (from jsonschema>=2.6->nbformat->notebook>=4.4.1->widgetsnbextension~=3.6.0->ipywidgets>=7.6.5->pycaret) (22.1.0)\n",
            "Requirement already satisfied: importlib-resources>=1.4.0 in /usr/local/lib/python3.7/dist-packages (from jsonschema>=2.6->nbformat->notebook>=4.4.1->widgetsnbextension~=3.6.0->ipywidgets>=7.6.5->pycaret) (5.9.0)\n",
            "Requirement already satisfied: pyrsistent!=0.17.0,!=0.17.1,!=0.17.2,>=0.14.0 in /usr/local/lib/python3.7/dist-packages (from jsonschema>=2.6->nbformat->notebook>=4.4.1->widgetsnbextension~=3.6.0->ipywidgets>=7.6.5->pycaret) (0.18.1)\n",
            "Requirement already satisfied: webencodings in /usr/local/lib/python3.7/dist-packages (from bleach->nbconvert->notebook>=4.4.1->widgetsnbextension~=3.6.0->ipywidgets>=7.6.5->pycaret) (0.5.1)\n"
          ]
        }
      ],
      "source": [
        "!pip install --pre pycaret\n",
        "import pandas as pd\n",
        "from pycaret.anomaly import *\n",
        "#from pydrive.auth import GoogleAuth\n",
        "#from pydrive.drive import GoogleDrive"
      ]
    },
    {
      "cell_type": "code",
      "source": [
        "#gauth = GoogleAuth()\n",
        "#drive = GoogleDrive(gauth)"
      ],
      "metadata": {
        "id": "dBGm40Ko187O"
      },
      "execution_count": 7,
      "outputs": []
    },
    {
      "cell_type": "code",
      "source": [
        "#file_id = 'GenData1'\n",
        "#file_name = 'GenData1.xlsx'"
      ],
      "metadata": {
        "id": "HKZmh_5O2mX_"
      },
      "execution_count": 22,
      "outputs": []
    },
    {
      "cell_type": "code",
      "source": [
        "df=pd.read_excel('/content/drive/MyDrive/data/GenData1.xlsx',index_col=0)\n",
        "df_1=pd.read_excel('/content/drive/MyDrive/data/GenData2.xlsx',index_col=0)\n",
        "exp_ano=setup(df)"
      ],
      "metadata": {
        "colab": {
          "base_uri": "https://localhost:8080/",
          "height": 1000
        },
        "id": "mfoOCMfWU82g",
        "outputId": "21a0fb8e-f1ec-4ebb-c443-f6258a1062a2"
      },
      "execution_count": 47,
      "outputs": [
        {
          "output_type": "stream",
          "name": "stderr",
          "text": [
            "INFO:logs:PyCaret AnomalyExperiment\n",
            "INFO:logs:Logging name: anomaly-default-name\n",
            "INFO:logs:ML Usecase: MLUsecase.ANOMALY\n",
            "INFO:logs:version 3.0.0.rc3\n",
            "INFO:logs:Initializing setup()\n",
            "INFO:logs:self.USI: 8199\n",
            "INFO:logs:self.variable_keys: {'logging_param', 'seed', 'log_plots_param', 'pipeline', '_all_models', 'X', 'gpu_param', '_all_metrics', 'USI', 'html_param', 'variable_keys', 'n_jobs_param', 'display_container', 'exp_id', 'master_model_container', 'data', '_available_plots', '_all_models_internal', 'memory', '_gpu_n_jobs_param', 'exp_name_log', 'idx', '_ml_usecase'}\n",
            "INFO:logs:Checking environment\n",
            "INFO:logs:python_version: 3.7.14\n",
            "INFO:logs:python_build: ('default', 'Sep  8 2022 00:06:44')\n",
            "INFO:logs:machine: x86_64\n",
            "INFO:logs:platform: Linux-5.10.133+-x86_64-with-Ubuntu-18.04-bionic\n",
            "INFO:logs:Memory: svmem(total=13616353280, available=11928199168, percent=12.4, used=1509388288, free=9318260736, active=957902848, inactive=2998661120, buffers=172892160, cached=2615812096, shared=1323008, slab=255369216)\n",
            "INFO:logs:Physical Core: 1\n",
            "INFO:logs:Logical Core: 2\n",
            "INFO:logs:Checking libraries\n",
            "INFO:logs:System:\n",
            "INFO:logs:    python: 3.7.14 (default, Sep  8 2022, 00:06:44)  [GCC 7.5.0]\n",
            "INFO:logs:executable: /usr/bin/python3\n",
            "INFO:logs:   machine: Linux-5.10.133+-x86_64-with-Ubuntu-18.04-bionic\n",
            "INFO:logs:PyCaret required dependencies:\n",
            "INFO:logs:                 pip: 21.1.3\n",
            "INFO:logs:          setuptools: 57.4.0\n",
            "INFO:logs:             pycaret: 3.0.0.rc3\n",
            "INFO:logs:             IPython: 7.9.0\n",
            "INFO:logs:          ipywidgets: 7.7.1\n",
            "INFO:logs:                tqdm: 4.64.1\n",
            "INFO:logs:               numpy: 1.21.6\n",
            "INFO:logs:              pandas: 1.3.5\n",
            "INFO:logs:              jinja2: 2.11.3\n",
            "INFO:logs:               scipy: 1.7.3\n",
            "INFO:logs:              joblib: 1.1.0\n",
            "INFO:logs:             sklearn: 1.0.2\n",
            "INFO:logs:                pyod: Installed but version unavailable\n",
            "INFO:logs:            imblearn: 0.8.1\n",
            "INFO:logs:   category_encoders: 2.5.0\n",
            "INFO:logs:            lightgbm: 3.3.2\n",
            "INFO:logs:               numba: 0.55.2\n",
            "INFO:logs:            requests: 2.28.1\n",
            "INFO:logs:          matplotlib: 3.2.2\n",
            "INFO:logs:          scikitplot: 0.3.7\n",
            "INFO:logs:         yellowbrick: 1.5\n",
            "INFO:logs:              plotly: 5.5.0\n",
            "INFO:logs:             kaleido: 0.2.1\n",
            "INFO:logs:         statsmodels: 0.13.2\n",
            "INFO:logs:              sktime: 0.11.4\n",
            "INFO:logs:               tbats: Installed but version unavailable\n",
            "INFO:logs:            pmdarima: 2.0.1\n",
            "INFO:logs:              psutil: 5.4.8\n",
            "INFO:logs:None\n",
            "INFO:logs:Set up data.\n",
            "INFO:logs:Assigning column types.\n",
            "INFO:logs:Preparing preprocessing pipeline...\n",
            "INFO:logs:Set up simple imputation.\n",
            "INFO:logs:Set up variance threshold.\n",
            "INFO:logs:Finished creating preprocessing pipeline.\n",
            "INFO:logs:Pipeline: Pipeline(memory=Memory(location=/tmp/joblib),\n",
            "         steps=[('numerical_imputer',\n",
            "                 TransformerWrapper(include=['#misurazione', '%,% di ossigeno',\n",
            "                                             '*C,Temperatura Corporea',\n",
            "                                             'bpm,Frequenza Cardiaca',\n",
            "                                             'bpm,Frequenza Cardiaca Master',\n",
            "                                             'Kg,Peso',\n",
            "                                             'Kg/m2,Indice Massa Corporea',\n",
            "                                             'L,FEV1', 'L/min,PEF', 'mmHg,MAP',\n",
            "                                             'mmHg,Pressione Diastolica',\n",
            "                                             'mmHg,Pressione Sistolica'],\n",
            "                                    transformer=SimpleImputer())),\n",
            "                ('categorical_imputer',\n",
            "                 TransformerWrapper(include=[],\n",
            "                                    transformer=SimpleImputer(fill_value='constant',\n",
            "                                                              strategy='constant'))),\n",
            "                ('low_variance',\n",
            "                 TransformerWrapper(exclude=[],\n",
            "                                    transformer=VarianceThreshold(threshold=0)))])\n",
            "INFO:logs:Creating final display dataframe.\n",
            "INFO:logs:Setup display_container:                Description                 Value\n",
            "0               Session id                  8630\n",
            "1      Original data shape            (1000, 12)\n",
            "2   Transformed data shape            (1000, 11)\n",
            "3         Numeric features                    12\n",
            "4               Preprocess                  True\n",
            "5          Imputation type                simple\n",
            "6       Numeric imputation                  mean\n",
            "7   Categorical imputation              constant\n",
            "8   Low variance threshold                     0\n",
            "9                 CPU Jobs                    -1\n",
            "10                 Use GPU                 False\n",
            "11          Log Experiment                 False\n",
            "12         Experiment Name  anomaly-default-name\n",
            "13                     USI                  8199\n"
          ]
        },
        {
          "output_type": "display_data",
          "data": {
            "text/plain": [
              "<pandas.io.formats.style.Styler at 0x7fde9dde7a90>"
            ],
            "text/html": [
              "<style type=\"text/css\">\n",
              "#T_e9ab9_row4_col1 {\n",
              "  background-color: lightgreen;\n",
              "}\n",
              "</style>\n",
              "<table id=\"T_e9ab9_\" class=\"dataframe\">\n",
              "  <thead>\n",
              "    <tr>\n",
              "      <th class=\"blank level0\" >&nbsp;</th>\n",
              "      <th class=\"col_heading level0 col0\" >Description</th>\n",
              "      <th class=\"col_heading level0 col1\" >Value</th>\n",
              "    </tr>\n",
              "  </thead>\n",
              "  <tbody>\n",
              "    <tr>\n",
              "      <th id=\"T_e9ab9_level0_row0\" class=\"row_heading level0 row0\" >0</th>\n",
              "      <td id=\"T_e9ab9_row0_col0\" class=\"data row0 col0\" >Session id</td>\n",
              "      <td id=\"T_e9ab9_row0_col1\" class=\"data row0 col1\" >8630</td>\n",
              "    </tr>\n",
              "    <tr>\n",
              "      <th id=\"T_e9ab9_level0_row1\" class=\"row_heading level0 row1\" >1</th>\n",
              "      <td id=\"T_e9ab9_row1_col0\" class=\"data row1 col0\" >Original data shape</td>\n",
              "      <td id=\"T_e9ab9_row1_col1\" class=\"data row1 col1\" >(1000, 12)</td>\n",
              "    </tr>\n",
              "    <tr>\n",
              "      <th id=\"T_e9ab9_level0_row2\" class=\"row_heading level0 row2\" >2</th>\n",
              "      <td id=\"T_e9ab9_row2_col0\" class=\"data row2 col0\" >Transformed data shape</td>\n",
              "      <td id=\"T_e9ab9_row2_col1\" class=\"data row2 col1\" >(1000, 11)</td>\n",
              "    </tr>\n",
              "    <tr>\n",
              "      <th id=\"T_e9ab9_level0_row3\" class=\"row_heading level0 row3\" >3</th>\n",
              "      <td id=\"T_e9ab9_row3_col0\" class=\"data row3 col0\" >Numeric features</td>\n",
              "      <td id=\"T_e9ab9_row3_col1\" class=\"data row3 col1\" >12</td>\n",
              "    </tr>\n",
              "    <tr>\n",
              "      <th id=\"T_e9ab9_level0_row4\" class=\"row_heading level0 row4\" >4</th>\n",
              "      <td id=\"T_e9ab9_row4_col0\" class=\"data row4 col0\" >Preprocess</td>\n",
              "      <td id=\"T_e9ab9_row4_col1\" class=\"data row4 col1\" >True</td>\n",
              "    </tr>\n",
              "    <tr>\n",
              "      <th id=\"T_e9ab9_level0_row5\" class=\"row_heading level0 row5\" >5</th>\n",
              "      <td id=\"T_e9ab9_row5_col0\" class=\"data row5 col0\" >Imputation type</td>\n",
              "      <td id=\"T_e9ab9_row5_col1\" class=\"data row5 col1\" >simple</td>\n",
              "    </tr>\n",
              "    <tr>\n",
              "      <th id=\"T_e9ab9_level0_row6\" class=\"row_heading level0 row6\" >6</th>\n",
              "      <td id=\"T_e9ab9_row6_col0\" class=\"data row6 col0\" >Numeric imputation</td>\n",
              "      <td id=\"T_e9ab9_row6_col1\" class=\"data row6 col1\" >mean</td>\n",
              "    </tr>\n",
              "    <tr>\n",
              "      <th id=\"T_e9ab9_level0_row7\" class=\"row_heading level0 row7\" >7</th>\n",
              "      <td id=\"T_e9ab9_row7_col0\" class=\"data row7 col0\" >Categorical imputation</td>\n",
              "      <td id=\"T_e9ab9_row7_col1\" class=\"data row7 col1\" >constant</td>\n",
              "    </tr>\n",
              "    <tr>\n",
              "      <th id=\"T_e9ab9_level0_row8\" class=\"row_heading level0 row8\" >8</th>\n",
              "      <td id=\"T_e9ab9_row8_col0\" class=\"data row8 col0\" >Low variance threshold</td>\n",
              "      <td id=\"T_e9ab9_row8_col1\" class=\"data row8 col1\" >0</td>\n",
              "    </tr>\n",
              "    <tr>\n",
              "      <th id=\"T_e9ab9_level0_row9\" class=\"row_heading level0 row9\" >9</th>\n",
              "      <td id=\"T_e9ab9_row9_col0\" class=\"data row9 col0\" >CPU Jobs</td>\n",
              "      <td id=\"T_e9ab9_row9_col1\" class=\"data row9 col1\" >-1</td>\n",
              "    </tr>\n",
              "    <tr>\n",
              "      <th id=\"T_e9ab9_level0_row10\" class=\"row_heading level0 row10\" >10</th>\n",
              "      <td id=\"T_e9ab9_row10_col0\" class=\"data row10 col0\" >Use GPU</td>\n",
              "      <td id=\"T_e9ab9_row10_col1\" class=\"data row10 col1\" >False</td>\n",
              "    </tr>\n",
              "    <tr>\n",
              "      <th id=\"T_e9ab9_level0_row11\" class=\"row_heading level0 row11\" >11</th>\n",
              "      <td id=\"T_e9ab9_row11_col0\" class=\"data row11 col0\" >Log Experiment</td>\n",
              "      <td id=\"T_e9ab9_row11_col1\" class=\"data row11 col1\" >False</td>\n",
              "    </tr>\n",
              "    <tr>\n",
              "      <th id=\"T_e9ab9_level0_row12\" class=\"row_heading level0 row12\" >12</th>\n",
              "      <td id=\"T_e9ab9_row12_col0\" class=\"data row12 col0\" >Experiment Name</td>\n",
              "      <td id=\"T_e9ab9_row12_col1\" class=\"data row12 col1\" >anomaly-default-name</td>\n",
              "    </tr>\n",
              "    <tr>\n",
              "      <th id=\"T_e9ab9_level0_row13\" class=\"row_heading level0 row13\" >13</th>\n",
              "      <td id=\"T_e9ab9_row13_col0\" class=\"data row13 col0\" >USI</td>\n",
              "      <td id=\"T_e9ab9_row13_col1\" class=\"data row13 col1\" >8199</td>\n",
              "    </tr>\n",
              "  </tbody>\n",
              "</table>\n"
            ]
          },
          "metadata": {}
        },
        {
          "output_type": "stream",
          "name": "stderr",
          "text": [
            "INFO:logs:setup() successfully completed in 0.23s...............\n"
          ]
        }
      ]
    },
    {
      "cell_type": "code",
      "source": [
        "df.head()"
      ],
      "metadata": {
        "colab": {
          "base_uri": "https://localhost:8080/",
          "height": 305
        },
        "id": "VIShI22pVfcV",
        "outputId": "eec188ef-c72d-4828-af6c-e8d591204473"
      },
      "execution_count": 28,
      "outputs": [
        {
          "output_type": "execute_result",
          "data": {
            "text/plain": [
              "   #misurazione  %,% di ossigeno  *C,Temperatura Corporea  \\\n",
              "0             3        93.949005                35.958916   \n",
              "1             3        94.157120                36.252296   \n",
              "2             3        95.146698                35.877064   \n",
              "3             3        94.008133                36.194714   \n",
              "4             3        94.053665                36.186886   \n",
              "\n",
              "   bpm,Frequenza Cardiaca  bpm,Frequenza Cardiaca Master    Kg,Peso  \\\n",
              "0               80.006706                      69.767044  66.972168   \n",
              "1               83.116188                      70.088348  67.187943   \n",
              "2               79.570717                      67.602158  66.490067   \n",
              "3               80.753181                      70.527504  64.127609   \n",
              "4               80.994652                      69.719543  66.860420   \n",
              "\n",
              "   Kg/m2,Indice Massa Corporea    L,FEV1   L/min,PEF   mmHg,MAP  \\\n",
              "0                    23.204119  2.317629  393.420746  86.521629   \n",
              "1                    23.930307  2.305194  386.678711  85.294395   \n",
              "2                    24.562563  2.315017  419.490143  85.274483   \n",
              "3                    23.832878  2.304304  396.934204  85.487022   \n",
              "4                    24.609070  2.282185  393.607117  84.546944   \n",
              "\n",
              "   mmHg,Pressione Diastolica  mmHg,Pressione Sistolica  \n",
              "0                  71.788040                117.709839  \n",
              "1                  70.208458                118.583931  \n",
              "2                  72.501884                117.717125  \n",
              "3                  69.956482                117.960693  \n",
              "4                  70.764709                114.964470  "
            ],
            "text/html": [
              "\n",
              "  <div id=\"df-ac18fb30-8416-45fa-a9b9-b0b46eba9052\">\n",
              "    <div class=\"colab-df-container\">\n",
              "      <div>\n",
              "<style scoped>\n",
              "    .dataframe tbody tr th:only-of-type {\n",
              "        vertical-align: middle;\n",
              "    }\n",
              "\n",
              "    .dataframe tbody tr th {\n",
              "        vertical-align: top;\n",
              "    }\n",
              "\n",
              "    .dataframe thead th {\n",
              "        text-align: right;\n",
              "    }\n",
              "</style>\n",
              "<table border=\"1\" class=\"dataframe\">\n",
              "  <thead>\n",
              "    <tr style=\"text-align: right;\">\n",
              "      <th></th>\n",
              "      <th>#misurazione</th>\n",
              "      <th>%,% di ossigeno</th>\n",
              "      <th>*C,Temperatura Corporea</th>\n",
              "      <th>bpm,Frequenza Cardiaca</th>\n",
              "      <th>bpm,Frequenza Cardiaca Master</th>\n",
              "      <th>Kg,Peso</th>\n",
              "      <th>Kg/m2,Indice Massa Corporea</th>\n",
              "      <th>L,FEV1</th>\n",
              "      <th>L/min,PEF</th>\n",
              "      <th>mmHg,MAP</th>\n",
              "      <th>mmHg,Pressione Diastolica</th>\n",
              "      <th>mmHg,Pressione Sistolica</th>\n",
              "    </tr>\n",
              "  </thead>\n",
              "  <tbody>\n",
              "    <tr>\n",
              "      <th>0</th>\n",
              "      <td>3</td>\n",
              "      <td>93.949005</td>\n",
              "      <td>35.958916</td>\n",
              "      <td>80.006706</td>\n",
              "      <td>69.767044</td>\n",
              "      <td>66.972168</td>\n",
              "      <td>23.204119</td>\n",
              "      <td>2.317629</td>\n",
              "      <td>393.420746</td>\n",
              "      <td>86.521629</td>\n",
              "      <td>71.788040</td>\n",
              "      <td>117.709839</td>\n",
              "    </tr>\n",
              "    <tr>\n",
              "      <th>1</th>\n",
              "      <td>3</td>\n",
              "      <td>94.157120</td>\n",
              "      <td>36.252296</td>\n",
              "      <td>83.116188</td>\n",
              "      <td>70.088348</td>\n",
              "      <td>67.187943</td>\n",
              "      <td>23.930307</td>\n",
              "      <td>2.305194</td>\n",
              "      <td>386.678711</td>\n",
              "      <td>85.294395</td>\n",
              "      <td>70.208458</td>\n",
              "      <td>118.583931</td>\n",
              "    </tr>\n",
              "    <tr>\n",
              "      <th>2</th>\n",
              "      <td>3</td>\n",
              "      <td>95.146698</td>\n",
              "      <td>35.877064</td>\n",
              "      <td>79.570717</td>\n",
              "      <td>67.602158</td>\n",
              "      <td>66.490067</td>\n",
              "      <td>24.562563</td>\n",
              "      <td>2.315017</td>\n",
              "      <td>419.490143</td>\n",
              "      <td>85.274483</td>\n",
              "      <td>72.501884</td>\n",
              "      <td>117.717125</td>\n",
              "    </tr>\n",
              "    <tr>\n",
              "      <th>3</th>\n",
              "      <td>3</td>\n",
              "      <td>94.008133</td>\n",
              "      <td>36.194714</td>\n",
              "      <td>80.753181</td>\n",
              "      <td>70.527504</td>\n",
              "      <td>64.127609</td>\n",
              "      <td>23.832878</td>\n",
              "      <td>2.304304</td>\n",
              "      <td>396.934204</td>\n",
              "      <td>85.487022</td>\n",
              "      <td>69.956482</td>\n",
              "      <td>117.960693</td>\n",
              "    </tr>\n",
              "    <tr>\n",
              "      <th>4</th>\n",
              "      <td>3</td>\n",
              "      <td>94.053665</td>\n",
              "      <td>36.186886</td>\n",
              "      <td>80.994652</td>\n",
              "      <td>69.719543</td>\n",
              "      <td>66.860420</td>\n",
              "      <td>24.609070</td>\n",
              "      <td>2.282185</td>\n",
              "      <td>393.607117</td>\n",
              "      <td>84.546944</td>\n",
              "      <td>70.764709</td>\n",
              "      <td>114.964470</td>\n",
              "    </tr>\n",
              "  </tbody>\n",
              "</table>\n",
              "</div>\n",
              "      <button class=\"colab-df-convert\" onclick=\"convertToInteractive('df-ac18fb30-8416-45fa-a9b9-b0b46eba9052')\"\n",
              "              title=\"Convert this dataframe to an interactive table.\"\n",
              "              style=\"display:none;\">\n",
              "        \n",
              "  <svg xmlns=\"http://www.w3.org/2000/svg\" height=\"24px\"viewBox=\"0 0 24 24\"\n",
              "       width=\"24px\">\n",
              "    <path d=\"M0 0h24v24H0V0z\" fill=\"none\"/>\n",
              "    <path d=\"M18.56 5.44l.94 2.06.94-2.06 2.06-.94-2.06-.94-.94-2.06-.94 2.06-2.06.94zm-11 1L8.5 8.5l.94-2.06 2.06-.94-2.06-.94L8.5 2.5l-.94 2.06-2.06.94zm10 10l.94 2.06.94-2.06 2.06-.94-2.06-.94-.94-2.06-.94 2.06-2.06.94z\"/><path d=\"M17.41 7.96l-1.37-1.37c-.4-.4-.92-.59-1.43-.59-.52 0-1.04.2-1.43.59L10.3 9.45l-7.72 7.72c-.78.78-.78 2.05 0 2.83L4 21.41c.39.39.9.59 1.41.59.51 0 1.02-.2 1.41-.59l7.78-7.78 2.81-2.81c.8-.78.8-2.07 0-2.86zM5.41 20L4 18.59l7.72-7.72 1.47 1.35L5.41 20z\"/>\n",
              "  </svg>\n",
              "      </button>\n",
              "      \n",
              "  <style>\n",
              "    .colab-df-container {\n",
              "      display:flex;\n",
              "      flex-wrap:wrap;\n",
              "      gap: 12px;\n",
              "    }\n",
              "\n",
              "    .colab-df-convert {\n",
              "      background-color: #E8F0FE;\n",
              "      border: none;\n",
              "      border-radius: 50%;\n",
              "      cursor: pointer;\n",
              "      display: none;\n",
              "      fill: #1967D2;\n",
              "      height: 32px;\n",
              "      padding: 0 0 0 0;\n",
              "      width: 32px;\n",
              "    }\n",
              "\n",
              "    .colab-df-convert:hover {\n",
              "      background-color: #E2EBFA;\n",
              "      box-shadow: 0px 1px 2px rgba(60, 64, 67, 0.3), 0px 1px 3px 1px rgba(60, 64, 67, 0.15);\n",
              "      fill: #174EA6;\n",
              "    }\n",
              "\n",
              "    [theme=dark] .colab-df-convert {\n",
              "      background-color: #3B4455;\n",
              "      fill: #D2E3FC;\n",
              "    }\n",
              "\n",
              "    [theme=dark] .colab-df-convert:hover {\n",
              "      background-color: #434B5C;\n",
              "      box-shadow: 0px 1px 3px 1px rgba(0, 0, 0, 0.15);\n",
              "      filter: drop-shadow(0px 1px 2px rgba(0, 0, 0, 0.3));\n",
              "      fill: #FFFFFF;\n",
              "    }\n",
              "  </style>\n",
              "\n",
              "      <script>\n",
              "        const buttonEl =\n",
              "          document.querySelector('#df-ac18fb30-8416-45fa-a9b9-b0b46eba9052 button.colab-df-convert');\n",
              "        buttonEl.style.display =\n",
              "          google.colab.kernel.accessAllowed ? 'block' : 'none';\n",
              "\n",
              "        async function convertToInteractive(key) {\n",
              "          const element = document.querySelector('#df-ac18fb30-8416-45fa-a9b9-b0b46eba9052');\n",
              "          const dataTable =\n",
              "            await google.colab.kernel.invokeFunction('convertToInteractive',\n",
              "                                                     [key], {});\n",
              "          if (!dataTable) return;\n",
              "\n",
              "          const docLinkHtml = 'Like what you see? Visit the ' +\n",
              "            '<a target=\"_blank\" href=https://colab.research.google.com/notebooks/data_table.ipynb>data table notebook</a>'\n",
              "            + ' to learn more about interactive tables.';\n",
              "          element.innerHTML = '';\n",
              "          dataTable['output_type'] = 'display_data';\n",
              "          await google.colab.output.renderOutput(dataTable, element);\n",
              "          const docLink = document.createElement('div');\n",
              "          docLink.innerHTML = docLinkHtml;\n",
              "          element.appendChild(docLink);\n",
              "        }\n",
              "      </script>\n",
              "    </div>\n",
              "  </div>\n",
              "  "
            ]
          },
          "metadata": {},
          "execution_count": 28
        }
      ]
    },
    {
      "cell_type": "code",
      "source": [
        "df.drop_duplicates()"
      ],
      "metadata": {
        "colab": {
          "base_uri": "https://localhost:8080/",
          "height": 522
        },
        "id": "o9ta1R8ZWIvL",
        "outputId": "cfabb29f-a0e8-43f1-d5aa-9c2b41b1a5ed"
      },
      "execution_count": 29,
      "outputs": [
        {
          "output_type": "execute_result",
          "data": {
            "text/plain": [
              "     #misurazione  %,% di ossigeno  *C,Temperatura Corporea  \\\n",
              "0               3        93.949005                35.958916   \n",
              "1               3        94.157120                36.252296   \n",
              "2               3        95.146698                35.877064   \n",
              "3               3        94.008133                36.194714   \n",
              "4               3        94.053665                36.186886   \n",
              "..            ...              ...                      ...   \n",
              "995             3        95.699593                35.639668   \n",
              "996             3        95.439453                33.274929   \n",
              "997             3        93.647720                36.038761   \n",
              "998             3        94.209656                36.104916   \n",
              "999             3        94.095230                36.014488   \n",
              "\n",
              "     bpm,Frequenza Cardiaca  bpm,Frequenza Cardiaca Master    Kg,Peso  \\\n",
              "0                 80.006706                      69.767044  66.972168   \n",
              "1                 83.116188                      70.088348  67.187943   \n",
              "2                 79.570717                      67.602158  66.490067   \n",
              "3                 80.753181                      70.527504  64.127609   \n",
              "4                 80.994652                      69.719543  66.860420   \n",
              "..                      ...                            ...        ...   \n",
              "995               83.604416                      67.513702  65.698112   \n",
              "996               81.237801                      67.838303  66.507172   \n",
              "997               81.131355                      71.392563  64.124046   \n",
              "998               80.895729                      70.423340  64.008270   \n",
              "999               81.316101                      70.769028  65.996170   \n",
              "\n",
              "     Kg/m2,Indice Massa Corporea    L,FEV1   L/min,PEF   mmHg,MAP  \\\n",
              "0                      23.204119  2.317629  393.420746  86.521629   \n",
              "1                      23.930307  2.305194  386.678711  85.294395   \n",
              "2                      24.562563  2.315017  419.490143  85.274483   \n",
              "3                      23.832878  2.304304  396.934204  85.487022   \n",
              "4                      24.609070  2.282185  393.607117  84.546944   \n",
              "..                           ...       ...         ...        ...   \n",
              "995                    24.820473  2.346984  416.045471  85.010620   \n",
              "996                    24.884150  2.342386  420.821899  87.751488   \n",
              "997                    24.846205  2.302850  393.686127  85.703278   \n",
              "998                    24.015678  2.359943  396.886536  87.004562   \n",
              "999                    24.875784  2.304013  391.431946  87.512184   \n",
              "\n",
              "     mmHg,Pressione Diastolica  mmHg,Pressione Sistolica  \n",
              "0                    71.788040                117.709839  \n",
              "1                    70.208458                118.583931  \n",
              "2                    72.501884                117.717125  \n",
              "3                    69.956482                117.960693  \n",
              "4                    70.764709                114.964470  \n",
              "..                         ...                       ...  \n",
              "995                  70.362747                118.316483  \n",
              "996                  74.063553                118.446129  \n",
              "997                  72.783775                111.995850  \n",
              "998                  71.256630                115.564163  \n",
              "999                  70.584023                114.951202  \n",
              "\n",
              "[1000 rows x 12 columns]"
            ],
            "text/html": [
              "\n",
              "  <div id=\"df-b73c198e-3f00-41d5-bd72-30c6324cd8ff\">\n",
              "    <div class=\"colab-df-container\">\n",
              "      <div>\n",
              "<style scoped>\n",
              "    .dataframe tbody tr th:only-of-type {\n",
              "        vertical-align: middle;\n",
              "    }\n",
              "\n",
              "    .dataframe tbody tr th {\n",
              "        vertical-align: top;\n",
              "    }\n",
              "\n",
              "    .dataframe thead th {\n",
              "        text-align: right;\n",
              "    }\n",
              "</style>\n",
              "<table border=\"1\" class=\"dataframe\">\n",
              "  <thead>\n",
              "    <tr style=\"text-align: right;\">\n",
              "      <th></th>\n",
              "      <th>#misurazione</th>\n",
              "      <th>%,% di ossigeno</th>\n",
              "      <th>*C,Temperatura Corporea</th>\n",
              "      <th>bpm,Frequenza Cardiaca</th>\n",
              "      <th>bpm,Frequenza Cardiaca Master</th>\n",
              "      <th>Kg,Peso</th>\n",
              "      <th>Kg/m2,Indice Massa Corporea</th>\n",
              "      <th>L,FEV1</th>\n",
              "      <th>L/min,PEF</th>\n",
              "      <th>mmHg,MAP</th>\n",
              "      <th>mmHg,Pressione Diastolica</th>\n",
              "      <th>mmHg,Pressione Sistolica</th>\n",
              "    </tr>\n",
              "  </thead>\n",
              "  <tbody>\n",
              "    <tr>\n",
              "      <th>0</th>\n",
              "      <td>3</td>\n",
              "      <td>93.949005</td>\n",
              "      <td>35.958916</td>\n",
              "      <td>80.006706</td>\n",
              "      <td>69.767044</td>\n",
              "      <td>66.972168</td>\n",
              "      <td>23.204119</td>\n",
              "      <td>2.317629</td>\n",
              "      <td>393.420746</td>\n",
              "      <td>86.521629</td>\n",
              "      <td>71.788040</td>\n",
              "      <td>117.709839</td>\n",
              "    </tr>\n",
              "    <tr>\n",
              "      <th>1</th>\n",
              "      <td>3</td>\n",
              "      <td>94.157120</td>\n",
              "      <td>36.252296</td>\n",
              "      <td>83.116188</td>\n",
              "      <td>70.088348</td>\n",
              "      <td>67.187943</td>\n",
              "      <td>23.930307</td>\n",
              "      <td>2.305194</td>\n",
              "      <td>386.678711</td>\n",
              "      <td>85.294395</td>\n",
              "      <td>70.208458</td>\n",
              "      <td>118.583931</td>\n",
              "    </tr>\n",
              "    <tr>\n",
              "      <th>2</th>\n",
              "      <td>3</td>\n",
              "      <td>95.146698</td>\n",
              "      <td>35.877064</td>\n",
              "      <td>79.570717</td>\n",
              "      <td>67.602158</td>\n",
              "      <td>66.490067</td>\n",
              "      <td>24.562563</td>\n",
              "      <td>2.315017</td>\n",
              "      <td>419.490143</td>\n",
              "      <td>85.274483</td>\n",
              "      <td>72.501884</td>\n",
              "      <td>117.717125</td>\n",
              "    </tr>\n",
              "    <tr>\n",
              "      <th>3</th>\n",
              "      <td>3</td>\n",
              "      <td>94.008133</td>\n",
              "      <td>36.194714</td>\n",
              "      <td>80.753181</td>\n",
              "      <td>70.527504</td>\n",
              "      <td>64.127609</td>\n",
              "      <td>23.832878</td>\n",
              "      <td>2.304304</td>\n",
              "      <td>396.934204</td>\n",
              "      <td>85.487022</td>\n",
              "      <td>69.956482</td>\n",
              "      <td>117.960693</td>\n",
              "    </tr>\n",
              "    <tr>\n",
              "      <th>4</th>\n",
              "      <td>3</td>\n",
              "      <td>94.053665</td>\n",
              "      <td>36.186886</td>\n",
              "      <td>80.994652</td>\n",
              "      <td>69.719543</td>\n",
              "      <td>66.860420</td>\n",
              "      <td>24.609070</td>\n",
              "      <td>2.282185</td>\n",
              "      <td>393.607117</td>\n",
              "      <td>84.546944</td>\n",
              "      <td>70.764709</td>\n",
              "      <td>114.964470</td>\n",
              "    </tr>\n",
              "    <tr>\n",
              "      <th>...</th>\n",
              "      <td>...</td>\n",
              "      <td>...</td>\n",
              "      <td>...</td>\n",
              "      <td>...</td>\n",
              "      <td>...</td>\n",
              "      <td>...</td>\n",
              "      <td>...</td>\n",
              "      <td>...</td>\n",
              "      <td>...</td>\n",
              "      <td>...</td>\n",
              "      <td>...</td>\n",
              "      <td>...</td>\n",
              "    </tr>\n",
              "    <tr>\n",
              "      <th>995</th>\n",
              "      <td>3</td>\n",
              "      <td>95.699593</td>\n",
              "      <td>35.639668</td>\n",
              "      <td>83.604416</td>\n",
              "      <td>67.513702</td>\n",
              "      <td>65.698112</td>\n",
              "      <td>24.820473</td>\n",
              "      <td>2.346984</td>\n",
              "      <td>416.045471</td>\n",
              "      <td>85.010620</td>\n",
              "      <td>70.362747</td>\n",
              "      <td>118.316483</td>\n",
              "    </tr>\n",
              "    <tr>\n",
              "      <th>996</th>\n",
              "      <td>3</td>\n",
              "      <td>95.439453</td>\n",
              "      <td>33.274929</td>\n",
              "      <td>81.237801</td>\n",
              "      <td>67.838303</td>\n",
              "      <td>66.507172</td>\n",
              "      <td>24.884150</td>\n",
              "      <td>2.342386</td>\n",
              "      <td>420.821899</td>\n",
              "      <td>87.751488</td>\n",
              "      <td>74.063553</td>\n",
              "      <td>118.446129</td>\n",
              "    </tr>\n",
              "    <tr>\n",
              "      <th>997</th>\n",
              "      <td>3</td>\n",
              "      <td>93.647720</td>\n",
              "      <td>36.038761</td>\n",
              "      <td>81.131355</td>\n",
              "      <td>71.392563</td>\n",
              "      <td>64.124046</td>\n",
              "      <td>24.846205</td>\n",
              "      <td>2.302850</td>\n",
              "      <td>393.686127</td>\n",
              "      <td>85.703278</td>\n",
              "      <td>72.783775</td>\n",
              "      <td>111.995850</td>\n",
              "    </tr>\n",
              "    <tr>\n",
              "      <th>998</th>\n",
              "      <td>3</td>\n",
              "      <td>94.209656</td>\n",
              "      <td>36.104916</td>\n",
              "      <td>80.895729</td>\n",
              "      <td>70.423340</td>\n",
              "      <td>64.008270</td>\n",
              "      <td>24.015678</td>\n",
              "      <td>2.359943</td>\n",
              "      <td>396.886536</td>\n",
              "      <td>87.004562</td>\n",
              "      <td>71.256630</td>\n",
              "      <td>115.564163</td>\n",
              "    </tr>\n",
              "    <tr>\n",
              "      <th>999</th>\n",
              "      <td>3</td>\n",
              "      <td>94.095230</td>\n",
              "      <td>36.014488</td>\n",
              "      <td>81.316101</td>\n",
              "      <td>70.769028</td>\n",
              "      <td>65.996170</td>\n",
              "      <td>24.875784</td>\n",
              "      <td>2.304013</td>\n",
              "      <td>391.431946</td>\n",
              "      <td>87.512184</td>\n",
              "      <td>70.584023</td>\n",
              "      <td>114.951202</td>\n",
              "    </tr>\n",
              "  </tbody>\n",
              "</table>\n",
              "<p>1000 rows × 12 columns</p>\n",
              "</div>\n",
              "      <button class=\"colab-df-convert\" onclick=\"convertToInteractive('df-b73c198e-3f00-41d5-bd72-30c6324cd8ff')\"\n",
              "              title=\"Convert this dataframe to an interactive table.\"\n",
              "              style=\"display:none;\">\n",
              "        \n",
              "  <svg xmlns=\"http://www.w3.org/2000/svg\" height=\"24px\"viewBox=\"0 0 24 24\"\n",
              "       width=\"24px\">\n",
              "    <path d=\"M0 0h24v24H0V0z\" fill=\"none\"/>\n",
              "    <path d=\"M18.56 5.44l.94 2.06.94-2.06 2.06-.94-2.06-.94-.94-2.06-.94 2.06-2.06.94zm-11 1L8.5 8.5l.94-2.06 2.06-.94-2.06-.94L8.5 2.5l-.94 2.06-2.06.94zm10 10l.94 2.06.94-2.06 2.06-.94-2.06-.94-.94-2.06-.94 2.06-2.06.94z\"/><path d=\"M17.41 7.96l-1.37-1.37c-.4-.4-.92-.59-1.43-.59-.52 0-1.04.2-1.43.59L10.3 9.45l-7.72 7.72c-.78.78-.78 2.05 0 2.83L4 21.41c.39.39.9.59 1.41.59.51 0 1.02-.2 1.41-.59l7.78-7.78 2.81-2.81c.8-.78.8-2.07 0-2.86zM5.41 20L4 18.59l7.72-7.72 1.47 1.35L5.41 20z\"/>\n",
              "  </svg>\n",
              "      </button>\n",
              "      \n",
              "  <style>\n",
              "    .colab-df-container {\n",
              "      display:flex;\n",
              "      flex-wrap:wrap;\n",
              "      gap: 12px;\n",
              "    }\n",
              "\n",
              "    .colab-df-convert {\n",
              "      background-color: #E8F0FE;\n",
              "      border: none;\n",
              "      border-radius: 50%;\n",
              "      cursor: pointer;\n",
              "      display: none;\n",
              "      fill: #1967D2;\n",
              "      height: 32px;\n",
              "      padding: 0 0 0 0;\n",
              "      width: 32px;\n",
              "    }\n",
              "\n",
              "    .colab-df-convert:hover {\n",
              "      background-color: #E2EBFA;\n",
              "      box-shadow: 0px 1px 2px rgba(60, 64, 67, 0.3), 0px 1px 3px 1px rgba(60, 64, 67, 0.15);\n",
              "      fill: #174EA6;\n",
              "    }\n",
              "\n",
              "    [theme=dark] .colab-df-convert {\n",
              "      background-color: #3B4455;\n",
              "      fill: #D2E3FC;\n",
              "    }\n",
              "\n",
              "    [theme=dark] .colab-df-convert:hover {\n",
              "      background-color: #434B5C;\n",
              "      box-shadow: 0px 1px 3px 1px rgba(0, 0, 0, 0.15);\n",
              "      filter: drop-shadow(0px 1px 2px rgba(0, 0, 0, 0.3));\n",
              "      fill: #FFFFFF;\n",
              "    }\n",
              "  </style>\n",
              "\n",
              "      <script>\n",
              "        const buttonEl =\n",
              "          document.querySelector('#df-b73c198e-3f00-41d5-bd72-30c6324cd8ff button.colab-df-convert');\n",
              "        buttonEl.style.display =\n",
              "          google.colab.kernel.accessAllowed ? 'block' : 'none';\n",
              "\n",
              "        async function convertToInteractive(key) {\n",
              "          const element = document.querySelector('#df-b73c198e-3f00-41d5-bd72-30c6324cd8ff');\n",
              "          const dataTable =\n",
              "            await google.colab.kernel.invokeFunction('convertToInteractive',\n",
              "                                                     [key], {});\n",
              "          if (!dataTable) return;\n",
              "\n",
              "          const docLinkHtml = 'Like what you see? Visit the ' +\n",
              "            '<a target=\"_blank\" href=https://colab.research.google.com/notebooks/data_table.ipynb>data table notebook</a>'\n",
              "            + ' to learn more about interactive tables.';\n",
              "          element.innerHTML = '';\n",
              "          dataTable['output_type'] = 'display_data';\n",
              "          await google.colab.output.renderOutput(dataTable, element);\n",
              "          const docLink = document.createElement('div');\n",
              "          docLink.innerHTML = docLinkHtml;\n",
              "          element.appendChild(docLink);\n",
              "        }\n",
              "      </script>\n",
              "    </div>\n",
              "  </div>\n",
              "  "
            ]
          },
          "metadata": {},
          "execution_count": 29
        }
      ]
    },
    {
      "cell_type": "code",
      "source": [
        "#df1=df.style.hide_index()"
      ],
      "metadata": {
        "id": "kM_yY04pXlcK"
      },
      "execution_count": 12,
      "outputs": []
    },
    {
      "cell_type": "code",
      "source": [
        "df.shape"
      ],
      "metadata": {
        "colab": {
          "base_uri": "https://localhost:8080/"
        },
        "id": "uJNvI6EmZI9-",
        "outputId": "748b8183-700b-433c-cc30-790889c3753f"
      },
      "execution_count": 30,
      "outputs": [
        {
          "output_type": "execute_result",
          "data": {
            "text/plain": [
              "(1000, 12)"
            ]
          },
          "metadata": {},
          "execution_count": 30
        }
      ]
    },
    {
      "cell_type": "code",
      "source": [
        "df.describe()"
      ],
      "metadata": {
        "colab": {
          "base_uri": "https://localhost:8080/",
          "height": 399
        },
        "id": "sYGcmVq2btbq",
        "outputId": "06a32b63-27fe-433a-c5c5-e951d12f8375"
      },
      "execution_count": 31,
      "outputs": [
        {
          "output_type": "execute_result",
          "data": {
            "text/plain": [
              "       #misurazione  %,% di ossigeno  *C,Temperatura Corporea  \\\n",
              "count        1000.0      1000.000000              1000.000000   \n",
              "mean            3.0        94.714985                35.798985   \n",
              "std             0.0         0.742698                 0.470979   \n",
              "min             3.0        93.338295                32.868744   \n",
              "25%             3.0        93.989012                35.602448   \n",
              "50%             3.0        94.934052                35.946167   \n",
              "75%             3.0        95.420662                36.137058   \n",
              "max             3.0        95.971146                36.344826   \n",
              "\n",
              "       bpm,Frequenza Cardiaca  bpm,Frequenza Cardiaca Master      Kg,Peso  \\\n",
              "count             1000.000000                    1000.000000  1000.000000   \n",
              "mean                81.027837                      69.424160    66.437974   \n",
              "std                  1.699789                       1.477838     1.281107   \n",
              "min                 75.446724                      62.781639    61.803898   \n",
              "25%                 79.902454                      68.344994    65.651163   \n",
              "50%                 81.001583                      69.701923    66.849213   \n",
              "75%                 81.998444                      70.633169    67.548109   \n",
              "max                 89.115158                      76.244812    67.798515   \n",
              "\n",
              "       Kg/m2,Indice Massa Corporea       L,FEV1    L/min,PEF     mmHg,MAP  \\\n",
              "count                  1000.000000  1000.000000  1000.000000  1000.000000   \n",
              "mean                     24.394076     2.322897   409.141515    86.363743   \n",
              "std                       0.464033     0.016739    14.563736     1.134961   \n",
              "min                      22.767706     2.270865   374.050262    83.141312   \n",
              "25%                      24.076641     2.310743   395.088440    85.581072   \n",
              "50%                      24.547651     2.322540   415.215103    86.294579   \n",
              "75%                      24.783402     2.334727   422.584709    87.161484   \n",
              "max                      24.894966     2.366327   440.237366    89.921860   \n",
              "\n",
              "       mmHg,Pressione Diastolica  mmHg,Pressione Sistolica  \n",
              "count                1000.000000               1000.000000  \n",
              "mean                   71.534931                117.445551  \n",
              "std                     1.818679                  1.226528  \n",
              "min                    68.482224                106.992142  \n",
              "25%                    70.325460                116.980219  \n",
              "50%                    70.991425                117.781273  \n",
              "75%                    72.268982                118.288971  \n",
              "max                    78.971741                118.926239  "
            ],
            "text/html": [
              "\n",
              "  <div id=\"df-21ebf292-001e-4b2d-a662-84b8c8c73eb8\">\n",
              "    <div class=\"colab-df-container\">\n",
              "      <div>\n",
              "<style scoped>\n",
              "    .dataframe tbody tr th:only-of-type {\n",
              "        vertical-align: middle;\n",
              "    }\n",
              "\n",
              "    .dataframe tbody tr th {\n",
              "        vertical-align: top;\n",
              "    }\n",
              "\n",
              "    .dataframe thead th {\n",
              "        text-align: right;\n",
              "    }\n",
              "</style>\n",
              "<table border=\"1\" class=\"dataframe\">\n",
              "  <thead>\n",
              "    <tr style=\"text-align: right;\">\n",
              "      <th></th>\n",
              "      <th>#misurazione</th>\n",
              "      <th>%,% di ossigeno</th>\n",
              "      <th>*C,Temperatura Corporea</th>\n",
              "      <th>bpm,Frequenza Cardiaca</th>\n",
              "      <th>bpm,Frequenza Cardiaca Master</th>\n",
              "      <th>Kg,Peso</th>\n",
              "      <th>Kg/m2,Indice Massa Corporea</th>\n",
              "      <th>L,FEV1</th>\n",
              "      <th>L/min,PEF</th>\n",
              "      <th>mmHg,MAP</th>\n",
              "      <th>mmHg,Pressione Diastolica</th>\n",
              "      <th>mmHg,Pressione Sistolica</th>\n",
              "    </tr>\n",
              "  </thead>\n",
              "  <tbody>\n",
              "    <tr>\n",
              "      <th>count</th>\n",
              "      <td>1000.0</td>\n",
              "      <td>1000.000000</td>\n",
              "      <td>1000.000000</td>\n",
              "      <td>1000.000000</td>\n",
              "      <td>1000.000000</td>\n",
              "      <td>1000.000000</td>\n",
              "      <td>1000.000000</td>\n",
              "      <td>1000.000000</td>\n",
              "      <td>1000.000000</td>\n",
              "      <td>1000.000000</td>\n",
              "      <td>1000.000000</td>\n",
              "      <td>1000.000000</td>\n",
              "    </tr>\n",
              "    <tr>\n",
              "      <th>mean</th>\n",
              "      <td>3.0</td>\n",
              "      <td>94.714985</td>\n",
              "      <td>35.798985</td>\n",
              "      <td>81.027837</td>\n",
              "      <td>69.424160</td>\n",
              "      <td>66.437974</td>\n",
              "      <td>24.394076</td>\n",
              "      <td>2.322897</td>\n",
              "      <td>409.141515</td>\n",
              "      <td>86.363743</td>\n",
              "      <td>71.534931</td>\n",
              "      <td>117.445551</td>\n",
              "    </tr>\n",
              "    <tr>\n",
              "      <th>std</th>\n",
              "      <td>0.0</td>\n",
              "      <td>0.742698</td>\n",
              "      <td>0.470979</td>\n",
              "      <td>1.699789</td>\n",
              "      <td>1.477838</td>\n",
              "      <td>1.281107</td>\n",
              "      <td>0.464033</td>\n",
              "      <td>0.016739</td>\n",
              "      <td>14.563736</td>\n",
              "      <td>1.134961</td>\n",
              "      <td>1.818679</td>\n",
              "      <td>1.226528</td>\n",
              "    </tr>\n",
              "    <tr>\n",
              "      <th>min</th>\n",
              "      <td>3.0</td>\n",
              "      <td>93.338295</td>\n",
              "      <td>32.868744</td>\n",
              "      <td>75.446724</td>\n",
              "      <td>62.781639</td>\n",
              "      <td>61.803898</td>\n",
              "      <td>22.767706</td>\n",
              "      <td>2.270865</td>\n",
              "      <td>374.050262</td>\n",
              "      <td>83.141312</td>\n",
              "      <td>68.482224</td>\n",
              "      <td>106.992142</td>\n",
              "    </tr>\n",
              "    <tr>\n",
              "      <th>25%</th>\n",
              "      <td>3.0</td>\n",
              "      <td>93.989012</td>\n",
              "      <td>35.602448</td>\n",
              "      <td>79.902454</td>\n",
              "      <td>68.344994</td>\n",
              "      <td>65.651163</td>\n",
              "      <td>24.076641</td>\n",
              "      <td>2.310743</td>\n",
              "      <td>395.088440</td>\n",
              "      <td>85.581072</td>\n",
              "      <td>70.325460</td>\n",
              "      <td>116.980219</td>\n",
              "    </tr>\n",
              "    <tr>\n",
              "      <th>50%</th>\n",
              "      <td>3.0</td>\n",
              "      <td>94.934052</td>\n",
              "      <td>35.946167</td>\n",
              "      <td>81.001583</td>\n",
              "      <td>69.701923</td>\n",
              "      <td>66.849213</td>\n",
              "      <td>24.547651</td>\n",
              "      <td>2.322540</td>\n",
              "      <td>415.215103</td>\n",
              "      <td>86.294579</td>\n",
              "      <td>70.991425</td>\n",
              "      <td>117.781273</td>\n",
              "    </tr>\n",
              "    <tr>\n",
              "      <th>75%</th>\n",
              "      <td>3.0</td>\n",
              "      <td>95.420662</td>\n",
              "      <td>36.137058</td>\n",
              "      <td>81.998444</td>\n",
              "      <td>70.633169</td>\n",
              "      <td>67.548109</td>\n",
              "      <td>24.783402</td>\n",
              "      <td>2.334727</td>\n",
              "      <td>422.584709</td>\n",
              "      <td>87.161484</td>\n",
              "      <td>72.268982</td>\n",
              "      <td>118.288971</td>\n",
              "    </tr>\n",
              "    <tr>\n",
              "      <th>max</th>\n",
              "      <td>3.0</td>\n",
              "      <td>95.971146</td>\n",
              "      <td>36.344826</td>\n",
              "      <td>89.115158</td>\n",
              "      <td>76.244812</td>\n",
              "      <td>67.798515</td>\n",
              "      <td>24.894966</td>\n",
              "      <td>2.366327</td>\n",
              "      <td>440.237366</td>\n",
              "      <td>89.921860</td>\n",
              "      <td>78.971741</td>\n",
              "      <td>118.926239</td>\n",
              "    </tr>\n",
              "  </tbody>\n",
              "</table>\n",
              "</div>\n",
              "      <button class=\"colab-df-convert\" onclick=\"convertToInteractive('df-21ebf292-001e-4b2d-a662-84b8c8c73eb8')\"\n",
              "              title=\"Convert this dataframe to an interactive table.\"\n",
              "              style=\"display:none;\">\n",
              "        \n",
              "  <svg xmlns=\"http://www.w3.org/2000/svg\" height=\"24px\"viewBox=\"0 0 24 24\"\n",
              "       width=\"24px\">\n",
              "    <path d=\"M0 0h24v24H0V0z\" fill=\"none\"/>\n",
              "    <path d=\"M18.56 5.44l.94 2.06.94-2.06 2.06-.94-2.06-.94-.94-2.06-.94 2.06-2.06.94zm-11 1L8.5 8.5l.94-2.06 2.06-.94-2.06-.94L8.5 2.5l-.94 2.06-2.06.94zm10 10l.94 2.06.94-2.06 2.06-.94-2.06-.94-.94-2.06-.94 2.06-2.06.94z\"/><path d=\"M17.41 7.96l-1.37-1.37c-.4-.4-.92-.59-1.43-.59-.52 0-1.04.2-1.43.59L10.3 9.45l-7.72 7.72c-.78.78-.78 2.05 0 2.83L4 21.41c.39.39.9.59 1.41.59.51 0 1.02-.2 1.41-.59l7.78-7.78 2.81-2.81c.8-.78.8-2.07 0-2.86zM5.41 20L4 18.59l7.72-7.72 1.47 1.35L5.41 20z\"/>\n",
              "  </svg>\n",
              "      </button>\n",
              "      \n",
              "  <style>\n",
              "    .colab-df-container {\n",
              "      display:flex;\n",
              "      flex-wrap:wrap;\n",
              "      gap: 12px;\n",
              "    }\n",
              "\n",
              "    .colab-df-convert {\n",
              "      background-color: #E8F0FE;\n",
              "      border: none;\n",
              "      border-radius: 50%;\n",
              "      cursor: pointer;\n",
              "      display: none;\n",
              "      fill: #1967D2;\n",
              "      height: 32px;\n",
              "      padding: 0 0 0 0;\n",
              "      width: 32px;\n",
              "    }\n",
              "\n",
              "    .colab-df-convert:hover {\n",
              "      background-color: #E2EBFA;\n",
              "      box-shadow: 0px 1px 2px rgba(60, 64, 67, 0.3), 0px 1px 3px 1px rgba(60, 64, 67, 0.15);\n",
              "      fill: #174EA6;\n",
              "    }\n",
              "\n",
              "    [theme=dark] .colab-df-convert {\n",
              "      background-color: #3B4455;\n",
              "      fill: #D2E3FC;\n",
              "    }\n",
              "\n",
              "    [theme=dark] .colab-df-convert:hover {\n",
              "      background-color: #434B5C;\n",
              "      box-shadow: 0px 1px 3px 1px rgba(0, 0, 0, 0.15);\n",
              "      filter: drop-shadow(0px 1px 2px rgba(0, 0, 0, 0.3));\n",
              "      fill: #FFFFFF;\n",
              "    }\n",
              "  </style>\n",
              "\n",
              "      <script>\n",
              "        const buttonEl =\n",
              "          document.querySelector('#df-21ebf292-001e-4b2d-a662-84b8c8c73eb8 button.colab-df-convert');\n",
              "        buttonEl.style.display =\n",
              "          google.colab.kernel.accessAllowed ? 'block' : 'none';\n",
              "\n",
              "        async function convertToInteractive(key) {\n",
              "          const element = document.querySelector('#df-21ebf292-001e-4b2d-a662-84b8c8c73eb8');\n",
              "          const dataTable =\n",
              "            await google.colab.kernel.invokeFunction('convertToInteractive',\n",
              "                                                     [key], {});\n",
              "          if (!dataTable) return;\n",
              "\n",
              "          const docLinkHtml = 'Like what you see? Visit the ' +\n",
              "            '<a target=\"_blank\" href=https://colab.research.google.com/notebooks/data_table.ipynb>data table notebook</a>'\n",
              "            + ' to learn more about interactive tables.';\n",
              "          element.innerHTML = '';\n",
              "          dataTable['output_type'] = 'display_data';\n",
              "          await google.colab.output.renderOutput(dataTable, element);\n",
              "          const docLink = document.createElement('div');\n",
              "          docLink.innerHTML = docLinkHtml;\n",
              "          element.appendChild(docLink);\n",
              "        }\n",
              "      </script>\n",
              "    </div>\n",
              "  </div>\n",
              "  "
            ]
          },
          "metadata": {},
          "execution_count": 31
        }
      ]
    },
    {
      "cell_type": "code",
      "source": [
        "df.info()"
      ],
      "metadata": {
        "colab": {
          "base_uri": "https://localhost:8080/"
        },
        "id": "ZOss9sHNcTiA",
        "outputId": "8902625c-c0c9-4b8b-daf5-6c4e5c97d673"
      },
      "execution_count": 32,
      "outputs": [
        {
          "output_type": "stream",
          "name": "stdout",
          "text": [
            "<class 'pandas.core.frame.DataFrame'>\n",
            "Int64Index: 1000 entries, 0 to 999\n",
            "Data columns (total 12 columns):\n",
            " #   Column                         Non-Null Count  Dtype  \n",
            "---  ------                         --------------  -----  \n",
            " 0   #misurazione                   1000 non-null   int64  \n",
            " 1   %,% di ossigeno                1000 non-null   float64\n",
            " 2   *C,Temperatura Corporea        1000 non-null   float64\n",
            " 3   bpm,Frequenza Cardiaca         1000 non-null   float64\n",
            " 4   bpm,Frequenza Cardiaca Master  1000 non-null   float64\n",
            " 5   Kg,Peso                        1000 non-null   float64\n",
            " 6   Kg/m2,Indice Massa Corporea    1000 non-null   float64\n",
            " 7   L,FEV1                         1000 non-null   float64\n",
            " 8   L/min,PEF                      1000 non-null   float64\n",
            " 9   mmHg,MAP                       1000 non-null   float64\n",
            " 10  mmHg,Pressione Diastolica      1000 non-null   float64\n",
            " 11  mmHg,Pressione Sistolica       1000 non-null   float64\n",
            "dtypes: float64(11), int64(1)\n",
            "memory usage: 133.9 KB\n"
          ]
        }
      ]
    },
    {
      "cell_type": "markdown",
      "source": [
        "There is no Null values in the data set if we have any so far we will randomly replace it with deviation or null values(Nan) depends upon the final accuracy,simply trail and error."
      ],
      "metadata": {
        "id": "G8HfbtxxcctD"
      }
    },
    {
      "cell_type": "code",
      "source": [
        "if df.isnull().bool==True:\n",
        "   print(\"There is a error recieving the data\")\n",
        "    "
      ],
      "metadata": {
        "id": "jEnDERziefE1"
      },
      "execution_count": 33,
      "outputs": []
    },
    {
      "cell_type": "markdown",
      "source": [
        "# **SPLIT,TRAIN AND TEST**"
      ],
      "metadata": {
        "id": "36TTJgRWE3SU"
      }
    },
    {
      "cell_type": "code",
      "source": [
        "# split into independent variables and target variable\n",
        "#X = df.drop(['Time','Class'], axis=1) \n",
        "#y = new_data['Class']"
      ],
      "metadata": {
        "id": "lPYBKZe0BbaE"
      },
      "execution_count": null,
      "outputs": []
    },
    {
      "cell_type": "code",
      "source": [
        "#split the data into train and test \n",
        "#X_train, X_test, y_train,y_test = train_test_split(X,y, test_size = 0.2, stratify=y, random_state=42 )"
      ],
      "metadata": {
        "id": "Jc6eErATBRVy"
      },
      "execution_count": null,
      "outputs": []
    },
    {
      "cell_type": "markdown",
      "source": [
        "# **Exploratory Data Analysis**"
      ],
      "metadata": {
        "id": "TEX7bNyjbZQy"
      }
    },
    {
      "cell_type": "code",
      "source": [
        "!pip install squarify"
      ],
      "metadata": {
        "colab": {
          "base_uri": "https://localhost:8080/"
        },
        "id": "ZsBFy0sBhM6w",
        "outputId": "add2d1f5-677d-493a-e813-7b74bb95e029"
      },
      "execution_count": 34,
      "outputs": [
        {
          "output_type": "stream",
          "name": "stdout",
          "text": [
            "Looking in indexes: https://pypi.org/simple, https://us-python.pkg.dev/colab-wheels/public/simple/\n",
            "Requirement already satisfied: squarify in /usr/local/lib/python3.7/dist-packages (0.4.3)\n"
          ]
        }
      ]
    },
    {
      "cell_type": "code",
      "source": [
        "import seaborn as sns\n",
        "import matplotlib.pyplot as plt\n",
        "%matplotlib inline\n",
        "import plotly.offline as py\n",
        "import plotly.graph_objs as go\n",
        "from plotly.offline import download_plotlyjs, init_notebook_mode, plot, iplot\n",
        "import plotly.tools as tls\n",
        "import plotly.figure_factory as ff\n",
        "py.init_notebook_mode(connected=True)\n",
        "import squarify"
      ],
      "metadata": {
        "colab": {
          "base_uri": "https://localhost:8080/",
          "height": 17
        },
        "id": "o7eCea2hbfQz",
        "outputId": "5969dd13-0ec8-4e27-a480-c44a30b60fa2"
      },
      "execution_count": 35,
      "outputs": [
        {
          "output_type": "display_data",
          "data": {
            "text/html": [
              "        <script type=\"text/javascript\">\n",
              "        window.PlotlyConfig = {MathJaxConfig: 'local'};\n",
              "        if (window.MathJax) {MathJax.Hub.Config({SVG: {font: \"STIX-Web\"}});}\n",
              "        if (typeof require !== 'undefined') {\n",
              "        require.undef(\"plotly\");\n",
              "        requirejs.config({\n",
              "            paths: {\n",
              "                'plotly': ['https://cdn.plot.ly/plotly-2.8.3.min']\n",
              "            }\n",
              "        });\n",
              "        require(['plotly'], function(Plotly) {\n",
              "            window._Plotly = Plotly;\n",
              "        });\n",
              "        }\n",
              "        </script>\n",
              "        "
            ]
          },
          "metadata": {}
        }
      ]
    },
    {
      "cell_type": "code",
      "source": [
        "#creating a model\n",
        "iforest=create_model('iforest')\n",
        "#plotting model\n",
        "plot_model(iforest)"
      ],
      "metadata": {
        "colab": {
          "base_uri": "https://localhost:8080/",
          "height": 1000,
          "referenced_widgets": [
            "cd8efed0c7f84e93bf1d9c7d7cacbb97",
            "63630de33a514f668ccc4004ee1496ae",
            "80269429926640aeb7dffd1956483414",
            "4da5ae27d49e484dabd8005b02f067e8",
            "8d54afae022340a0a3b43c507d0b4801",
            "4e21e098f3dd4689ae0b15dbf9673b5f",
            "10c918c886d14100a17f5d1e59023abb",
            "7c8ef7de6d2a41089b16e8e3ba7b2368",
            "ffce6a9651c64b178bbef5e864241054",
            "29e768f475a744ac8a1f1d5f65d064ab",
            "a063fee48fe34f119682d6074086042f"
          ]
        },
        "id": "ijc2g80hhVdf",
        "outputId": "18340d4a-02b2-40f7-a421-915981f8ab35"
      },
      "execution_count": 36,
      "outputs": [
        {
          "output_type": "stream",
          "name": "stderr",
          "text": [
            "INFO:logs:Initializing create_model()\n",
            "INFO:logs:create_model(self=<pycaret.anomaly.oop.AnomalyExperiment object at 0x7fdea61da650>, estimator=iforest, num_clusters=4, fraction=0.05, ground_truth=None, round=4, fit_kwargs=None, experiment_custom_tags=None, verbose=True, system=True, add_to_model_list=True, raise_num_clusters=False, display=None, kwargs={})\n",
            "INFO:logs:Checking exceptions\n"
          ]
        },
        {
          "output_type": "display_data",
          "data": {
            "text/plain": [
              "<IPython.core.display.HTML object>"
            ],
            "text/html": []
          },
          "metadata": {}
        },
        {
          "output_type": "display_data",
          "data": {
            "text/plain": [
              "<IPython.core.display.HTML object>"
            ],
            "text/html": []
          },
          "metadata": {}
        },
        {
          "output_type": "display_data",
          "data": {
            "text/plain": [
              "Processing:   0%|          | 0/3 [00:00<?, ?it/s]"
            ],
            "application/vnd.jupyter.widget-view+json": {
              "version_major": 2,
              "version_minor": 0,
              "model_id": "cd8efed0c7f84e93bf1d9c7d7cacbb97"
            }
          },
          "metadata": {
            "application/vnd.jupyter.widget-view+json": {
              "colab": {
                "custom_widget_manager": {
                  "url": "https://ssl.gstatic.com/colaboratory-static/widgets/colab-cdn-widget-manager/d2e234f7cc04bf79/manager.min.js"
                }
              }
            }
          }
        },
        {
          "output_type": "stream",
          "name": "stderr",
          "text": [
            "INFO:logs:Importing libraries\n",
            "INFO:logs:Importing untrained model\n",
            "INFO:logs:Isolation Forest Imported succesfully\n",
            "INFO:logs:Fitting Model\n",
            "INFO:logs:IForest(behaviour='new', bootstrap=False, contamination=0.05,\n",
            "    max_features=1.0, max_samples='auto', n_estimators=100, n_jobs=-1,\n",
            "    random_state=8910, verbose=0)\n",
            "INFO:logs:create_models() succesfully completed......................................\n"
          ]
        },
        {
          "output_type": "display_data",
          "data": {
            "text/plain": [
              "<IPython.core.display.HTML object>"
            ],
            "text/html": []
          },
          "metadata": {}
        },
        {
          "output_type": "stream",
          "name": "stderr",
          "text": [
            "INFO:logs:Uploading results into container\n",
            "INFO:logs:Uploading model into container now\n",
            "INFO:logs:master_model_container: 1\n",
            "INFO:logs:display_container: 1\n",
            "INFO:logs:IForest(behaviour='new', bootstrap=False, contamination=0.05,\n",
            "    max_features=1.0, max_samples='auto', n_estimators=100, n_jobs=-1,\n",
            "    random_state=8910, verbose=0)\n",
            "INFO:logs:create_model() succesfully completed......................................\n",
            "INFO:logs:Initializing plot_model()\n",
            "INFO:logs:plot_model(plot=tsne, fold=None, use_train_data=False, verbose=True, display=None, display_format=None, estimator=IForest(behaviour='new', bootstrap=False, contamination=0.05,\n",
            "    max_features=1.0, max_samples='auto', n_estimators=100, n_jobs=-1,\n",
            "    random_state=8910, verbose=0), feature_name=None, fit_kwargs=None, groups=None, label=False, plot_kwargs=None, save=False, scale=1, self=<pycaret.anomaly.oop.AnomalyExperiment object at 0x7fdea61da650>, system=True)\n",
            "INFO:logs:Checking exceptions\n"
          ]
        },
        {
          "output_type": "display_data",
          "data": {
            "text/plain": [
              "<IPython.core.display.HTML object>"
            ],
            "text/html": []
          },
          "metadata": {}
        },
        {
          "output_type": "stream",
          "name": "stderr",
          "text": [
            "INFO:logs:Preloading libraries\n",
            "INFO:logs:Copying training dataset\n",
            "INFO:logs:Plot type: tsne\n",
            "INFO:logs:SubProcess assign_model() called ==================================\n",
            "INFO:logs:Initializing assign_model()\n",
            "INFO:logs:assign_model(self=<pycaret.anomaly.oop.AnomalyExperiment object at 0x7fdea61da650>, model=IForest(behaviour='new', bootstrap=False, contamination=0.05,\n",
            "    max_features=1.0, max_samples='auto', n_estimators=100, n_jobs=-1,\n",
            "    random_state=8910, verbose=0), transformation=True, score=False, verbose=False)\n",
            "INFO:logs:Checking exceptions\n",
            "INFO:logs:Determining Trained Model\n",
            "INFO:logs:Trained Model : Isolation Forest\n",
            "INFO:logs:Copying data\n",
            "INFO:logs:Transformation parameter set to True. Assigned clusters are attached on transformed dataset.\n",
            "INFO:logs:(1000, 12)\n",
            "INFO:logs:assign_model() succesfully completed......................................\n",
            "INFO:logs:SubProcess assign_model() end ==================================\n",
            "INFO:logs:Getting dummies to cast categorical variables\n",
            "INFO:logs:Fitting TSNE()\n",
            "WARNING:logs:/usr/local/lib/python3.7/dist-packages/sklearn/manifold/_t_sne.py:783: FutureWarning:\n",
            "\n",
            "The default initialization in TSNE will change from 'random' to 'pca' in 1.2.\n",
            "\n",
            "\n",
            "WARNING:logs:/usr/local/lib/python3.7/dist-packages/sklearn/manifold/_t_sne.py:793: FutureWarning:\n",
            "\n",
            "The default learning rate in TSNE will change from 200.0 to 'auto' in 1.2.\n",
            "\n",
            "\n",
            "INFO:logs:Rendering Visual\n"
          ]
        },
        {
          "output_type": "display_data",
          "data": {
            "application/vnd.plotly.v1+json": {
              "data": [
                {
                  "customdata": [
                    [
                      3
                    ],
                    [
                      3
                    ],
                    [
                      3
                    ],
                    [
                      3
                    ],
                    [
                      3
                    ],
                    [
                      3
                    ],
                    [
                      3
                    ],
                    [
                      3
                    ],
                    [
                      3
                    ],
                    [
                      3
                    ],
                    [
                      3
                    ],
                    [
                      3
                    ],
                    [
                      3
                    ],
                    [
                      3
                    ],
                    [
                      3
                    ],
                    [
                      3
                    ],
                    [
                      3
                    ],
                    [
                      3
                    ],
                    [
                      3
                    ],
                    [
                      3
                    ],
                    [
                      3
                    ],
                    [
                      3
                    ],
                    [
                      3
                    ],
                    [
                      3
                    ],
                    [
                      3
                    ],
                    [
                      3
                    ],
                    [
                      3
                    ],
                    [
                      3
                    ],
                    [
                      3
                    ],
                    [
                      3
                    ],
                    [
                      3
                    ],
                    [
                      3
                    ],
                    [
                      3
                    ],
                    [
                      3
                    ],
                    [
                      3
                    ],
                    [
                      3
                    ],
                    [
                      3
                    ],
                    [
                      3
                    ],
                    [
                      3
                    ],
                    [
                      3
                    ],
                    [
                      3
                    ],
                    [
                      3
                    ],
                    [
                      3
                    ],
                    [
                      3
                    ],
                    [
                      3
                    ],
                    [
                      3
                    ],
                    [
                      3
                    ],
                    [
                      3
                    ],
                    [
                      3
                    ],
                    [
                      3
                    ],
                    [
                      3
                    ],
                    [
                      3
                    ],
                    [
                      3
                    ],
                    [
                      3
                    ],
                    [
                      3
                    ],
                    [
                      3
                    ],
                    [
                      3
                    ],
                    [
                      3
                    ],
                    [
                      3
                    ],
                    [
                      3
                    ],
                    [
                      3
                    ],
                    [
                      3
                    ],
                    [
                      3
                    ],
                    [
                      3
                    ],
                    [
                      3
                    ],
                    [
                      3
                    ],
                    [
                      3
                    ],
                    [
                      3
                    ],
                    [
                      3
                    ],
                    [
                      3
                    ],
                    [
                      3
                    ],
                    [
                      3
                    ],
                    [
                      3
                    ],
                    [
                      3
                    ],
                    [
                      3
                    ],
                    [
                      3
                    ],
                    [
                      3
                    ],
                    [
                      3
                    ],
                    [
                      3
                    ],
                    [
                      3
                    ],
                    [
                      3
                    ],
                    [
                      3
                    ],
                    [
                      3
                    ],
                    [
                      3
                    ],
                    [
                      3
                    ],
                    [
                      3
                    ],
                    [
                      3
                    ],
                    [
                      3
                    ],
                    [
                      3
                    ],
                    [
                      3
                    ],
                    [
                      3
                    ],
                    [
                      3
                    ],
                    [
                      3
                    ],
                    [
                      3
                    ],
                    [
                      3
                    ],
                    [
                      3
                    ],
                    [
                      3
                    ],
                    [
                      3
                    ],
                    [
                      3
                    ],
                    [
                      3
                    ],
                    [
                      3
                    ],
                    [
                      3
                    ],
                    [
                      3
                    ],
                    [
                      3
                    ],
                    [
                      3
                    ],
                    [
                      3
                    ],
                    [
                      3
                    ],
                    [
                      3
                    ],
                    [
                      3
                    ],
                    [
                      3
                    ],
                    [
                      3
                    ],
                    [
                      3
                    ],
                    [
                      3
                    ],
                    [
                      3
                    ],
                    [
                      3
                    ],
                    [
                      3
                    ],
                    [
                      3
                    ],
                    [
                      3
                    ],
                    [
                      3
                    ],
                    [
                      3
                    ],
                    [
                      3
                    ],
                    [
                      3
                    ],
                    [
                      3
                    ],
                    [
                      3
                    ],
                    [
                      3
                    ],
                    [
                      3
                    ],
                    [
                      3
                    ],
                    [
                      3
                    ],
                    [
                      3
                    ],
                    [
                      3
                    ],
                    [
                      3
                    ],
                    [
                      3
                    ],
                    [
                      3
                    ],
                    [
                      3
                    ],
                    [
                      3
                    ],
                    [
                      3
                    ],
                    [
                      3
                    ],
                    [
                      3
                    ],
                    [
                      3
                    ],
                    [
                      3
                    ],
                    [
                      3
                    ],
                    [
                      3
                    ],
                    [
                      3
                    ],
                    [
                      3
                    ],
                    [
                      3
                    ],
                    [
                      3
                    ],
                    [
                      3
                    ],
                    [
                      3
                    ],
                    [
                      3
                    ],
                    [
                      3
                    ],
                    [
                      3
                    ],
                    [
                      3
                    ],
                    [
                      3
                    ],
                    [
                      3
                    ],
                    [
                      3
                    ],
                    [
                      3
                    ],
                    [
                      3
                    ],
                    [
                      3
                    ],
                    [
                      3
                    ],
                    [
                      3
                    ],
                    [
                      3
                    ],
                    [
                      3
                    ],
                    [
                      3
                    ],
                    [
                      3
                    ],
                    [
                      3
                    ],
                    [
                      3
                    ],
                    [
                      3
                    ],
                    [
                      3
                    ],
                    [
                      3
                    ],
                    [
                      3
                    ],
                    [
                      3
                    ],
                    [
                      3
                    ],
                    [
                      3
                    ],
                    [
                      3
                    ],
                    [
                      3
                    ],
                    [
                      3
                    ],
                    [
                      3
                    ],
                    [
                      3
                    ],
                    [
                      3
                    ],
                    [
                      3
                    ],
                    [
                      3
                    ],
                    [
                      3
                    ],
                    [
                      3
                    ],
                    [
                      3
                    ],
                    [
                      3
                    ],
                    [
                      3
                    ],
                    [
                      3
                    ],
                    [
                      3
                    ],
                    [
                      3
                    ],
                    [
                      3
                    ],
                    [
                      3
                    ],
                    [
                      3
                    ],
                    [
                      3
                    ],
                    [
                      3
                    ],
                    [
                      3
                    ],
                    [
                      3
                    ],
                    [
                      3
                    ],
                    [
                      3
                    ],
                    [
                      3
                    ],
                    [
                      3
                    ],
                    [
                      3
                    ],
                    [
                      3
                    ],
                    [
                      3
                    ],
                    [
                      3
                    ],
                    [
                      3
                    ],
                    [
                      3
                    ],
                    [
                      3
                    ],
                    [
                      3
                    ],
                    [
                      3
                    ],
                    [
                      3
                    ],
                    [
                      3
                    ],
                    [
                      3
                    ],
                    [
                      3
                    ],
                    [
                      3
                    ],
                    [
                      3
                    ],
                    [
                      3
                    ],
                    [
                      3
                    ],
                    [
                      3
                    ],
                    [
                      3
                    ],
                    [
                      3
                    ],
                    [
                      3
                    ],
                    [
                      3
                    ],
                    [
                      3
                    ],
                    [
                      3
                    ],
                    [
                      3
                    ],
                    [
                      3
                    ],
                    [
                      3
                    ],
                    [
                      3
                    ],
                    [
                      3
                    ],
                    [
                      3
                    ],
                    [
                      3
                    ],
                    [
                      3
                    ],
                    [
                      3
                    ],
                    [
                      3
                    ],
                    [
                      3
                    ],
                    [
                      3
                    ],
                    [
                      3
                    ],
                    [
                      3
                    ],
                    [
                      3
                    ],
                    [
                      3
                    ],
                    [
                      3
                    ],
                    [
                      3
                    ],
                    [
                      3
                    ],
                    [
                      3
                    ],
                    [
                      3
                    ],
                    [
                      3
                    ],
                    [
                      3
                    ],
                    [
                      3
                    ],
                    [
                      3
                    ],
                    [
                      3
                    ],
                    [
                      3
                    ],
                    [
                      3
                    ],
                    [
                      3
                    ],
                    [
                      3
                    ],
                    [
                      3
                    ],
                    [
                      3
                    ],
                    [
                      3
                    ],
                    [
                      3
                    ],
                    [
                      3
                    ],
                    [
                      3
                    ],
                    [
                      3
                    ],
                    [
                      3
                    ],
                    [
                      3
                    ],
                    [
                      3
                    ],
                    [
                      3
                    ],
                    [
                      3
                    ],
                    [
                      3
                    ],
                    [
                      3
                    ],
                    [
                      3
                    ],
                    [
                      3
                    ],
                    [
                      3
                    ],
                    [
                      3
                    ],
                    [
                      3
                    ],
                    [
                      3
                    ],
                    [
                      3
                    ],
                    [
                      3
                    ],
                    [
                      3
                    ],
                    [
                      3
                    ],
                    [
                      3
                    ],
                    [
                      3
                    ],
                    [
                      3
                    ],
                    [
                      3
                    ],
                    [
                      3
                    ],
                    [
                      3
                    ],
                    [
                      3
                    ],
                    [
                      3
                    ],
                    [
                      3
                    ],
                    [
                      3
                    ],
                    [
                      3
                    ],
                    [
                      3
                    ],
                    [
                      3
                    ],
                    [
                      3
                    ],
                    [
                      3
                    ],
                    [
                      3
                    ],
                    [
                      3
                    ],
                    [
                      3
                    ],
                    [
                      3
                    ],
                    [
                      3
                    ],
                    [
                      3
                    ],
                    [
                      3
                    ],
                    [
                      3
                    ],
                    [
                      3
                    ],
                    [
                      3
                    ],
                    [
                      3
                    ],
                    [
                      3
                    ],
                    [
                      3
                    ],
                    [
                      3
                    ],
                    [
                      3
                    ],
                    [
                      3
                    ],
                    [
                      3
                    ],
                    [
                      3
                    ],
                    [
                      3
                    ],
                    [
                      3
                    ],
                    [
                      3
                    ],
                    [
                      3
                    ],
                    [
                      3
                    ],
                    [
                      3
                    ],
                    [
                      3
                    ],
                    [
                      3
                    ],
                    [
                      3
                    ],
                    [
                      3
                    ],
                    [
                      3
                    ],
                    [
                      3
                    ],
                    [
                      3
                    ],
                    [
                      3
                    ],
                    [
                      3
                    ],
                    [
                      3
                    ],
                    [
                      3
                    ],
                    [
                      3
                    ],
                    [
                      3
                    ],
                    [
                      3
                    ],
                    [
                      3
                    ],
                    [
                      3
                    ],
                    [
                      3
                    ],
                    [
                      3
                    ],
                    [
                      3
                    ],
                    [
                      3
                    ],
                    [
                      3
                    ],
                    [
                      3
                    ],
                    [
                      3
                    ],
                    [
                      3
                    ],
                    [
                      3
                    ],
                    [
                      3
                    ],
                    [
                      3
                    ],
                    [
                      3
                    ],
                    [
                      3
                    ],
                    [
                      3
                    ],
                    [
                      3
                    ],
                    [
                      3
                    ],
                    [
                      3
                    ],
                    [
                      3
                    ],
                    [
                      3
                    ],
                    [
                      3
                    ],
                    [
                      3
                    ],
                    [
                      3
                    ],
                    [
                      3
                    ],
                    [
                      3
                    ],
                    [
                      3
                    ],
                    [
                      3
                    ],
                    [
                      3
                    ],
                    [
                      3
                    ],
                    [
                      3
                    ],
                    [
                      3
                    ],
                    [
                      3
                    ],
                    [
                      3
                    ],
                    [
                      3
                    ],
                    [
                      3
                    ],
                    [
                      3
                    ],
                    [
                      3
                    ],
                    [
                      3
                    ],
                    [
                      3
                    ],
                    [
                      3
                    ],
                    [
                      3
                    ],
                    [
                      3
                    ],
                    [
                      3
                    ],
                    [
                      3
                    ],
                    [
                      3
                    ],
                    [
                      3
                    ],
                    [
                      3
                    ],
                    [
                      3
                    ],
                    [
                      3
                    ],
                    [
                      3
                    ],
                    [
                      3
                    ],
                    [
                      3
                    ],
                    [
                      3
                    ],
                    [
                      3
                    ],
                    [
                      3
                    ],
                    [
                      3
                    ],
                    [
                      3
                    ],
                    [
                      3
                    ],
                    [
                      3
                    ],
                    [
                      3
                    ],
                    [
                      3
                    ],
                    [
                      3
                    ],
                    [
                      3
                    ],
                    [
                      3
                    ],
                    [
                      3
                    ],
                    [
                      3
                    ],
                    [
                      3
                    ],
                    [
                      3
                    ],
                    [
                      3
                    ],
                    [
                      3
                    ],
                    [
                      3
                    ],
                    [
                      3
                    ],
                    [
                      3
                    ],
                    [
                      3
                    ],
                    [
                      3
                    ],
                    [
                      3
                    ],
                    [
                      3
                    ],
                    [
                      3
                    ],
                    [
                      3
                    ],
                    [
                      3
                    ],
                    [
                      3
                    ],
                    [
                      3
                    ],
                    [
                      3
                    ],
                    [
                      3
                    ],
                    [
                      3
                    ],
                    [
                      3
                    ],
                    [
                      3
                    ],
                    [
                      3
                    ],
                    [
                      3
                    ],
                    [
                      3
                    ],
                    [
                      3
                    ],
                    [
                      3
                    ],
                    [
                      3
                    ],
                    [
                      3
                    ],
                    [
                      3
                    ],
                    [
                      3
                    ],
                    [
                      3
                    ],
                    [
                      3
                    ],
                    [
                      3
                    ],
                    [
                      3
                    ],
                    [
                      3
                    ],
                    [
                      3
                    ],
                    [
                      3
                    ],
                    [
                      3
                    ],
                    [
                      3
                    ],
                    [
                      3
                    ],
                    [
                      3
                    ],
                    [
                      3
                    ],
                    [
                      3
                    ],
                    [
                      3
                    ],
                    [
                      3
                    ],
                    [
                      3
                    ],
                    [
                      3
                    ],
                    [
                      3
                    ],
                    [
                      3
                    ],
                    [
                      3
                    ],
                    [
                      3
                    ],
                    [
                      3
                    ],
                    [
                      3
                    ],
                    [
                      3
                    ],
                    [
                      3
                    ],
                    [
                      3
                    ],
                    [
                      3
                    ],
                    [
                      3
                    ],
                    [
                      3
                    ],
                    [
                      3
                    ],
                    [
                      3
                    ],
                    [
                      3
                    ],
                    [
                      3
                    ],
                    [
                      3
                    ],
                    [
                      3
                    ],
                    [
                      3
                    ],
                    [
                      3
                    ],
                    [
                      3
                    ],
                    [
                      3
                    ],
                    [
                      3
                    ],
                    [
                      3
                    ],
                    [
                      3
                    ],
                    [
                      3
                    ],
                    [
                      3
                    ],
                    [
                      3
                    ],
                    [
                      3
                    ],
                    [
                      3
                    ],
                    [
                      3
                    ],
                    [
                      3
                    ],
                    [
                      3
                    ],
                    [
                      3
                    ],
                    [
                      3
                    ],
                    [
                      3
                    ],
                    [
                      3
                    ],
                    [
                      3
                    ],
                    [
                      3
                    ],
                    [
                      3
                    ],
                    [
                      3
                    ],
                    [
                      3
                    ],
                    [
                      3
                    ],
                    [
                      3
                    ],
                    [
                      3
                    ],
                    [
                      3
                    ],
                    [
                      3
                    ],
                    [
                      3
                    ],
                    [
                      3
                    ],
                    [
                      3
                    ],
                    [
                      3
                    ],
                    [
                      3
                    ],
                    [
                      3
                    ],
                    [
                      3
                    ],
                    [
                      3
                    ],
                    [
                      3
                    ],
                    [
                      3
                    ],
                    [
                      3
                    ],
                    [
                      3
                    ],
                    [
                      3
                    ],
                    [
                      3
                    ],
                    [
                      3
                    ],
                    [
                      3
                    ],
                    [
                      3
                    ],
                    [
                      3
                    ],
                    [
                      3
                    ],
                    [
                      3
                    ],
                    [
                      3
                    ],
                    [
                      3
                    ],
                    [
                      3
                    ],
                    [
                      3
                    ],
                    [
                      3
                    ],
                    [
                      3
                    ],
                    [
                      3
                    ],
                    [
                      3
                    ],
                    [
                      3
                    ],
                    [
                      3
                    ],
                    [
                      3
                    ],
                    [
                      3
                    ],
                    [
                      3
                    ],
                    [
                      3
                    ],
                    [
                      3
                    ],
                    [
                      3
                    ],
                    [
                      3
                    ],
                    [
                      3
                    ],
                    [
                      3
                    ],
                    [
                      3
                    ],
                    [
                      3
                    ],
                    [
                      3
                    ],
                    [
                      3
                    ],
                    [
                      3
                    ],
                    [
                      3
                    ],
                    [
                      3
                    ],
                    [
                      3
                    ],
                    [
                      3
                    ],
                    [
                      3
                    ],
                    [
                      3
                    ],
                    [
                      3
                    ],
                    [
                      3
                    ],
                    [
                      3
                    ],
                    [
                      3
                    ],
                    [
                      3
                    ],
                    [
                      3
                    ],
                    [
                      3
                    ],
                    [
                      3
                    ],
                    [
                      3
                    ],
                    [
                      3
                    ],
                    [
                      3
                    ],
                    [
                      3
                    ],
                    [
                      3
                    ],
                    [
                      3
                    ],
                    [
                      3
                    ],
                    [
                      3
                    ],
                    [
                      3
                    ],
                    [
                      3
                    ],
                    [
                      3
                    ],
                    [
                      3
                    ],
                    [
                      3
                    ],
                    [
                      3
                    ],
                    [
                      3
                    ],
                    [
                      3
                    ],
                    [
                      3
                    ],
                    [
                      3
                    ],
                    [
                      3
                    ],
                    [
                      3
                    ],
                    [
                      3
                    ],
                    [
                      3
                    ],
                    [
                      3
                    ],
                    [
                      3
                    ],
                    [
                      3
                    ],
                    [
                      3
                    ],
                    [
                      3
                    ],
                    [
                      3
                    ],
                    [
                      3
                    ],
                    [
                      3
                    ],
                    [
                      3
                    ],
                    [
                      3
                    ],
                    [
                      3
                    ],
                    [
                      3
                    ],
                    [
                      3
                    ],
                    [
                      3
                    ],
                    [
                      3
                    ],
                    [
                      3
                    ],
                    [
                      3
                    ],
                    [
                      3
                    ],
                    [
                      3
                    ],
                    [
                      3
                    ],
                    [
                      3
                    ],
                    [
                      3
                    ],
                    [
                      3
                    ],
                    [
                      3
                    ],
                    [
                      3
                    ],
                    [
                      3
                    ],
                    [
                      3
                    ],
                    [
                      3
                    ],
                    [
                      3
                    ],
                    [
                      3
                    ],
                    [
                      3
                    ],
                    [
                      3
                    ],
                    [
                      3
                    ],
                    [
                      3
                    ],
                    [
                      3
                    ],
                    [
                      3
                    ],
                    [
                      3
                    ],
                    [
                      3
                    ],
                    [
                      3
                    ],
                    [
                      3
                    ],
                    [
                      3
                    ],
                    [
                      3
                    ],
                    [
                      3
                    ],
                    [
                      3
                    ],
                    [
                      3
                    ],
                    [
                      3
                    ],
                    [
                      3
                    ],
                    [
                      3
                    ],
                    [
                      3
                    ],
                    [
                      3
                    ],
                    [
                      3
                    ],
                    [
                      3
                    ],
                    [
                      3
                    ],
                    [
                      3
                    ],
                    [
                      3
                    ],
                    [
                      3
                    ],
                    [
                      3
                    ],
                    [
                      3
                    ],
                    [
                      3
                    ],
                    [
                      3
                    ],
                    [
                      3
                    ],
                    [
                      3
                    ],
                    [
                      3
                    ],
                    [
                      3
                    ],
                    [
                      3
                    ],
                    [
                      3
                    ],
                    [
                      3
                    ],
                    [
                      3
                    ],
                    [
                      3
                    ],
                    [
                      3
                    ],
                    [
                      3
                    ],
                    [
                      3
                    ],
                    [
                      3
                    ],
                    [
                      3
                    ],
                    [
                      3
                    ],
                    [
                      3
                    ],
                    [
                      3
                    ],
                    [
                      3
                    ],
                    [
                      3
                    ],
                    [
                      3
                    ],
                    [
                      3
                    ],
                    [
                      3
                    ],
                    [
                      3
                    ],
                    [
                      3
                    ],
                    [
                      3
                    ],
                    [
                      3
                    ],
                    [
                      3
                    ],
                    [
                      3
                    ],
                    [
                      3
                    ],
                    [
                      3
                    ],
                    [
                      3
                    ],
                    [
                      3
                    ],
                    [
                      3
                    ],
                    [
                      3
                    ],
                    [
                      3
                    ],
                    [
                      3
                    ],
                    [
                      3
                    ],
                    [
                      3
                    ],
                    [
                      3
                    ],
                    [
                      3
                    ],
                    [
                      3
                    ],
                    [
                      3
                    ],
                    [
                      3
                    ],
                    [
                      3
                    ],
                    [
                      3
                    ],
                    [
                      3
                    ],
                    [
                      3
                    ],
                    [
                      3
                    ],
                    [
                      3
                    ],
                    [
                      3
                    ],
                    [
                      3
                    ],
                    [
                      3
                    ],
                    [
                      3
                    ],
                    [
                      3
                    ],
                    [
                      3
                    ],
                    [
                      3
                    ],
                    [
                      3
                    ],
                    [
                      3
                    ],
                    [
                      3
                    ],
                    [
                      3
                    ],
                    [
                      3
                    ],
                    [
                      3
                    ],
                    [
                      3
                    ],
                    [
                      3
                    ],
                    [
                      3
                    ],
                    [
                      3
                    ],
                    [
                      3
                    ],
                    [
                      3
                    ],
                    [
                      3
                    ],
                    [
                      3
                    ],
                    [
                      3
                    ],
                    [
                      3
                    ],
                    [
                      3
                    ],
                    [
                      3
                    ],
                    [
                      3
                    ],
                    [
                      3
                    ],
                    [
                      3
                    ],
                    [
                      3
                    ],
                    [
                      3
                    ],
                    [
                      3
                    ],
                    [
                      3
                    ],
                    [
                      3
                    ],
                    [
                      3
                    ],
                    [
                      3
                    ],
                    [
                      3
                    ],
                    [
                      3
                    ],
                    [
                      3
                    ],
                    [
                      3
                    ],
                    [
                      3
                    ],
                    [
                      3
                    ],
                    [
                      3
                    ],
                    [
                      3
                    ],
                    [
                      3
                    ],
                    [
                      3
                    ],
                    [
                      3
                    ],
                    [
                      3
                    ],
                    [
                      3
                    ],
                    [
                      3
                    ],
                    [
                      3
                    ],
                    [
                      3
                    ],
                    [
                      3
                    ],
                    [
                      3
                    ],
                    [
                      3
                    ],
                    [
                      3
                    ],
                    [
                      3
                    ],
                    [
                      3
                    ],
                    [
                      3
                    ],
                    [
                      3
                    ],
                    [
                      3
                    ],
                    [
                      3
                    ],
                    [
                      3
                    ],
                    [
                      3
                    ],
                    [
                      3
                    ],
                    [
                      3
                    ],
                    [
                      3
                    ],
                    [
                      3
                    ],
                    [
                      3
                    ],
                    [
                      3
                    ],
                    [
                      3
                    ],
                    [
                      3
                    ],
                    [
                      3
                    ],
                    [
                      3
                    ],
                    [
                      3
                    ],
                    [
                      3
                    ],
                    [
                      3
                    ],
                    [
                      3
                    ],
                    [
                      3
                    ],
                    [
                      3
                    ],
                    [
                      3
                    ],
                    [
                      3
                    ],
                    [
                      3
                    ],
                    [
                      3
                    ],
                    [
                      3
                    ],
                    [
                      3
                    ],
                    [
                      3
                    ],
                    [
                      3
                    ],
                    [
                      3
                    ],
                    [
                      3
                    ],
                    [
                      3
                    ],
                    [
                      3
                    ],
                    [
                      3
                    ],
                    [
                      3
                    ],
                    [
                      3
                    ],
                    [
                      3
                    ],
                    [
                      3
                    ],
                    [
                      3
                    ],
                    [
                      3
                    ],
                    [
                      3
                    ],
                    [
                      3
                    ],
                    [
                      3
                    ],
                    [
                      3
                    ],
                    [
                      3
                    ],
                    [
                      3
                    ],
                    [
                      3
                    ],
                    [
                      3
                    ],
                    [
                      3
                    ],
                    [
                      3
                    ],
                    [
                      3
                    ],
                    [
                      3
                    ],
                    [
                      3
                    ],
                    [
                      3
                    ],
                    [
                      3
                    ],
                    [
                      3
                    ],
                    [
                      3
                    ],
                    [
                      3
                    ],
                    [
                      3
                    ],
                    [
                      3
                    ],
                    [
                      3
                    ],
                    [
                      3
                    ],
                    [
                      3
                    ],
                    [
                      3
                    ],
                    [
                      3
                    ],
                    [
                      3
                    ],
                    [
                      3
                    ],
                    [
                      3
                    ],
                    [
                      3
                    ],
                    [
                      3
                    ],
                    [
                      3
                    ],
                    [
                      3
                    ],
                    [
                      3
                    ],
                    [
                      3
                    ],
                    [
                      3
                    ],
                    [
                      3
                    ],
                    [
                      3
                    ],
                    [
                      3
                    ],
                    [
                      3
                    ],
                    [
                      3
                    ],
                    [
                      3
                    ],
                    [
                      3
                    ],
                    [
                      3
                    ],
                    [
                      3
                    ],
                    [
                      3
                    ],
                    [
                      3
                    ],
                    [
                      3
                    ],
                    [
                      3
                    ],
                    [
                      3
                    ],
                    [
                      3
                    ],
                    [
                      3
                    ],
                    [
                      3
                    ],
                    [
                      3
                    ],
                    [
                      3
                    ],
                    [
                      3
                    ],
                    [
                      3
                    ],
                    [
                      3
                    ],
                    [
                      3
                    ],
                    [
                      3
                    ],
                    [
                      3
                    ],
                    [
                      3
                    ],
                    [
                      3
                    ],
                    [
                      3
                    ],
                    [
                      3
                    ],
                    [
                      3
                    ],
                    [
                      3
                    ],
                    [
                      3
                    ],
                    [
                      3
                    ],
                    [
                      3
                    ],
                    [
                      3
                    ],
                    [
                      3
                    ],
                    [
                      3
                    ],
                    [
                      3
                    ],
                    [
                      3
                    ],
                    [
                      3
                    ],
                    [
                      3
                    ],
                    [
                      3
                    ],
                    [
                      3
                    ],
                    [
                      3
                    ],
                    [
                      3
                    ],
                    [
                      3
                    ],
                    [
                      3
                    ],
                    [
                      3
                    ],
                    [
                      3
                    ],
                    [
                      3
                    ],
                    [
                      3
                    ],
                    [
                      3
                    ],
                    [
                      3
                    ],
                    [
                      3
                    ],
                    [
                      3
                    ],
                    [
                      3
                    ],
                    [
                      3
                    ],
                    [
                      3
                    ],
                    [
                      3
                    ],
                    [
                      3
                    ],
                    [
                      3
                    ],
                    [
                      3
                    ],
                    [
                      3
                    ],
                    [
                      3
                    ],
                    [
                      3
                    ],
                    [
                      3
                    ],
                    [
                      3
                    ],
                    [
                      3
                    ],
                    [
                      3
                    ],
                    [
                      3
                    ],
                    [
                      3
                    ],
                    [
                      3
                    ],
                    [
                      3
                    ],
                    [
                      3
                    ],
                    [
                      3
                    ],
                    [
                      3
                    ],
                    [
                      3
                    ],
                    [
                      3
                    ],
                    [
                      3
                    ],
                    [
                      3
                    ],
                    [
                      3
                    ],
                    [
                      3
                    ],
                    [
                      3
                    ],
                    [
                      3
                    ],
                    [
                      3
                    ],
                    [
                      3
                    ],
                    [
                      3
                    ],
                    [
                      3
                    ],
                    [
                      3
                    ],
                    [
                      3
                    ],
                    [
                      3
                    ],
                    [
                      3
                    ],
                    [
                      3
                    ],
                    [
                      3
                    ],
                    [
                      3
                    ],
                    [
                      3
                    ],
                    [
                      3
                    ],
                    [
                      3
                    ],
                    [
                      3
                    ],
                    [
                      3
                    ],
                    [
                      3
                    ],
                    [
                      3
                    ],
                    [
                      3
                    ],
                    [
                      3
                    ],
                    [
                      3
                    ],
                    [
                      3
                    ],
                    [
                      3
                    ],
                    [
                      3
                    ],
                    [
                      3
                    ],
                    [
                      3
                    ],
                    [
                      3
                    ],
                    [
                      3
                    ],
                    [
                      3
                    ],
                    [
                      3
                    ],
                    [
                      3
                    ],
                    [
                      3
                    ],
                    [
                      3
                    ],
                    [
                      3
                    ],
                    [
                      3
                    ],
                    [
                      3
                    ],
                    [
                      3
                    ],
                    [
                      3
                    ],
                    [
                      3
                    ],
                    [
                      3
                    ],
                    [
                      3
                    ],
                    [
                      3
                    ],
                    [
                      3
                    ],
                    [
                      3
                    ],
                    [
                      3
                    ],
                    [
                      3
                    ],
                    [
                      3
                    ],
                    [
                      3
                    ],
                    [
                      3
                    ],
                    [
                      3
                    ],
                    [
                      3
                    ],
                    [
                      3
                    ],
                    [
                      3
                    ],
                    [
                      3
                    ],
                    [
                      3
                    ],
                    [
                      3
                    ],
                    [
                      3
                    ],
                    [
                      3
                    ],
                    [
                      3
                    ],
                    [
                      3
                    ],
                    [
                      3
                    ],
                    [
                      3
                    ],
                    [
                      3
                    ],
                    [
                      3
                    ],
                    [
                      3
                    ],
                    [
                      3
                    ],
                    [
                      3
                    ],
                    [
                      3
                    ],
                    [
                      3
                    ],
                    [
                      3
                    ],
                    [
                      3
                    ],
                    [
                      3
                    ],
                    [
                      3
                    ],
                    [
                      3
                    ],
                    [
                      3
                    ],
                    [
                      3
                    ],
                    [
                      3
                    ],
                    [
                      3
                    ],
                    [
                      3
                    ],
                    [
                      3
                    ],
                    [
                      3
                    ],
                    [
                      3
                    ],
                    [
                      3
                    ],
                    [
                      3
                    ],
                    [
                      3
                    ],
                    [
                      3
                    ],
                    [
                      3
                    ],
                    [
                      3
                    ],
                    [
                      3
                    ],
                    [
                      3
                    ],
                    [
                      3
                    ],
                    [
                      3
                    ],
                    [
                      3
                    ],
                    [
                      3
                    ],
                    [
                      3
                    ],
                    [
                      3
                    ],
                    [
                      3
                    ],
                    [
                      3
                    ],
                    [
                      3
                    ],
                    [
                      3
                    ],
                    [
                      3
                    ],
                    [
                      3
                    ]
                  ],
                  "hovertemplate": "0=%{x}<br>1=%{y}<br>2=%{z}<br>Feature=%{customdata[0]}<br>Anomaly=%{marker.color}<extra></extra>",
                  "legendgroup": "",
                  "marker": {
                    "color": [
                      0,
                      0,
                      0,
                      0,
                      0,
                      0,
                      0,
                      1,
                      0,
                      0,
                      0,
                      0,
                      0,
                      0,
                      0,
                      0,
                      0,
                      0,
                      0,
                      0,
                      1,
                      0,
                      0,
                      1,
                      0,
                      0,
                      0,
                      0,
                      0,
                      0,
                      0,
                      0,
                      0,
                      1,
                      0,
                      0,
                      0,
                      0,
                      0,
                      0,
                      0,
                      0,
                      0,
                      0,
                      0,
                      0,
                      0,
                      0,
                      0,
                      0,
                      0,
                      0,
                      0,
                      0,
                      0,
                      0,
                      0,
                      0,
                      0,
                      0,
                      0,
                      0,
                      0,
                      0,
                      0,
                      0,
                      0,
                      1,
                      0,
                      1,
                      0,
                      0,
                      0,
                      0,
                      0,
                      0,
                      0,
                      0,
                      0,
                      0,
                      0,
                      0,
                      0,
                      0,
                      0,
                      0,
                      0,
                      0,
                      0,
                      0,
                      0,
                      0,
                      0,
                      0,
                      0,
                      0,
                      0,
                      0,
                      0,
                      0,
                      0,
                      0,
                      0,
                      0,
                      0,
                      0,
                      0,
                      0,
                      0,
                      0,
                      0,
                      0,
                      1,
                      0,
                      0,
                      0,
                      0,
                      0,
                      0,
                      0,
                      0,
                      0,
                      0,
                      0,
                      0,
                      0,
                      0,
                      0,
                      0,
                      0,
                      0,
                      1,
                      0,
                      0,
                      0,
                      0,
                      0,
                      0,
                      0,
                      0,
                      0,
                      0,
                      0,
                      0,
                      0,
                      0,
                      0,
                      0,
                      0,
                      0,
                      0,
                      0,
                      0,
                      0,
                      0,
                      0,
                      0,
                      0,
                      0,
                      0,
                      0,
                      0,
                      0,
                      0,
                      0,
                      0,
                      0,
                      0,
                      0,
                      0,
                      0,
                      0,
                      0,
                      0,
                      0,
                      0,
                      0,
                      0,
                      0,
                      0,
                      0,
                      1,
                      0,
                      0,
                      0,
                      0,
                      0,
                      0,
                      0,
                      0,
                      0,
                      0,
                      0,
                      0,
                      0,
                      0,
                      0,
                      0,
                      0,
                      0,
                      0,
                      0,
                      0,
                      0,
                      0,
                      0,
                      0,
                      0,
                      0,
                      0,
                      0,
                      0,
                      0,
                      0,
                      0,
                      0,
                      0,
                      0,
                      0,
                      0,
                      0,
                      0,
                      0,
                      0,
                      0,
                      0,
                      0,
                      0,
                      0,
                      0,
                      0,
                      0,
                      0,
                      0,
                      0,
                      0,
                      0,
                      0,
                      0,
                      0,
                      0,
                      0,
                      0,
                      0,
                      0,
                      0,
                      0,
                      0,
                      0,
                      0,
                      0,
                      0,
                      0,
                      0,
                      0,
                      0,
                      0,
                      0,
                      0,
                      0,
                      0,
                      0,
                      0,
                      0,
                      0,
                      0,
                      0,
                      0,
                      0,
                      0,
                      0,
                      0,
                      0,
                      0,
                      0,
                      0,
                      0,
                      0,
                      0,
                      0,
                      0,
                      1,
                      0,
                      1,
                      0,
                      0,
                      0,
                      0,
                      0,
                      0,
                      0,
                      0,
                      1,
                      0,
                      1,
                      0,
                      0,
                      0,
                      0,
                      0,
                      0,
                      0,
                      0,
                      0,
                      0,
                      0,
                      1,
                      0,
                      0,
                      0,
                      0,
                      0,
                      0,
                      0,
                      0,
                      0,
                      0,
                      0,
                      0,
                      0,
                      0,
                      0,
                      0,
                      1,
                      0,
                      0,
                      0,
                      0,
                      0,
                      0,
                      0,
                      0,
                      0,
                      0,
                      0,
                      0,
                      0,
                      0,
                      0,
                      0,
                      0,
                      0,
                      0,
                      0,
                      0,
                      0,
                      0,
                      0,
                      0,
                      0,
                      0,
                      0,
                      0,
                      0,
                      0,
                      0,
                      0,
                      0,
                      0,
                      0,
                      0,
                      0,
                      0,
                      0,
                      0,
                      0,
                      1,
                      0,
                      0,
                      0,
                      0,
                      0,
                      0,
                      0,
                      0,
                      0,
                      0,
                      0,
                      0,
                      0,
                      0,
                      0,
                      0,
                      1,
                      0,
                      0,
                      0,
                      0,
                      0,
                      0,
                      0,
                      0,
                      0,
                      0,
                      0,
                      0,
                      0,
                      0,
                      0,
                      1,
                      0,
                      0,
                      0,
                      0,
                      0,
                      0,
                      0,
                      0,
                      1,
                      0,
                      0,
                      1,
                      1,
                      0,
                      0,
                      0,
                      0,
                      0,
                      0,
                      0,
                      0,
                      0,
                      0,
                      0,
                      0,
                      0,
                      0,
                      0,
                      0,
                      0,
                      0,
                      0,
                      0,
                      0,
                      0,
                      0,
                      0,
                      0,
                      0,
                      1,
                      0,
                      0,
                      0,
                      0,
                      0,
                      0,
                      0,
                      0,
                      0,
                      0,
                      0,
                      0,
                      0,
                      0,
                      0,
                      0,
                      0,
                      0,
                      0,
                      0,
                      0,
                      0,
                      0,
                      0,
                      0,
                      0,
                      0,
                      0,
                      0,
                      0,
                      0,
                      0,
                      0,
                      0,
                      0,
                      1,
                      0,
                      0,
                      0,
                      0,
                      1,
                      0,
                      0,
                      1,
                      0,
                      0,
                      0,
                      0,
                      0,
                      0,
                      0,
                      0,
                      0,
                      0,
                      1,
                      0,
                      0,
                      0,
                      0,
                      0,
                      0,
                      0,
                      0,
                      0,
                      0,
                      0,
                      0,
                      0,
                      0,
                      0,
                      0,
                      0,
                      0,
                      0,
                      0,
                      0,
                      0,
                      0,
                      0,
                      0,
                      0,
                      0,
                      0,
                      0,
                      0,
                      0,
                      1,
                      0,
                      0,
                      0,
                      0,
                      0,
                      0,
                      0,
                      1,
                      0,
                      0,
                      0,
                      0,
                      0,
                      0,
                      0,
                      0,
                      0,
                      0,
                      1,
                      0,
                      0,
                      0,
                      0,
                      0,
                      0,
                      0,
                      0,
                      0,
                      0,
                      0,
                      0,
                      0,
                      1,
                      0,
                      1,
                      0,
                      0,
                      0,
                      1,
                      0,
                      0,
                      0,
                      0,
                      0,
                      0,
                      0,
                      0,
                      0,
                      0,
                      0,
                      1,
                      0,
                      0,
                      0,
                      0,
                      0,
                      0,
                      0,
                      0,
                      0,
                      0,
                      0,
                      0,
                      0,
                      0,
                      0,
                      0,
                      0,
                      1,
                      0,
                      0,
                      0,
                      0,
                      0,
                      0,
                      0,
                      0,
                      0,
                      0,
                      0,
                      0,
                      0,
                      0,
                      0,
                      0,
                      0,
                      0,
                      0,
                      0,
                      1,
                      0,
                      0,
                      0,
                      0,
                      0,
                      0,
                      0,
                      0,
                      0,
                      0,
                      0,
                      0,
                      0,
                      0,
                      0,
                      0,
                      0,
                      0,
                      0,
                      0,
                      0,
                      0,
                      0,
                      0,
                      0,
                      1,
                      0,
                      0,
                      0,
                      0,
                      0,
                      0,
                      0,
                      0,
                      0,
                      0,
                      0,
                      0,
                      0,
                      0,
                      0,
                      0,
                      0,
                      0,
                      0,
                      0,
                      0,
                      0,
                      0,
                      0,
                      1,
                      0,
                      0,
                      0,
                      1,
                      0,
                      0,
                      0,
                      0,
                      0,
                      0,
                      0,
                      0,
                      0,
                      0,
                      0,
                      0,
                      1,
                      0,
                      0,
                      0,
                      0,
                      0,
                      0,
                      0,
                      0,
                      0,
                      0,
                      0,
                      1,
                      0,
                      0,
                      0,
                      0,
                      0,
                      0,
                      0,
                      0,
                      0,
                      0,
                      0,
                      0,
                      1,
                      0,
                      0,
                      0,
                      0,
                      0,
                      0,
                      0,
                      0,
                      0,
                      0,
                      0,
                      0,
                      0,
                      0,
                      0,
                      1,
                      0,
                      0,
                      0,
                      0,
                      0,
                      0,
                      0,
                      0,
                      0,
                      0,
                      0,
                      0,
                      0,
                      0,
                      0,
                      0,
                      0,
                      0,
                      0,
                      0,
                      0,
                      0,
                      0,
                      0,
                      0,
                      0,
                      0,
                      0,
                      0,
                      0,
                      0,
                      0,
                      0,
                      0,
                      0,
                      0,
                      0,
                      0,
                      0,
                      0,
                      0,
                      0,
                      0,
                      0,
                      0,
                      0,
                      1,
                      0,
                      0,
                      0,
                      0,
                      0,
                      0,
                      0,
                      0,
                      0,
                      0,
                      0,
                      0,
                      0,
                      0,
                      0,
                      0,
                      0,
                      0,
                      0,
                      0,
                      0,
                      0,
                      0,
                      0,
                      0,
                      0,
                      0,
                      0,
                      0,
                      0,
                      0,
                      0,
                      0,
                      0,
                      0,
                      0,
                      0,
                      0,
                      0,
                      0,
                      0,
                      0,
                      0,
                      0,
                      0,
                      0,
                      0,
                      0,
                      0,
                      0,
                      0,
                      0,
                      0,
                      0,
                      0,
                      0,
                      0,
                      0,
                      0,
                      0,
                      0,
                      0,
                      0,
                      0,
                      0,
                      0,
                      0,
                      0,
                      0,
                      0,
                      0,
                      0,
                      0,
                      0,
                      0,
                      1,
                      0,
                      0,
                      0,
                      0,
                      0,
                      0,
                      0,
                      0,
                      0,
                      0,
                      0,
                      0,
                      0,
                      0,
                      0,
                      0,
                      0,
                      0,
                      0,
                      0,
                      0,
                      0,
                      0,
                      0,
                      1,
                      0,
                      0,
                      0,
                      0,
                      1,
                      0,
                      0,
                      0,
                      0,
                      0,
                      0,
                      0,
                      0,
                      0,
                      0,
                      0,
                      0,
                      0,
                      0,
                      0,
                      0,
                      0,
                      0,
                      0,
                      1,
                      0,
                      0,
                      0,
                      0,
                      0,
                      0,
                      0,
                      0,
                      0,
                      0,
                      0,
                      0,
                      0,
                      0,
                      0,
                      0,
                      0,
                      0,
                      0,
                      0,
                      0,
                      0,
                      0,
                      0,
                      0,
                      1,
                      0,
                      0,
                      0,
                      0,
                      0,
                      0,
                      0,
                      0,
                      0,
                      0,
                      0,
                      0,
                      0,
                      0,
                      0,
                      0,
                      0,
                      0,
                      0,
                      0,
                      0,
                      0,
                      0,
                      0,
                      0,
                      0,
                      0,
                      0,
                      0,
                      0,
                      0,
                      0,
                      0,
                      0,
                      0,
                      0,
                      0,
                      0,
                      0,
                      0,
                      0,
                      0,
                      1,
                      0,
                      0,
                      0,
                      0,
                      0,
                      0,
                      0,
                      0,
                      0,
                      0,
                      0,
                      0,
                      0,
                      0,
                      0,
                      0,
                      0,
                      0,
                      0,
                      0,
                      0,
                      0,
                      0,
                      0,
                      0,
                      0,
                      0,
                      0,
                      0,
                      1,
                      0,
                      0
                    ],
                    "coloraxis": "coloraxis",
                    "opacity": 0.7,
                    "symbol": "circle"
                  },
                  "mode": "markers",
                  "name": "",
                  "scene": "scene",
                  "showlegend": false,
                  "x": [
                    12.405544,
                    17.00232,
                    -9.4577,
                    7.860222,
                    11.647634,
                    -9.424868,
                    10.79904,
                    -12.707265,
                    5.7028537,
                    -8.193089,
                    -8.27224,
                    13.601774,
                    -9.179614,
                    12.402096,
                    13.24843,
                    5.465972,
                    -5.285955,
                    -8.0504875,
                    -5.170829,
                    -5.409106,
                    14.814348,
                    -5.095002,
                    10.430947,
                    -11.613417,
                    -7.054168,
                    -9.910041,
                    -8.017705,
                    2.2015204,
                    -9.891732,
                    -6.194162,
                    8.918188,
                    -7.6254883,
                    12.999537,
                    0.14353989,
                    -11.562792,
                    -7.2294126,
                    7.4828005,
                    -0.9289826,
                    8.483166,
                    -9.948295,
                    6.7736998,
                    -13.185132,
                    -6.671833,
                    -6.185093,
                    -6.9025545,
                    -6.1836543,
                    12.777952,
                    -6.396874,
                    -8.086282,
                    4.8368387,
                    -9.052625,
                    5.573467,
                    15.429967,
                    -8.061742,
                    -6.0302334,
                    -10.866658,
                    -10.141442,
                    -7.7797227,
                    13.289372,
                    -12.354296,
                    10.16743,
                    -9.342004,
                    7.961724,
                    -5.141053,
                    -8.424754,
                    3.8393397,
                    -8.069402,
                    6.445568,
                    -10.548503,
                    5.8814425,
                    -8.366238,
                    -7.0579443,
                    -8.829703,
                    -9.159359,
                    10.850337,
                    -5.0864253,
                    -10.342645,
                    -5.929369,
                    -11.07298,
                    -9.619025,
                    14.361315,
                    11.05375,
                    13.310839,
                    -11.587003,
                    -8.190961,
                    -11.142418,
                    10.424804,
                    -7.877763,
                    10.475748,
                    8.77419,
                    -5.054484,
                    15.3155,
                    -9.79687,
                    12.891007,
                    -10.411718,
                    2.8950708,
                    11.628555,
                    -8.519347,
                    -0.77792656,
                    4.925029,
                    10.024327,
                    9.72812,
                    -12.184248,
                    -10.962902,
                    11.930215,
                    -6.849569,
                    -5.4873567,
                    -7.226736,
                    5.921172,
                    -9.823416,
                    -9.220261,
                    -7.8039374,
                    8.6758585,
                    -8.920612,
                    -12.149068,
                    -9.1313925,
                    10.492057,
                    7.8309927,
                    5.5597444,
                    10.668881,
                    -4.995196,
                    16.15998,
                    -5.2943926,
                    -6.7018523,
                    -8.913926,
                    -4.9750953,
                    -10.099706,
                    3.212895,
                    -9.528612,
                    -8.509946,
                    -9.8379965,
                    -4.285764,
                    -13.330914,
                    18.054846,
                    2.168721,
                    15.329509,
                    15.967328,
                    -9.689001,
                    -6.603479,
                    14.243216,
                    -8.335976,
                    -5.9613194,
                    -11.083768,
                    -5.308493,
                    -8.116453,
                    -7.6972094,
                    -7.1319838,
                    -6.0902905,
                    -11.906686,
                    5.821612,
                    -11.014787,
                    -6.9837756,
                    -4.135772,
                    -9.430916,
                    10.765653,
                    -5.2400904,
                    8.053914,
                    9.986381,
                    -9.861148,
                    -10.567751,
                    11.64498,
                    -5.400029,
                    -7.3113217,
                    -9.089192,
                    -9.481486,
                    11.13607,
                    -7.995365,
                    -11.813121,
                    16.044514,
                    4.7390337,
                    -12.071057,
                    1.7783463,
                    10.144706,
                    8.91,
                    16.063196,
                    -11.175617,
                    -8.884569,
                    4.2176456,
                    -9.9494505,
                    3.7887745,
                    12.80589,
                    -7.619498,
                    6.301235,
                    3.4893048,
                    4.4675145,
                    -4.011189,
                    17.348251,
                    17.740099,
                    -7.2584877,
                    15.43289,
                    -9.828446,
                    -10.00944,
                    5.5520964,
                    -9.497868,
                    10.279258,
                    -7.063395,
                    -10.885142,
                    -7.3836884,
                    -10.413003,
                    14.118159,
                    1.6190386,
                    8.046657,
                    -7.9751806,
                    13.844499,
                    8.467468,
                    2.8027678,
                    11.793484,
                    -13.409724,
                    -12.115753,
                    3.0703597,
                    -7.0546145,
                    7.5643563,
                    -9.429932,
                    -7.625736,
                    8.2985735,
                    -6.587158,
                    9.069485,
                    7.19728,
                    8.9451885,
                    -8.120202,
                    -7.263151,
                    7.197763,
                    -5.1167893,
                    0.22044584,
                    -9.582572,
                    16.31008,
                    4.346888,
                    -8.893048,
                    17.884966,
                    12.073984,
                    5.619428,
                    7.4643116,
                    9.394877,
                    10.436004,
                    -5.783118,
                    14.857984,
                    -10.090896,
                    11.560305,
                    19.557247,
                    4.0469236,
                    4.4131913,
                    -10.67706,
                    8.039548,
                    -6.6186843,
                    -11.464495,
                    -9.411474,
                    2.4322636,
                    8.803165,
                    -6.9975705,
                    -11.641588,
                    11.04112,
                    -9.729075,
                    10.387595,
                    9.003031,
                    -10.244158,
                    -11.38827,
                    0.72878706,
                    -11.299493,
                    -7.5938473,
                    -9.532705,
                    -11.711533,
                    0.57039016,
                    13.441918,
                    -8.847983,
                    -7.8304706,
                    -9.351108,
                    -10.204003,
                    -5.7228107,
                    -13.498721,
                    -5.9478683,
                    13.336927,
                    -4.1572313,
                    13.248899,
                    5.7504787,
                    -10.492368,
                    12.270016,
                    10.924269,
                    11.108444,
                    13.084038,
                    -6.7885437,
                    -6.9124045,
                    -5.7759643,
                    -5.853007,
                    -5.683555,
                    15.765871,
                    8.905011,
                    2.6651814,
                    13.032577,
                    12.319885,
                    -11.623236,
                    10.967493,
                    -11.039578,
                    -6.5698576,
                    8.636865,
                    16.065657,
                    10.521567,
                    3.9857762,
                    -9.079154,
                    18.055767,
                    -5.7802887,
                    10.456942,
                    -7.5677423,
                    -10.141111,
                    10.525485,
                    1.8953999,
                    12.460491,
                    6.616312,
                    16.223131,
                    0.79093164,
                    -6.514541,
                    4.987365,
                    3.94213,
                    -5.1531997,
                    -4.436701,
                    -12.110819,
                    -7.82941,
                    14.003146,
                    12.754633,
                    7.6679544,
                    7.6058593,
                    3.298597,
                    -10.643725,
                    15.564564,
                    -7.094181,
                    14.200204,
                    16.05718,
                    0.7574193,
                    -11.748228,
                    1.6586646,
                    14.746256,
                    -7.165515,
                    -6.848519,
                    11.419877,
                    -8.249143,
                    8.7213745,
                    -7.3984985,
                    -9.345821,
                    6.1703973,
                    -7.745871,
                    8.886266,
                    -7.413912,
                    4.912703,
                    14.05233,
                    6.8801103,
                    -9.065131,
                    7.9965606,
                    -5.3359222,
                    13.188582,
                    -10.782219,
                    -9.309203,
                    -7.8079824,
                    18.815546,
                    -12.611453,
                    -5.789035,
                    7.6171846,
                    -5.4366674,
                    10.629101,
                    13.730992,
                    0.047193985,
                    8.565806,
                    -9.207469,
                    -8.140364,
                    -10.4129,
                    -9.760423,
                    -7.1109324,
                    15.1873665,
                    17.622173,
                    -8.687248,
                    8.9347105,
                    -10.356552,
                    -9.529815,
                    12.694032,
                    -6.079607,
                    12.0532875,
                    -9.364093,
                    -5.2155104,
                    18.543577,
                    8.963095,
                    -6.2173457,
                    9.891128,
                    -6.6186028,
                    6.1760187,
                    -5.3123174,
                    5.276336,
                    4.226381,
                    11.550027,
                    12.250462,
                    5.4994636,
                    -8.830021,
                    6.2967205,
                    -10.040146,
                    8.464433,
                    13.817253,
                    9.963777,
                    -6.9562426,
                    -9.245924,
                    14.667211,
                    -5.3966136,
                    5.7299104,
                    -5.5887165,
                    -10.060315,
                    8.5679455,
                    -9.326679,
                    5.5557456,
                    -7.042529,
                    -8.012975,
                    6.633412,
                    6.4096527,
                    -13.396508,
                    -8.756856,
                    -9.702633,
                    11.686691,
                    16.737001,
                    -11.509828,
                    12.371317,
                    7.607585,
                    2.845885,
                    8.470887,
                    2.4457662,
                    -8.663107,
                    8.037655,
                    -8.6304455,
                    6.8382792,
                    13.7317,
                    -11.577821,
                    5.815648,
                    13.705556,
                    -9.381058,
                    -10.896557,
                    -6.999666,
                    -6.457194,
                    -9.950287,
                    -6.8377295,
                    10.560836,
                    -6.0822897,
                    -9.837034,
                    -9.899046,
                    0.14290442,
                    4.6481633,
                    -11.646004,
                    9.653246,
                    -9.553837,
                    -6.6700487,
                    8.094618,
                    -7.389588,
                    6.5587044,
                    8.062183,
                    -10.942574,
                    10.005581,
                    -6.075991,
                    3.955209,
                    13.08686,
                    -8.442181,
                    9.012206,
                    -12.014282,
                    -5.1171794,
                    5.6983337,
                    6.174805,
                    -8.144529,
                    -10.717707,
                    -6.1005974,
                    -9.140538,
                    -8.037143,
                    14.113516,
                    -9.575648,
                    -10.144185,
                    16.264606,
                    -12.850293,
                    -8.273059,
                    -6.2300744,
                    17.59805,
                    -7.03709,
                    -6.8165026,
                    4.8821945,
                    -9.747853,
                    15.021071,
                    -7.6740065,
                    4.679504,
                    -11.335886,
                    -7.795484,
                    -0.6890349,
                    -8.910616,
                    -5.8865004,
                    11.608801,
                    -4.5835986,
                    -5.779259,
                    -5.8466387,
                    6.681199,
                    7.2855873,
                    -7.286237,
                    -5.519916,
                    -9.142016,
                    -7.2522,
                    10.34891,
                    -5.7855206,
                    13.860289,
                    13.367073,
                    3.2435424,
                    9.293921,
                    -5.7621226,
                    18.093786,
                    3.4813616,
                    10.779285,
                    -11.07643,
                    -9.034186,
                    9.025375,
                    -4.86636,
                    -11.692084,
                    -7.1397276,
                    -11.699434,
                    -10.764272,
                    12.297319,
                    13.320907,
                    -7.95986,
                    2.7101343,
                    -6.5833893,
                    1.2227896,
                    3.2318141,
                    13.718197,
                    -7.6491237,
                    -6.5205836,
                    7.305079,
                    -8.487183,
                    -9.457999,
                    8.485567,
                    -10.065091,
                    2.8113852,
                    5.299552,
                    18.07746,
                    -8.758022,
                    -8.666259,
                    12.598872,
                    9.461649,
                    18.58344,
                    -6.9269648,
                    19.504383,
                    -8.419016,
                    -4.8357453,
                    -7.949554,
                    -7.41198,
                    8.838331,
                    7.4184804,
                    13.120402,
                    16.277243,
                    -12.348348,
                    -7.4936314,
                    12.722167,
                    -7.9952993,
                    9.176374,
                    -11.411795,
                    -6.9445443,
                    12.981406,
                    -9.169244,
                    8.429563,
                    7.6209073,
                    15.495992,
                    9.844327,
                    -7.0599146,
                    -5.479192,
                    -12.030977,
                    9.829063,
                    0.8948391,
                    19.374655,
                    -10.290206,
                    -9.92311,
                    -9.716744,
                    -6.6167126,
                    16.22956,
                    14.395481,
                    11.3326235,
                    -9.146146,
                    -6.4063044,
                    15.574711,
                    8.034502,
                    5.7620773,
                    -7.328768,
                    -7.7907753,
                    8.069202,
                    -8.976367,
                    -11.425449,
                    16.354666,
                    -10.333213,
                    13.677826,
                    11.034429,
                    -8.803648,
                    12.672108,
                    -9.466434,
                    -11.744379,
                    8.482117,
                    -10.892847,
                    18.143135,
                    -8.135225,
                    5.880813,
                    -5.8483434,
                    -7.5569725,
                    19.054802,
                    10.595972,
                    7.996174,
                    -7.633161,
                    -10.391268,
                    13.876874,
                    -8.27272,
                    -8.947192,
                    -9.632743,
                    -11.129567,
                    -7.0214524,
                    -8.63867,
                    6.801334,
                    5.6311784,
                    9.491388,
                    14.400118,
                    -6.813281,
                    10.564777,
                    14.2201805,
                    -6.403861,
                    -9.698237,
                    -5.0504904,
                    11.210128,
                    -7.8119354,
                    -6.027704,
                    -8.2115,
                    -8.4136915,
                    -12.606983,
                    -8.111172,
                    11.857624,
                    -8.059466,
                    2.6410506,
                    -8.557541,
                    8.60074,
                    9.496982,
                    -6.451737,
                    15.593978,
                    6.8534646,
                    11.166384,
                    11.219894,
                    -10.562917,
                    -7.983025,
                    1.2044134,
                    -10.212767,
                    5.1867867,
                    -9.61277,
                    -12.545302,
                    -11.616493,
                    6.2426944,
                    -9.591147,
                    10.452243,
                    -6.7880116,
                    -8.063837,
                    5.43261,
                    7.700351,
                    15.691335,
                    13.5039215,
                    10.05614,
                    11.173858,
                    14.052411,
                    15.246596,
                    9.146739,
                    14.125615,
                    15.309495,
                    -7.948437,
                    10.400709,
                    15.770398,
                    7.3941617,
                    7.5114303,
                    0.7129443,
                    2.465447,
                    15.306104,
                    -5.759285,
                    15.998444,
                    15.358233,
                    -10.942623,
                    4.340237,
                    -7.6302986,
                    6.8929176,
                    -6.869252,
                    -8.912048,
                    -8.039763,
                    -9.273907,
                    -10.336042,
                    -9.64265,
                    -10.834739,
                    -9.85476,
                    3.6805727,
                    -9.640677,
                    10.269284,
                    9.558705,
                    -9.84011,
                    2.087139,
                    -6.5259085,
                    15.5692005,
                    -9.901897,
                    12.032694,
                    13.54458,
                    -6.1693087,
                    17.234562,
                    14.464854,
                    4.8753414,
                    5.6436267,
                    11.678632,
                    5.15247,
                    12.937957,
                    6.0252624,
                    -11.561527,
                    -13.369378,
                    -9.311839,
                    -6.726021,
                    10.540728,
                    7.1025887,
                    -7.6658635,
                    -7.125165,
                    16.621634,
                    -6.100275,
                    -6.912882,
                    12.893916,
                    10.524595,
                    -7.547329,
                    11.703286,
                    -7.205034,
                    6.7407923,
                    9.735423,
                    12.868743,
                    16.253614,
                    11.0206375,
                    -11.10934,
                    -7.3104234,
                    14.1506,
                    13.6690235,
                    14.536053,
                    9.574599,
                    15.203412,
                    -6.0746136,
                    -6.888265,
                    -6.457775,
                    -10.45785,
                    -9.820985,
                    -7.7686167,
                    9.076009,
                    -12.972924,
                    -8.164542,
                    9.265688,
                    4.330135,
                    -6.0255055,
                    5.651233,
                    15.114162,
                    -10.180464,
                    14.9567795,
                    6.1032076,
                    16.738695,
                    -7.907892,
                    -6.302106,
                    -4.478082,
                    1.4214733,
                    -10.695652,
                    12.388995,
                    -8.752461,
                    -7.9983773,
                    16.157679,
                    -8.948141,
                    9.405702,
                    9.380247,
                    14.538264,
                    -8.801663,
                    -5.132907,
                    -7.6961226,
                    9.533264,
                    -6.181524,
                    5.920856,
                    5.947959,
                    -10.459311,
                    6.6262703,
                    1.1185259,
                    -6.8054414,
                    18.766447,
                    -6.752675,
                    -7.4119687,
                    4.199465,
                    5.687212,
                    -10.484384,
                    2.175518,
                    11.520695,
                    -5.5610137,
                    1.1551178,
                    -7.3974442,
                    -5.9119263,
                    13.238409,
                    -11.405784,
                    8.212267,
                    -6.949784,
                    -7.7856474,
                    -7.533123,
                    -9.900101,
                    10.325645,
                    -13.434968,
                    8.863002,
                    -10.200796,
                    9.643477,
                    2.1415715,
                    18.583216,
                    -8.121552,
                    -5.880805,
                    -5.298159,
                    -6.9342012,
                    -8.664906,
                    -7.352889,
                    -7.1342816,
                    5.413052,
                    -7.0765014,
                    -9.287766,
                    14.680272,
                    -11.563498,
                    -10.648008,
                    -11.207898,
                    4.6263676,
                    -6.4837546,
                    -6.917836,
                    -11.692962,
                    9.481635,
                    15.620184,
                    6.9743195,
                    -4.6907473,
                    -10.412596,
                    -7.1251073,
                    -8.927173,
                    13.679474,
                    2.1195617,
                    9.705052,
                    -6.149444,
                    5.2458744,
                    9.661076,
                    6.745973,
                    -6.833133,
                    14.626982,
                    -8.803942,
                    -9.307932,
                    -9.431312,
                    -8.690343,
                    8.922597,
                    3.2546241,
                    15.537145,
                    0.073431365,
                    -8.80221,
                    2.7150486,
                    9.011837,
                    8.841384,
                    5.512425,
                    0.0041010114,
                    -13.28693,
                    -11.89791,
                    -4.9248195,
                    2.3036551,
                    4.4449415,
                    -7.236181,
                    14.966724,
                    8.726235,
                    5.5568123,
                    -9.993013,
                    -6.6527314,
                    -11.798031,
                    14.182989,
                    -9.653422,
                    19.62073,
                    -8.816567,
                    4.9200296,
                    -8.680594,
                    -7.297014,
                    5.4257956,
                    4.025021,
                    8.169794,
                    11.809064,
                    -9.738012,
                    -4.794366,
                    3.139669,
                    -9.702012,
                    -7.0211754,
                    4.318992,
                    -9.80638,
                    -8.321111,
                    15.050387,
                    -7.187992,
                    6.4815016,
                    8.89389,
                    0.66990674,
                    8.034553,
                    -6.8060474,
                    7.153888,
                    15.461767,
                    -6.929278,
                    4.236632,
                    -11.668851,
                    -5.661666,
                    -8.030287,
                    8.122003,
                    -11.046545,
                    0.011112974,
                    1.5761044,
                    6.4501233,
                    -8.199632,
                    12.430935,
                    -4.975733,
                    0.9611272,
                    15.62949,
                    -6.9754457,
                    -9.631258,
                    -5.4265904,
                    13.305132,
                    -4.973933,
                    -6.4708867,
                    6.12973,
                    -11.707321,
                    8.177513,
                    15.084885,
                    14.027804,
                    19.749655,
                    13.243934,
                    5.2986526,
                    11.6958685,
                    9.761188,
                    -9.940803,
                    -6.5552764,
                    10.590886,
                    -7.246628,
                    -8.4811,
                    -7.111043,
                    18.701145,
                    -7.1729236,
                    -6.2025156,
                    10.923649,
                    -7.587795,
                    18.43418,
                    -12.844181,
                    -10.890561,
                    6.9888163,
                    -10.304405,
                    -6.107769,
                    -0.07816859,
                    -12.419909,
                    6.7770243,
                    14.763256,
                    12.528272,
                    9.089277,
                    -6.789158,
                    -10.750214,
                    -9.619373,
                    -10.123304,
                    -6.2379107,
                    3.8952534,
                    14.505585,
                    -9.182132,
                    -8.218044,
                    18.221567,
                    5.4739933,
                    11.806913,
                    -6.710645,
                    -5.7709246,
                    12.331492,
                    -9.910683,
                    -0.06205308,
                    -6.575515,
                    -6.6677966,
                    8.170176,
                    9.944444,
                    -7.4041924,
                    -5.7199883,
                    -6.120954,
                    -10.898231,
                    14.892075,
                    -8.959794,
                    -11.931711,
                    16.938427,
                    -6.1237946,
                    -7.4384813,
                    -8.3866205,
                    -11.053513,
                    14.788344,
                    4.742802,
                    -9.4013195,
                    -11.840524,
                    0.26305774,
                    -8.448749,
                    -5.086125,
                    -8.3590765,
                    -5.333179,
                    -6.091621,
                    -10.643328,
                    -8.9464245,
                    12.601197,
                    13.303983,
                    7.1281595,
                    5.512255,
                    5.024827,
                    6.8956304,
                    -8.756542,
                    -10.469595,
                    -6.37388,
                    8.422024,
                    -8.676293,
                    -5.198156,
                    9.249107,
                    5.150414,
                    11.360227
                  ],
                  "y": [
                    -0.7221048,
                    -0.3323087,
                    1.6634182,
                    4.492992,
                    -2.6960034,
                    -6.503089,
                    -0.31897226,
                    -6.500108,
                    4.8929267,
                    0.51691556,
                    -4.2590938,
                    3.4514172,
                    -5.9328594,
                    2.0726597,
                    3.9215326,
                    5.935935,
                    3.6321154,
                    -9.426895,
                    0.58325183,
                    -8.14544,
                    3.2939758,
                    -1.8603452,
                    -0.5590047,
                    3.1094341,
                    -3.5521748,
                    3.6573575,
                    -0.015970161,
                    3.147887,
                    5.4922276,
                    2.165096,
                    -0.057570003,
                    -6.1787715,
                    0.62991816,
                    1.478852,
                    -4.3786345,
                    -3.6018674,
                    -0.6364836,
                    2.9619243,
                    4.2548156,
                    -2.4640253,
                    5.083338,
                    -4.645055,
                    4.6299567,
                    -0.50591826,
                    1.9330131,
                    -6.9072843,
                    0.47122282,
                    -0.1916372,
                    0.13774487,
                    2.2060902,
                    -2.9178045,
                    3.7661493,
                    3.658982,
                    7.6335936,
                    -0.38017175,
                    2.3352513,
                    5.648398,
                    -9.360757,
                    0.2119318,
                    -2.718304,
                    3.341514,
                    4.1911817,
                    4.6195173,
                    -2.979103,
                    -8.129802,
                    3.5235374,
                    -1.8028421,
                    4.9639225,
                    -6.601218,
                    1.3298007,
                    3.7609134,
                    5.5184207,
                    5.3240495,
                    -6.343086,
                    -0.47626618,
                    -3.0902693,
                    -1.2587374,
                    -4.8731704,
                    -4.0693297,
                    -3.5506914,
                    -0.35354385,
                    0.87550616,
                    2.3361676,
                    4.6753707,
                    -9.778863,
                    -6.2253876,
                    3.5376806,
                    5.1958256,
                    4.125789,
                    0.7708657,
                    -1.1708118,
                    2.2652235,
                    3.26331,
                    0.6381272,
                    5.1166377,
                    3.024063,
                    -0.83727866,
                    -2.3078156,
                    3.3445897,
                    6.4239874,
                    0.26157677,
                    4.4212646,
                    -2.4555213,
                    0.8181961,
                    5.1926003,
                    -4.3469105,
                    -3.732997,
                    4.4573355,
                    3.9897246,
                    1.0077697,
                    -1.5040959,
                    2.3262224,
                    3.7962406,
                    -4.6816587,
                    -1.6317872,
                    -1.9332067,
                    1.4164518,
                    1.028616,
                    1.4590956,
                    3.2099793,
                    3.373628,
                    3.0165858,
                    -2.9873376,
                    -1.9549191,
                    -6.9034643,
                    -0.6562983,
                    -6.106643,
                    3.5013294,
                    -9.191607,
                    -3.1943853,
                    -2.8926544,
                    -0.8527682,
                    -6.941467,
                    0.5072729,
                    3.5904284,
                    -0.39737618,
                    -0.28411803,
                    -9.327108,
                    -6.312824,
                    -1.2449949,
                    -8.480499,
                    -4.0651765,
                    1.517433,
                    0.5063729,
                    -2.7516751,
                    -0.0869475,
                    7.9839716,
                    1.645117,
                    -3.125113,
                    -1.003995,
                    -3.741161,
                    -3.8336616,
                    -0.49847597,
                    -8.037419,
                    -0.40348694,
                    3.0495412,
                    2.0390337,
                    0.0010380563,
                    1.1473413,
                    -0.018507013,
                    3.9309099,
                    -0.47494587,
                    -7.018508,
                    -4.976651,
                    -3.214445,
                    2.219051,
                    7.8919797,
                    -2.4181595,
                    0.32342064,
                    0.6815124,
                    -2.3484898,
                    4.3259254,
                    3.1380177,
                    0.49774912,
                    1.0915954,
                    4.796776,
                    0.9048592,
                    2.449889,
                    -0.443274,
                    2.5725453,
                    4.673389,
                    -3.758015,
                    -0.5042701,
                    3.3871236,
                    4.7814374,
                    -1.9399428,
                    -0.06557414,
                    1.2590882,
                    6.7629395,
                    3.6439576,
                    2.5044,
                    -1.5446523,
                    4.110543,
                    -9.159903,
                    -1.90678,
                    -0.74543285,
                    -3.2150657,
                    1.4518166,
                    -3.2614295,
                    -0.87374336,
                    4.4122324,
                    1.6761655,
                    -9.21507,
                    0.14972238,
                    3.625706,
                    2.5619268,
                    -2.592913,
                    -5.261185,
                    -6.51123,
                    1.7488934,
                    -4.7395396,
                    4.2201824,
                    -8.342923,
                    -7.098379,
                    2.0274103,
                    -7.998151,
                    4.1143384,
                    4.8931365,
                    2.5549903,
                    -1.0213172,
                    -1.9347354,
                    3.3398643,
                    0.53038484,
                    3.08138,
                    -7.882675,
                    -0.47161195,
                    5.7619348,
                    1.3351529,
                    2.468599,
                    -0.86371803,
                    0.6889675,
                    4.9183316,
                    0.06472762,
                    1.0481509,
                    -1.0618675,
                    0.54666376,
                    -5.270045,
                    2.7022276,
                    1.6505663,
                    3.010418,
                    3.2569144,
                    1.4353495,
                    -0.554891,
                    -4.8265796,
                    -8.029527,
                    -7.742684,
                    1.5038006,
                    -0.16650763,
                    -2.2755973,
                    -7.3965874,
                    0.36170384,
                    2.4633994,
                    -1.3671927,
                    4.6490903,
                    4.2974243,
                    -0.14186043,
                    2.1286364,
                    -4.103371,
                    -0.3541582,
                    -6.475204,
                    -6.4681497,
                    4.019826,
                    0.6927432,
                    1.2621223,
                    0.13002923,
                    -2.1222208,
                    5.0646925,
                    4.3361683,
                    -5.311637,
                    -6.5767694,
                    -0.20207329,
                    -1.5150162,
                    -1.7664423,
                    4.311044,
                    -1.1909976,
                    0.22309537,
                    4.5092483,
                    -0.30506238,
                    4.8116264,
                    2.7901762,
                    -7.987585,
                    -3.4598773,
                    0.92636126,
                    -7.158739,
                    4.4289064,
                    6.0519204,
                    1.7665056,
                    2.9756727,
                    3.5230541,
                    -4.858975,
                    1.5423403,
                    -1.6082293,
                    -5.212379,
                    2.011895,
                    3.0638332,
                    0.09365943,
                    1.9103392,
                    4.517962,
                    0.484833,
                    -2.7588634,
                    3.0493734,
                    5.953628,
                    1.465166,
                    -1.195542,
                    2.9521217,
                    -0.5477562,
                    5.4045687,
                    2.1214333,
                    2.9842813,
                    4.97108,
                    3.5164056,
                    2.9433281,
                    -0.5954614,
                    2.458443,
                    -7.6889176,
                    6.0266743,
                    0.19503999,
                    -0.8344013,
                    3.7650557,
                    1.0937347,
                    2.3779352,
                    5.2946734,
                    4.4377646,
                    -8.370934,
                    2.5013785,
                    0.8112036,
                    2.2496793,
                    -6.649264,
                    2.4270537,
                    0.67517567,
                    -0.9965491,
                    -3.3995154,
                    -0.2579895,
                    -10.074665,
                    -0.57000965,
                    -8.149049,
                    4.5376887,
                    4.7152424,
                    3.7688491,
                    3.0931504,
                    -0.72082746,
                    0.9168885,
                    -2.8797817,
                    0.5837437,
                    -7.5589986,
                    1.9988077,
                    0.23448974,
                    -2.7340894,
                    0.74132955,
                    2.8617797,
                    -8.697341,
                    1.1102083,
                    -2.2164233,
                    3.8357234,
                    3.700814,
                    5.224672,
                    0.96622825,
                    -2.3519192,
                    1.5839716,
                    4.1849194,
                    -6.8758717,
                    -2.7746975,
                    5.6923704,
                    -3.270772,
                    4.0805264,
                    2.3434765,
                    2.804821,
                    -5.49761,
                    0.8457139,
                    3.74184,
                    -8.388739,
                    -1.4104682,
                    5.983104,
                    4.990893,
                    -9.054332,
                    -8.308748,
                    0.7903267,
                    3.714285,
                    -3.8843572,
                    -0.48806083,
                    -7.9006395,
                    5.5612493,
                    -0.22628902,
                    4.228091,
                    4.2007127,
                    -0.504603,
                    2.4457755,
                    2.325721,
                    3.8487573,
                    5.35634,
                    -7.234029,
                    4.222104,
                    4.356745,
                    1.7334292,
                    3.3013465,
                    -8.690854,
                    -0.72161436,
                    -1.8209716,
                    5.317329,
                    -3.8537853,
                    -9.684565,
                    4.285635,
                    -2.991227,
                    4.407297,
                    0.5326702,
                    -3.7877963,
                    4.9849997,
                    1.1081419,
                    -6.85439,
                    -7.322421,
                    -7.914185,
                    5.382177,
                    2.960641,
                    -6.0523043,
                    4.293598,
                    3.9121604,
                    1.7153028,
                    3.4733791,
                    4.327961,
                    -9.792017,
                    2.0444925,
                    -3.7114577,
                    2.8265219,
                    -1.983761,
                    -4.4915166,
                    2.7082868,
                    3.6150246,
                    2.5060015,
                    -0.08221359,
                    -10.0272665,
                    -6.7589035,
                    -2.3729947,
                    -7.4329224,
                    1.2475061,
                    1.7686658,
                    -6.7664013,
                    4.6082263,
                    2.977314,
                    5.4677587,
                    -9.06564,
                    3.0325336,
                    -8.619429,
                    -8.318032,
                    2.6023057,
                    -7.097134,
                    4.5569754,
                    2.0208223,
                    -2.729251,
                    -0.5227886,
                    -7.2683687,
                    1.9979656,
                    -0.7522495,
                    -3.168864,
                    5.2950344,
                    3.9139051,
                    3.2690058,
                    -1.098786,
                    1.4799016,
                    -9.204704,
                    -1.3825703,
                    0.38449073,
                    -10.027213,
                    1.5220821,
                    0.9460302,
                    -5.2450013,
                    -2.520524,
                    -0.2572897,
                    -7.88258,
                    -7.6142697,
                    -5.9358983,
                    0.29151613,
                    -8.404104,
                    -7.1378818,
                    3.3055027,
                    3.0269344,
                    0.8939839,
                    -7.352099,
                    -0.09950727,
                    1.8652902,
                    0.47015932,
                    3.4022267,
                    -7.301557,
                    1.1664492,
                    3.177525,
                    -2.2564273,
                    0.8426402,
                    -7.299508,
                    5.6524305,
                    -0.73726,
                    3.717517,
                    -6.057631,
                    -6.862692,
                    4.2588644,
                    -0.68189126,
                    -5.653463,
                    0.64899707,
                    -0.34044054,
                    3.2772627,
                    3.797296,
                    1.1739376,
                    1.1283926,
                    2.7000833,
                    2.662745,
                    -4.0904827,
                    -2.2919564,
                    3.5946033,
                    -0.010027128,
                    -4.9905515,
                    5.149325,
                    -5.681555,
                    -4.140766,
                    -1.1584202,
                    1.9484862,
                    -0.08988005,
                    3.529421,
                    -6.2138433,
                    2.5907364,
                    3.4974937,
                    4.297258,
                    -5.0020394,
                    -0.13023442,
                    3.6404903,
                    -4.643855,
                    -0.42036113,
                    5.3338842,
                    3.5214777,
                    3.1818607,
                    5.9555206,
                    0.36313352,
                    -7.472114,
                    -3.8342295,
                    0.24390087,
                    -0.43942636,
                    1.3607432,
                    -4.1586695,
                    1.4290792,
                    5.1779785,
                    2.7313526,
                    -6.2203774,
                    -6.9964485,
                    4.3352423,
                    2.0960085,
                    1.4074647,
                    -0.261245,
                    -6.2556577,
                    6.349292,
                    0.27261385,
                    8.073462,
                    2.9329965,
                    -6.058253,
                    4.8159223,
                    1.8406016,
                    -8.983313,
                    5.456546,
                    0.2811486,
                    0.6175353,
                    1.1668185,
                    4.9369307,
                    -5.8057647,
                    5.0065994,
                    2.5824215,
                    2.6751342,
                    1.3690518,
                    1.5893774,
                    2.9024582,
                    -9.435059,
                    -1.281557,
                    0.084269494,
                    2.1696754,
                    0.07610435,
                    -8.29177,
                    5.416799,
                    0.5502712,
                    1.7354392,
                    0.63479203,
                    -6.7612185,
                    -5.8484373,
                    5.3578067,
                    -4.5705104,
                    -5.2679605,
                    3.7710462,
                    -0.19592911,
                    -0.07596641,
                    3.0302067,
                    1.2168561,
                    2.020119,
                    2.470203,
                    -7.5653796,
                    4.977935,
                    0.48913303,
                    1.518113,
                    -7.458747,
                    4.7151327,
                    -0.16636093,
                    1.5200434,
                    1.0706309,
                    -1.3962872,
                    4.5454435,
                    -2.0565562,
                    1.5283055,
                    0.90138,
                    -7.98953,
                    0.86003804,
                    -5.738515,
                    -8.184588,
                    -9.920491,
                    -2.1072018,
                    3.387575,
                    3.2730289,
                    2.9659436,
                    -0.2636319,
                    -1.0324999,
                    4.558462,
                    3.0142603,
                    -3.728107,
                    -7.36187,
                    -3.3658834,
                    4.728953,
                    5.131128,
                    0.628725,
                    2.0363483,
                    3.3999422,
                    -5.7721643,
                    0.8462426,
                    -0.69284594,
                    -7.8078094,
                    2.755902,
                    7.7552633,
                    1.4327338,
                    0.4565802,
                    6.2000103,
                    -0.673574,
                    3.9043489,
                    1.0404389,
                    -0.8621759,
                    3.8946364,
                    -5.614321,
                    2.760522,
                    6.596571,
                    4.7801614,
                    -6.584942,
                    -8.24902,
                    3.274158,
                    1.7320094,
                    -5.0435715,
                    3.9032938,
                    -6.5283384,
                    7.6330233,
                    5.2670794,
                    1.5668154,
                    1.2110199,
                    0.75314355,
                    1.2053406,
                    0.25084385,
                    -2.8080144,
                    -2.592586,
                    1.6846989,
                    -1.4043257,
                    4.668767,
                    -1.1425471,
                    2.3784747,
                    -0.6156564,
                    1.4397137,
                    7.088805,
                    2.6863406,
                    1.9629765,
                    3.8956518,
                    -5.729427,
                    1.7830819,
                    2.0533714,
                    -4.090126,
                    5.697683,
                    -0.50058,
                    4.2321596,
                    -4.6040354,
                    1.8006247,
                    -8.425352,
                    -2.4880803,
                    -3.567286,
                    3.0119967,
                    4.456811,
                    -8.050436,
                    3.268551,
                    1.4710523,
                    -1.4780052,
                    2.2641134,
                    5.443007,
                    1.7433332,
                    3.1218622,
                    4.246127,
                    -2.1478913,
                    -0.46147892,
                    -2.610845,
                    -2.979827,
                    0.010371526,
                    1.5399561,
                    0.4581017,
                    3.8738344,
                    1.8653102,
                    2.482818,
                    0.51179606,
                    2.7896824,
                    -4.441068,
                    -6.870861,
                    -3.402564,
                    -1.439025,
                    -0.31041777,
                    4.4673557,
                    0.66739,
                    -2.0964131,
                    0.023527052,
                    -6.0541787,
                    -1.8432244,
                    -1.1944269,
                    -1.0197293,
                    0.7599461,
                    2.5377975,
                    -2.7641692,
                    3.2445993,
                    1.6232036,
                    -0.8727513,
                    1.3954722,
                    -1.5733057,
                    -7.0407724,
                    -8.9728155,
                    -3.7461853,
                    -0.050059225,
                    4.4480124,
                    1.0345021,
                    4.0546165,
                    3.00813,
                    -4.852957,
                    -2.0275035,
                    -9.656512,
                    1.7727964,
                    -9.151743,
                    0.5283861,
                    -2.2335455,
                    -0.8726238,
                    5.2196193,
                    3.0052955,
                    -3.7863882,
                    4.6503186,
                    0.7514051,
                    -7.5112963,
                    3.2397695,
                    3.6992586,
                    0.5469109,
                    2.715966,
                    -3.9568431,
                    1.6210657,
                    2.446221,
                    -7.7961035,
                    -0.6083981,
                    1.8042889,
                    -7.7464485,
                    2.5277245,
                    3.2724338,
                    2.0348065,
                    2.9715972,
                    2.1271105,
                    1.400155,
                    0.049670387,
                    -4.157829,
                    0.7875306,
                    5.711902,
                    0.9402704,
                    1.0149925,
                    -6.9649954,
                    2.0277803,
                    3.032545,
                    -5.7455206,
                    0.38768184,
                    -0.8645679,
                    -7.41718,
                    0.89472085,
                    2.6834521,
                    5.221056,
                    2.6153824,
                    2.7683034,
                    -4.688024,
                    2.9897466,
                    -2.2497013,
                    -4.6764793,
                    -3.107368,
                    -6.4997587,
                    3.5975947,
                    -5.007436,
                    -9.418549,
                    0.7634376,
                    2.6025434,
                    1.5382144,
                    -7.363558,
                    -0.71922725,
                    -5.7391844,
                    -1.4132082,
                    1.5449717,
                    1.0441821,
                    -6.0342536,
                    -3.5097206,
                    0.41983378,
                    -1.2999539,
                    -6.364049,
                    -7.991451,
                    -3.5265253,
                    5.209064,
                    -7.8304253,
                    -8.133595,
                    4.9089174,
                    -4.519222,
                    -6.8029394,
                    -8.12716,
                    2.3010383,
                    2.6639977,
                    -4.5325627,
                    -1.4895892,
                    1.9114695,
                    -0.21111916,
                    6.877507,
                    -1.9832152,
                    -3.5450041,
                    -5.089072,
                    -9.361834,
                    -0.18947534,
                    3.3992898,
                    4.5241694,
                    3.2830663,
                    1.8356107,
                    -1.5314212,
                    4.5051136,
                    3.2357635,
                    0.31952974,
                    -5.454394,
                    -8.545029,
                    3.0811048,
                    -8.284246,
                    -0.60888165,
                    1.9066049,
                    0.4924865,
                    1.4395382,
                    -3.9561918,
                    1.8582189,
                    1.9873033,
                    4.2363577,
                    1.4816842,
                    2.645367,
                    -5.2131305,
                    -3.103403,
                    -0.079939045,
                    3.7235346,
                    3.4442596,
                    -8.345347,
                    0.045744374,
                    3.6853735,
                    2.7893577,
                    -3.2304204,
                    -8.388791,
                    -6.251365,
                    -3.1006277,
                    5.5424094,
                    1.7168856,
                    -2.7304902,
                    3.6396456,
                    -9.105323,
                    0.9693202,
                    3.4511766,
                    3.4114678,
                    0.31900868,
                    -0.5195712,
                    3.0352292,
                    -1.8856872,
                    2.4718008,
                    -7.7669334,
                    -3.6662138,
                    3.0764217,
                    -7.8588004,
                    -4.60227,
                    4.579608,
                    4.8182387,
                    3.9378846,
                    1.7454623,
                    2.1828873,
                    5.327632,
                    -6.1194205,
                    3.0895753,
                    3.6694205,
                    2.7044618,
                    2.653385,
                    -7.76567,
                    -2.6540623,
                    6.782564,
                    2.0383978,
                    0.71944827,
                    3.200273,
                    1.6260535,
                    0.07287221,
                    -4.537991,
                    2.6908686,
                    5.3084073,
                    4.494448,
                    -0.4380264,
                    4.8622932,
                    3.8094509,
                    -1.035984,
                    -2.9418607,
                    -1.2206419,
                    4.354163,
                    3.5048258,
                    -6.5639696,
                    1.8669487,
                    4.0566306,
                    1.7383595,
                    1.7710807,
                    0.6678754,
                    3.3257532,
                    3.042586,
                    1.0550394,
                    2.684866,
                    -1.6925063,
                    -0.9938487,
                    0.077671476,
                    -4.107076,
                    -4.1936507,
                    0.7453905,
                    -4.459082,
                    -5.3124175,
                    0.83845437,
                    -6.5005703,
                    1.0042117,
                    -7.110995,
                    -2.948,
                    -0.95779413,
                    4.23311,
                    2.8333988,
                    3.7128825,
                    -6.384748,
                    -0.5283454,
                    1.1755811,
                    -0.019566247,
                    3.1392708,
                    -7.3609204,
                    -0.34923834,
                    -8.768385,
                    3.198688,
                    2.7725656,
                    2.0506525,
                    3.267927,
                    4.856646,
                    -8.92552,
                    0.9963738,
                    4.850053,
                    5.3609324,
                    1.3743821,
                    1.4103389,
                    3.2960572,
                    5.1088977,
                    4.084666,
                    -5.698108,
                    -6.9782524,
                    1.8225683,
                    -0.19909588,
                    1.9146024,
                    1.112068,
                    -6.5620008,
                    -7.403119,
                    -2.6323512,
                    -4.2773595,
                    5.302828,
                    0.7973858,
                    -8.082353,
                    -1.4924941,
                    -3.5018597,
                    0.3633843,
                    1.9785639,
                    1.4637096,
                    5.037194,
                    -0.7723058,
                    1.8771495,
                    -10.197022,
                    3.5279357,
                    2.7316053,
                    4.350466,
                    -0.09283445,
                    -1.2081617,
                    -3.9286416,
                    -0.27560776,
                    2.5477438,
                    0.48296648,
                    4.704819,
                    3.9978256,
                    0.4422544,
                    -10.086644,
                    -9.799807,
                    1.2170874,
                    3.7149239,
                    3.9361289,
                    0.18813424,
                    1.3180777,
                    3.1760197,
                    1.1600437
                  ],
                  "z": [
                    -4.6089144,
                    4.3024516,
                    1.4353546,
                    -4.390906,
                    -3.0605495,
                    1.4519849,
                    -6.382866,
                    7.851506,
                    -11.270029,
                    -1.0899907,
                    1.2402897,
                    1.2567309,
                    2.3693912,
                    2.2347562,
                    -1.4974576,
                    -8.033305,
                    3.2799542,
                    11.316103,
                    1.2102922,
                    1.5411149,
                    -2.5992465,
                    2.9127426,
                    1.0612451,
                    -1.6854612,
                    3.0312984,
                    0.7999293,
                    -4.151315,
                    -11.248048,
                    -2.3578022,
                    -0.8207897,
                    0.002425366,
                    8.526744,
                    -1.7097886,
                    -11.795988,
                    5.2332187,
                    8.263615,
                    -5.722774,
                    -10.858133,
                    -8.927376,
                    -0.98105264,
                    -7.3291264,
                    4.181131,
                    2.594943,
                    1.9275469,
                    0.34306902,
                    5.0350995,
                    3.600164,
                    -3.9784288,
                    3.4174232,
                    -2.212606,
                    3.4545238,
                    -11.4556055,
                    -0.70346874,
                    -1.3746176,
                    -3.5341282,
                    -2.3422163,
                    -2.0819077,
                    12.280014,
                    2.4107077,
                    2.6853836,
                    -5.0948734,
                    -3.2541716,
                    -8.284012,
                    4.095787,
                    9.161997,
                    -4.679454,
                    1.4203502,
                    -4.6629496,
                    2.3457274,
                    -5.0434113,
                    0.2635082,
                    0.9393462,
                    -3.264226,
                    1.1908932,
                    -6.327623,
                    3.8170938,
                    0.5485277,
                    8.092135,
                    2.426128,
                    4.555234,
                    -1.6430967,
                    -4.2331996,
                    -2.8334394,
                    0.05206487,
                    3.8913252,
                    2.6540346,
                    -4.287127,
                    -1.9218341,
                    -1.6438727,
                    -8.862624,
                    0.5913812,
                    1.6593485,
                    -3.2678883,
                    -3.1552696,
                    -1.0714558,
                    -10.324123,
                    0.42120996,
                    7.288794,
                    -10.025641,
                    -8.884003,
                    -4.951534,
                    -1.825075,
                    2.2283604,
                    -2.1632085,
                    1.6578827,
                    3.1289773,
                    3.8049479,
                    0.67124206,
                    -11.438776,
                    -0.70556456,
                    7.188727,
                    -3.3665366,
                    2.5612645,
                    1.1633403,
                    -0.7184329,
                    7.229054,
                    0.3615145,
                    -6.920636,
                    -1.8414855,
                    -3.9823132,
                    4.5639906,
                    1.1425679,
                    5.488622,
                    4.025892,
                    2.5871696,
                    3.2145946,
                    6.6256995,
                    -12.275906,
                    3.9995043,
                    5.5218697,
                    -0.8412062,
                    6.7529197,
                    4.595557,
                    4.252261,
                    -10.7038555,
                    2.62361,
                    0.36129147,
                    3.833999,
                    4.336788,
                    3.1681867,
                    10.348497,
                    4.769886,
                    0.4267576,
                    1.363873,
                    7.236637,
                    2.1505961,
                    -0.13482192,
                    6.4128146,
                    2.2522123,
                    -3.66021,
                    -0.6670034,
                    3.2145722,
                    3.0597198,
                    0.24246465,
                    1.6400127,
                    3.1592784,
                    -3.2086358,
                    -4.539621,
                    0.13997047,
                    -2.2679334,
                    -0.8943472,
                    7.057556,
                    6.155429,
                    6.532909,
                    2.3810077,
                    0.3000301,
                    -0.8919113,
                    1.3870671,
                    0.6693352,
                    -6.961352,
                    1.7425082,
                    -9.588958,
                    -4.0450387,
                    -5.495375,
                    1.7347325,
                    -1.386286,
                    -2.4770398,
                    -12.1354265,
                    1.5907477,
                    -9.8389015,
                    -0.28183088,
                    10.629106,
                    -3.3443108,
                    -7.772901,
                    -6.8577504,
                    2.2909691,
                    3.3497608,
                    5.9703393,
                    0.030327436,
                    -0.7025404,
                    -3.0312111,
                    0.35642982,
                    -9.585684,
                    2.7142735,
                    1.7989643,
                    -2.9101746,
                    4.4941344,
                    -0.21073282,
                    6.1055,
                    2.5097513,
                    -9.884026,
                    -2.5396845,
                    11.647303,
                    -2.9840102,
                    -9.351342,
                    -10.536391,
                    -3.223819,
                    4.6872025,
                    2.484287,
                    -6.836577,
                    10.393719,
                    -8.434858,
                    8.203964,
                    11.733066,
                    0.03777254,
                    6.790388,
                    -6.158739,
                    -3.8077235,
                    -6.319732,
                    3.8414452,
                    2.8067288,
                    -9.421653,
                    0.4282138,
                    -11.711287,
                    5.4859776,
                    1.4887627,
                    -10.12128,
                    1.9628181,
                    2.8642256,
                    -3.671005,
                    -4.429593,
                    -8.386627,
                    -0.90244216,
                    4.0576196,
                    1.4170712,
                    0.45738047,
                    6.578309,
                    -1.5928481,
                    5.6484804,
                    -10.52794,
                    -13.333761,
                    0.040084086,
                    -5.639384,
                    8.690612,
                    4.4900327,
                    5.010289,
                    -12.75039,
                    -0.0035025363,
                    10.09719,
                    3.0356817,
                    -4.4266047,
                    2.8702035,
                    -7.286928,
                    -8.596402,
                    1.3007357,
                    1.8047658,
                    -12.039049,
                    3.1449528,
                    0.685451,
                    9.660457,
                    8.335341,
                    -11.167255,
                    -1.4660162,
                    4.1457825,
                    -4.111942,
                    7.075445,
                    0.39249194,
                    1.5215687,
                    5.4357667,
                    9.717407,
                    -3.4555132,
                    6.7728853,
                    -3.3014157,
                    -9.386308,
                    -2.2069294,
                    3.0518897,
                    0.78390855,
                    1.3683113,
                    1.3827386,
                    4.3999405,
                    2.0305986,
                    10.263527,
                    5.133782,
                    5.8200426,
                    2.3529923,
                    -8.496848,
                    -6.64874,
                    -1.6528313,
                    -1.6651897,
                    1.4000069,
                    0.31899238,
                    -1.7774476,
                    10.948263,
                    0.4131054,
                    4.9225016,
                    -5.316743,
                    -5.722339,
                    -3.2809403,
                    3.3205822,
                    7.581015,
                    -3.8952394,
                    0.8644824,
                    2.375528,
                    -0.32264486,
                    -11.254122,
                    -3.6537218,
                    -12.440135,
                    1.900969,
                    -10.9889,
                    2.7829404,
                    -3.656357,
                    -8.890259,
                    0.2906278,
                    3.7526681,
                    2.9525964,
                    -1.7715725,
                    -3.441492,
                    -0.2368373,
                    -8.260805,
                    -5.0508556,
                    -10.155956,
                    -0.30286765,
                    2.2201977,
                    6.7352095,
                    2.1543405,
                    1.8362353,
                    -10.309331,
                    6.2504177,
                    -11.318609,
                    0.8369986,
                    2.2803004,
                    7.1927705,
                    -4.4537067,
                    6.6185303,
                    0.079845354,
                    6.7331877,
                    -3.251624,
                    -11.82392,
                    -1.1003977,
                    -1.2234771,
                    -4.226175,
                    -9.195824,
                    -3.4744902,
                    -7.98124,
                    5.4060855,
                    -8.324181,
                    0.012501241,
                    -0.1985357,
                    0.15134588,
                    -3.163533,
                    11.481145,
                    3.7855177,
                    -0.22492796,
                    1.5213435,
                    -3.690074,
                    2.2806785,
                    4.139047,
                    -3.3120015,
                    -11.095256,
                    -7.3582883,
                    2.0837595,
                    1.5450288,
                    0.13329795,
                    3.4830623,
                    -1.4554416,
                    4.8281865,
                    2.5641894,
                    7.0095243,
                    -5.6214156,
                    2.1213562,
                    3.4706197,
                    -3.7569582,
                    1.2088056,
                    0.18172269,
                    7.439926,
                    1.9018853,
                    4.6258283,
                    2.4210422,
                    6.925004,
                    -7.70602,
                    6.593531,
                    -11.7318945,
                    6.9859667,
                    -12.917222,
                    -6.8943586,
                    -4.541741,
                    -3.7019863,
                    -1.8695382,
                    0.50953704,
                    -3.4806206,
                    8.670313,
                    -9.418283,
                    0.7496557,
                    -2.2820344,
                    4.9288607,
                    1.4779391,
                    0.7207474,
                    7.803796,
                    -10.645173,
                    10.535896,
                    3.950575,
                    -9.526929,
                    -1.1445516,
                    -8.752881,
                    -3.5916114,
                    7.989459,
                    -3.566767,
                    -5.2602477,
                    7.576042,
                    3.4994977,
                    -0.011261297,
                    1.8744327,
                    0.81504256,
                    3.936446,
                    -0.22385257,
                    -4.8457036,
                    -7.989017,
                    -3.8555257,
                    -10.63974,
                    7.8449984,
                    -0.49537954,
                    -0.92460823,
                    -8.816955,
                    -3.2476199,
                    4.640811,
                    -10.912879,
                    1.0026168,
                    -3.9953144,
                    1.7629358,
                    5.799717,
                    1.3950884,
                    -0.60650516,
                    1.5208434,
                    3.6900427,
                    6.4709907,
                    7.760016,
                    -3.9429102,
                    -11.836447,
                    -7.7765975,
                    6.3044024,
                    -0.7122542,
                    5.945225,
                    8.519637,
                    -4.7282896,
                    11.94188,
                    -8.479998,
                    -4.7968373,
                    5.880302,
                    -7.047577,
                    9.372006,
                    -5.8726907,
                    -0.085136935,
                    1.620324,
                    -3.429475,
                    0.30968374,
                    4.907227,
                    -3.7241583,
                    -7.5776534,
                    9.985686,
                    -2.2639027,
                    1.6264344,
                    7.910001,
                    0.2916147,
                    2.8521256,
                    7.412658,
                    3.0040877,
                    4.0583816,
                    2.2144833,
                    11.824822,
                    10.503152,
                    3.2789786,
                    10.431337,
                    4.786654,
                    -10.163217,
                    -1.4936128,
                    5.189049,
                    4.811318,
                    -3.3658786,
                    0.61048836,
                    3.5455503,
                    -10.327158,
                    4.920767,
                    4.385478,
                    3.1558783,
                    3.1745985,
                    5.5414734,
                    2.8442254,
                    -10.686704,
                    -5.6743765,
                    4.697548,
                    10.991758,
                    5.0135217,
                    1.5173582,
                    0.8722407,
                    12.075299,
                    -2.2850344,
                    -0.62373936,
                    -8.1368065,
                    -3.4986494,
                    5.1975284,
                    5.6253843,
                    -5.4002523,
                    -2.896504,
                    3.23186,
                    0.6109733,
                    2.6715157,
                    5.0511875,
                    5.856899,
                    3.1989722,
                    5.8929496,
                    3.1548128,
                    1.2183887,
                    -2.1816554,
                    2.2787752,
                    -9.95281,
                    9.0528755,
                    -7.4834247,
                    -12.316067,
                    0.429163,
                    1.4196947,
                    -3.8588598,
                    -4.4818907,
                    2.1884463,
                    -1.9727968,
                    -8.934069,
                    1.1863251,
                    -5.139642,
                    -8.13898,
                    3.6035166,
                    3.9824238,
                    4.8381624,
                    -1.421008,
                    -6.7001534,
                    5.8118215,
                    7.194425,
                    5.0555663,
                    -3.061146,
                    3.8433468,
                    6.4143896,
                    8.412124,
                    -7.810353,
                    -8.568198,
                    2.2324867,
                    3.7763512,
                    2.0085955,
                    0.7861166,
                    2.3809764,
                    -1.4793968,
                    -1.0219228,
                    8.386624,
                    1.9948056,
                    -3.194299,
                    5.8412485,
                    -3.2684567,
                    -6.6905518,
                    4.6954904,
                    -2.1891973,
                    2.0837579,
                    10.982965,
                    -0.5153441,
                    -0.0402029,
                    -7.787275,
                    4.4535584,
                    0.5020646,
                    3.335108,
                    2.214762,
                    -2.4771593,
                    0.17963615,
                    2.3403184,
                    1.3702656,
                    3.691846,
                    1.6615812,
                    4.557845,
                    -9.490177,
                    -7.142237,
                    8.299347,
                    9.81244,
                    -10.643982,
                    -1.5076748,
                    4.1778803,
                    2.0648217,
                    2.767841,
                    2.5304878,
                    -2.1173127,
                    -3.286152,
                    -3.3459356,
                    0.8527336,
                    4.0618844,
                    -9.341603,
                    1.950477,
                    5.0933785,
                    11.60266,
                    -6.86112,
                    2.7109292,
                    -0.4592772,
                    5.0298333,
                    -0.83050406,
                    -4.357082,
                    2.1107447,
                    -2.727159,
                    2.5627456,
                    8.603727,
                    -2.6683948,
                    7.6314588,
                    7.134896,
                    5.895719,
                    7.314699,
                    -7.4407825,
                    -7.5607915,
                    -5.117309,
                    2.496349,
                    -2.7879725,
                    -0.7830742,
                    -2.9227023,
                    2.38653,
                    9.003039,
                    8.860589,
                    0.9292493,
                    1.9704561,
                    1.5512782,
                    -1.6120737,
                    -1.3223176,
                    5.259317,
                    -3.5661922,
                    -0.005318734,
                    9.484271,
                    -11.869699,
                    -0.85566705,
                    -1.0878545,
                    -1.311722,
                    0.8435747,
                    2.9132488,
                    -8.650076,
                    0.94169545,
                    -6.3954897,
                    -2.1268146,
                    9.934356,
                    -9.737396,
                    -0.15924078,
                    -6.7256517,
                    5.935276,
                    5.4015884,
                    -1.7443422,
                    -6.7982106,
                    -0.072999194,
                    0.61629504,
                    11.725363,
                    -1.2446378,
                    -10.251478,
                    -2.2362313,
                    3.844193,
                    -1.2207901,
                    3.7923567,
                    -3.680102,
                    -3.4868822,
                    -1.974484,
                    -4.173701,
                    -2.7551298,
                    2.1122909,
                    3.7192113,
                    -3.4702775,
                    1.5797436,
                    -5.169189,
                    -7.9630003,
                    -8.00595,
                    -10.324251,
                    3.6649272,
                    12.009894,
                    2.2026026,
                    4.2439027,
                    2.5575168,
                    -10.298571,
                    -3.0771902,
                    -3.9182153,
                    6.5457416,
                    0.3327909,
                    9.887352,
                    7.017542,
                    4.283085,
                    -0.123779155,
                    -2.0999424,
                    6.1463804,
                    -12.790762,
                    0.50472784,
                    -7.3582053,
                    -6.935976,
                    -3.154934,
                    -12.125649,
                    5.668359,
                    2.0684268,
                    0.059320465,
                    -1.1383439,
                    -2.7761993,
                    8.2090225,
                    3.6222708,
                    5.2651095,
                    -3.5101056,
                    -5.5193787,
                    2.1296546,
                    -5.7014093,
                    -3.2935643,
                    -2.2264802,
                    1.5659271,
                    4.7720942,
                    0.05998859,
                    0.73498833,
                    0.5040744,
                    -8.338612,
                    -3.5900257,
                    10.099286,
                    3.0627048,
                    11.447596,
                    3.5131388,
                    -0.38857636,
                    -0.76371056,
                    0.30957934,
                    -3.7685008,
                    3.224038,
                    -7.471005,
                    1.6627331,
                    -2.797495,
                    2.8000479,
                    -1.210174,
                    3.370871,
                    10.288976,
                    -3.331507,
                    2.4119656,
                    0.08598452,
                    -2.9618833,
                    3.5438545,
                    0.73273724,
                    8.926331,
                    5.131635,
                    5.1971474,
                    -2.782373,
                    12.144683,
                    -5.864646,
                    -0.21703702,
                    3.7296078,
                    -3.4751065,
                    -13.347421,
                    3.466189,
                    -6.78067,
                    3.8874269,
                    2.655013,
                    0.69504136,
                    -0.5447161,
                    2.90109,
                    0.573491,
                    3.8104134,
                    0.24478441,
                    -9.085915,
                    2.662762,
                    -0.16663755,
                    -3.5312974,
                    10.908253,
                    1.7261795,
                    -0.7151376,
                    -5.5592036,
                    -5.647828,
                    0.8670183,
                    4.2659197,
                    3.7586844,
                    -0.9250866,
                    -1.0564125,
                    1.9859465,
                    -8.460805,
                    -8.68726,
                    2.7510092,
                    -8.761978,
                    -12.31428,
                    11.105481,
                    2.7359624,
                    2.2823126,
                    1.4840726,
                    -1.045661,
                    -1.7978661,
                    -1.2123892,
                    -8.986553,
                    -1.5131193,
                    7.709951,
                    -11.040133,
                    3.14424,
                    5.1379375,
                    -0.31408274,
                    6.2272053,
                    -4.5608454,
                    8.949845,
                    12.358698,
                    -1.6058826,
                    3.1509771,
                    0.27659136,
                    4.3909106,
                    -5.8438396,
                    8.172861,
                    1.5839152,
                    -12.471158,
                    4.8333826,
                    3.3043647,
                    1.891422,
                    5.6095624,
                    6.1373444,
                    3.201073,
                    12.130123,
                    10.239059,
                    -10.899672,
                    1.5899465,
                    7.0532393,
                    1.9787372,
                    4.3841014,
                    2.934261,
                    6.173648,
                    -5.8161077,
                    4.4574986,
                    6.567368,
                    -1.1137993,
                    0.49453628,
                    0.86481273,
                    -7.891767,
                    6.9234624,
                    6.117721,
                    8.962738,
                    3.5153298,
                    3.092086,
                    -9.655801,
                    -7.7117057,
                    0.88417584,
                    -1.5774508,
                    1.5998248,
                    -0.92929596,
                    4.4225206,
                    2.8892925,
                    7.2322254,
                    0.9385803,
                    -3.2961824,
                    8.650941,
                    -0.9834494,
                    -9.788852,
                    4.970251,
                    -11.112921,
                    -0.88926476,
                    -6.859547,
                    -6.9907126,
                    -8.179785,
                    -1.8245885,
                    -12.061422,
                    4.707158,
                    -0.0977526,
                    6.556727,
                    -10.979997,
                    -3.6425178,
                    11.231419,
                    -3.823692,
                    1.244731,
                    -2.1575074,
                    2.0148435,
                    1.892382,
                    5.8788037,
                    -3.2972429,
                    -2.5351477,
                    5.555405,
                    1.4639747,
                    -5.6282716,
                    5.5269237,
                    -1.0844076,
                    -7.591905,
                    -7.6041036,
                    -6.388899,
                    -3.6782718,
                    -1.0046369,
                    3.0998056,
                    -12.184178,
                    5.839375,
                    -1.2264014,
                    -13.36913,
                    2.565711,
                    2.4306056,
                    1.7928526,
                    4.091954,
                    -0.8672778,
                    -0.84321827,
                    -10.386478,
                    -10.554167,
                    11.487472,
                    -8.690651,
                    3.9910288,
                    4.1938014,
                    -12.661406,
                    2.9718254,
                    8.752401,
                    -1.438213,
                    -0.43126345,
                    -1.9353939,
                    -11.911909,
                    -12.099987,
                    -2.702752,
                    3.6291044,
                    -3.7017684,
                    2.671575,
                    -10.49155,
                    0.46791083,
                    1.739832,
                    -4.0584793,
                    7.4057016,
                    -2.8492692,
                    0.47556967,
                    1.5622927,
                    -10.936465,
                    8.240618,
                    -7.4558396,
                    3.6509175,
                    0.1016195,
                    5.8494263,
                    5.162168,
                    -7.9588385,
                    2.9750676,
                    0.79604733,
                    -2.8628047,
                    4.224178,
                    0.2900352,
                    -1.754929,
                    4.3630075,
                    6.497141,
                    3.5113184,
                    -0.80273396,
                    10.714494,
                    4.421675,
                    6.1044807,
                    5.1222277,
                    6.795622,
                    -0.3570641,
                    -5.6200366,
                    1.734795,
                    6.0738072,
                    -11.240311,
                    7.689614,
                    -5.7500935,
                    3.228245,
                    2.2018719,
                    -3.9770405,
                    3.1415467,
                    -2.3125737,
                    8.90056,
                    -1.5814068,
                    5.860498,
                    -5.8633475,
                    0.40506876,
                    3.04749,
                    9.924768,
                    3.5071604,
                    -10.265194,
                    -0.3586652,
                    1.9309565,
                    4.1899433,
                    -1.6252915,
                    -2.473402,
                    -11.609802,
                    10.458028,
                    1.286629,
                    -9.010131,
                    -4.3493233,
                    -0.14222397,
                    5.131038,
                    9.721231,
                    4.4878697,
                    -2.3258054,
                    2.2896178,
                    -1.1273046,
                    4.89834,
                    7.188662,
                    7.1567245,
                    -0.24200134,
                    1.3989087,
                    -1.965866,
                    -1.443072,
                    -0.038756475,
                    1.9802691,
                    -10.519063,
                    7.19821,
                    3.5658927,
                    0.5168164,
                    2.6388254,
                    5.8435216,
                    -2.2831898,
                    -1.066909,
                    -1.3123633,
                    -3.7465405,
                    -5.8583674,
                    -11.170977,
                    -13.035572,
                    -7.9683585,
                    8.009118,
                    4.8116417,
                    2.7041652,
                    -2.2669282,
                    -3.4945095,
                    3.3227189,
                    3.8663163,
                    -3.293004,
                    3.4437523
                  ],
                  "type": "scatter3d"
                }
              ],
              "layout": {
                "template": {
                  "data": {
                    "bar": [
                      {
                        "error_x": {
                          "color": "#2a3f5f"
                        },
                        "error_y": {
                          "color": "#2a3f5f"
                        },
                        "marker": {
                          "line": {
                            "color": "#E5ECF6",
                            "width": 0.5
                          },
                          "pattern": {
                            "fillmode": "overlay",
                            "size": 10,
                            "solidity": 0.2
                          }
                        },
                        "type": "bar"
                      }
                    ],
                    "barpolar": [
                      {
                        "marker": {
                          "line": {
                            "color": "#E5ECF6",
                            "width": 0.5
                          },
                          "pattern": {
                            "fillmode": "overlay",
                            "size": 10,
                            "solidity": 0.2
                          }
                        },
                        "type": "barpolar"
                      }
                    ],
                    "carpet": [
                      {
                        "aaxis": {
                          "endlinecolor": "#2a3f5f",
                          "gridcolor": "white",
                          "linecolor": "white",
                          "minorgridcolor": "white",
                          "startlinecolor": "#2a3f5f"
                        },
                        "baxis": {
                          "endlinecolor": "#2a3f5f",
                          "gridcolor": "white",
                          "linecolor": "white",
                          "minorgridcolor": "white",
                          "startlinecolor": "#2a3f5f"
                        },
                        "type": "carpet"
                      }
                    ],
                    "choropleth": [
                      {
                        "colorbar": {
                          "outlinewidth": 0,
                          "ticks": ""
                        },
                        "type": "choropleth"
                      }
                    ],
                    "contour": [
                      {
                        "colorbar": {
                          "outlinewidth": 0,
                          "ticks": ""
                        },
                        "colorscale": [
                          [
                            0,
                            "#0d0887"
                          ],
                          [
                            0.1111111111111111,
                            "#46039f"
                          ],
                          [
                            0.2222222222222222,
                            "#7201a8"
                          ],
                          [
                            0.3333333333333333,
                            "#9c179e"
                          ],
                          [
                            0.4444444444444444,
                            "#bd3786"
                          ],
                          [
                            0.5555555555555556,
                            "#d8576b"
                          ],
                          [
                            0.6666666666666666,
                            "#ed7953"
                          ],
                          [
                            0.7777777777777778,
                            "#fb9f3a"
                          ],
                          [
                            0.8888888888888888,
                            "#fdca26"
                          ],
                          [
                            1,
                            "#f0f921"
                          ]
                        ],
                        "type": "contour"
                      }
                    ],
                    "contourcarpet": [
                      {
                        "colorbar": {
                          "outlinewidth": 0,
                          "ticks": ""
                        },
                        "type": "contourcarpet"
                      }
                    ],
                    "heatmap": [
                      {
                        "colorbar": {
                          "outlinewidth": 0,
                          "ticks": ""
                        },
                        "colorscale": [
                          [
                            0,
                            "#0d0887"
                          ],
                          [
                            0.1111111111111111,
                            "#46039f"
                          ],
                          [
                            0.2222222222222222,
                            "#7201a8"
                          ],
                          [
                            0.3333333333333333,
                            "#9c179e"
                          ],
                          [
                            0.4444444444444444,
                            "#bd3786"
                          ],
                          [
                            0.5555555555555556,
                            "#d8576b"
                          ],
                          [
                            0.6666666666666666,
                            "#ed7953"
                          ],
                          [
                            0.7777777777777778,
                            "#fb9f3a"
                          ],
                          [
                            0.8888888888888888,
                            "#fdca26"
                          ],
                          [
                            1,
                            "#f0f921"
                          ]
                        ],
                        "type": "heatmap"
                      }
                    ],
                    "heatmapgl": [
                      {
                        "colorbar": {
                          "outlinewidth": 0,
                          "ticks": ""
                        },
                        "colorscale": [
                          [
                            0,
                            "#0d0887"
                          ],
                          [
                            0.1111111111111111,
                            "#46039f"
                          ],
                          [
                            0.2222222222222222,
                            "#7201a8"
                          ],
                          [
                            0.3333333333333333,
                            "#9c179e"
                          ],
                          [
                            0.4444444444444444,
                            "#bd3786"
                          ],
                          [
                            0.5555555555555556,
                            "#d8576b"
                          ],
                          [
                            0.6666666666666666,
                            "#ed7953"
                          ],
                          [
                            0.7777777777777778,
                            "#fb9f3a"
                          ],
                          [
                            0.8888888888888888,
                            "#fdca26"
                          ],
                          [
                            1,
                            "#f0f921"
                          ]
                        ],
                        "type": "heatmapgl"
                      }
                    ],
                    "histogram": [
                      {
                        "marker": {
                          "pattern": {
                            "fillmode": "overlay",
                            "size": 10,
                            "solidity": 0.2
                          }
                        },
                        "type": "histogram"
                      }
                    ],
                    "histogram2d": [
                      {
                        "colorbar": {
                          "outlinewidth": 0,
                          "ticks": ""
                        },
                        "colorscale": [
                          [
                            0,
                            "#0d0887"
                          ],
                          [
                            0.1111111111111111,
                            "#46039f"
                          ],
                          [
                            0.2222222222222222,
                            "#7201a8"
                          ],
                          [
                            0.3333333333333333,
                            "#9c179e"
                          ],
                          [
                            0.4444444444444444,
                            "#bd3786"
                          ],
                          [
                            0.5555555555555556,
                            "#d8576b"
                          ],
                          [
                            0.6666666666666666,
                            "#ed7953"
                          ],
                          [
                            0.7777777777777778,
                            "#fb9f3a"
                          ],
                          [
                            0.8888888888888888,
                            "#fdca26"
                          ],
                          [
                            1,
                            "#f0f921"
                          ]
                        ],
                        "type": "histogram2d"
                      }
                    ],
                    "histogram2dcontour": [
                      {
                        "colorbar": {
                          "outlinewidth": 0,
                          "ticks": ""
                        },
                        "colorscale": [
                          [
                            0,
                            "#0d0887"
                          ],
                          [
                            0.1111111111111111,
                            "#46039f"
                          ],
                          [
                            0.2222222222222222,
                            "#7201a8"
                          ],
                          [
                            0.3333333333333333,
                            "#9c179e"
                          ],
                          [
                            0.4444444444444444,
                            "#bd3786"
                          ],
                          [
                            0.5555555555555556,
                            "#d8576b"
                          ],
                          [
                            0.6666666666666666,
                            "#ed7953"
                          ],
                          [
                            0.7777777777777778,
                            "#fb9f3a"
                          ],
                          [
                            0.8888888888888888,
                            "#fdca26"
                          ],
                          [
                            1,
                            "#f0f921"
                          ]
                        ],
                        "type": "histogram2dcontour"
                      }
                    ],
                    "mesh3d": [
                      {
                        "colorbar": {
                          "outlinewidth": 0,
                          "ticks": ""
                        },
                        "type": "mesh3d"
                      }
                    ],
                    "parcoords": [
                      {
                        "line": {
                          "colorbar": {
                            "outlinewidth": 0,
                            "ticks": ""
                          }
                        },
                        "type": "parcoords"
                      }
                    ],
                    "pie": [
                      {
                        "automargin": true,
                        "type": "pie"
                      }
                    ],
                    "scatter": [
                      {
                        "marker": {
                          "colorbar": {
                            "outlinewidth": 0,
                            "ticks": ""
                          }
                        },
                        "type": "scatter"
                      }
                    ],
                    "scatter3d": [
                      {
                        "line": {
                          "colorbar": {
                            "outlinewidth": 0,
                            "ticks": ""
                          }
                        },
                        "marker": {
                          "colorbar": {
                            "outlinewidth": 0,
                            "ticks": ""
                          }
                        },
                        "type": "scatter3d"
                      }
                    ],
                    "scattercarpet": [
                      {
                        "marker": {
                          "colorbar": {
                            "outlinewidth": 0,
                            "ticks": ""
                          }
                        },
                        "type": "scattercarpet"
                      }
                    ],
                    "scattergeo": [
                      {
                        "marker": {
                          "colorbar": {
                            "outlinewidth": 0,
                            "ticks": ""
                          }
                        },
                        "type": "scattergeo"
                      }
                    ],
                    "scattergl": [
                      {
                        "marker": {
                          "colorbar": {
                            "outlinewidth": 0,
                            "ticks": ""
                          }
                        },
                        "type": "scattergl"
                      }
                    ],
                    "scattermapbox": [
                      {
                        "marker": {
                          "colorbar": {
                            "outlinewidth": 0,
                            "ticks": ""
                          }
                        },
                        "type": "scattermapbox"
                      }
                    ],
                    "scatterpolar": [
                      {
                        "marker": {
                          "colorbar": {
                            "outlinewidth": 0,
                            "ticks": ""
                          }
                        },
                        "type": "scatterpolar"
                      }
                    ],
                    "scatterpolargl": [
                      {
                        "marker": {
                          "colorbar": {
                            "outlinewidth": 0,
                            "ticks": ""
                          }
                        },
                        "type": "scatterpolargl"
                      }
                    ],
                    "scatterternary": [
                      {
                        "marker": {
                          "colorbar": {
                            "outlinewidth": 0,
                            "ticks": ""
                          }
                        },
                        "type": "scatterternary"
                      }
                    ],
                    "surface": [
                      {
                        "colorbar": {
                          "outlinewidth": 0,
                          "ticks": ""
                        },
                        "colorscale": [
                          [
                            0,
                            "#0d0887"
                          ],
                          [
                            0.1111111111111111,
                            "#46039f"
                          ],
                          [
                            0.2222222222222222,
                            "#7201a8"
                          ],
                          [
                            0.3333333333333333,
                            "#9c179e"
                          ],
                          [
                            0.4444444444444444,
                            "#bd3786"
                          ],
                          [
                            0.5555555555555556,
                            "#d8576b"
                          ],
                          [
                            0.6666666666666666,
                            "#ed7953"
                          ],
                          [
                            0.7777777777777778,
                            "#fb9f3a"
                          ],
                          [
                            0.8888888888888888,
                            "#fdca26"
                          ],
                          [
                            1,
                            "#f0f921"
                          ]
                        ],
                        "type": "surface"
                      }
                    ],
                    "table": [
                      {
                        "cells": {
                          "fill": {
                            "color": "#EBF0F8"
                          },
                          "line": {
                            "color": "white"
                          }
                        },
                        "header": {
                          "fill": {
                            "color": "#C8D4E3"
                          },
                          "line": {
                            "color": "white"
                          }
                        },
                        "type": "table"
                      }
                    ]
                  },
                  "layout": {
                    "annotationdefaults": {
                      "arrowcolor": "#2a3f5f",
                      "arrowhead": 0,
                      "arrowwidth": 1
                    },
                    "autotypenumbers": "strict",
                    "coloraxis": {
                      "colorbar": {
                        "outlinewidth": 0,
                        "ticks": ""
                      }
                    },
                    "colorscale": {
                      "diverging": [
                        [
                          0,
                          "#8e0152"
                        ],
                        [
                          0.1,
                          "#c51b7d"
                        ],
                        [
                          0.2,
                          "#de77ae"
                        ],
                        [
                          0.3,
                          "#f1b6da"
                        ],
                        [
                          0.4,
                          "#fde0ef"
                        ],
                        [
                          0.5,
                          "#f7f7f7"
                        ],
                        [
                          0.6,
                          "#e6f5d0"
                        ],
                        [
                          0.7,
                          "#b8e186"
                        ],
                        [
                          0.8,
                          "#7fbc41"
                        ],
                        [
                          0.9,
                          "#4d9221"
                        ],
                        [
                          1,
                          "#276419"
                        ]
                      ],
                      "sequential": [
                        [
                          0,
                          "#0d0887"
                        ],
                        [
                          0.1111111111111111,
                          "#46039f"
                        ],
                        [
                          0.2222222222222222,
                          "#7201a8"
                        ],
                        [
                          0.3333333333333333,
                          "#9c179e"
                        ],
                        [
                          0.4444444444444444,
                          "#bd3786"
                        ],
                        [
                          0.5555555555555556,
                          "#d8576b"
                        ],
                        [
                          0.6666666666666666,
                          "#ed7953"
                        ],
                        [
                          0.7777777777777778,
                          "#fb9f3a"
                        ],
                        [
                          0.8888888888888888,
                          "#fdca26"
                        ],
                        [
                          1,
                          "#f0f921"
                        ]
                      ],
                      "sequentialminus": [
                        [
                          0,
                          "#0d0887"
                        ],
                        [
                          0.1111111111111111,
                          "#46039f"
                        ],
                        [
                          0.2222222222222222,
                          "#7201a8"
                        ],
                        [
                          0.3333333333333333,
                          "#9c179e"
                        ],
                        [
                          0.4444444444444444,
                          "#bd3786"
                        ],
                        [
                          0.5555555555555556,
                          "#d8576b"
                        ],
                        [
                          0.6666666666666666,
                          "#ed7953"
                        ],
                        [
                          0.7777777777777778,
                          "#fb9f3a"
                        ],
                        [
                          0.8888888888888888,
                          "#fdca26"
                        ],
                        [
                          1,
                          "#f0f921"
                        ]
                      ]
                    },
                    "colorway": [
                      "#636efa",
                      "#EF553B",
                      "#00cc96",
                      "#ab63fa",
                      "#FFA15A",
                      "#19d3f3",
                      "#FF6692",
                      "#B6E880",
                      "#FF97FF",
                      "#FECB52"
                    ],
                    "font": {
                      "color": "#2a3f5f"
                    },
                    "geo": {
                      "bgcolor": "white",
                      "lakecolor": "white",
                      "landcolor": "#E5ECF6",
                      "showlakes": true,
                      "showland": true,
                      "subunitcolor": "white"
                    },
                    "hoverlabel": {
                      "align": "left"
                    },
                    "hovermode": "closest",
                    "mapbox": {
                      "style": "light"
                    },
                    "paper_bgcolor": "white",
                    "plot_bgcolor": "#E5ECF6",
                    "polar": {
                      "angularaxis": {
                        "gridcolor": "white",
                        "linecolor": "white",
                        "ticks": ""
                      },
                      "bgcolor": "#E5ECF6",
                      "radialaxis": {
                        "gridcolor": "white",
                        "linecolor": "white",
                        "ticks": ""
                      }
                    },
                    "scene": {
                      "xaxis": {
                        "backgroundcolor": "#E5ECF6",
                        "gridcolor": "white",
                        "gridwidth": 2,
                        "linecolor": "white",
                        "showbackground": true,
                        "ticks": "",
                        "zerolinecolor": "white"
                      },
                      "yaxis": {
                        "backgroundcolor": "#E5ECF6",
                        "gridcolor": "white",
                        "gridwidth": 2,
                        "linecolor": "white",
                        "showbackground": true,
                        "ticks": "",
                        "zerolinecolor": "white"
                      },
                      "zaxis": {
                        "backgroundcolor": "#E5ECF6",
                        "gridcolor": "white",
                        "gridwidth": 2,
                        "linecolor": "white",
                        "showbackground": true,
                        "ticks": "",
                        "zerolinecolor": "white"
                      }
                    },
                    "shapedefaults": {
                      "line": {
                        "color": "#2a3f5f"
                      }
                    },
                    "ternary": {
                      "aaxis": {
                        "gridcolor": "white",
                        "linecolor": "white",
                        "ticks": ""
                      },
                      "baxis": {
                        "gridcolor": "white",
                        "linecolor": "white",
                        "ticks": ""
                      },
                      "bgcolor": "#E5ECF6",
                      "caxis": {
                        "gridcolor": "white",
                        "linecolor": "white",
                        "ticks": ""
                      }
                    },
                    "title": {
                      "x": 0.05
                    },
                    "xaxis": {
                      "automargin": true,
                      "gridcolor": "white",
                      "linecolor": "white",
                      "ticks": "",
                      "title": {
                        "standoff": 15
                      },
                      "zerolinecolor": "white",
                      "zerolinewidth": 2
                    },
                    "yaxis": {
                      "automargin": true,
                      "gridcolor": "white",
                      "linecolor": "white",
                      "ticks": "",
                      "title": {
                        "standoff": 15
                      },
                      "zerolinecolor": "white",
                      "zerolinewidth": 2
                    }
                  }
                },
                "scene": {
                  "domain": {
                    "x": [
                      0,
                      1
                    ],
                    "y": [
                      0,
                      1
                    ]
                  },
                  "xaxis": {
                    "title": {
                      "text": "0"
                    }
                  },
                  "yaxis": {
                    "title": {
                      "text": "1"
                    }
                  },
                  "zaxis": {
                    "title": {
                      "text": "2"
                    }
                  }
                },
                "coloraxis": {
                  "colorbar": {
                    "title": {
                      "text": "Anomaly"
                    }
                  },
                  "colorscale": [
                    [
                      0,
                      "#0d0887"
                    ],
                    [
                      0.1111111111111111,
                      "#46039f"
                    ],
                    [
                      0.2222222222222222,
                      "#7201a8"
                    ],
                    [
                      0.3333333333333333,
                      "#9c179e"
                    ],
                    [
                      0.4444444444444444,
                      "#bd3786"
                    ],
                    [
                      0.5555555555555556,
                      "#d8576b"
                    ],
                    [
                      0.6666666666666666,
                      "#ed7953"
                    ],
                    [
                      0.7777777777777778,
                      "#fb9f3a"
                    ],
                    [
                      0.8888888888888888,
                      "#fdca26"
                    ],
                    [
                      1,
                      "#f0f921"
                    ]
                  ]
                },
                "legend": {
                  "tracegroupgap": 0
                },
                "title": {
                  "text": "3d TSNE Plot for Outliers"
                },
                "height": 800,
                "width": 900
              },
              "config": {
                "plotlyServerURL": "https://plot.ly"
              }
            },
            "text/html": [
              "<div>                            <div id=\"7b4559c2-e86b-487a-bd0b-94f82cf5bc47\" class=\"plotly-graph-div\" style=\"height:800px; width:900px;\"></div>            <script type=\"text/javascript\">                require([\"plotly\"], function(Plotly) {                    window.PLOTLYENV=window.PLOTLYENV || {};                                    if (document.getElementById(\"7b4559c2-e86b-487a-bd0b-94f82cf5bc47\")) {                    Plotly.newPlot(                        \"7b4559c2-e86b-487a-bd0b-94f82cf5bc47\",                        [{\"customdata\":[[3],[3],[3],[3],[3],[3],[3],[3],[3],[3],[3],[3],[3],[3],[3],[3],[3],[3],[3],[3],[3],[3],[3],[3],[3],[3],[3],[3],[3],[3],[3],[3],[3],[3],[3],[3],[3],[3],[3],[3],[3],[3],[3],[3],[3],[3],[3],[3],[3],[3],[3],[3],[3],[3],[3],[3],[3],[3],[3],[3],[3],[3],[3],[3],[3],[3],[3],[3],[3],[3],[3],[3],[3],[3],[3],[3],[3],[3],[3],[3],[3],[3],[3],[3],[3],[3],[3],[3],[3],[3],[3],[3],[3],[3],[3],[3],[3],[3],[3],[3],[3],[3],[3],[3],[3],[3],[3],[3],[3],[3],[3],[3],[3],[3],[3],[3],[3],[3],[3],[3],[3],[3],[3],[3],[3],[3],[3],[3],[3],[3],[3],[3],[3],[3],[3],[3],[3],[3],[3],[3],[3],[3],[3],[3],[3],[3],[3],[3],[3],[3],[3],[3],[3],[3],[3],[3],[3],[3],[3],[3],[3],[3],[3],[3],[3],[3],[3],[3],[3],[3],[3],[3],[3],[3],[3],[3],[3],[3],[3],[3],[3],[3],[3],[3],[3],[3],[3],[3],[3],[3],[3],[3],[3],[3],[3],[3],[3],[3],[3],[3],[3],[3],[3],[3],[3],[3],[3],[3],[3],[3],[3],[3],[3],[3],[3],[3],[3],[3],[3],[3],[3],[3],[3],[3],[3],[3],[3],[3],[3],[3],[3],[3],[3],[3],[3],[3],[3],[3],[3],[3],[3],[3],[3],[3],[3],[3],[3],[3],[3],[3],[3],[3],[3],[3],[3],[3],[3],[3],[3],[3],[3],[3],[3],[3],[3],[3],[3],[3],[3],[3],[3],[3],[3],[3],[3],[3],[3],[3],[3],[3],[3],[3],[3],[3],[3],[3],[3],[3],[3],[3],[3],[3],[3],[3],[3],[3],[3],[3],[3],[3],[3],[3],[3],[3],[3],[3],[3],[3],[3],[3],[3],[3],[3],[3],[3],[3],[3],[3],[3],[3],[3],[3],[3],[3],[3],[3],[3],[3],[3],[3],[3],[3],[3],[3],[3],[3],[3],[3],[3],[3],[3],[3],[3],[3],[3],[3],[3],[3],[3],[3],[3],[3],[3],[3],[3],[3],[3],[3],[3],[3],[3],[3],[3],[3],[3],[3],[3],[3],[3],[3],[3],[3],[3],[3],[3],[3],[3],[3],[3],[3],[3],[3],[3],[3],[3],[3],[3],[3],[3],[3],[3],[3],[3],[3],[3],[3],[3],[3],[3],[3],[3],[3],[3],[3],[3],[3],[3],[3],[3],[3],[3],[3],[3],[3],[3],[3],[3],[3],[3],[3],[3],[3],[3],[3],[3],[3],[3],[3],[3],[3],[3],[3],[3],[3],[3],[3],[3],[3],[3],[3],[3],[3],[3],[3],[3],[3],[3],[3],[3],[3],[3],[3],[3],[3],[3],[3],[3],[3],[3],[3],[3],[3],[3],[3],[3],[3],[3],[3],[3],[3],[3],[3],[3],[3],[3],[3],[3],[3],[3],[3],[3],[3],[3],[3],[3],[3],[3],[3],[3],[3],[3],[3],[3],[3],[3],[3],[3],[3],[3],[3],[3],[3],[3],[3],[3],[3],[3],[3],[3],[3],[3],[3],[3],[3],[3],[3],[3],[3],[3],[3],[3],[3],[3],[3],[3],[3],[3],[3],[3],[3],[3],[3],[3],[3],[3],[3],[3],[3],[3],[3],[3],[3],[3],[3],[3],[3],[3],[3],[3],[3],[3],[3],[3],[3],[3],[3],[3],[3],[3],[3],[3],[3],[3],[3],[3],[3],[3],[3],[3],[3],[3],[3],[3],[3],[3],[3],[3],[3],[3],[3],[3],[3],[3],[3],[3],[3],[3],[3],[3],[3],[3],[3],[3],[3],[3],[3],[3],[3],[3],[3],[3],[3],[3],[3],[3],[3],[3],[3],[3],[3],[3],[3],[3],[3],[3],[3],[3],[3],[3],[3],[3],[3],[3],[3],[3],[3],[3],[3],[3],[3],[3],[3],[3],[3],[3],[3],[3],[3],[3],[3],[3],[3],[3],[3],[3],[3],[3],[3],[3],[3],[3],[3],[3],[3],[3],[3],[3],[3],[3],[3],[3],[3],[3],[3],[3],[3],[3],[3],[3],[3],[3],[3],[3],[3],[3],[3],[3],[3],[3],[3],[3],[3],[3],[3],[3],[3],[3],[3],[3],[3],[3],[3],[3],[3],[3],[3],[3],[3],[3],[3],[3],[3],[3],[3],[3],[3],[3],[3],[3],[3],[3],[3],[3],[3],[3],[3],[3],[3],[3],[3],[3],[3],[3],[3],[3],[3],[3],[3],[3],[3],[3],[3],[3],[3],[3],[3],[3],[3],[3],[3],[3],[3],[3],[3],[3],[3],[3],[3],[3],[3],[3],[3],[3],[3],[3],[3],[3],[3],[3],[3],[3],[3],[3],[3],[3],[3],[3],[3],[3],[3],[3],[3],[3],[3],[3],[3],[3],[3],[3],[3],[3],[3],[3],[3],[3],[3],[3],[3],[3],[3],[3],[3],[3],[3],[3],[3],[3],[3],[3],[3],[3],[3],[3],[3],[3],[3],[3],[3],[3],[3],[3],[3],[3],[3],[3],[3],[3],[3],[3],[3],[3],[3],[3],[3],[3],[3],[3],[3],[3],[3],[3],[3],[3],[3],[3],[3],[3],[3],[3],[3],[3],[3],[3],[3],[3],[3],[3],[3],[3],[3],[3],[3],[3],[3],[3],[3],[3],[3],[3],[3],[3],[3],[3],[3],[3],[3],[3],[3],[3],[3],[3],[3],[3],[3],[3],[3],[3],[3],[3],[3],[3],[3],[3],[3],[3],[3],[3],[3],[3],[3],[3],[3],[3],[3],[3],[3],[3],[3],[3],[3],[3],[3],[3],[3],[3],[3],[3],[3],[3],[3],[3],[3],[3],[3],[3],[3],[3],[3],[3],[3],[3],[3],[3],[3],[3],[3],[3],[3],[3],[3],[3],[3],[3],[3],[3],[3],[3],[3],[3],[3],[3],[3],[3],[3],[3],[3],[3],[3],[3],[3],[3],[3],[3],[3],[3],[3],[3],[3],[3],[3],[3],[3],[3],[3],[3],[3],[3],[3],[3],[3],[3],[3],[3],[3],[3],[3],[3],[3],[3],[3],[3],[3],[3],[3],[3],[3],[3],[3],[3],[3],[3],[3],[3],[3],[3],[3],[3],[3],[3],[3]],\"hovertemplate\":\"0=%{x}<br>1=%{y}<br>2=%{z}<br>Feature=%{customdata[0]}<br>Anomaly=%{marker.color}<extra></extra>\",\"legendgroup\":\"\",\"marker\":{\"color\":[0,0,0,0,0,0,0,1,0,0,0,0,0,0,0,0,0,0,0,0,1,0,0,1,0,0,0,0,0,0,0,0,0,1,0,0,0,0,0,0,0,0,0,0,0,0,0,0,0,0,0,0,0,0,0,0,0,0,0,0,0,0,0,0,0,0,0,1,0,1,0,0,0,0,0,0,0,0,0,0,0,0,0,0,0,0,0,0,0,0,0,0,0,0,0,0,0,0,0,0,0,0,0,0,0,0,0,0,0,0,0,0,1,0,0,0,0,0,0,0,0,0,0,0,0,0,0,0,0,0,0,1,0,0,0,0,0,0,0,0,0,0,0,0,0,0,0,0,0,0,0,0,0,0,0,0,0,0,0,0,0,0,0,0,0,0,0,0,0,0,0,0,0,0,0,0,0,0,0,0,0,1,0,0,0,0,0,0,0,0,0,0,0,0,0,0,0,0,0,0,0,0,0,0,0,0,0,0,0,0,0,0,0,0,0,0,0,0,0,0,0,0,0,0,0,0,0,0,0,0,0,0,0,0,0,0,0,0,0,0,0,0,0,0,0,0,0,0,0,0,0,0,0,0,0,0,0,0,0,0,0,0,0,0,0,0,0,0,0,0,0,0,0,0,0,0,0,0,0,0,0,1,0,1,0,0,0,0,0,0,0,0,1,0,1,0,0,0,0,0,0,0,0,0,0,0,1,0,0,0,0,0,0,0,0,0,0,0,0,0,0,0,0,1,0,0,0,0,0,0,0,0,0,0,0,0,0,0,0,0,0,0,0,0,0,0,0,0,0,0,0,0,0,0,0,0,0,0,0,0,0,0,0,0,0,0,1,0,0,0,0,0,0,0,0,0,0,0,0,0,0,0,0,1,0,0,0,0,0,0,0,0,0,0,0,0,0,0,0,1,0,0,0,0,0,0,0,0,1,0,0,1,1,0,0,0,0,0,0,0,0,0,0,0,0,0,0,0,0,0,0,0,0,0,0,0,0,0,0,1,0,0,0,0,0,0,0,0,0,0,0,0,0,0,0,0,0,0,0,0,0,0,0,0,0,0,0,0,0,0,0,0,0,0,0,1,0,0,0,0,1,0,0,1,0,0,0,0,0,0,0,0,0,0,1,0,0,0,0,0,0,0,0,0,0,0,0,0,0,0,0,0,0,0,0,0,0,0,0,0,0,0,0,0,0,0,1,0,0,0,0,0,0,0,1,0,0,0,0,0,0,0,0,0,0,1,0,0,0,0,0,0,0,0,0,0,0,0,0,1,0,1,0,0,0,1,0,0,0,0,0,0,0,0,0,0,0,1,0,0,0,0,0,0,0,0,0,0,0,0,0,0,0,0,0,1,0,0,0,0,0,0,0,0,0,0,0,0,0,0,0,0,0,0,0,0,1,0,0,0,0,0,0,0,0,0,0,0,0,0,0,0,0,0,0,0,0,0,0,0,0,0,1,0,0,0,0,0,0,0,0,0,0,0,0,0,0,0,0,0,0,0,0,0,0,0,0,1,0,0,0,1,0,0,0,0,0,0,0,0,0,0,0,0,1,0,0,0,0,0,0,0,0,0,0,0,1,0,0,0,0,0,0,0,0,0,0,0,0,1,0,0,0,0,0,0,0,0,0,0,0,0,0,0,0,1,0,0,0,0,0,0,0,0,0,0,0,0,0,0,0,0,0,0,0,0,0,0,0,0,0,0,0,0,0,0,0,0,0,0,0,0,0,0,0,0,0,0,0,0,0,0,1,0,0,0,0,0,0,0,0,0,0,0,0,0,0,0,0,0,0,0,0,0,0,0,0,0,0,0,0,0,0,0,0,0,0,0,0,0,0,0,0,0,0,0,0,0,0,0,0,0,0,0,0,0,0,0,0,0,0,0,0,0,0,0,0,0,0,0,0,0,0,0,0,0,0,0,1,0,0,0,0,0,0,0,0,0,0,0,0,0,0,0,0,0,0,0,0,0,0,0,0,1,0,0,0,0,1,0,0,0,0,0,0,0,0,0,0,0,0,0,0,0,0,0,0,0,1,0,0,0,0,0,0,0,0,0,0,0,0,0,0,0,0,0,0,0,0,0,0,0,0,0,1,0,0,0,0,0,0,0,0,0,0,0,0,0,0,0,0,0,0,0,0,0,0,0,0,0,0,0,0,0,0,0,0,0,0,0,0,0,0,0,0,0,0,1,0,0,0,0,0,0,0,0,0,0,0,0,0,0,0,0,0,0,0,0,0,0,0,0,0,0,0,0,0,1,0,0],\"coloraxis\":\"coloraxis\",\"opacity\":0.7,\"symbol\":\"circle\"},\"mode\":\"markers\",\"name\":\"\",\"scene\":\"scene\",\"showlegend\":false,\"x\":[12.405544,17.00232,-9.4577,7.860222,11.647634,-9.424868,10.79904,-12.707265,5.7028537,-8.193089,-8.27224,13.601774,-9.179614,12.402096,13.24843,5.465972,-5.285955,-8.0504875,-5.170829,-5.409106,14.814348,-5.095002,10.430947,-11.613417,-7.054168,-9.910041,-8.017705,2.2015204,-9.891732,-6.194162,8.918188,-7.6254883,12.999537,0.14353989,-11.562792,-7.2294126,7.4828005,-0.9289826,8.483166,-9.948295,6.7736998,-13.185132,-6.671833,-6.185093,-6.9025545,-6.1836543,12.777952,-6.396874,-8.086282,4.8368387,-9.052625,5.573467,15.429967,-8.061742,-6.0302334,-10.866658,-10.141442,-7.7797227,13.289372,-12.354296,10.16743,-9.342004,7.961724,-5.141053,-8.424754,3.8393397,-8.069402,6.445568,-10.548503,5.8814425,-8.366238,-7.0579443,-8.829703,-9.159359,10.850337,-5.0864253,-10.342645,-5.929369,-11.07298,-9.619025,14.361315,11.05375,13.310839,-11.587003,-8.190961,-11.142418,10.424804,-7.877763,10.475748,8.77419,-5.054484,15.3155,-9.79687,12.891007,-10.411718,2.8950708,11.628555,-8.519347,-0.77792656,4.925029,10.024327,9.72812,-12.184248,-10.962902,11.930215,-6.849569,-5.4873567,-7.226736,5.921172,-9.823416,-9.220261,-7.8039374,8.6758585,-8.920612,-12.149068,-9.1313925,10.492057,7.8309927,5.5597444,10.668881,-4.995196,16.15998,-5.2943926,-6.7018523,-8.913926,-4.9750953,-10.099706,3.212895,-9.528612,-8.509946,-9.8379965,-4.285764,-13.330914,18.054846,2.168721,15.329509,15.967328,-9.689001,-6.603479,14.243216,-8.335976,-5.9613194,-11.083768,-5.308493,-8.116453,-7.6972094,-7.1319838,-6.0902905,-11.906686,5.821612,-11.014787,-6.9837756,-4.135772,-9.430916,10.765653,-5.2400904,8.053914,9.986381,-9.861148,-10.567751,11.64498,-5.400029,-7.3113217,-9.089192,-9.481486,11.13607,-7.995365,-11.813121,16.044514,4.7390337,-12.071057,1.7783463,10.144706,8.91,16.063196,-11.175617,-8.884569,4.2176456,-9.9494505,3.7887745,12.80589,-7.619498,6.301235,3.4893048,4.4675145,-4.011189,17.348251,17.740099,-7.2584877,15.43289,-9.828446,-10.00944,5.5520964,-9.497868,10.279258,-7.063395,-10.885142,-7.3836884,-10.413003,14.118159,1.6190386,8.046657,-7.9751806,13.844499,8.467468,2.8027678,11.793484,-13.409724,-12.115753,3.0703597,-7.0546145,7.5643563,-9.429932,-7.625736,8.2985735,-6.587158,9.069485,7.19728,8.9451885,-8.120202,-7.263151,7.197763,-5.1167893,0.22044584,-9.582572,16.31008,4.346888,-8.893048,17.884966,12.073984,5.619428,7.4643116,9.394877,10.436004,-5.783118,14.857984,-10.090896,11.560305,19.557247,4.0469236,4.4131913,-10.67706,8.039548,-6.6186843,-11.464495,-9.411474,2.4322636,8.803165,-6.9975705,-11.641588,11.04112,-9.729075,10.387595,9.003031,-10.244158,-11.38827,0.72878706,-11.299493,-7.5938473,-9.532705,-11.711533,0.57039016,13.441918,-8.847983,-7.8304706,-9.351108,-10.204003,-5.7228107,-13.498721,-5.9478683,13.336927,-4.1572313,13.248899,5.7504787,-10.492368,12.270016,10.924269,11.108444,13.084038,-6.7885437,-6.9124045,-5.7759643,-5.853007,-5.683555,15.765871,8.905011,2.6651814,13.032577,12.319885,-11.623236,10.967493,-11.039578,-6.5698576,8.636865,16.065657,10.521567,3.9857762,-9.079154,18.055767,-5.7802887,10.456942,-7.5677423,-10.141111,10.525485,1.8953999,12.460491,6.616312,16.223131,0.79093164,-6.514541,4.987365,3.94213,-5.1531997,-4.436701,-12.110819,-7.82941,14.003146,12.754633,7.6679544,7.6058593,3.298597,-10.643725,15.564564,-7.094181,14.200204,16.05718,0.7574193,-11.748228,1.6586646,14.746256,-7.165515,-6.848519,11.419877,-8.249143,8.7213745,-7.3984985,-9.345821,6.1703973,-7.745871,8.886266,-7.413912,4.912703,14.05233,6.8801103,-9.065131,7.9965606,-5.3359222,13.188582,-10.782219,-9.309203,-7.8079824,18.815546,-12.611453,-5.789035,7.6171846,-5.4366674,10.629101,13.730992,0.047193985,8.565806,-9.207469,-8.140364,-10.4129,-9.760423,-7.1109324,15.1873665,17.622173,-8.687248,8.9347105,-10.356552,-9.529815,12.694032,-6.079607,12.0532875,-9.364093,-5.2155104,18.543577,8.963095,-6.2173457,9.891128,-6.6186028,6.1760187,-5.3123174,5.276336,4.226381,11.550027,12.250462,5.4994636,-8.830021,6.2967205,-10.040146,8.464433,13.817253,9.963777,-6.9562426,-9.245924,14.667211,-5.3966136,5.7299104,-5.5887165,-10.060315,8.5679455,-9.326679,5.5557456,-7.042529,-8.012975,6.633412,6.4096527,-13.396508,-8.756856,-9.702633,11.686691,16.737001,-11.509828,12.371317,7.607585,2.845885,8.470887,2.4457662,-8.663107,8.037655,-8.6304455,6.8382792,13.7317,-11.577821,5.815648,13.705556,-9.381058,-10.896557,-6.999666,-6.457194,-9.950287,-6.8377295,10.560836,-6.0822897,-9.837034,-9.899046,0.14290442,4.6481633,-11.646004,9.653246,-9.553837,-6.6700487,8.094618,-7.389588,6.5587044,8.062183,-10.942574,10.005581,-6.075991,3.955209,13.08686,-8.442181,9.012206,-12.014282,-5.1171794,5.6983337,6.174805,-8.144529,-10.717707,-6.1005974,-9.140538,-8.037143,14.113516,-9.575648,-10.144185,16.264606,-12.850293,-8.273059,-6.2300744,17.59805,-7.03709,-6.8165026,4.8821945,-9.747853,15.021071,-7.6740065,4.679504,-11.335886,-7.795484,-0.6890349,-8.910616,-5.8865004,11.608801,-4.5835986,-5.779259,-5.8466387,6.681199,7.2855873,-7.286237,-5.519916,-9.142016,-7.2522,10.34891,-5.7855206,13.860289,13.367073,3.2435424,9.293921,-5.7621226,18.093786,3.4813616,10.779285,-11.07643,-9.034186,9.025375,-4.86636,-11.692084,-7.1397276,-11.699434,-10.764272,12.297319,13.320907,-7.95986,2.7101343,-6.5833893,1.2227896,3.2318141,13.718197,-7.6491237,-6.5205836,7.305079,-8.487183,-9.457999,8.485567,-10.065091,2.8113852,5.299552,18.07746,-8.758022,-8.666259,12.598872,9.461649,18.58344,-6.9269648,19.504383,-8.419016,-4.8357453,-7.949554,-7.41198,8.838331,7.4184804,13.120402,16.277243,-12.348348,-7.4936314,12.722167,-7.9952993,9.176374,-11.411795,-6.9445443,12.981406,-9.169244,8.429563,7.6209073,15.495992,9.844327,-7.0599146,-5.479192,-12.030977,9.829063,0.8948391,19.374655,-10.290206,-9.92311,-9.716744,-6.6167126,16.22956,14.395481,11.3326235,-9.146146,-6.4063044,15.574711,8.034502,5.7620773,-7.328768,-7.7907753,8.069202,-8.976367,-11.425449,16.354666,-10.333213,13.677826,11.034429,-8.803648,12.672108,-9.466434,-11.744379,8.482117,-10.892847,18.143135,-8.135225,5.880813,-5.8483434,-7.5569725,19.054802,10.595972,7.996174,-7.633161,-10.391268,13.876874,-8.27272,-8.947192,-9.632743,-11.129567,-7.0214524,-8.63867,6.801334,5.6311784,9.491388,14.400118,-6.813281,10.564777,14.2201805,-6.403861,-9.698237,-5.0504904,11.210128,-7.8119354,-6.027704,-8.2115,-8.4136915,-12.606983,-8.111172,11.857624,-8.059466,2.6410506,-8.557541,8.60074,9.496982,-6.451737,15.593978,6.8534646,11.166384,11.219894,-10.562917,-7.983025,1.2044134,-10.212767,5.1867867,-9.61277,-12.545302,-11.616493,6.2426944,-9.591147,10.452243,-6.7880116,-8.063837,5.43261,7.700351,15.691335,13.5039215,10.05614,11.173858,14.052411,15.246596,9.146739,14.125615,15.309495,-7.948437,10.400709,15.770398,7.3941617,7.5114303,0.7129443,2.465447,15.306104,-5.759285,15.998444,15.358233,-10.942623,4.340237,-7.6302986,6.8929176,-6.869252,-8.912048,-8.039763,-9.273907,-10.336042,-9.64265,-10.834739,-9.85476,3.6805727,-9.640677,10.269284,9.558705,-9.84011,2.087139,-6.5259085,15.5692005,-9.901897,12.032694,13.54458,-6.1693087,17.234562,14.464854,4.8753414,5.6436267,11.678632,5.15247,12.937957,6.0252624,-11.561527,-13.369378,-9.311839,-6.726021,10.540728,7.1025887,-7.6658635,-7.125165,16.621634,-6.100275,-6.912882,12.893916,10.524595,-7.547329,11.703286,-7.205034,6.7407923,9.735423,12.868743,16.253614,11.0206375,-11.10934,-7.3104234,14.1506,13.6690235,14.536053,9.574599,15.203412,-6.0746136,-6.888265,-6.457775,-10.45785,-9.820985,-7.7686167,9.076009,-12.972924,-8.164542,9.265688,4.330135,-6.0255055,5.651233,15.114162,-10.180464,14.9567795,6.1032076,16.738695,-7.907892,-6.302106,-4.478082,1.4214733,-10.695652,12.388995,-8.752461,-7.9983773,16.157679,-8.948141,9.405702,9.380247,14.538264,-8.801663,-5.132907,-7.6961226,9.533264,-6.181524,5.920856,5.947959,-10.459311,6.6262703,1.1185259,-6.8054414,18.766447,-6.752675,-7.4119687,4.199465,5.687212,-10.484384,2.175518,11.520695,-5.5610137,1.1551178,-7.3974442,-5.9119263,13.238409,-11.405784,8.212267,-6.949784,-7.7856474,-7.533123,-9.900101,10.325645,-13.434968,8.863002,-10.200796,9.643477,2.1415715,18.583216,-8.121552,-5.880805,-5.298159,-6.9342012,-8.664906,-7.352889,-7.1342816,5.413052,-7.0765014,-9.287766,14.680272,-11.563498,-10.648008,-11.207898,4.6263676,-6.4837546,-6.917836,-11.692962,9.481635,15.620184,6.9743195,-4.6907473,-10.412596,-7.1251073,-8.927173,13.679474,2.1195617,9.705052,-6.149444,5.2458744,9.661076,6.745973,-6.833133,14.626982,-8.803942,-9.307932,-9.431312,-8.690343,8.922597,3.2546241,15.537145,0.073431365,-8.80221,2.7150486,9.011837,8.841384,5.512425,0.0041010114,-13.28693,-11.89791,-4.9248195,2.3036551,4.4449415,-7.236181,14.966724,8.726235,5.5568123,-9.993013,-6.6527314,-11.798031,14.182989,-9.653422,19.62073,-8.816567,4.9200296,-8.680594,-7.297014,5.4257956,4.025021,8.169794,11.809064,-9.738012,-4.794366,3.139669,-9.702012,-7.0211754,4.318992,-9.80638,-8.321111,15.050387,-7.187992,6.4815016,8.89389,0.66990674,8.034553,-6.8060474,7.153888,15.461767,-6.929278,4.236632,-11.668851,-5.661666,-8.030287,8.122003,-11.046545,0.011112974,1.5761044,6.4501233,-8.199632,12.430935,-4.975733,0.9611272,15.62949,-6.9754457,-9.631258,-5.4265904,13.305132,-4.973933,-6.4708867,6.12973,-11.707321,8.177513,15.084885,14.027804,19.749655,13.243934,5.2986526,11.6958685,9.761188,-9.940803,-6.5552764,10.590886,-7.246628,-8.4811,-7.111043,18.701145,-7.1729236,-6.2025156,10.923649,-7.587795,18.43418,-12.844181,-10.890561,6.9888163,-10.304405,-6.107769,-0.07816859,-12.419909,6.7770243,14.763256,12.528272,9.089277,-6.789158,-10.750214,-9.619373,-10.123304,-6.2379107,3.8952534,14.505585,-9.182132,-8.218044,18.221567,5.4739933,11.806913,-6.710645,-5.7709246,12.331492,-9.910683,-0.06205308,-6.575515,-6.6677966,8.170176,9.944444,-7.4041924,-5.7199883,-6.120954,-10.898231,14.892075,-8.959794,-11.931711,16.938427,-6.1237946,-7.4384813,-8.3866205,-11.053513,14.788344,4.742802,-9.4013195,-11.840524,0.26305774,-8.448749,-5.086125,-8.3590765,-5.333179,-6.091621,-10.643328,-8.9464245,12.601197,13.303983,7.1281595,5.512255,5.024827,6.8956304,-8.756542,-10.469595,-6.37388,8.422024,-8.676293,-5.198156,9.249107,5.150414,11.360227],\"y\":[-0.7221048,-0.3323087,1.6634182,4.492992,-2.6960034,-6.503089,-0.31897226,-6.500108,4.8929267,0.51691556,-4.2590938,3.4514172,-5.9328594,2.0726597,3.9215326,5.935935,3.6321154,-9.426895,0.58325183,-8.14544,3.2939758,-1.8603452,-0.5590047,3.1094341,-3.5521748,3.6573575,-0.015970161,3.147887,5.4922276,2.165096,-0.057570003,-6.1787715,0.62991816,1.478852,-4.3786345,-3.6018674,-0.6364836,2.9619243,4.2548156,-2.4640253,5.083338,-4.645055,4.6299567,-0.50591826,1.9330131,-6.9072843,0.47122282,-0.1916372,0.13774487,2.2060902,-2.9178045,3.7661493,3.658982,7.6335936,-0.38017175,2.3352513,5.648398,-9.360757,0.2119318,-2.718304,3.341514,4.1911817,4.6195173,-2.979103,-8.129802,3.5235374,-1.8028421,4.9639225,-6.601218,1.3298007,3.7609134,5.5184207,5.3240495,-6.343086,-0.47626618,-3.0902693,-1.2587374,-4.8731704,-4.0693297,-3.5506914,-0.35354385,0.87550616,2.3361676,4.6753707,-9.778863,-6.2253876,3.5376806,5.1958256,4.125789,0.7708657,-1.1708118,2.2652235,3.26331,0.6381272,5.1166377,3.024063,-0.83727866,-2.3078156,3.3445897,6.4239874,0.26157677,4.4212646,-2.4555213,0.8181961,5.1926003,-4.3469105,-3.732997,4.4573355,3.9897246,1.0077697,-1.5040959,2.3262224,3.7962406,-4.6816587,-1.6317872,-1.9332067,1.4164518,1.028616,1.4590956,3.2099793,3.373628,3.0165858,-2.9873376,-1.9549191,-6.9034643,-0.6562983,-6.106643,3.5013294,-9.191607,-3.1943853,-2.8926544,-0.8527682,-6.941467,0.5072729,3.5904284,-0.39737618,-0.28411803,-9.327108,-6.312824,-1.2449949,-8.480499,-4.0651765,1.517433,0.5063729,-2.7516751,-0.0869475,7.9839716,1.645117,-3.125113,-1.003995,-3.741161,-3.8336616,-0.49847597,-8.037419,-0.40348694,3.0495412,2.0390337,0.0010380563,1.1473413,-0.018507013,3.9309099,-0.47494587,-7.018508,-4.976651,-3.214445,2.219051,7.8919797,-2.4181595,0.32342064,0.6815124,-2.3484898,4.3259254,3.1380177,0.49774912,1.0915954,4.796776,0.9048592,2.449889,-0.443274,2.5725453,4.673389,-3.758015,-0.5042701,3.3871236,4.7814374,-1.9399428,-0.06557414,1.2590882,6.7629395,3.6439576,2.5044,-1.5446523,4.110543,-9.159903,-1.90678,-0.74543285,-3.2150657,1.4518166,-3.2614295,-0.87374336,4.4122324,1.6761655,-9.21507,0.14972238,3.625706,2.5619268,-2.592913,-5.261185,-6.51123,1.7488934,-4.7395396,4.2201824,-8.342923,-7.098379,2.0274103,-7.998151,4.1143384,4.8931365,2.5549903,-1.0213172,-1.9347354,3.3398643,0.53038484,3.08138,-7.882675,-0.47161195,5.7619348,1.3351529,2.468599,-0.86371803,0.6889675,4.9183316,0.06472762,1.0481509,-1.0618675,0.54666376,-5.270045,2.7022276,1.6505663,3.010418,3.2569144,1.4353495,-0.554891,-4.8265796,-8.029527,-7.742684,1.5038006,-0.16650763,-2.2755973,-7.3965874,0.36170384,2.4633994,-1.3671927,4.6490903,4.2974243,-0.14186043,2.1286364,-4.103371,-0.3541582,-6.475204,-6.4681497,4.019826,0.6927432,1.2621223,0.13002923,-2.1222208,5.0646925,4.3361683,-5.311637,-6.5767694,-0.20207329,-1.5150162,-1.7664423,4.311044,-1.1909976,0.22309537,4.5092483,-0.30506238,4.8116264,2.7901762,-7.987585,-3.4598773,0.92636126,-7.158739,4.4289064,6.0519204,1.7665056,2.9756727,3.5230541,-4.858975,1.5423403,-1.6082293,-5.212379,2.011895,3.0638332,0.09365943,1.9103392,4.517962,0.484833,-2.7588634,3.0493734,5.953628,1.465166,-1.195542,2.9521217,-0.5477562,5.4045687,2.1214333,2.9842813,4.97108,3.5164056,2.9433281,-0.5954614,2.458443,-7.6889176,6.0266743,0.19503999,-0.8344013,3.7650557,1.0937347,2.3779352,5.2946734,4.4377646,-8.370934,2.5013785,0.8112036,2.2496793,-6.649264,2.4270537,0.67517567,-0.9965491,-3.3995154,-0.2579895,-10.074665,-0.57000965,-8.149049,4.5376887,4.7152424,3.7688491,3.0931504,-0.72082746,0.9168885,-2.8797817,0.5837437,-7.5589986,1.9988077,0.23448974,-2.7340894,0.74132955,2.8617797,-8.697341,1.1102083,-2.2164233,3.8357234,3.700814,5.224672,0.96622825,-2.3519192,1.5839716,4.1849194,-6.8758717,-2.7746975,5.6923704,-3.270772,4.0805264,2.3434765,2.804821,-5.49761,0.8457139,3.74184,-8.388739,-1.4104682,5.983104,4.990893,-9.054332,-8.308748,0.7903267,3.714285,-3.8843572,-0.48806083,-7.9006395,5.5612493,-0.22628902,4.228091,4.2007127,-0.504603,2.4457755,2.325721,3.8487573,5.35634,-7.234029,4.222104,4.356745,1.7334292,3.3013465,-8.690854,-0.72161436,-1.8209716,5.317329,-3.8537853,-9.684565,4.285635,-2.991227,4.407297,0.5326702,-3.7877963,4.9849997,1.1081419,-6.85439,-7.322421,-7.914185,5.382177,2.960641,-6.0523043,4.293598,3.9121604,1.7153028,3.4733791,4.327961,-9.792017,2.0444925,-3.7114577,2.8265219,-1.983761,-4.4915166,2.7082868,3.6150246,2.5060015,-0.08221359,-10.0272665,-6.7589035,-2.3729947,-7.4329224,1.2475061,1.7686658,-6.7664013,4.6082263,2.977314,5.4677587,-9.06564,3.0325336,-8.619429,-8.318032,2.6023057,-7.097134,4.5569754,2.0208223,-2.729251,-0.5227886,-7.2683687,1.9979656,-0.7522495,-3.168864,5.2950344,3.9139051,3.2690058,-1.098786,1.4799016,-9.204704,-1.3825703,0.38449073,-10.027213,1.5220821,0.9460302,-5.2450013,-2.520524,-0.2572897,-7.88258,-7.6142697,-5.9358983,0.29151613,-8.404104,-7.1378818,3.3055027,3.0269344,0.8939839,-7.352099,-0.09950727,1.8652902,0.47015932,3.4022267,-7.301557,1.1664492,3.177525,-2.2564273,0.8426402,-7.299508,5.6524305,-0.73726,3.717517,-6.057631,-6.862692,4.2588644,-0.68189126,-5.653463,0.64899707,-0.34044054,3.2772627,3.797296,1.1739376,1.1283926,2.7000833,2.662745,-4.0904827,-2.2919564,3.5946033,-0.010027128,-4.9905515,5.149325,-5.681555,-4.140766,-1.1584202,1.9484862,-0.08988005,3.529421,-6.2138433,2.5907364,3.4974937,4.297258,-5.0020394,-0.13023442,3.6404903,-4.643855,-0.42036113,5.3338842,3.5214777,3.1818607,5.9555206,0.36313352,-7.472114,-3.8342295,0.24390087,-0.43942636,1.3607432,-4.1586695,1.4290792,5.1779785,2.7313526,-6.2203774,-6.9964485,4.3352423,2.0960085,1.4074647,-0.261245,-6.2556577,6.349292,0.27261385,8.073462,2.9329965,-6.058253,4.8159223,1.8406016,-8.983313,5.456546,0.2811486,0.6175353,1.1668185,4.9369307,-5.8057647,5.0065994,2.5824215,2.6751342,1.3690518,1.5893774,2.9024582,-9.435059,-1.281557,0.084269494,2.1696754,0.07610435,-8.29177,5.416799,0.5502712,1.7354392,0.63479203,-6.7612185,-5.8484373,5.3578067,-4.5705104,-5.2679605,3.7710462,-0.19592911,-0.07596641,3.0302067,1.2168561,2.020119,2.470203,-7.5653796,4.977935,0.48913303,1.518113,-7.458747,4.7151327,-0.16636093,1.5200434,1.0706309,-1.3962872,4.5454435,-2.0565562,1.5283055,0.90138,-7.98953,0.86003804,-5.738515,-8.184588,-9.920491,-2.1072018,3.387575,3.2730289,2.9659436,-0.2636319,-1.0324999,4.558462,3.0142603,-3.728107,-7.36187,-3.3658834,4.728953,5.131128,0.628725,2.0363483,3.3999422,-5.7721643,0.8462426,-0.69284594,-7.8078094,2.755902,7.7552633,1.4327338,0.4565802,6.2000103,-0.673574,3.9043489,1.0404389,-0.8621759,3.8946364,-5.614321,2.760522,6.596571,4.7801614,-6.584942,-8.24902,3.274158,1.7320094,-5.0435715,3.9032938,-6.5283384,7.6330233,5.2670794,1.5668154,1.2110199,0.75314355,1.2053406,0.25084385,-2.8080144,-2.592586,1.6846989,-1.4043257,4.668767,-1.1425471,2.3784747,-0.6156564,1.4397137,7.088805,2.6863406,1.9629765,3.8956518,-5.729427,1.7830819,2.0533714,-4.090126,5.697683,-0.50058,4.2321596,-4.6040354,1.8006247,-8.425352,-2.4880803,-3.567286,3.0119967,4.456811,-8.050436,3.268551,1.4710523,-1.4780052,2.2641134,5.443007,1.7433332,3.1218622,4.246127,-2.1478913,-0.46147892,-2.610845,-2.979827,0.010371526,1.5399561,0.4581017,3.8738344,1.8653102,2.482818,0.51179606,2.7896824,-4.441068,-6.870861,-3.402564,-1.439025,-0.31041777,4.4673557,0.66739,-2.0964131,0.023527052,-6.0541787,-1.8432244,-1.1944269,-1.0197293,0.7599461,2.5377975,-2.7641692,3.2445993,1.6232036,-0.8727513,1.3954722,-1.5733057,-7.0407724,-8.9728155,-3.7461853,-0.050059225,4.4480124,1.0345021,4.0546165,3.00813,-4.852957,-2.0275035,-9.656512,1.7727964,-9.151743,0.5283861,-2.2335455,-0.8726238,5.2196193,3.0052955,-3.7863882,4.6503186,0.7514051,-7.5112963,3.2397695,3.6992586,0.5469109,2.715966,-3.9568431,1.6210657,2.446221,-7.7961035,-0.6083981,1.8042889,-7.7464485,2.5277245,3.2724338,2.0348065,2.9715972,2.1271105,1.400155,0.049670387,-4.157829,0.7875306,5.711902,0.9402704,1.0149925,-6.9649954,2.0277803,3.032545,-5.7455206,0.38768184,-0.8645679,-7.41718,0.89472085,2.6834521,5.221056,2.6153824,2.7683034,-4.688024,2.9897466,-2.2497013,-4.6764793,-3.107368,-6.4997587,3.5975947,-5.007436,-9.418549,0.7634376,2.6025434,1.5382144,-7.363558,-0.71922725,-5.7391844,-1.4132082,1.5449717,1.0441821,-6.0342536,-3.5097206,0.41983378,-1.2999539,-6.364049,-7.991451,-3.5265253,5.209064,-7.8304253,-8.133595,4.9089174,-4.519222,-6.8029394,-8.12716,2.3010383,2.6639977,-4.5325627,-1.4895892,1.9114695,-0.21111916,6.877507,-1.9832152,-3.5450041,-5.089072,-9.361834,-0.18947534,3.3992898,4.5241694,3.2830663,1.8356107,-1.5314212,4.5051136,3.2357635,0.31952974,-5.454394,-8.545029,3.0811048,-8.284246,-0.60888165,1.9066049,0.4924865,1.4395382,-3.9561918,1.8582189,1.9873033,4.2363577,1.4816842,2.645367,-5.2131305,-3.103403,-0.079939045,3.7235346,3.4442596,-8.345347,0.045744374,3.6853735,2.7893577,-3.2304204,-8.388791,-6.251365,-3.1006277,5.5424094,1.7168856,-2.7304902,3.6396456,-9.105323,0.9693202,3.4511766,3.4114678,0.31900868,-0.5195712,3.0352292,-1.8856872,2.4718008,-7.7669334,-3.6662138,3.0764217,-7.8588004,-4.60227,4.579608,4.8182387,3.9378846,1.7454623,2.1828873,5.327632,-6.1194205,3.0895753,3.6694205,2.7044618,2.653385,-7.76567,-2.6540623,6.782564,2.0383978,0.71944827,3.200273,1.6260535,0.07287221,-4.537991,2.6908686,5.3084073,4.494448,-0.4380264,4.8622932,3.8094509,-1.035984,-2.9418607,-1.2206419,4.354163,3.5048258,-6.5639696,1.8669487,4.0566306,1.7383595,1.7710807,0.6678754,3.3257532,3.042586,1.0550394,2.684866,-1.6925063,-0.9938487,0.077671476,-4.107076,-4.1936507,0.7453905,-4.459082,-5.3124175,0.83845437,-6.5005703,1.0042117,-7.110995,-2.948,-0.95779413,4.23311,2.8333988,3.7128825,-6.384748,-0.5283454,1.1755811,-0.019566247,3.1392708,-7.3609204,-0.34923834,-8.768385,3.198688,2.7725656,2.0506525,3.267927,4.856646,-8.92552,0.9963738,4.850053,5.3609324,1.3743821,1.4103389,3.2960572,5.1088977,4.084666,-5.698108,-6.9782524,1.8225683,-0.19909588,1.9146024,1.112068,-6.5620008,-7.403119,-2.6323512,-4.2773595,5.302828,0.7973858,-8.082353,-1.4924941,-3.5018597,0.3633843,1.9785639,1.4637096,5.037194,-0.7723058,1.8771495,-10.197022,3.5279357,2.7316053,4.350466,-0.09283445,-1.2081617,-3.9286416,-0.27560776,2.5477438,0.48296648,4.704819,3.9978256,0.4422544,-10.086644,-9.799807,1.2170874,3.7149239,3.9361289,0.18813424,1.3180777,3.1760197,1.1600437],\"z\":[-4.6089144,4.3024516,1.4353546,-4.390906,-3.0605495,1.4519849,-6.382866,7.851506,-11.270029,-1.0899907,1.2402897,1.2567309,2.3693912,2.2347562,-1.4974576,-8.033305,3.2799542,11.316103,1.2102922,1.5411149,-2.5992465,2.9127426,1.0612451,-1.6854612,3.0312984,0.7999293,-4.151315,-11.248048,-2.3578022,-0.8207897,0.002425366,8.526744,-1.7097886,-11.795988,5.2332187,8.263615,-5.722774,-10.858133,-8.927376,-0.98105264,-7.3291264,4.181131,2.594943,1.9275469,0.34306902,5.0350995,3.600164,-3.9784288,3.4174232,-2.212606,3.4545238,-11.4556055,-0.70346874,-1.3746176,-3.5341282,-2.3422163,-2.0819077,12.280014,2.4107077,2.6853836,-5.0948734,-3.2541716,-8.284012,4.095787,9.161997,-4.679454,1.4203502,-4.6629496,2.3457274,-5.0434113,0.2635082,0.9393462,-3.264226,1.1908932,-6.327623,3.8170938,0.5485277,8.092135,2.426128,4.555234,-1.6430967,-4.2331996,-2.8334394,0.05206487,3.8913252,2.6540346,-4.287127,-1.9218341,-1.6438727,-8.862624,0.5913812,1.6593485,-3.2678883,-3.1552696,-1.0714558,-10.324123,0.42120996,7.288794,-10.025641,-8.884003,-4.951534,-1.825075,2.2283604,-2.1632085,1.6578827,3.1289773,3.8049479,0.67124206,-11.438776,-0.70556456,7.188727,-3.3665366,2.5612645,1.1633403,-0.7184329,7.229054,0.3615145,-6.920636,-1.8414855,-3.9823132,4.5639906,1.1425679,5.488622,4.025892,2.5871696,3.2145946,6.6256995,-12.275906,3.9995043,5.5218697,-0.8412062,6.7529197,4.595557,4.252261,-10.7038555,2.62361,0.36129147,3.833999,4.336788,3.1681867,10.348497,4.769886,0.4267576,1.363873,7.236637,2.1505961,-0.13482192,6.4128146,2.2522123,-3.66021,-0.6670034,3.2145722,3.0597198,0.24246465,1.6400127,3.1592784,-3.2086358,-4.539621,0.13997047,-2.2679334,-0.8943472,7.057556,6.155429,6.532909,2.3810077,0.3000301,-0.8919113,1.3870671,0.6693352,-6.961352,1.7425082,-9.588958,-4.0450387,-5.495375,1.7347325,-1.386286,-2.4770398,-12.1354265,1.5907477,-9.8389015,-0.28183088,10.629106,-3.3443108,-7.772901,-6.8577504,2.2909691,3.3497608,5.9703393,0.030327436,-0.7025404,-3.0312111,0.35642982,-9.585684,2.7142735,1.7989643,-2.9101746,4.4941344,-0.21073282,6.1055,2.5097513,-9.884026,-2.5396845,11.647303,-2.9840102,-9.351342,-10.536391,-3.223819,4.6872025,2.484287,-6.836577,10.393719,-8.434858,8.203964,11.733066,0.03777254,6.790388,-6.158739,-3.8077235,-6.319732,3.8414452,2.8067288,-9.421653,0.4282138,-11.711287,5.4859776,1.4887627,-10.12128,1.9628181,2.8642256,-3.671005,-4.429593,-8.386627,-0.90244216,4.0576196,1.4170712,0.45738047,6.578309,-1.5928481,5.6484804,-10.52794,-13.333761,0.040084086,-5.639384,8.690612,4.4900327,5.010289,-12.75039,-0.0035025363,10.09719,3.0356817,-4.4266047,2.8702035,-7.286928,-8.596402,1.3007357,1.8047658,-12.039049,3.1449528,0.685451,9.660457,8.335341,-11.167255,-1.4660162,4.1457825,-4.111942,7.075445,0.39249194,1.5215687,5.4357667,9.717407,-3.4555132,6.7728853,-3.3014157,-9.386308,-2.2069294,3.0518897,0.78390855,1.3683113,1.3827386,4.3999405,2.0305986,10.263527,5.133782,5.8200426,2.3529923,-8.496848,-6.64874,-1.6528313,-1.6651897,1.4000069,0.31899238,-1.7774476,10.948263,0.4131054,4.9225016,-5.316743,-5.722339,-3.2809403,3.3205822,7.581015,-3.8952394,0.8644824,2.375528,-0.32264486,-11.254122,-3.6537218,-12.440135,1.900969,-10.9889,2.7829404,-3.656357,-8.890259,0.2906278,3.7526681,2.9525964,-1.7715725,-3.441492,-0.2368373,-8.260805,-5.0508556,-10.155956,-0.30286765,2.2201977,6.7352095,2.1543405,1.8362353,-10.309331,6.2504177,-11.318609,0.8369986,2.2803004,7.1927705,-4.4537067,6.6185303,0.079845354,6.7331877,-3.251624,-11.82392,-1.1003977,-1.2234771,-4.226175,-9.195824,-3.4744902,-7.98124,5.4060855,-8.324181,0.012501241,-0.1985357,0.15134588,-3.163533,11.481145,3.7855177,-0.22492796,1.5213435,-3.690074,2.2806785,4.139047,-3.3120015,-11.095256,-7.3582883,2.0837595,1.5450288,0.13329795,3.4830623,-1.4554416,4.8281865,2.5641894,7.0095243,-5.6214156,2.1213562,3.4706197,-3.7569582,1.2088056,0.18172269,7.439926,1.9018853,4.6258283,2.4210422,6.925004,-7.70602,6.593531,-11.7318945,6.9859667,-12.917222,-6.8943586,-4.541741,-3.7019863,-1.8695382,0.50953704,-3.4806206,8.670313,-9.418283,0.7496557,-2.2820344,4.9288607,1.4779391,0.7207474,7.803796,-10.645173,10.535896,3.950575,-9.526929,-1.1445516,-8.752881,-3.5916114,7.989459,-3.566767,-5.2602477,7.576042,3.4994977,-0.011261297,1.8744327,0.81504256,3.936446,-0.22385257,-4.8457036,-7.989017,-3.8555257,-10.63974,7.8449984,-0.49537954,-0.92460823,-8.816955,-3.2476199,4.640811,-10.912879,1.0026168,-3.9953144,1.7629358,5.799717,1.3950884,-0.60650516,1.5208434,3.6900427,6.4709907,7.760016,-3.9429102,-11.836447,-7.7765975,6.3044024,-0.7122542,5.945225,8.519637,-4.7282896,11.94188,-8.479998,-4.7968373,5.880302,-7.047577,9.372006,-5.8726907,-0.085136935,1.620324,-3.429475,0.30968374,4.907227,-3.7241583,-7.5776534,9.985686,-2.2639027,1.6264344,7.910001,0.2916147,2.8521256,7.412658,3.0040877,4.0583816,2.2144833,11.824822,10.503152,3.2789786,10.431337,4.786654,-10.163217,-1.4936128,5.189049,4.811318,-3.3658786,0.61048836,3.5455503,-10.327158,4.920767,4.385478,3.1558783,3.1745985,5.5414734,2.8442254,-10.686704,-5.6743765,4.697548,10.991758,5.0135217,1.5173582,0.8722407,12.075299,-2.2850344,-0.62373936,-8.1368065,-3.4986494,5.1975284,5.6253843,-5.4002523,-2.896504,3.23186,0.6109733,2.6715157,5.0511875,5.856899,3.1989722,5.8929496,3.1548128,1.2183887,-2.1816554,2.2787752,-9.95281,9.0528755,-7.4834247,-12.316067,0.429163,1.4196947,-3.8588598,-4.4818907,2.1884463,-1.9727968,-8.934069,1.1863251,-5.139642,-8.13898,3.6035166,3.9824238,4.8381624,-1.421008,-6.7001534,5.8118215,7.194425,5.0555663,-3.061146,3.8433468,6.4143896,8.412124,-7.810353,-8.568198,2.2324867,3.7763512,2.0085955,0.7861166,2.3809764,-1.4793968,-1.0219228,8.386624,1.9948056,-3.194299,5.8412485,-3.2684567,-6.6905518,4.6954904,-2.1891973,2.0837579,10.982965,-0.5153441,-0.0402029,-7.787275,4.4535584,0.5020646,3.335108,2.214762,-2.4771593,0.17963615,2.3403184,1.3702656,3.691846,1.6615812,4.557845,-9.490177,-7.142237,8.299347,9.81244,-10.643982,-1.5076748,4.1778803,2.0648217,2.767841,2.5304878,-2.1173127,-3.286152,-3.3459356,0.8527336,4.0618844,-9.341603,1.950477,5.0933785,11.60266,-6.86112,2.7109292,-0.4592772,5.0298333,-0.83050406,-4.357082,2.1107447,-2.727159,2.5627456,8.603727,-2.6683948,7.6314588,7.134896,5.895719,7.314699,-7.4407825,-7.5607915,-5.117309,2.496349,-2.7879725,-0.7830742,-2.9227023,2.38653,9.003039,8.860589,0.9292493,1.9704561,1.5512782,-1.6120737,-1.3223176,5.259317,-3.5661922,-0.005318734,9.484271,-11.869699,-0.85566705,-1.0878545,-1.311722,0.8435747,2.9132488,-8.650076,0.94169545,-6.3954897,-2.1268146,9.934356,-9.737396,-0.15924078,-6.7256517,5.935276,5.4015884,-1.7443422,-6.7982106,-0.072999194,0.61629504,11.725363,-1.2446378,-10.251478,-2.2362313,3.844193,-1.2207901,3.7923567,-3.680102,-3.4868822,-1.974484,-4.173701,-2.7551298,2.1122909,3.7192113,-3.4702775,1.5797436,-5.169189,-7.9630003,-8.00595,-10.324251,3.6649272,12.009894,2.2026026,4.2439027,2.5575168,-10.298571,-3.0771902,-3.9182153,6.5457416,0.3327909,9.887352,7.017542,4.283085,-0.123779155,-2.0999424,6.1463804,-12.790762,0.50472784,-7.3582053,-6.935976,-3.154934,-12.125649,5.668359,2.0684268,0.059320465,-1.1383439,-2.7761993,8.2090225,3.6222708,5.2651095,-3.5101056,-5.5193787,2.1296546,-5.7014093,-3.2935643,-2.2264802,1.5659271,4.7720942,0.05998859,0.73498833,0.5040744,-8.338612,-3.5900257,10.099286,3.0627048,11.447596,3.5131388,-0.38857636,-0.76371056,0.30957934,-3.7685008,3.224038,-7.471005,1.6627331,-2.797495,2.8000479,-1.210174,3.370871,10.288976,-3.331507,2.4119656,0.08598452,-2.9618833,3.5438545,0.73273724,8.926331,5.131635,5.1971474,-2.782373,12.144683,-5.864646,-0.21703702,3.7296078,-3.4751065,-13.347421,3.466189,-6.78067,3.8874269,2.655013,0.69504136,-0.5447161,2.90109,0.573491,3.8104134,0.24478441,-9.085915,2.662762,-0.16663755,-3.5312974,10.908253,1.7261795,-0.7151376,-5.5592036,-5.647828,0.8670183,4.2659197,3.7586844,-0.9250866,-1.0564125,1.9859465,-8.460805,-8.68726,2.7510092,-8.761978,-12.31428,11.105481,2.7359624,2.2823126,1.4840726,-1.045661,-1.7978661,-1.2123892,-8.986553,-1.5131193,7.709951,-11.040133,3.14424,5.1379375,-0.31408274,6.2272053,-4.5608454,8.949845,12.358698,-1.6058826,3.1509771,0.27659136,4.3909106,-5.8438396,8.172861,1.5839152,-12.471158,4.8333826,3.3043647,1.891422,5.6095624,6.1373444,3.201073,12.130123,10.239059,-10.899672,1.5899465,7.0532393,1.9787372,4.3841014,2.934261,6.173648,-5.8161077,4.4574986,6.567368,-1.1137993,0.49453628,0.86481273,-7.891767,6.9234624,6.117721,8.962738,3.5153298,3.092086,-9.655801,-7.7117057,0.88417584,-1.5774508,1.5998248,-0.92929596,4.4225206,2.8892925,7.2322254,0.9385803,-3.2961824,8.650941,-0.9834494,-9.788852,4.970251,-11.112921,-0.88926476,-6.859547,-6.9907126,-8.179785,-1.8245885,-12.061422,4.707158,-0.0977526,6.556727,-10.979997,-3.6425178,11.231419,-3.823692,1.244731,-2.1575074,2.0148435,1.892382,5.8788037,-3.2972429,-2.5351477,5.555405,1.4639747,-5.6282716,5.5269237,-1.0844076,-7.591905,-7.6041036,-6.388899,-3.6782718,-1.0046369,3.0998056,-12.184178,5.839375,-1.2264014,-13.36913,2.565711,2.4306056,1.7928526,4.091954,-0.8672778,-0.84321827,-10.386478,-10.554167,11.487472,-8.690651,3.9910288,4.1938014,-12.661406,2.9718254,8.752401,-1.438213,-0.43126345,-1.9353939,-11.911909,-12.099987,-2.702752,3.6291044,-3.7017684,2.671575,-10.49155,0.46791083,1.739832,-4.0584793,7.4057016,-2.8492692,0.47556967,1.5622927,-10.936465,8.240618,-7.4558396,3.6509175,0.1016195,5.8494263,5.162168,-7.9588385,2.9750676,0.79604733,-2.8628047,4.224178,0.2900352,-1.754929,4.3630075,6.497141,3.5113184,-0.80273396,10.714494,4.421675,6.1044807,5.1222277,6.795622,-0.3570641,-5.6200366,1.734795,6.0738072,-11.240311,7.689614,-5.7500935,3.228245,2.2018719,-3.9770405,3.1415467,-2.3125737,8.90056,-1.5814068,5.860498,-5.8633475,0.40506876,3.04749,9.924768,3.5071604,-10.265194,-0.3586652,1.9309565,4.1899433,-1.6252915,-2.473402,-11.609802,10.458028,1.286629,-9.010131,-4.3493233,-0.14222397,5.131038,9.721231,4.4878697,-2.3258054,2.2896178,-1.1273046,4.89834,7.188662,7.1567245,-0.24200134,1.3989087,-1.965866,-1.443072,-0.038756475,1.9802691,-10.519063,7.19821,3.5658927,0.5168164,2.6388254,5.8435216,-2.2831898,-1.066909,-1.3123633,-3.7465405,-5.8583674,-11.170977,-13.035572,-7.9683585,8.009118,4.8116417,2.7041652,-2.2669282,-3.4945095,3.3227189,3.8663163,-3.293004,3.4437523],\"type\":\"scatter3d\"}],                        {\"template\":{\"data\":{\"bar\":[{\"error_x\":{\"color\":\"#2a3f5f\"},\"error_y\":{\"color\":\"#2a3f5f\"},\"marker\":{\"line\":{\"color\":\"#E5ECF6\",\"width\":0.5},\"pattern\":{\"fillmode\":\"overlay\",\"size\":10,\"solidity\":0.2}},\"type\":\"bar\"}],\"barpolar\":[{\"marker\":{\"line\":{\"color\":\"#E5ECF6\",\"width\":0.5},\"pattern\":{\"fillmode\":\"overlay\",\"size\":10,\"solidity\":0.2}},\"type\":\"barpolar\"}],\"carpet\":[{\"aaxis\":{\"endlinecolor\":\"#2a3f5f\",\"gridcolor\":\"white\",\"linecolor\":\"white\",\"minorgridcolor\":\"white\",\"startlinecolor\":\"#2a3f5f\"},\"baxis\":{\"endlinecolor\":\"#2a3f5f\",\"gridcolor\":\"white\",\"linecolor\":\"white\",\"minorgridcolor\":\"white\",\"startlinecolor\":\"#2a3f5f\"},\"type\":\"carpet\"}],\"choropleth\":[{\"colorbar\":{\"outlinewidth\":0,\"ticks\":\"\"},\"type\":\"choropleth\"}],\"contour\":[{\"colorbar\":{\"outlinewidth\":0,\"ticks\":\"\"},\"colorscale\":[[0.0,\"#0d0887\"],[0.1111111111111111,\"#46039f\"],[0.2222222222222222,\"#7201a8\"],[0.3333333333333333,\"#9c179e\"],[0.4444444444444444,\"#bd3786\"],[0.5555555555555556,\"#d8576b\"],[0.6666666666666666,\"#ed7953\"],[0.7777777777777778,\"#fb9f3a\"],[0.8888888888888888,\"#fdca26\"],[1.0,\"#f0f921\"]],\"type\":\"contour\"}],\"contourcarpet\":[{\"colorbar\":{\"outlinewidth\":0,\"ticks\":\"\"},\"type\":\"contourcarpet\"}],\"heatmap\":[{\"colorbar\":{\"outlinewidth\":0,\"ticks\":\"\"},\"colorscale\":[[0.0,\"#0d0887\"],[0.1111111111111111,\"#46039f\"],[0.2222222222222222,\"#7201a8\"],[0.3333333333333333,\"#9c179e\"],[0.4444444444444444,\"#bd3786\"],[0.5555555555555556,\"#d8576b\"],[0.6666666666666666,\"#ed7953\"],[0.7777777777777778,\"#fb9f3a\"],[0.8888888888888888,\"#fdca26\"],[1.0,\"#f0f921\"]],\"type\":\"heatmap\"}],\"heatmapgl\":[{\"colorbar\":{\"outlinewidth\":0,\"ticks\":\"\"},\"colorscale\":[[0.0,\"#0d0887\"],[0.1111111111111111,\"#46039f\"],[0.2222222222222222,\"#7201a8\"],[0.3333333333333333,\"#9c179e\"],[0.4444444444444444,\"#bd3786\"],[0.5555555555555556,\"#d8576b\"],[0.6666666666666666,\"#ed7953\"],[0.7777777777777778,\"#fb9f3a\"],[0.8888888888888888,\"#fdca26\"],[1.0,\"#f0f921\"]],\"type\":\"heatmapgl\"}],\"histogram\":[{\"marker\":{\"pattern\":{\"fillmode\":\"overlay\",\"size\":10,\"solidity\":0.2}},\"type\":\"histogram\"}],\"histogram2d\":[{\"colorbar\":{\"outlinewidth\":0,\"ticks\":\"\"},\"colorscale\":[[0.0,\"#0d0887\"],[0.1111111111111111,\"#46039f\"],[0.2222222222222222,\"#7201a8\"],[0.3333333333333333,\"#9c179e\"],[0.4444444444444444,\"#bd3786\"],[0.5555555555555556,\"#d8576b\"],[0.6666666666666666,\"#ed7953\"],[0.7777777777777778,\"#fb9f3a\"],[0.8888888888888888,\"#fdca26\"],[1.0,\"#f0f921\"]],\"type\":\"histogram2d\"}],\"histogram2dcontour\":[{\"colorbar\":{\"outlinewidth\":0,\"ticks\":\"\"},\"colorscale\":[[0.0,\"#0d0887\"],[0.1111111111111111,\"#46039f\"],[0.2222222222222222,\"#7201a8\"],[0.3333333333333333,\"#9c179e\"],[0.4444444444444444,\"#bd3786\"],[0.5555555555555556,\"#d8576b\"],[0.6666666666666666,\"#ed7953\"],[0.7777777777777778,\"#fb9f3a\"],[0.8888888888888888,\"#fdca26\"],[1.0,\"#f0f921\"]],\"type\":\"histogram2dcontour\"}],\"mesh3d\":[{\"colorbar\":{\"outlinewidth\":0,\"ticks\":\"\"},\"type\":\"mesh3d\"}],\"parcoords\":[{\"line\":{\"colorbar\":{\"outlinewidth\":0,\"ticks\":\"\"}},\"type\":\"parcoords\"}],\"pie\":[{\"automargin\":true,\"type\":\"pie\"}],\"scatter\":[{\"marker\":{\"colorbar\":{\"outlinewidth\":0,\"ticks\":\"\"}},\"type\":\"scatter\"}],\"scatter3d\":[{\"line\":{\"colorbar\":{\"outlinewidth\":0,\"ticks\":\"\"}},\"marker\":{\"colorbar\":{\"outlinewidth\":0,\"ticks\":\"\"}},\"type\":\"scatter3d\"}],\"scattercarpet\":[{\"marker\":{\"colorbar\":{\"outlinewidth\":0,\"ticks\":\"\"}},\"type\":\"scattercarpet\"}],\"scattergeo\":[{\"marker\":{\"colorbar\":{\"outlinewidth\":0,\"ticks\":\"\"}},\"type\":\"scattergeo\"}],\"scattergl\":[{\"marker\":{\"colorbar\":{\"outlinewidth\":0,\"ticks\":\"\"}},\"type\":\"scattergl\"}],\"scattermapbox\":[{\"marker\":{\"colorbar\":{\"outlinewidth\":0,\"ticks\":\"\"}},\"type\":\"scattermapbox\"}],\"scatterpolar\":[{\"marker\":{\"colorbar\":{\"outlinewidth\":0,\"ticks\":\"\"}},\"type\":\"scatterpolar\"}],\"scatterpolargl\":[{\"marker\":{\"colorbar\":{\"outlinewidth\":0,\"ticks\":\"\"}},\"type\":\"scatterpolargl\"}],\"scatterternary\":[{\"marker\":{\"colorbar\":{\"outlinewidth\":0,\"ticks\":\"\"}},\"type\":\"scatterternary\"}],\"surface\":[{\"colorbar\":{\"outlinewidth\":0,\"ticks\":\"\"},\"colorscale\":[[0.0,\"#0d0887\"],[0.1111111111111111,\"#46039f\"],[0.2222222222222222,\"#7201a8\"],[0.3333333333333333,\"#9c179e\"],[0.4444444444444444,\"#bd3786\"],[0.5555555555555556,\"#d8576b\"],[0.6666666666666666,\"#ed7953\"],[0.7777777777777778,\"#fb9f3a\"],[0.8888888888888888,\"#fdca26\"],[1.0,\"#f0f921\"]],\"type\":\"surface\"}],\"table\":[{\"cells\":{\"fill\":{\"color\":\"#EBF0F8\"},\"line\":{\"color\":\"white\"}},\"header\":{\"fill\":{\"color\":\"#C8D4E3\"},\"line\":{\"color\":\"white\"}},\"type\":\"table\"}]},\"layout\":{\"annotationdefaults\":{\"arrowcolor\":\"#2a3f5f\",\"arrowhead\":0,\"arrowwidth\":1},\"autotypenumbers\":\"strict\",\"coloraxis\":{\"colorbar\":{\"outlinewidth\":0,\"ticks\":\"\"}},\"colorscale\":{\"diverging\":[[0,\"#8e0152\"],[0.1,\"#c51b7d\"],[0.2,\"#de77ae\"],[0.3,\"#f1b6da\"],[0.4,\"#fde0ef\"],[0.5,\"#f7f7f7\"],[0.6,\"#e6f5d0\"],[0.7,\"#b8e186\"],[0.8,\"#7fbc41\"],[0.9,\"#4d9221\"],[1,\"#276419\"]],\"sequential\":[[0.0,\"#0d0887\"],[0.1111111111111111,\"#46039f\"],[0.2222222222222222,\"#7201a8\"],[0.3333333333333333,\"#9c179e\"],[0.4444444444444444,\"#bd3786\"],[0.5555555555555556,\"#d8576b\"],[0.6666666666666666,\"#ed7953\"],[0.7777777777777778,\"#fb9f3a\"],[0.8888888888888888,\"#fdca26\"],[1.0,\"#f0f921\"]],\"sequentialminus\":[[0.0,\"#0d0887\"],[0.1111111111111111,\"#46039f\"],[0.2222222222222222,\"#7201a8\"],[0.3333333333333333,\"#9c179e\"],[0.4444444444444444,\"#bd3786\"],[0.5555555555555556,\"#d8576b\"],[0.6666666666666666,\"#ed7953\"],[0.7777777777777778,\"#fb9f3a\"],[0.8888888888888888,\"#fdca26\"],[1.0,\"#f0f921\"]]},\"colorway\":[\"#636efa\",\"#EF553B\",\"#00cc96\",\"#ab63fa\",\"#FFA15A\",\"#19d3f3\",\"#FF6692\",\"#B6E880\",\"#FF97FF\",\"#FECB52\"],\"font\":{\"color\":\"#2a3f5f\"},\"geo\":{\"bgcolor\":\"white\",\"lakecolor\":\"white\",\"landcolor\":\"#E5ECF6\",\"showlakes\":true,\"showland\":true,\"subunitcolor\":\"white\"},\"hoverlabel\":{\"align\":\"left\"},\"hovermode\":\"closest\",\"mapbox\":{\"style\":\"light\"},\"paper_bgcolor\":\"white\",\"plot_bgcolor\":\"#E5ECF6\",\"polar\":{\"angularaxis\":{\"gridcolor\":\"white\",\"linecolor\":\"white\",\"ticks\":\"\"},\"bgcolor\":\"#E5ECF6\",\"radialaxis\":{\"gridcolor\":\"white\",\"linecolor\":\"white\",\"ticks\":\"\"}},\"scene\":{\"xaxis\":{\"backgroundcolor\":\"#E5ECF6\",\"gridcolor\":\"white\",\"gridwidth\":2,\"linecolor\":\"white\",\"showbackground\":true,\"ticks\":\"\",\"zerolinecolor\":\"white\"},\"yaxis\":{\"backgroundcolor\":\"#E5ECF6\",\"gridcolor\":\"white\",\"gridwidth\":2,\"linecolor\":\"white\",\"showbackground\":true,\"ticks\":\"\",\"zerolinecolor\":\"white\"},\"zaxis\":{\"backgroundcolor\":\"#E5ECF6\",\"gridcolor\":\"white\",\"gridwidth\":2,\"linecolor\":\"white\",\"showbackground\":true,\"ticks\":\"\",\"zerolinecolor\":\"white\"}},\"shapedefaults\":{\"line\":{\"color\":\"#2a3f5f\"}},\"ternary\":{\"aaxis\":{\"gridcolor\":\"white\",\"linecolor\":\"white\",\"ticks\":\"\"},\"baxis\":{\"gridcolor\":\"white\",\"linecolor\":\"white\",\"ticks\":\"\"},\"bgcolor\":\"#E5ECF6\",\"caxis\":{\"gridcolor\":\"white\",\"linecolor\":\"white\",\"ticks\":\"\"}},\"title\":{\"x\":0.05},\"xaxis\":{\"automargin\":true,\"gridcolor\":\"white\",\"linecolor\":\"white\",\"ticks\":\"\",\"title\":{\"standoff\":15},\"zerolinecolor\":\"white\",\"zerolinewidth\":2},\"yaxis\":{\"automargin\":true,\"gridcolor\":\"white\",\"linecolor\":\"white\",\"ticks\":\"\",\"title\":{\"standoff\":15},\"zerolinecolor\":\"white\",\"zerolinewidth\":2}}},\"scene\":{\"domain\":{\"x\":[0.0,1.0],\"y\":[0.0,1.0]},\"xaxis\":{\"title\":{\"text\":\"0\"}},\"yaxis\":{\"title\":{\"text\":\"1\"}},\"zaxis\":{\"title\":{\"text\":\"2\"}}},\"coloraxis\":{\"colorbar\":{\"title\":{\"text\":\"Anomaly\"}},\"colorscale\":[[0.0,\"#0d0887\"],[0.1111111111111111,\"#46039f\"],[0.2222222222222222,\"#7201a8\"],[0.3333333333333333,\"#9c179e\"],[0.4444444444444444,\"#bd3786\"],[0.5555555555555556,\"#d8576b\"],[0.6666666666666666,\"#ed7953\"],[0.7777777777777778,\"#fb9f3a\"],[0.8888888888888888,\"#fdca26\"],[1.0,\"#f0f921\"]]},\"legend\":{\"tracegroupgap\":0},\"title\":{\"text\":\"3d TSNE Plot for Outliers\"},\"height\":800,\"width\":900},                        {\"responsive\": true}                    ).then(function(){\n",
              "                            \n",
              "var gd = document.getElementById('7b4559c2-e86b-487a-bd0b-94f82cf5bc47');\n",
              "var x = new MutationObserver(function (mutations, observer) {{\n",
              "        var display = window.getComputedStyle(gd).display;\n",
              "        if (!display || display === 'none') {{\n",
              "            console.log([gd, 'removed!']);\n",
              "            Plotly.purge(gd);\n",
              "            observer.disconnect();\n",
              "        }}\n",
              "}});\n",
              "\n",
              "// Listen for the removal of the full notebook cells\n",
              "var notebookContainer = gd.closest('#notebook-container');\n",
              "if (notebookContainer) {{\n",
              "    x.observe(notebookContainer, {childList: true});\n",
              "}}\n",
              "\n",
              "// Listen for the clearing of the current output cell\n",
              "var outputEl = gd.closest('.output');\n",
              "if (outputEl) {{\n",
              "    x.observe(outputEl, {childList: true});\n",
              "}}\n",
              "\n",
              "                        })                };                });            </script>        </div>"
            ]
          },
          "metadata": {}
        },
        {
          "output_type": "stream",
          "name": "stderr",
          "text": [
            "INFO:logs:Visual Rendered Successfully\n",
            "INFO:logs:plot_model() successfully completed......................................\n"
          ]
        }
      ]
    },
    {
      "cell_type": "code",
      "source": [
        "predictions = predict_model(iforest, data = df)\n",
        "predictions.head()"
      ],
      "metadata": {
        "colab": {
          "base_uri": "https://localhost:8080/",
          "height": 565
        },
        "id": "wA2Vls4VCxSS",
        "outputId": "94c1b0cf-dcc5-412a-f0a4-d5a983df52a5"
      },
      "execution_count": 44,
      "outputs": [
        {
          "output_type": "stream",
          "name": "stderr",
          "text": [
            "INFO:logs:Initializing predict_model()\n",
            "INFO:logs:predict_model(self=<pycaret.anomaly.oop.AnomalyExperiment object at 0x7fdea61da650>, estimator=IForest(behaviour='new', bootstrap=False, contamination=0.05,\n",
            "    max_features=1.0, max_samples='auto', n_estimators=100, n_jobs=-1,\n",
            "    random_state=8910, verbose=0), ml_usecase=None)\n",
            "INFO:logs:Set up data.\n",
            "WARNING:logs:/usr/local/lib/python3.7/dist-packages/sklearn/base.py:444: UserWarning:\n",
            "\n",
            "X has feature names, but IsolationForest was fitted without feature names\n",
            "\n",
            "\n",
            "WARNING:logs:/usr/local/lib/python3.7/dist-packages/sklearn/base.py:444: UserWarning:\n",
            "\n",
            "X has feature names, but IsolationForest was fitted without feature names\n",
            "\n",
            "\n"
          ]
        },
        {
          "output_type": "execute_result",
          "data": {
            "text/plain": [
              "   %,% di ossigeno  *C,Temperatura Corporea  bpm,Frequenza Cardiaca  \\\n",
              "0        93.949005                35.958916               80.006706   \n",
              "1        94.157120                36.252296               83.116188   \n",
              "2        95.146698                35.877064               79.570717   \n",
              "3        94.008133                36.194714               80.753181   \n",
              "4        94.053665                36.186886               80.994652   \n",
              "\n",
              "   bpm,Frequenza Cardiaca Master    Kg,Peso  Kg/m2,Indice Massa Corporea  \\\n",
              "0                      69.767044  66.972168                    23.204119   \n",
              "1                      70.088348  67.187943                    23.930307   \n",
              "2                      67.602158  66.490067                    24.562563   \n",
              "3                      70.527504  64.127609                    23.832878   \n",
              "4                      69.719543  66.860420                    24.609070   \n",
              "\n",
              "     L,FEV1   L/min,PEF   mmHg,MAP  mmHg,Pressione Diastolica  \\\n",
              "0  2.317629  393.420746  86.521629                  71.788040   \n",
              "1  2.305194  386.678711  85.294395                  70.208458   \n",
              "2  2.315017  419.490143  85.274483                  72.501884   \n",
              "3  2.304304  396.934204  85.487022                  69.956482   \n",
              "4  2.282185  393.607117  84.546944                  70.764709   \n",
              "\n",
              "   mmHg,Pressione Sistolica  Anomaly  Anomaly_Score  \n",
              "0                117.709839        0      -0.043306  \n",
              "1                118.583931        0      -0.051754  \n",
              "2                117.717125        0      -0.081452  \n",
              "3                117.960693        0      -0.073587  \n",
              "4                114.964470        0      -0.043881  "
            ],
            "text/html": [
              "\n",
              "  <div id=\"df-14e02d17-e347-48d0-92a0-e62a93277395\">\n",
              "    <div class=\"colab-df-container\">\n",
              "      <div>\n",
              "<style scoped>\n",
              "    .dataframe tbody tr th:only-of-type {\n",
              "        vertical-align: middle;\n",
              "    }\n",
              "\n",
              "    .dataframe tbody tr th {\n",
              "        vertical-align: top;\n",
              "    }\n",
              "\n",
              "    .dataframe thead th {\n",
              "        text-align: right;\n",
              "    }\n",
              "</style>\n",
              "<table border=\"1\" class=\"dataframe\">\n",
              "  <thead>\n",
              "    <tr style=\"text-align: right;\">\n",
              "      <th></th>\n",
              "      <th>%,% di ossigeno</th>\n",
              "      <th>*C,Temperatura Corporea</th>\n",
              "      <th>bpm,Frequenza Cardiaca</th>\n",
              "      <th>bpm,Frequenza Cardiaca Master</th>\n",
              "      <th>Kg,Peso</th>\n",
              "      <th>Kg/m2,Indice Massa Corporea</th>\n",
              "      <th>L,FEV1</th>\n",
              "      <th>L/min,PEF</th>\n",
              "      <th>mmHg,MAP</th>\n",
              "      <th>mmHg,Pressione Diastolica</th>\n",
              "      <th>mmHg,Pressione Sistolica</th>\n",
              "      <th>Anomaly</th>\n",
              "      <th>Anomaly_Score</th>\n",
              "    </tr>\n",
              "  </thead>\n",
              "  <tbody>\n",
              "    <tr>\n",
              "      <th>0</th>\n",
              "      <td>93.949005</td>\n",
              "      <td>35.958916</td>\n",
              "      <td>80.006706</td>\n",
              "      <td>69.767044</td>\n",
              "      <td>66.972168</td>\n",
              "      <td>23.204119</td>\n",
              "      <td>2.317629</td>\n",
              "      <td>393.420746</td>\n",
              "      <td>86.521629</td>\n",
              "      <td>71.788040</td>\n",
              "      <td>117.709839</td>\n",
              "      <td>0</td>\n",
              "      <td>-0.043306</td>\n",
              "    </tr>\n",
              "    <tr>\n",
              "      <th>1</th>\n",
              "      <td>94.157120</td>\n",
              "      <td>36.252296</td>\n",
              "      <td>83.116188</td>\n",
              "      <td>70.088348</td>\n",
              "      <td>67.187943</td>\n",
              "      <td>23.930307</td>\n",
              "      <td>2.305194</td>\n",
              "      <td>386.678711</td>\n",
              "      <td>85.294395</td>\n",
              "      <td>70.208458</td>\n",
              "      <td>118.583931</td>\n",
              "      <td>0</td>\n",
              "      <td>-0.051754</td>\n",
              "    </tr>\n",
              "    <tr>\n",
              "      <th>2</th>\n",
              "      <td>95.146698</td>\n",
              "      <td>35.877064</td>\n",
              "      <td>79.570717</td>\n",
              "      <td>67.602158</td>\n",
              "      <td>66.490067</td>\n",
              "      <td>24.562563</td>\n",
              "      <td>2.315017</td>\n",
              "      <td>419.490143</td>\n",
              "      <td>85.274483</td>\n",
              "      <td>72.501884</td>\n",
              "      <td>117.717125</td>\n",
              "      <td>0</td>\n",
              "      <td>-0.081452</td>\n",
              "    </tr>\n",
              "    <tr>\n",
              "      <th>3</th>\n",
              "      <td>94.008133</td>\n",
              "      <td>36.194714</td>\n",
              "      <td>80.753181</td>\n",
              "      <td>70.527504</td>\n",
              "      <td>64.127609</td>\n",
              "      <td>23.832878</td>\n",
              "      <td>2.304304</td>\n",
              "      <td>396.934204</td>\n",
              "      <td>85.487022</td>\n",
              "      <td>69.956482</td>\n",
              "      <td>117.960693</td>\n",
              "      <td>0</td>\n",
              "      <td>-0.073587</td>\n",
              "    </tr>\n",
              "    <tr>\n",
              "      <th>4</th>\n",
              "      <td>94.053665</td>\n",
              "      <td>36.186886</td>\n",
              "      <td>80.994652</td>\n",
              "      <td>69.719543</td>\n",
              "      <td>66.860420</td>\n",
              "      <td>24.609070</td>\n",
              "      <td>2.282185</td>\n",
              "      <td>393.607117</td>\n",
              "      <td>84.546944</td>\n",
              "      <td>70.764709</td>\n",
              "      <td>114.964470</td>\n",
              "      <td>0</td>\n",
              "      <td>-0.043881</td>\n",
              "    </tr>\n",
              "  </tbody>\n",
              "</table>\n",
              "</div>\n",
              "      <button class=\"colab-df-convert\" onclick=\"convertToInteractive('df-14e02d17-e347-48d0-92a0-e62a93277395')\"\n",
              "              title=\"Convert this dataframe to an interactive table.\"\n",
              "              style=\"display:none;\">\n",
              "        \n",
              "  <svg xmlns=\"http://www.w3.org/2000/svg\" height=\"24px\"viewBox=\"0 0 24 24\"\n",
              "       width=\"24px\">\n",
              "    <path d=\"M0 0h24v24H0V0z\" fill=\"none\"/>\n",
              "    <path d=\"M18.56 5.44l.94 2.06.94-2.06 2.06-.94-2.06-.94-.94-2.06-.94 2.06-2.06.94zm-11 1L8.5 8.5l.94-2.06 2.06-.94-2.06-.94L8.5 2.5l-.94 2.06-2.06.94zm10 10l.94 2.06.94-2.06 2.06-.94-2.06-.94-.94-2.06-.94 2.06-2.06.94z\"/><path d=\"M17.41 7.96l-1.37-1.37c-.4-.4-.92-.59-1.43-.59-.52 0-1.04.2-1.43.59L10.3 9.45l-7.72 7.72c-.78.78-.78 2.05 0 2.83L4 21.41c.39.39.9.59 1.41.59.51 0 1.02-.2 1.41-.59l7.78-7.78 2.81-2.81c.8-.78.8-2.07 0-2.86zM5.41 20L4 18.59l7.72-7.72 1.47 1.35L5.41 20z\"/>\n",
              "  </svg>\n",
              "      </button>\n",
              "      \n",
              "  <style>\n",
              "    .colab-df-container {\n",
              "      display:flex;\n",
              "      flex-wrap:wrap;\n",
              "      gap: 12px;\n",
              "    }\n",
              "\n",
              "    .colab-df-convert {\n",
              "      background-color: #E8F0FE;\n",
              "      border: none;\n",
              "      border-radius: 50%;\n",
              "      cursor: pointer;\n",
              "      display: none;\n",
              "      fill: #1967D2;\n",
              "      height: 32px;\n",
              "      padding: 0 0 0 0;\n",
              "      width: 32px;\n",
              "    }\n",
              "\n",
              "    .colab-df-convert:hover {\n",
              "      background-color: #E2EBFA;\n",
              "      box-shadow: 0px 1px 2px rgba(60, 64, 67, 0.3), 0px 1px 3px 1px rgba(60, 64, 67, 0.15);\n",
              "      fill: #174EA6;\n",
              "    }\n",
              "\n",
              "    [theme=dark] .colab-df-convert {\n",
              "      background-color: #3B4455;\n",
              "      fill: #D2E3FC;\n",
              "    }\n",
              "\n",
              "    [theme=dark] .colab-df-convert:hover {\n",
              "      background-color: #434B5C;\n",
              "      box-shadow: 0px 1px 3px 1px rgba(0, 0, 0, 0.15);\n",
              "      filter: drop-shadow(0px 1px 2px rgba(0, 0, 0, 0.3));\n",
              "      fill: #FFFFFF;\n",
              "    }\n",
              "  </style>\n",
              "\n",
              "      <script>\n",
              "        const buttonEl =\n",
              "          document.querySelector('#df-14e02d17-e347-48d0-92a0-e62a93277395 button.colab-df-convert');\n",
              "        buttonEl.style.display =\n",
              "          google.colab.kernel.accessAllowed ? 'block' : 'none';\n",
              "\n",
              "        async function convertToInteractive(key) {\n",
              "          const element = document.querySelector('#df-14e02d17-e347-48d0-92a0-e62a93277395');\n",
              "          const dataTable =\n",
              "            await google.colab.kernel.invokeFunction('convertToInteractive',\n",
              "                                                     [key], {});\n",
              "          if (!dataTable) return;\n",
              "\n",
              "          const docLinkHtml = 'Like what you see? Visit the ' +\n",
              "            '<a target=\"_blank\" href=https://colab.research.google.com/notebooks/data_table.ipynb>data table notebook</a>'\n",
              "            + ' to learn more about interactive tables.';\n",
              "          element.innerHTML = '';\n",
              "          dataTable['output_type'] = 'display_data';\n",
              "          await google.colab.output.renderOutput(dataTable, element);\n",
              "          const docLink = document.createElement('div');\n",
              "          docLink.innerHTML = docLinkHtml;\n",
              "          element.appendChild(docLink);\n",
              "        }\n",
              "      </script>\n",
              "    </div>\n",
              "  </div>\n",
              "  "
            ]
          },
          "metadata": {},
          "execution_count": 44
        }
      ]
    },
    {
      "cell_type": "code",
      "source": [
        " #creating a model\n",
        " knn=create_model('knn')\n",
        " #plotting a model\n",
        " plot_model(knn)"
      ],
      "metadata": {
        "colab": {
          "base_uri": "https://localhost:8080/",
          "height": 1000,
          "referenced_widgets": [
            "8d99028a60c74512bf4f5f33b885cb3d",
            "b461fe6272cc4800ade7e7bcb032feb3",
            "2b688715697b48b19b0273bff9d2d06a",
            "807058cc175e45549e6bc5efc436b774",
            "9664597abab248e397c005602accda2b",
            "aa30496b1bad46ba88aa27d48c33bbd4",
            "54286710569e473d985ff5f4237167c3",
            "09861487478b4970a3f65ab51c55c5c0",
            "0ff37dfe2eda4f42a8f48606675c0b55",
            "ff85485c866245d3a8392c9a66b07dcc",
            "a006148bf4764fb3971af537db0f9c7d"
          ]
        },
        "id": "FEUkZDg9LKTZ",
        "outputId": "cef6f958-ed40-42e3-9975-cce2e37d500b"
      },
      "execution_count": 37,
      "outputs": [
        {
          "output_type": "stream",
          "name": "stderr",
          "text": [
            "INFO:logs:Initializing create_model()\n",
            "INFO:logs:create_model(self=<pycaret.anomaly.oop.AnomalyExperiment object at 0x7fdea61da650>, estimator=knn, num_clusters=4, fraction=0.05, ground_truth=None, round=4, fit_kwargs=None, experiment_custom_tags=None, verbose=True, system=True, add_to_model_list=True, raise_num_clusters=False, display=None, kwargs={})\n",
            "INFO:logs:Checking exceptions\n"
          ]
        },
        {
          "output_type": "display_data",
          "data": {
            "text/plain": [
              "<IPython.core.display.HTML object>"
            ],
            "text/html": []
          },
          "metadata": {}
        },
        {
          "output_type": "display_data",
          "data": {
            "text/plain": [
              "<IPython.core.display.HTML object>"
            ],
            "text/html": []
          },
          "metadata": {}
        },
        {
          "output_type": "display_data",
          "data": {
            "text/plain": [
              "Processing:   0%|          | 0/3 [00:00<?, ?it/s]"
            ],
            "application/vnd.jupyter.widget-view+json": {
              "version_major": 2,
              "version_minor": 0,
              "model_id": "8d99028a60c74512bf4f5f33b885cb3d"
            }
          },
          "metadata": {
            "application/vnd.jupyter.widget-view+json": {
              "colab": {
                "custom_widget_manager": {
                  "url": "https://ssl.gstatic.com/colaboratory-static/widgets/colab-cdn-widget-manager/d2e234f7cc04bf79/manager.min.js"
                }
              }
            }
          }
        },
        {
          "output_type": "stream",
          "name": "stderr",
          "text": [
            "INFO:logs:Importing libraries\n",
            "INFO:logs:Importing untrained model\n",
            "INFO:logs:K-Nearest Neighbors Detector Imported succesfully\n",
            "INFO:logs:Fitting Model\n",
            "INFO:logs:KNN(algorithm='auto', contamination=0.05, leaf_size=30, method='largest',\n",
            "  metric='minkowski', metric_params=None, n_jobs=-1, n_neighbors=5, p=2,\n",
            "  radius=1.0)\n",
            "INFO:logs:create_models() succesfully completed......................................\n"
          ]
        },
        {
          "output_type": "display_data",
          "data": {
            "text/plain": [
              "<IPython.core.display.HTML object>"
            ],
            "text/html": []
          },
          "metadata": {}
        },
        {
          "output_type": "stream",
          "name": "stderr",
          "text": [
            "INFO:logs:Uploading results into container\n",
            "INFO:logs:Uploading model into container now\n",
            "INFO:logs:master_model_container: 2\n",
            "INFO:logs:display_container: 1\n",
            "INFO:logs:KNN(algorithm='auto', contamination=0.05, leaf_size=30, method='largest',\n",
            "  metric='minkowski', metric_params=None, n_jobs=-1, n_neighbors=5, p=2,\n",
            "  radius=1.0)\n",
            "INFO:logs:create_model() succesfully completed......................................\n",
            "INFO:logs:Initializing plot_model()\n",
            "INFO:logs:plot_model(plot=tsne, fold=None, use_train_data=False, verbose=True, display=None, display_format=None, estimator=KNN(algorithm='auto', contamination=0.05, leaf_size=30, method='largest',\n",
            "  metric='minkowski', metric_params=None, n_jobs=-1, n_neighbors=5, p=2,\n",
            "  radius=1.0), feature_name=None, fit_kwargs=None, groups=None, label=False, plot_kwargs=None, save=False, scale=1, self=<pycaret.anomaly.oop.AnomalyExperiment object at 0x7fdea61da650>, system=True)\n",
            "INFO:logs:Checking exceptions\n"
          ]
        },
        {
          "output_type": "display_data",
          "data": {
            "text/plain": [
              "<IPython.core.display.HTML object>"
            ],
            "text/html": []
          },
          "metadata": {}
        },
        {
          "output_type": "stream",
          "name": "stderr",
          "text": [
            "INFO:logs:Preloading libraries\n",
            "INFO:logs:Copying training dataset\n",
            "INFO:logs:Plot type: tsne\n",
            "INFO:logs:SubProcess assign_model() called ==================================\n",
            "INFO:logs:Initializing assign_model()\n",
            "INFO:logs:assign_model(self=<pycaret.anomaly.oop.AnomalyExperiment object at 0x7fdea61da650>, model=KNN(algorithm='auto', contamination=0.05, leaf_size=30, method='largest',\n",
            "  metric='minkowski', metric_params=None, n_jobs=-1, n_neighbors=5, p=2,\n",
            "  radius=1.0), transformation=True, score=False, verbose=False)\n",
            "INFO:logs:Checking exceptions\n",
            "INFO:logs:Determining Trained Model\n",
            "INFO:logs:Trained Model : K-Nearest Neighbors Detector\n",
            "INFO:logs:Copying data\n",
            "INFO:logs:Transformation parameter set to True. Assigned clusters are attached on transformed dataset.\n",
            "INFO:logs:(1000, 12)\n",
            "INFO:logs:assign_model() succesfully completed......................................\n",
            "INFO:logs:SubProcess assign_model() end ==================================\n",
            "INFO:logs:Getting dummies to cast categorical variables\n",
            "INFO:logs:Fitting TSNE()\n",
            "WARNING:logs:/usr/local/lib/python3.7/dist-packages/sklearn/manifold/_t_sne.py:783: FutureWarning:\n",
            "\n",
            "The default initialization in TSNE will change from 'random' to 'pca' in 1.2.\n",
            "\n",
            "\n",
            "WARNING:logs:/usr/local/lib/python3.7/dist-packages/sklearn/manifold/_t_sne.py:793: FutureWarning:\n",
            "\n",
            "The default learning rate in TSNE will change from 200.0 to 'auto' in 1.2.\n",
            "\n",
            "\n",
            "INFO:logs:Rendering Visual\n"
          ]
        },
        {
          "output_type": "display_data",
          "data": {
            "application/vnd.plotly.v1+json": {
              "data": [
                {
                  "customdata": [
                    [
                      3
                    ],
                    [
                      3
                    ],
                    [
                      3
                    ],
                    [
                      3
                    ],
                    [
                      3
                    ],
                    [
                      3
                    ],
                    [
                      3
                    ],
                    [
                      3
                    ],
                    [
                      3
                    ],
                    [
                      3
                    ],
                    [
                      3
                    ],
                    [
                      3
                    ],
                    [
                      3
                    ],
                    [
                      3
                    ],
                    [
                      3
                    ],
                    [
                      3
                    ],
                    [
                      3
                    ],
                    [
                      3
                    ],
                    [
                      3
                    ],
                    [
                      3
                    ],
                    [
                      3
                    ],
                    [
                      3
                    ],
                    [
                      3
                    ],
                    [
                      3
                    ],
                    [
                      3
                    ],
                    [
                      3
                    ],
                    [
                      3
                    ],
                    [
                      3
                    ],
                    [
                      3
                    ],
                    [
                      3
                    ],
                    [
                      3
                    ],
                    [
                      3
                    ],
                    [
                      3
                    ],
                    [
                      3
                    ],
                    [
                      3
                    ],
                    [
                      3
                    ],
                    [
                      3
                    ],
                    [
                      3
                    ],
                    [
                      3
                    ],
                    [
                      3
                    ],
                    [
                      3
                    ],
                    [
                      3
                    ],
                    [
                      3
                    ],
                    [
                      3
                    ],
                    [
                      3
                    ],
                    [
                      3
                    ],
                    [
                      3
                    ],
                    [
                      3
                    ],
                    [
                      3
                    ],
                    [
                      3
                    ],
                    [
                      3
                    ],
                    [
                      3
                    ],
                    [
                      3
                    ],
                    [
                      3
                    ],
                    [
                      3
                    ],
                    [
                      3
                    ],
                    [
                      3
                    ],
                    [
                      3
                    ],
                    [
                      3
                    ],
                    [
                      3
                    ],
                    [
                      3
                    ],
                    [
                      3
                    ],
                    [
                      3
                    ],
                    [
                      3
                    ],
                    [
                      3
                    ],
                    [
                      3
                    ],
                    [
                      3
                    ],
                    [
                      3
                    ],
                    [
                      3
                    ],
                    [
                      3
                    ],
                    [
                      3
                    ],
                    [
                      3
                    ],
                    [
                      3
                    ],
                    [
                      3
                    ],
                    [
                      3
                    ],
                    [
                      3
                    ],
                    [
                      3
                    ],
                    [
                      3
                    ],
                    [
                      3
                    ],
                    [
                      3
                    ],
                    [
                      3
                    ],
                    [
                      3
                    ],
                    [
                      3
                    ],
                    [
                      3
                    ],
                    [
                      3
                    ],
                    [
                      3
                    ],
                    [
                      3
                    ],
                    [
                      3
                    ],
                    [
                      3
                    ],
                    [
                      3
                    ],
                    [
                      3
                    ],
                    [
                      3
                    ],
                    [
                      3
                    ],
                    [
                      3
                    ],
                    [
                      3
                    ],
                    [
                      3
                    ],
                    [
                      3
                    ],
                    [
                      3
                    ],
                    [
                      3
                    ],
                    [
                      3
                    ],
                    [
                      3
                    ],
                    [
                      3
                    ],
                    [
                      3
                    ],
                    [
                      3
                    ],
                    [
                      3
                    ],
                    [
                      3
                    ],
                    [
                      3
                    ],
                    [
                      3
                    ],
                    [
                      3
                    ],
                    [
                      3
                    ],
                    [
                      3
                    ],
                    [
                      3
                    ],
                    [
                      3
                    ],
                    [
                      3
                    ],
                    [
                      3
                    ],
                    [
                      3
                    ],
                    [
                      3
                    ],
                    [
                      3
                    ],
                    [
                      3
                    ],
                    [
                      3
                    ],
                    [
                      3
                    ],
                    [
                      3
                    ],
                    [
                      3
                    ],
                    [
                      3
                    ],
                    [
                      3
                    ],
                    [
                      3
                    ],
                    [
                      3
                    ],
                    [
                      3
                    ],
                    [
                      3
                    ],
                    [
                      3
                    ],
                    [
                      3
                    ],
                    [
                      3
                    ],
                    [
                      3
                    ],
                    [
                      3
                    ],
                    [
                      3
                    ],
                    [
                      3
                    ],
                    [
                      3
                    ],
                    [
                      3
                    ],
                    [
                      3
                    ],
                    [
                      3
                    ],
                    [
                      3
                    ],
                    [
                      3
                    ],
                    [
                      3
                    ],
                    [
                      3
                    ],
                    [
                      3
                    ],
                    [
                      3
                    ],
                    [
                      3
                    ],
                    [
                      3
                    ],
                    [
                      3
                    ],
                    [
                      3
                    ],
                    [
                      3
                    ],
                    [
                      3
                    ],
                    [
                      3
                    ],
                    [
                      3
                    ],
                    [
                      3
                    ],
                    [
                      3
                    ],
                    [
                      3
                    ],
                    [
                      3
                    ],
                    [
                      3
                    ],
                    [
                      3
                    ],
                    [
                      3
                    ],
                    [
                      3
                    ],
                    [
                      3
                    ],
                    [
                      3
                    ],
                    [
                      3
                    ],
                    [
                      3
                    ],
                    [
                      3
                    ],
                    [
                      3
                    ],
                    [
                      3
                    ],
                    [
                      3
                    ],
                    [
                      3
                    ],
                    [
                      3
                    ],
                    [
                      3
                    ],
                    [
                      3
                    ],
                    [
                      3
                    ],
                    [
                      3
                    ],
                    [
                      3
                    ],
                    [
                      3
                    ],
                    [
                      3
                    ],
                    [
                      3
                    ],
                    [
                      3
                    ],
                    [
                      3
                    ],
                    [
                      3
                    ],
                    [
                      3
                    ],
                    [
                      3
                    ],
                    [
                      3
                    ],
                    [
                      3
                    ],
                    [
                      3
                    ],
                    [
                      3
                    ],
                    [
                      3
                    ],
                    [
                      3
                    ],
                    [
                      3
                    ],
                    [
                      3
                    ],
                    [
                      3
                    ],
                    [
                      3
                    ],
                    [
                      3
                    ],
                    [
                      3
                    ],
                    [
                      3
                    ],
                    [
                      3
                    ],
                    [
                      3
                    ],
                    [
                      3
                    ],
                    [
                      3
                    ],
                    [
                      3
                    ],
                    [
                      3
                    ],
                    [
                      3
                    ],
                    [
                      3
                    ],
                    [
                      3
                    ],
                    [
                      3
                    ],
                    [
                      3
                    ],
                    [
                      3
                    ],
                    [
                      3
                    ],
                    [
                      3
                    ],
                    [
                      3
                    ],
                    [
                      3
                    ],
                    [
                      3
                    ],
                    [
                      3
                    ],
                    [
                      3
                    ],
                    [
                      3
                    ],
                    [
                      3
                    ],
                    [
                      3
                    ],
                    [
                      3
                    ],
                    [
                      3
                    ],
                    [
                      3
                    ],
                    [
                      3
                    ],
                    [
                      3
                    ],
                    [
                      3
                    ],
                    [
                      3
                    ],
                    [
                      3
                    ],
                    [
                      3
                    ],
                    [
                      3
                    ],
                    [
                      3
                    ],
                    [
                      3
                    ],
                    [
                      3
                    ],
                    [
                      3
                    ],
                    [
                      3
                    ],
                    [
                      3
                    ],
                    [
                      3
                    ],
                    [
                      3
                    ],
                    [
                      3
                    ],
                    [
                      3
                    ],
                    [
                      3
                    ],
                    [
                      3
                    ],
                    [
                      3
                    ],
                    [
                      3
                    ],
                    [
                      3
                    ],
                    [
                      3
                    ],
                    [
                      3
                    ],
                    [
                      3
                    ],
                    [
                      3
                    ],
                    [
                      3
                    ],
                    [
                      3
                    ],
                    [
                      3
                    ],
                    [
                      3
                    ],
                    [
                      3
                    ],
                    [
                      3
                    ],
                    [
                      3
                    ],
                    [
                      3
                    ],
                    [
                      3
                    ],
                    [
                      3
                    ],
                    [
                      3
                    ],
                    [
                      3
                    ],
                    [
                      3
                    ],
                    [
                      3
                    ],
                    [
                      3
                    ],
                    [
                      3
                    ],
                    [
                      3
                    ],
                    [
                      3
                    ],
                    [
                      3
                    ],
                    [
                      3
                    ],
                    [
                      3
                    ],
                    [
                      3
                    ],
                    [
                      3
                    ],
                    [
                      3
                    ],
                    [
                      3
                    ],
                    [
                      3
                    ],
                    [
                      3
                    ],
                    [
                      3
                    ],
                    [
                      3
                    ],
                    [
                      3
                    ],
                    [
                      3
                    ],
                    [
                      3
                    ],
                    [
                      3
                    ],
                    [
                      3
                    ],
                    [
                      3
                    ],
                    [
                      3
                    ],
                    [
                      3
                    ],
                    [
                      3
                    ],
                    [
                      3
                    ],
                    [
                      3
                    ],
                    [
                      3
                    ],
                    [
                      3
                    ],
                    [
                      3
                    ],
                    [
                      3
                    ],
                    [
                      3
                    ],
                    [
                      3
                    ],
                    [
                      3
                    ],
                    [
                      3
                    ],
                    [
                      3
                    ],
                    [
                      3
                    ],
                    [
                      3
                    ],
                    [
                      3
                    ],
                    [
                      3
                    ],
                    [
                      3
                    ],
                    [
                      3
                    ],
                    [
                      3
                    ],
                    [
                      3
                    ],
                    [
                      3
                    ],
                    [
                      3
                    ],
                    [
                      3
                    ],
                    [
                      3
                    ],
                    [
                      3
                    ],
                    [
                      3
                    ],
                    [
                      3
                    ],
                    [
                      3
                    ],
                    [
                      3
                    ],
                    [
                      3
                    ],
                    [
                      3
                    ],
                    [
                      3
                    ],
                    [
                      3
                    ],
                    [
                      3
                    ],
                    [
                      3
                    ],
                    [
                      3
                    ],
                    [
                      3
                    ],
                    [
                      3
                    ],
                    [
                      3
                    ],
                    [
                      3
                    ],
                    [
                      3
                    ],
                    [
                      3
                    ],
                    [
                      3
                    ],
                    [
                      3
                    ],
                    [
                      3
                    ],
                    [
                      3
                    ],
                    [
                      3
                    ],
                    [
                      3
                    ],
                    [
                      3
                    ],
                    [
                      3
                    ],
                    [
                      3
                    ],
                    [
                      3
                    ],
                    [
                      3
                    ],
                    [
                      3
                    ],
                    [
                      3
                    ],
                    [
                      3
                    ],
                    [
                      3
                    ],
                    [
                      3
                    ],
                    [
                      3
                    ],
                    [
                      3
                    ],
                    [
                      3
                    ],
                    [
                      3
                    ],
                    [
                      3
                    ],
                    [
                      3
                    ],
                    [
                      3
                    ],
                    [
                      3
                    ],
                    [
                      3
                    ],
                    [
                      3
                    ],
                    [
                      3
                    ],
                    [
                      3
                    ],
                    [
                      3
                    ],
                    [
                      3
                    ],
                    [
                      3
                    ],
                    [
                      3
                    ],
                    [
                      3
                    ],
                    [
                      3
                    ],
                    [
                      3
                    ],
                    [
                      3
                    ],
                    [
                      3
                    ],
                    [
                      3
                    ],
                    [
                      3
                    ],
                    [
                      3
                    ],
                    [
                      3
                    ],
                    [
                      3
                    ],
                    [
                      3
                    ],
                    [
                      3
                    ],
                    [
                      3
                    ],
                    [
                      3
                    ],
                    [
                      3
                    ],
                    [
                      3
                    ],
                    [
                      3
                    ],
                    [
                      3
                    ],
                    [
                      3
                    ],
                    [
                      3
                    ],
                    [
                      3
                    ],
                    [
                      3
                    ],
                    [
                      3
                    ],
                    [
                      3
                    ],
                    [
                      3
                    ],
                    [
                      3
                    ],
                    [
                      3
                    ],
                    [
                      3
                    ],
                    [
                      3
                    ],
                    [
                      3
                    ],
                    [
                      3
                    ],
                    [
                      3
                    ],
                    [
                      3
                    ],
                    [
                      3
                    ],
                    [
                      3
                    ],
                    [
                      3
                    ],
                    [
                      3
                    ],
                    [
                      3
                    ],
                    [
                      3
                    ],
                    [
                      3
                    ],
                    [
                      3
                    ],
                    [
                      3
                    ],
                    [
                      3
                    ],
                    [
                      3
                    ],
                    [
                      3
                    ],
                    [
                      3
                    ],
                    [
                      3
                    ],
                    [
                      3
                    ],
                    [
                      3
                    ],
                    [
                      3
                    ],
                    [
                      3
                    ],
                    [
                      3
                    ],
                    [
                      3
                    ],
                    [
                      3
                    ],
                    [
                      3
                    ],
                    [
                      3
                    ],
                    [
                      3
                    ],
                    [
                      3
                    ],
                    [
                      3
                    ],
                    [
                      3
                    ],
                    [
                      3
                    ],
                    [
                      3
                    ],
                    [
                      3
                    ],
                    [
                      3
                    ],
                    [
                      3
                    ],
                    [
                      3
                    ],
                    [
                      3
                    ],
                    [
                      3
                    ],
                    [
                      3
                    ],
                    [
                      3
                    ],
                    [
                      3
                    ],
                    [
                      3
                    ],
                    [
                      3
                    ],
                    [
                      3
                    ],
                    [
                      3
                    ],
                    [
                      3
                    ],
                    [
                      3
                    ],
                    [
                      3
                    ],
                    [
                      3
                    ],
                    [
                      3
                    ],
                    [
                      3
                    ],
                    [
                      3
                    ],
                    [
                      3
                    ],
                    [
                      3
                    ],
                    [
                      3
                    ],
                    [
                      3
                    ],
                    [
                      3
                    ],
                    [
                      3
                    ],
                    [
                      3
                    ],
                    [
                      3
                    ],
                    [
                      3
                    ],
                    [
                      3
                    ],
                    [
                      3
                    ],
                    [
                      3
                    ],
                    [
                      3
                    ],
                    [
                      3
                    ],
                    [
                      3
                    ],
                    [
                      3
                    ],
                    [
                      3
                    ],
                    [
                      3
                    ],
                    [
                      3
                    ],
                    [
                      3
                    ],
                    [
                      3
                    ],
                    [
                      3
                    ],
                    [
                      3
                    ],
                    [
                      3
                    ],
                    [
                      3
                    ],
                    [
                      3
                    ],
                    [
                      3
                    ],
                    [
                      3
                    ],
                    [
                      3
                    ],
                    [
                      3
                    ],
                    [
                      3
                    ],
                    [
                      3
                    ],
                    [
                      3
                    ],
                    [
                      3
                    ],
                    [
                      3
                    ],
                    [
                      3
                    ],
                    [
                      3
                    ],
                    [
                      3
                    ],
                    [
                      3
                    ],
                    [
                      3
                    ],
                    [
                      3
                    ],
                    [
                      3
                    ],
                    [
                      3
                    ],
                    [
                      3
                    ],
                    [
                      3
                    ],
                    [
                      3
                    ],
                    [
                      3
                    ],
                    [
                      3
                    ],
                    [
                      3
                    ],
                    [
                      3
                    ],
                    [
                      3
                    ],
                    [
                      3
                    ],
                    [
                      3
                    ],
                    [
                      3
                    ],
                    [
                      3
                    ],
                    [
                      3
                    ],
                    [
                      3
                    ],
                    [
                      3
                    ],
                    [
                      3
                    ],
                    [
                      3
                    ],
                    [
                      3
                    ],
                    [
                      3
                    ],
                    [
                      3
                    ],
                    [
                      3
                    ],
                    [
                      3
                    ],
                    [
                      3
                    ],
                    [
                      3
                    ],
                    [
                      3
                    ],
                    [
                      3
                    ],
                    [
                      3
                    ],
                    [
                      3
                    ],
                    [
                      3
                    ],
                    [
                      3
                    ],
                    [
                      3
                    ],
                    [
                      3
                    ],
                    [
                      3
                    ],
                    [
                      3
                    ],
                    [
                      3
                    ],
                    [
                      3
                    ],
                    [
                      3
                    ],
                    [
                      3
                    ],
                    [
                      3
                    ],
                    [
                      3
                    ],
                    [
                      3
                    ],
                    [
                      3
                    ],
                    [
                      3
                    ],
                    [
                      3
                    ],
                    [
                      3
                    ],
                    [
                      3
                    ],
                    [
                      3
                    ],
                    [
                      3
                    ],
                    [
                      3
                    ],
                    [
                      3
                    ],
                    [
                      3
                    ],
                    [
                      3
                    ],
                    [
                      3
                    ],
                    [
                      3
                    ],
                    [
                      3
                    ],
                    [
                      3
                    ],
                    [
                      3
                    ],
                    [
                      3
                    ],
                    [
                      3
                    ],
                    [
                      3
                    ],
                    [
                      3
                    ],
                    [
                      3
                    ],
                    [
                      3
                    ],
                    [
                      3
                    ],
                    [
                      3
                    ],
                    [
                      3
                    ],
                    [
                      3
                    ],
                    [
                      3
                    ],
                    [
                      3
                    ],
                    [
                      3
                    ],
                    [
                      3
                    ],
                    [
                      3
                    ],
                    [
                      3
                    ],
                    [
                      3
                    ],
                    [
                      3
                    ],
                    [
                      3
                    ],
                    [
                      3
                    ],
                    [
                      3
                    ],
                    [
                      3
                    ],
                    [
                      3
                    ],
                    [
                      3
                    ],
                    [
                      3
                    ],
                    [
                      3
                    ],
                    [
                      3
                    ],
                    [
                      3
                    ],
                    [
                      3
                    ],
                    [
                      3
                    ],
                    [
                      3
                    ],
                    [
                      3
                    ],
                    [
                      3
                    ],
                    [
                      3
                    ],
                    [
                      3
                    ],
                    [
                      3
                    ],
                    [
                      3
                    ],
                    [
                      3
                    ],
                    [
                      3
                    ],
                    [
                      3
                    ],
                    [
                      3
                    ],
                    [
                      3
                    ],
                    [
                      3
                    ],
                    [
                      3
                    ],
                    [
                      3
                    ],
                    [
                      3
                    ],
                    [
                      3
                    ],
                    [
                      3
                    ],
                    [
                      3
                    ],
                    [
                      3
                    ],
                    [
                      3
                    ],
                    [
                      3
                    ],
                    [
                      3
                    ],
                    [
                      3
                    ],
                    [
                      3
                    ],
                    [
                      3
                    ],
                    [
                      3
                    ],
                    [
                      3
                    ],
                    [
                      3
                    ],
                    [
                      3
                    ],
                    [
                      3
                    ],
                    [
                      3
                    ],
                    [
                      3
                    ],
                    [
                      3
                    ],
                    [
                      3
                    ],
                    [
                      3
                    ],
                    [
                      3
                    ],
                    [
                      3
                    ],
                    [
                      3
                    ],
                    [
                      3
                    ],
                    [
                      3
                    ],
                    [
                      3
                    ],
                    [
                      3
                    ],
                    [
                      3
                    ],
                    [
                      3
                    ],
                    [
                      3
                    ],
                    [
                      3
                    ],
                    [
                      3
                    ],
                    [
                      3
                    ],
                    [
                      3
                    ],
                    [
                      3
                    ],
                    [
                      3
                    ],
                    [
                      3
                    ],
                    [
                      3
                    ],
                    [
                      3
                    ],
                    [
                      3
                    ],
                    [
                      3
                    ],
                    [
                      3
                    ],
                    [
                      3
                    ],
                    [
                      3
                    ],
                    [
                      3
                    ],
                    [
                      3
                    ],
                    [
                      3
                    ],
                    [
                      3
                    ],
                    [
                      3
                    ],
                    [
                      3
                    ],
                    [
                      3
                    ],
                    [
                      3
                    ],
                    [
                      3
                    ],
                    [
                      3
                    ],
                    [
                      3
                    ],
                    [
                      3
                    ],
                    [
                      3
                    ],
                    [
                      3
                    ],
                    [
                      3
                    ],
                    [
                      3
                    ],
                    [
                      3
                    ],
                    [
                      3
                    ],
                    [
                      3
                    ],
                    [
                      3
                    ],
                    [
                      3
                    ],
                    [
                      3
                    ],
                    [
                      3
                    ],
                    [
                      3
                    ],
                    [
                      3
                    ],
                    [
                      3
                    ],
                    [
                      3
                    ],
                    [
                      3
                    ],
                    [
                      3
                    ],
                    [
                      3
                    ],
                    [
                      3
                    ],
                    [
                      3
                    ],
                    [
                      3
                    ],
                    [
                      3
                    ],
                    [
                      3
                    ],
                    [
                      3
                    ],
                    [
                      3
                    ],
                    [
                      3
                    ],
                    [
                      3
                    ],
                    [
                      3
                    ],
                    [
                      3
                    ],
                    [
                      3
                    ],
                    [
                      3
                    ],
                    [
                      3
                    ],
                    [
                      3
                    ],
                    [
                      3
                    ],
                    [
                      3
                    ],
                    [
                      3
                    ],
                    [
                      3
                    ],
                    [
                      3
                    ],
                    [
                      3
                    ],
                    [
                      3
                    ],
                    [
                      3
                    ],
                    [
                      3
                    ],
                    [
                      3
                    ],
                    [
                      3
                    ],
                    [
                      3
                    ],
                    [
                      3
                    ],
                    [
                      3
                    ],
                    [
                      3
                    ],
                    [
                      3
                    ],
                    [
                      3
                    ],
                    [
                      3
                    ],
                    [
                      3
                    ],
                    [
                      3
                    ],
                    [
                      3
                    ],
                    [
                      3
                    ],
                    [
                      3
                    ],
                    [
                      3
                    ],
                    [
                      3
                    ],
                    [
                      3
                    ],
                    [
                      3
                    ],
                    [
                      3
                    ],
                    [
                      3
                    ],
                    [
                      3
                    ],
                    [
                      3
                    ],
                    [
                      3
                    ],
                    [
                      3
                    ],
                    [
                      3
                    ],
                    [
                      3
                    ],
                    [
                      3
                    ],
                    [
                      3
                    ],
                    [
                      3
                    ],
                    [
                      3
                    ],
                    [
                      3
                    ],
                    [
                      3
                    ],
                    [
                      3
                    ],
                    [
                      3
                    ],
                    [
                      3
                    ],
                    [
                      3
                    ],
                    [
                      3
                    ],
                    [
                      3
                    ],
                    [
                      3
                    ],
                    [
                      3
                    ],
                    [
                      3
                    ],
                    [
                      3
                    ],
                    [
                      3
                    ],
                    [
                      3
                    ],
                    [
                      3
                    ],
                    [
                      3
                    ],
                    [
                      3
                    ],
                    [
                      3
                    ],
                    [
                      3
                    ],
                    [
                      3
                    ],
                    [
                      3
                    ],
                    [
                      3
                    ],
                    [
                      3
                    ],
                    [
                      3
                    ],
                    [
                      3
                    ],
                    [
                      3
                    ],
                    [
                      3
                    ],
                    [
                      3
                    ],
                    [
                      3
                    ],
                    [
                      3
                    ],
                    [
                      3
                    ],
                    [
                      3
                    ],
                    [
                      3
                    ],
                    [
                      3
                    ],
                    [
                      3
                    ],
                    [
                      3
                    ],
                    [
                      3
                    ],
                    [
                      3
                    ],
                    [
                      3
                    ],
                    [
                      3
                    ],
                    [
                      3
                    ],
                    [
                      3
                    ],
                    [
                      3
                    ],
                    [
                      3
                    ],
                    [
                      3
                    ],
                    [
                      3
                    ],
                    [
                      3
                    ],
                    [
                      3
                    ],
                    [
                      3
                    ],
                    [
                      3
                    ],
                    [
                      3
                    ],
                    [
                      3
                    ],
                    [
                      3
                    ],
                    [
                      3
                    ],
                    [
                      3
                    ],
                    [
                      3
                    ],
                    [
                      3
                    ],
                    [
                      3
                    ],
                    [
                      3
                    ],
                    [
                      3
                    ],
                    [
                      3
                    ],
                    [
                      3
                    ],
                    [
                      3
                    ],
                    [
                      3
                    ],
                    [
                      3
                    ],
                    [
                      3
                    ],
                    [
                      3
                    ],
                    [
                      3
                    ],
                    [
                      3
                    ],
                    [
                      3
                    ],
                    [
                      3
                    ],
                    [
                      3
                    ],
                    [
                      3
                    ],
                    [
                      3
                    ],
                    [
                      3
                    ],
                    [
                      3
                    ],
                    [
                      3
                    ],
                    [
                      3
                    ],
                    [
                      3
                    ],
                    [
                      3
                    ],
                    [
                      3
                    ],
                    [
                      3
                    ],
                    [
                      3
                    ],
                    [
                      3
                    ],
                    [
                      3
                    ],
                    [
                      3
                    ],
                    [
                      3
                    ],
                    [
                      3
                    ],
                    [
                      3
                    ],
                    [
                      3
                    ],
                    [
                      3
                    ],
                    [
                      3
                    ],
                    [
                      3
                    ],
                    [
                      3
                    ],
                    [
                      3
                    ],
                    [
                      3
                    ],
                    [
                      3
                    ],
                    [
                      3
                    ],
                    [
                      3
                    ],
                    [
                      3
                    ],
                    [
                      3
                    ],
                    [
                      3
                    ],
                    [
                      3
                    ],
                    [
                      3
                    ],
                    [
                      3
                    ],
                    [
                      3
                    ],
                    [
                      3
                    ],
                    [
                      3
                    ],
                    [
                      3
                    ],
                    [
                      3
                    ],
                    [
                      3
                    ],
                    [
                      3
                    ],
                    [
                      3
                    ],
                    [
                      3
                    ],
                    [
                      3
                    ],
                    [
                      3
                    ],
                    [
                      3
                    ],
                    [
                      3
                    ],
                    [
                      3
                    ],
                    [
                      3
                    ],
                    [
                      3
                    ],
                    [
                      3
                    ],
                    [
                      3
                    ],
                    [
                      3
                    ],
                    [
                      3
                    ],
                    [
                      3
                    ],
                    [
                      3
                    ],
                    [
                      3
                    ],
                    [
                      3
                    ],
                    [
                      3
                    ],
                    [
                      3
                    ],
                    [
                      3
                    ],
                    [
                      3
                    ],
                    [
                      3
                    ],
                    [
                      3
                    ],
                    [
                      3
                    ],
                    [
                      3
                    ],
                    [
                      3
                    ],
                    [
                      3
                    ],
                    [
                      3
                    ],
                    [
                      3
                    ],
                    [
                      3
                    ],
                    [
                      3
                    ],
                    [
                      3
                    ],
                    [
                      3
                    ],
                    [
                      3
                    ],
                    [
                      3
                    ],
                    [
                      3
                    ],
                    [
                      3
                    ],
                    [
                      3
                    ],
                    [
                      3
                    ],
                    [
                      3
                    ],
                    [
                      3
                    ],
                    [
                      3
                    ],
                    [
                      3
                    ],
                    [
                      3
                    ],
                    [
                      3
                    ],
                    [
                      3
                    ],
                    [
                      3
                    ],
                    [
                      3
                    ],
                    [
                      3
                    ],
                    [
                      3
                    ],
                    [
                      3
                    ],
                    [
                      3
                    ],
                    [
                      3
                    ],
                    [
                      3
                    ],
                    [
                      3
                    ],
                    [
                      3
                    ],
                    [
                      3
                    ],
                    [
                      3
                    ],
                    [
                      3
                    ],
                    [
                      3
                    ],
                    [
                      3
                    ],
                    [
                      3
                    ],
                    [
                      3
                    ],
                    [
                      3
                    ],
                    [
                      3
                    ],
                    [
                      3
                    ],
                    [
                      3
                    ],
                    [
                      3
                    ],
                    [
                      3
                    ],
                    [
                      3
                    ],
                    [
                      3
                    ],
                    [
                      3
                    ],
                    [
                      3
                    ],
                    [
                      3
                    ],
                    [
                      3
                    ],
                    [
                      3
                    ],
                    [
                      3
                    ],
                    [
                      3
                    ],
                    [
                      3
                    ],
                    [
                      3
                    ],
                    [
                      3
                    ],
                    [
                      3
                    ],
                    [
                      3
                    ],
                    [
                      3
                    ],
                    [
                      3
                    ],
                    [
                      3
                    ],
                    [
                      3
                    ],
                    [
                      3
                    ],
                    [
                      3
                    ],
                    [
                      3
                    ],
                    [
                      3
                    ],
                    [
                      3
                    ],
                    [
                      3
                    ],
                    [
                      3
                    ],
                    [
                      3
                    ],
                    [
                      3
                    ],
                    [
                      3
                    ],
                    [
                      3
                    ],
                    [
                      3
                    ],
                    [
                      3
                    ],
                    [
                      3
                    ],
                    [
                      3
                    ],
                    [
                      3
                    ],
                    [
                      3
                    ],
                    [
                      3
                    ],
                    [
                      3
                    ],
                    [
                      3
                    ],
                    [
                      3
                    ],
                    [
                      3
                    ],
                    [
                      3
                    ],
                    [
                      3
                    ],
                    [
                      3
                    ],
                    [
                      3
                    ],
                    [
                      3
                    ],
                    [
                      3
                    ],
                    [
                      3
                    ],
                    [
                      3
                    ],
                    [
                      3
                    ],
                    [
                      3
                    ],
                    [
                      3
                    ],
                    [
                      3
                    ],
                    [
                      3
                    ],
                    [
                      3
                    ],
                    [
                      3
                    ],
                    [
                      3
                    ],
                    [
                      3
                    ],
                    [
                      3
                    ],
                    [
                      3
                    ],
                    [
                      3
                    ],
                    [
                      3
                    ],
                    [
                      3
                    ],
                    [
                      3
                    ],
                    [
                      3
                    ],
                    [
                      3
                    ],
                    [
                      3
                    ],
                    [
                      3
                    ],
                    [
                      3
                    ],
                    [
                      3
                    ],
                    [
                      3
                    ],
                    [
                      3
                    ],
                    [
                      3
                    ],
                    [
                      3
                    ],
                    [
                      3
                    ],
                    [
                      3
                    ],
                    [
                      3
                    ],
                    [
                      3
                    ],
                    [
                      3
                    ],
                    [
                      3
                    ],
                    [
                      3
                    ],
                    [
                      3
                    ],
                    [
                      3
                    ],
                    [
                      3
                    ],
                    [
                      3
                    ],
                    [
                      3
                    ],
                    [
                      3
                    ],
                    [
                      3
                    ],
                    [
                      3
                    ],
                    [
                      3
                    ],
                    [
                      3
                    ],
                    [
                      3
                    ],
                    [
                      3
                    ],
                    [
                      3
                    ],
                    [
                      3
                    ],
                    [
                      3
                    ],
                    [
                      3
                    ],
                    [
                      3
                    ],
                    [
                      3
                    ],
                    [
                      3
                    ],
                    [
                      3
                    ],
                    [
                      3
                    ],
                    [
                      3
                    ],
                    [
                      3
                    ]
                  ],
                  "hovertemplate": "0=%{x}<br>1=%{y}<br>2=%{z}<br>Feature=%{customdata[0]}<br>Anomaly=%{marker.color}<extra></extra>",
                  "legendgroup": "",
                  "marker": {
                    "color": [
                      0,
                      0,
                      0,
                      0,
                      0,
                      0,
                      0,
                      0,
                      0,
                      0,
                      0,
                      0,
                      0,
                      0,
                      0,
                      0,
                      0,
                      1,
                      0,
                      1,
                      1,
                      0,
                      0,
                      0,
                      0,
                      0,
                      0,
                      0,
                      0,
                      0,
                      0,
                      0,
                      0,
                      0,
                      0,
                      0,
                      0,
                      1,
                      0,
                      0,
                      0,
                      0,
                      0,
                      0,
                      0,
                      0,
                      0,
                      0,
                      0,
                      0,
                      0,
                      0,
                      0,
                      1,
                      0,
                      0,
                      0,
                      1,
                      0,
                      0,
                      0,
                      0,
                      0,
                      0,
                      0,
                      0,
                      0,
                      0,
                      0,
                      0,
                      0,
                      0,
                      0,
                      0,
                      0,
                      0,
                      0,
                      0,
                      0,
                      0,
                      0,
                      0,
                      0,
                      0,
                      0,
                      0,
                      0,
                      0,
                      0,
                      0,
                      0,
                      0,
                      0,
                      0,
                      0,
                      0,
                      0,
                      0,
                      1,
                      1,
                      0,
                      0,
                      0,
                      0,
                      0,
                      0,
                      0,
                      0,
                      0,
                      0,
                      0,
                      0,
                      1,
                      0,
                      0,
                      0,
                      0,
                      0,
                      0,
                      0,
                      0,
                      0,
                      0,
                      0,
                      0,
                      0,
                      0,
                      0,
                      0,
                      0,
                      0,
                      0,
                      0,
                      0,
                      0,
                      0,
                      0,
                      0,
                      0,
                      0,
                      0,
                      0,
                      0,
                      0,
                      0,
                      0,
                      1,
                      0,
                      0,
                      0,
                      0,
                      0,
                      0,
                      0,
                      0,
                      0,
                      0,
                      0,
                      0,
                      0,
                      0,
                      0,
                      0,
                      0,
                      0,
                      0,
                      1,
                      0,
                      0,
                      0,
                      0,
                      0,
                      0,
                      0,
                      0,
                      0,
                      0,
                      0,
                      0,
                      0,
                      0,
                      1,
                      0,
                      0,
                      0,
                      0,
                      0,
                      1,
                      0,
                      0,
                      0,
                      0,
                      0,
                      0,
                      0,
                      0,
                      0,
                      0,
                      0,
                      0,
                      0,
                      0,
                      1,
                      0,
                      0,
                      0,
                      0,
                      0,
                      0,
                      0,
                      0,
                      0,
                      0,
                      0,
                      0,
                      0,
                      0,
                      0,
                      0,
                      0,
                      0,
                      0,
                      0,
                      0,
                      0,
                      0,
                      0,
                      0,
                      0,
                      0,
                      0,
                      0,
                      0,
                      0,
                      0,
                      0,
                      0,
                      0,
                      1,
                      0,
                      0,
                      0,
                      0,
                      0,
                      0,
                      0,
                      0,
                      0,
                      0,
                      0,
                      0,
                      0,
                      0,
                      0,
                      0,
                      0,
                      0,
                      0,
                      0,
                      1,
                      0,
                      0,
                      0,
                      0,
                      0,
                      0,
                      0,
                      0,
                      0,
                      0,
                      0,
                      0,
                      0,
                      0,
                      0,
                      0,
                      0,
                      0,
                      0,
                      0,
                      0,
                      0,
                      0,
                      0,
                      0,
                      0,
                      0,
                      0,
                      0,
                      0,
                      0,
                      0,
                      0,
                      0,
                      1,
                      0,
                      0,
                      0,
                      0,
                      0,
                      0,
                      0,
                      0,
                      0,
                      0,
                      0,
                      1,
                      0,
                      0,
                      0,
                      0,
                      0,
                      0,
                      0,
                      0,
                      0,
                      0,
                      0,
                      0,
                      0,
                      0,
                      0,
                      0,
                      0,
                      0,
                      0,
                      0,
                      0,
                      0,
                      0,
                      0,
                      0,
                      0,
                      0,
                      0,
                      0,
                      0,
                      0,
                      0,
                      0,
                      0,
                      0,
                      0,
                      0,
                      0,
                      0,
                      0,
                      0,
                      0,
                      0,
                      0,
                      0,
                      0,
                      0,
                      0,
                      0,
                      0,
                      0,
                      0,
                      0,
                      0,
                      0,
                      0,
                      0,
                      0,
                      1,
                      0,
                      0,
                      0,
                      0,
                      0,
                      0,
                      0,
                      0,
                      0,
                      0,
                      0,
                      0,
                      0,
                      0,
                      0,
                      0,
                      0,
                      0,
                      0,
                      0,
                      0,
                      0,
                      0,
                      0,
                      0,
                      0,
                      0,
                      0,
                      0,
                      0,
                      0,
                      0,
                      0,
                      1,
                      0,
                      0,
                      0,
                      0,
                      0,
                      0,
                      0,
                      0,
                      1,
                      0,
                      0,
                      1,
                      0,
                      0,
                      0,
                      0,
                      0,
                      0,
                      0,
                      0,
                      0,
                      0,
                      0,
                      0,
                      0,
                      0,
                      0,
                      0,
                      0,
                      0,
                      0,
                      0,
                      0,
                      0,
                      0,
                      0,
                      0,
                      0,
                      0,
                      0,
                      0,
                      0,
                      0,
                      0,
                      0,
                      0,
                      0,
                      0,
                      0,
                      0,
                      0,
                      0,
                      0,
                      0,
                      0,
                      0,
                      0,
                      0,
                      0,
                      0,
                      0,
                      0,
                      0,
                      0,
                      0,
                      0,
                      0,
                      0,
                      1,
                      0,
                      0,
                      0,
                      0,
                      0,
                      0,
                      0,
                      0,
                      0,
                      0,
                      0,
                      1,
                      0,
                      0,
                      1,
                      0,
                      0,
                      0,
                      0,
                      0,
                      0,
                      0,
                      0,
                      0,
                      0,
                      0,
                      0,
                      0,
                      0,
                      0,
                      0,
                      0,
                      0,
                      0,
                      0,
                      0,
                      0,
                      0,
                      0,
                      0,
                      0,
                      0,
                      0,
                      0,
                      0,
                      0,
                      0,
                      1,
                      0,
                      0,
                      0,
                      0,
                      0,
                      0,
                      0,
                      0,
                      0,
                      1,
                      0,
                      0,
                      0,
                      0,
                      0,
                      0,
                      1,
                      0,
                      1,
                      0,
                      0,
                      0,
                      0,
                      0,
                      0,
                      0,
                      0,
                      0,
                      0,
                      0,
                      1,
                      0,
                      0,
                      0,
                      0,
                      0,
                      0,
                      0,
                      0,
                      0,
                      0,
                      0,
                      0,
                      0,
                      1,
                      1,
                      0,
                      0,
                      0,
                      0,
                      0,
                      0,
                      0,
                      0,
                      0,
                      0,
                      0,
                      0,
                      0,
                      0,
                      0,
                      0,
                      0,
                      0,
                      0,
                      0,
                      0,
                      0,
                      0,
                      0,
                      0,
                      0,
                      0,
                      0,
                      0,
                      0,
                      0,
                      0,
                      0,
                      0,
                      0,
                      0,
                      0,
                      0,
                      0,
                      0,
                      0,
                      0,
                      0,
                      0,
                      0,
                      0,
                      0,
                      0,
                      0,
                      0,
                      0,
                      0,
                      0,
                      1,
                      0,
                      0,
                      0,
                      0,
                      0,
                      0,
                      0,
                      0,
                      0,
                      0,
                      1,
                      0,
                      0,
                      0,
                      0,
                      0,
                      0,
                      0,
                      0,
                      0,
                      0,
                      1,
                      0,
                      0,
                      0,
                      0,
                      0,
                      0,
                      0,
                      0,
                      1,
                      0,
                      0,
                      0,
                      0,
                      0,
                      0,
                      0,
                      0,
                      0,
                      0,
                      0,
                      0,
                      0,
                      0,
                      0,
                      0,
                      1,
                      0,
                      0,
                      1,
                      0,
                      0,
                      0,
                      0,
                      0,
                      0,
                      0,
                      0,
                      0,
                      0,
                      0,
                      0,
                      0,
                      0,
                      0,
                      0,
                      0,
                      0,
                      0,
                      0,
                      0,
                      0,
                      0,
                      0,
                      0,
                      0,
                      0,
                      0,
                      0,
                      0,
                      0,
                      0,
                      0,
                      0,
                      0,
                      0,
                      0,
                      0,
                      0,
                      0,
                      0,
                      1,
                      0,
                      0,
                      0,
                      0,
                      0,
                      0,
                      0,
                      0,
                      0,
                      0,
                      0,
                      0,
                      0,
                      0,
                      0,
                      1,
                      0,
                      0,
                      0,
                      0,
                      0,
                      0,
                      0,
                      0,
                      0,
                      1,
                      0,
                      0,
                      0,
                      0,
                      0,
                      0,
                      0,
                      0,
                      0,
                      0,
                      0,
                      0,
                      0,
                      0,
                      0,
                      0,
                      0,
                      0,
                      0,
                      0,
                      0,
                      0,
                      0,
                      0,
                      0,
                      0,
                      0,
                      0,
                      0,
                      0,
                      0,
                      0,
                      0,
                      0,
                      0,
                      0,
                      0,
                      0,
                      0,
                      1,
                      0,
                      0,
                      0,
                      0,
                      0,
                      0,
                      0,
                      0,
                      0,
                      0,
                      0,
                      0,
                      1,
                      0,
                      0,
                      0,
                      0,
                      0,
                      0,
                      0,
                      0,
                      0,
                      0,
                      0,
                      0,
                      0,
                      0,
                      1,
                      0,
                      0,
                      0,
                      0,
                      0,
                      0,
                      0,
                      0,
                      0,
                      0,
                      0,
                      0,
                      0,
                      0,
                      0,
                      0,
                      0,
                      0,
                      0,
                      0,
                      0,
                      0,
                      0,
                      0,
                      0,
                      0,
                      0,
                      0,
                      0,
                      0,
                      0,
                      0,
                      0,
                      0,
                      0,
                      0,
                      0,
                      0,
                      0,
                      0,
                      0,
                      0,
                      0,
                      0,
                      0,
                      0,
                      0,
                      0,
                      0,
                      0,
                      0,
                      0,
                      0,
                      0,
                      0,
                      0,
                      1,
                      0,
                      0,
                      0,
                      0,
                      0,
                      0,
                      0,
                      0,
                      0,
                      0,
                      0,
                      0,
                      1,
                      0,
                      0,
                      0,
                      0,
                      1,
                      0,
                      0,
                      0,
                      0,
                      0,
                      0,
                      0,
                      0,
                      0,
                      0,
                      0,
                      0,
                      0,
                      0,
                      0,
                      0,
                      0,
                      0,
                      0,
                      0,
                      0,
                      0,
                      0,
                      0,
                      0,
                      0,
                      0,
                      0,
                      0,
                      0,
                      0,
                      0,
                      0,
                      1,
                      1,
                      0,
                      0,
                      0,
                      0,
                      0,
                      0,
                      0,
                      0,
                      0,
                      0,
                      0,
                      0,
                      0,
                      0,
                      0,
                      0,
                      0,
                      0,
                      0,
                      0,
                      0,
                      0,
                      0,
                      0,
                      0,
                      0,
                      0,
                      0,
                      0,
                      0,
                      0,
                      0,
                      0,
                      0,
                      0,
                      0,
                      0,
                      0,
                      0,
                      0,
                      0,
                      0,
                      0,
                      0,
                      0,
                      0,
                      0,
                      0,
                      0,
                      0,
                      0,
                      0,
                      0,
                      0,
                      0,
                      0,
                      0,
                      0,
                      0,
                      0,
                      0,
                      0,
                      0,
                      0,
                      0,
                      0,
                      0,
                      0,
                      0,
                      0,
                      0,
                      0,
                      0,
                      0,
                      0,
                      0,
                      0,
                      0,
                      0,
                      0,
                      0,
                      0,
                      0,
                      1,
                      0,
                      0
                    ],
                    "coloraxis": "coloraxis",
                    "opacity": 0.7,
                    "symbol": "circle"
                  },
                  "mode": "markers",
                  "name": "",
                  "scene": "scene",
                  "showlegend": false,
                  "x": [
                    12.405544,
                    17.00232,
                    -9.4577,
                    7.860222,
                    11.647634,
                    -9.424868,
                    10.79904,
                    -12.707265,
                    5.7028537,
                    -8.193089,
                    -8.27224,
                    13.601774,
                    -9.179614,
                    12.402096,
                    13.24843,
                    5.465972,
                    -5.285955,
                    -8.0504875,
                    -5.170829,
                    -5.409106,
                    14.814348,
                    -5.095002,
                    10.430947,
                    -11.613417,
                    -7.054168,
                    -9.910041,
                    -8.017705,
                    2.2015204,
                    -9.891732,
                    -6.194162,
                    8.918188,
                    -7.6254883,
                    12.999537,
                    0.14353989,
                    -11.562792,
                    -7.2294126,
                    7.4828005,
                    -0.9289826,
                    8.483166,
                    -9.948295,
                    6.7736998,
                    -13.185132,
                    -6.671833,
                    -6.185093,
                    -6.9025545,
                    -6.1836543,
                    12.777952,
                    -6.396874,
                    -8.086282,
                    4.8368387,
                    -9.052625,
                    5.573467,
                    15.429967,
                    -8.061742,
                    -6.0302334,
                    -10.866658,
                    -10.141442,
                    -7.7797227,
                    13.289372,
                    -12.354296,
                    10.16743,
                    -9.342004,
                    7.961724,
                    -5.141053,
                    -8.424754,
                    3.8393397,
                    -8.069402,
                    6.445568,
                    -10.548503,
                    5.8814425,
                    -8.366238,
                    -7.0579443,
                    -8.829703,
                    -9.159359,
                    10.850337,
                    -5.0864253,
                    -10.342645,
                    -5.929369,
                    -11.07298,
                    -9.619025,
                    14.361315,
                    11.05375,
                    13.310839,
                    -11.587003,
                    -8.190961,
                    -11.142418,
                    10.424804,
                    -7.877763,
                    10.475748,
                    8.77419,
                    -5.054484,
                    15.3155,
                    -9.79687,
                    12.891007,
                    -10.411718,
                    2.8950708,
                    11.628555,
                    -8.519347,
                    -0.77792656,
                    4.925029,
                    10.024327,
                    9.72812,
                    -12.184248,
                    -10.962902,
                    11.930215,
                    -6.849569,
                    -5.4873567,
                    -7.226736,
                    5.921172,
                    -9.823416,
                    -9.220261,
                    -7.8039374,
                    8.6758585,
                    -8.920612,
                    -12.149068,
                    -9.1313925,
                    10.492057,
                    7.8309927,
                    5.5597444,
                    10.668881,
                    -4.995196,
                    16.15998,
                    -5.2943926,
                    -6.7018523,
                    -8.913926,
                    -4.9750953,
                    -10.099706,
                    3.212895,
                    -9.528612,
                    -8.509946,
                    -9.8379965,
                    -4.285764,
                    -13.330914,
                    18.054846,
                    2.168721,
                    15.329509,
                    15.967328,
                    -9.689001,
                    -6.603479,
                    14.243216,
                    -8.335976,
                    -5.9613194,
                    -11.083768,
                    -5.308493,
                    -8.116453,
                    -7.6972094,
                    -7.1319838,
                    -6.0902905,
                    -11.906686,
                    5.821612,
                    -11.014787,
                    -6.9837756,
                    -4.135772,
                    -9.430916,
                    10.765653,
                    -5.2400904,
                    8.053914,
                    9.986381,
                    -9.861148,
                    -10.567751,
                    11.64498,
                    -5.400029,
                    -7.3113217,
                    -9.089192,
                    -9.481486,
                    11.13607,
                    -7.995365,
                    -11.813121,
                    16.044514,
                    4.7390337,
                    -12.071057,
                    1.7783463,
                    10.144706,
                    8.91,
                    16.063196,
                    -11.175617,
                    -8.884569,
                    4.2176456,
                    -9.9494505,
                    3.7887745,
                    12.80589,
                    -7.619498,
                    6.301235,
                    3.4893048,
                    4.4675145,
                    -4.011189,
                    17.348251,
                    17.740099,
                    -7.2584877,
                    15.43289,
                    -9.828446,
                    -10.00944,
                    5.5520964,
                    -9.497868,
                    10.279258,
                    -7.063395,
                    -10.885142,
                    -7.3836884,
                    -10.413003,
                    14.118159,
                    1.6190386,
                    8.046657,
                    -7.9751806,
                    13.844499,
                    8.467468,
                    2.8027678,
                    11.793484,
                    -13.409724,
                    -12.115753,
                    3.0703597,
                    -7.0546145,
                    7.5643563,
                    -9.429932,
                    -7.625736,
                    8.2985735,
                    -6.587158,
                    9.069485,
                    7.19728,
                    8.9451885,
                    -8.120202,
                    -7.263151,
                    7.197763,
                    -5.1167893,
                    0.22044584,
                    -9.582572,
                    16.31008,
                    4.346888,
                    -8.893048,
                    17.884966,
                    12.073984,
                    5.619428,
                    7.4643116,
                    9.394877,
                    10.436004,
                    -5.783118,
                    14.857984,
                    -10.090896,
                    11.560305,
                    19.557247,
                    4.0469236,
                    4.4131913,
                    -10.67706,
                    8.039548,
                    -6.6186843,
                    -11.464495,
                    -9.411474,
                    2.4322636,
                    8.803165,
                    -6.9975705,
                    -11.641588,
                    11.04112,
                    -9.729075,
                    10.387595,
                    9.003031,
                    -10.244158,
                    -11.38827,
                    0.72878706,
                    -11.299493,
                    -7.5938473,
                    -9.532705,
                    -11.711533,
                    0.57039016,
                    13.441918,
                    -8.847983,
                    -7.8304706,
                    -9.351108,
                    -10.204003,
                    -5.7228107,
                    -13.498721,
                    -5.9478683,
                    13.336927,
                    -4.1572313,
                    13.248899,
                    5.7504787,
                    -10.492368,
                    12.270016,
                    10.924269,
                    11.108444,
                    13.084038,
                    -6.7885437,
                    -6.9124045,
                    -5.7759643,
                    -5.853007,
                    -5.683555,
                    15.765871,
                    8.905011,
                    2.6651814,
                    13.032577,
                    12.319885,
                    -11.623236,
                    10.967493,
                    -11.039578,
                    -6.5698576,
                    8.636865,
                    16.065657,
                    10.521567,
                    3.9857762,
                    -9.079154,
                    18.055767,
                    -5.7802887,
                    10.456942,
                    -7.5677423,
                    -10.141111,
                    10.525485,
                    1.8953999,
                    12.460491,
                    6.616312,
                    16.223131,
                    0.79093164,
                    -6.514541,
                    4.987365,
                    3.94213,
                    -5.1531997,
                    -4.436701,
                    -12.110819,
                    -7.82941,
                    14.003146,
                    12.754633,
                    7.6679544,
                    7.6058593,
                    3.298597,
                    -10.643725,
                    15.564564,
                    -7.094181,
                    14.200204,
                    16.05718,
                    0.7574193,
                    -11.748228,
                    1.6586646,
                    14.746256,
                    -7.165515,
                    -6.848519,
                    11.419877,
                    -8.249143,
                    8.7213745,
                    -7.3984985,
                    -9.345821,
                    6.1703973,
                    -7.745871,
                    8.886266,
                    -7.413912,
                    4.912703,
                    14.05233,
                    6.8801103,
                    -9.065131,
                    7.9965606,
                    -5.3359222,
                    13.188582,
                    -10.782219,
                    -9.309203,
                    -7.8079824,
                    18.815546,
                    -12.611453,
                    -5.789035,
                    7.6171846,
                    -5.4366674,
                    10.629101,
                    13.730992,
                    0.047193985,
                    8.565806,
                    -9.207469,
                    -8.140364,
                    -10.4129,
                    -9.760423,
                    -7.1109324,
                    15.1873665,
                    17.622173,
                    -8.687248,
                    8.9347105,
                    -10.356552,
                    -9.529815,
                    12.694032,
                    -6.079607,
                    12.0532875,
                    -9.364093,
                    -5.2155104,
                    18.543577,
                    8.963095,
                    -6.2173457,
                    9.891128,
                    -6.6186028,
                    6.1760187,
                    -5.3123174,
                    5.276336,
                    4.226381,
                    11.550027,
                    12.250462,
                    5.4994636,
                    -8.830021,
                    6.2967205,
                    -10.040146,
                    8.464433,
                    13.817253,
                    9.963777,
                    -6.9562426,
                    -9.245924,
                    14.667211,
                    -5.3966136,
                    5.7299104,
                    -5.5887165,
                    -10.060315,
                    8.5679455,
                    -9.326679,
                    5.5557456,
                    -7.042529,
                    -8.012975,
                    6.633412,
                    6.4096527,
                    -13.396508,
                    -8.756856,
                    -9.702633,
                    11.686691,
                    16.737001,
                    -11.509828,
                    12.371317,
                    7.607585,
                    2.845885,
                    8.470887,
                    2.4457662,
                    -8.663107,
                    8.037655,
                    -8.6304455,
                    6.8382792,
                    13.7317,
                    -11.577821,
                    5.815648,
                    13.705556,
                    -9.381058,
                    -10.896557,
                    -6.999666,
                    -6.457194,
                    -9.950287,
                    -6.8377295,
                    10.560836,
                    -6.0822897,
                    -9.837034,
                    -9.899046,
                    0.14290442,
                    4.6481633,
                    -11.646004,
                    9.653246,
                    -9.553837,
                    -6.6700487,
                    8.094618,
                    -7.389588,
                    6.5587044,
                    8.062183,
                    -10.942574,
                    10.005581,
                    -6.075991,
                    3.955209,
                    13.08686,
                    -8.442181,
                    9.012206,
                    -12.014282,
                    -5.1171794,
                    5.6983337,
                    6.174805,
                    -8.144529,
                    -10.717707,
                    -6.1005974,
                    -9.140538,
                    -8.037143,
                    14.113516,
                    -9.575648,
                    -10.144185,
                    16.264606,
                    -12.850293,
                    -8.273059,
                    -6.2300744,
                    17.59805,
                    -7.03709,
                    -6.8165026,
                    4.8821945,
                    -9.747853,
                    15.021071,
                    -7.6740065,
                    4.679504,
                    -11.335886,
                    -7.795484,
                    -0.6890349,
                    -8.910616,
                    -5.8865004,
                    11.608801,
                    -4.5835986,
                    -5.779259,
                    -5.8466387,
                    6.681199,
                    7.2855873,
                    -7.286237,
                    -5.519916,
                    -9.142016,
                    -7.2522,
                    10.34891,
                    -5.7855206,
                    13.860289,
                    13.367073,
                    3.2435424,
                    9.293921,
                    -5.7621226,
                    18.093786,
                    3.4813616,
                    10.779285,
                    -11.07643,
                    -9.034186,
                    9.025375,
                    -4.86636,
                    -11.692084,
                    -7.1397276,
                    -11.699434,
                    -10.764272,
                    12.297319,
                    13.320907,
                    -7.95986,
                    2.7101343,
                    -6.5833893,
                    1.2227896,
                    3.2318141,
                    13.718197,
                    -7.6491237,
                    -6.5205836,
                    7.305079,
                    -8.487183,
                    -9.457999,
                    8.485567,
                    -10.065091,
                    2.8113852,
                    5.299552,
                    18.07746,
                    -8.758022,
                    -8.666259,
                    12.598872,
                    9.461649,
                    18.58344,
                    -6.9269648,
                    19.504383,
                    -8.419016,
                    -4.8357453,
                    -7.949554,
                    -7.41198,
                    8.838331,
                    7.4184804,
                    13.120402,
                    16.277243,
                    -12.348348,
                    -7.4936314,
                    12.722167,
                    -7.9952993,
                    9.176374,
                    -11.411795,
                    -6.9445443,
                    12.981406,
                    -9.169244,
                    8.429563,
                    7.6209073,
                    15.495992,
                    9.844327,
                    -7.0599146,
                    -5.479192,
                    -12.030977,
                    9.829063,
                    0.8948391,
                    19.374655,
                    -10.290206,
                    -9.92311,
                    -9.716744,
                    -6.6167126,
                    16.22956,
                    14.395481,
                    11.3326235,
                    -9.146146,
                    -6.4063044,
                    15.574711,
                    8.034502,
                    5.7620773,
                    -7.328768,
                    -7.7907753,
                    8.069202,
                    -8.976367,
                    -11.425449,
                    16.354666,
                    -10.333213,
                    13.677826,
                    11.034429,
                    -8.803648,
                    12.672108,
                    -9.466434,
                    -11.744379,
                    8.482117,
                    -10.892847,
                    18.143135,
                    -8.135225,
                    5.880813,
                    -5.8483434,
                    -7.5569725,
                    19.054802,
                    10.595972,
                    7.996174,
                    -7.633161,
                    -10.391268,
                    13.876874,
                    -8.27272,
                    -8.947192,
                    -9.632743,
                    -11.129567,
                    -7.0214524,
                    -8.63867,
                    6.801334,
                    5.6311784,
                    9.491388,
                    14.400118,
                    -6.813281,
                    10.564777,
                    14.2201805,
                    -6.403861,
                    -9.698237,
                    -5.0504904,
                    11.210128,
                    -7.8119354,
                    -6.027704,
                    -8.2115,
                    -8.4136915,
                    -12.606983,
                    -8.111172,
                    11.857624,
                    -8.059466,
                    2.6410506,
                    -8.557541,
                    8.60074,
                    9.496982,
                    -6.451737,
                    15.593978,
                    6.8534646,
                    11.166384,
                    11.219894,
                    -10.562917,
                    -7.983025,
                    1.2044134,
                    -10.212767,
                    5.1867867,
                    -9.61277,
                    -12.545302,
                    -11.616493,
                    6.2426944,
                    -9.591147,
                    10.452243,
                    -6.7880116,
                    -8.063837,
                    5.43261,
                    7.700351,
                    15.691335,
                    13.5039215,
                    10.05614,
                    11.173858,
                    14.052411,
                    15.246596,
                    9.146739,
                    14.125615,
                    15.309495,
                    -7.948437,
                    10.400709,
                    15.770398,
                    7.3941617,
                    7.5114303,
                    0.7129443,
                    2.465447,
                    15.306104,
                    -5.759285,
                    15.998444,
                    15.358233,
                    -10.942623,
                    4.340237,
                    -7.6302986,
                    6.8929176,
                    -6.869252,
                    -8.912048,
                    -8.039763,
                    -9.273907,
                    -10.336042,
                    -9.64265,
                    -10.834739,
                    -9.85476,
                    3.6805727,
                    -9.640677,
                    10.269284,
                    9.558705,
                    -9.84011,
                    2.087139,
                    -6.5259085,
                    15.5692005,
                    -9.901897,
                    12.032694,
                    13.54458,
                    -6.1693087,
                    17.234562,
                    14.464854,
                    4.8753414,
                    5.6436267,
                    11.678632,
                    5.15247,
                    12.937957,
                    6.0252624,
                    -11.561527,
                    -13.369378,
                    -9.311839,
                    -6.726021,
                    10.540728,
                    7.1025887,
                    -7.6658635,
                    -7.125165,
                    16.621634,
                    -6.100275,
                    -6.912882,
                    12.893916,
                    10.524595,
                    -7.547329,
                    11.703286,
                    -7.205034,
                    6.7407923,
                    9.735423,
                    12.868743,
                    16.253614,
                    11.0206375,
                    -11.10934,
                    -7.3104234,
                    14.1506,
                    13.6690235,
                    14.536053,
                    9.574599,
                    15.203412,
                    -6.0746136,
                    -6.888265,
                    -6.457775,
                    -10.45785,
                    -9.820985,
                    -7.7686167,
                    9.076009,
                    -12.972924,
                    -8.164542,
                    9.265688,
                    4.330135,
                    -6.0255055,
                    5.651233,
                    15.114162,
                    -10.180464,
                    14.9567795,
                    6.1032076,
                    16.738695,
                    -7.907892,
                    -6.302106,
                    -4.478082,
                    1.4214733,
                    -10.695652,
                    12.388995,
                    -8.752461,
                    -7.9983773,
                    16.157679,
                    -8.948141,
                    9.405702,
                    9.380247,
                    14.538264,
                    -8.801663,
                    -5.132907,
                    -7.6961226,
                    9.533264,
                    -6.181524,
                    5.920856,
                    5.947959,
                    -10.459311,
                    6.6262703,
                    1.1185259,
                    -6.8054414,
                    18.766447,
                    -6.752675,
                    -7.4119687,
                    4.199465,
                    5.687212,
                    -10.484384,
                    2.175518,
                    11.520695,
                    -5.5610137,
                    1.1551178,
                    -7.3974442,
                    -5.9119263,
                    13.238409,
                    -11.405784,
                    8.212267,
                    -6.949784,
                    -7.7856474,
                    -7.533123,
                    -9.900101,
                    10.325645,
                    -13.434968,
                    8.863002,
                    -10.200796,
                    9.643477,
                    2.1415715,
                    18.583216,
                    -8.121552,
                    -5.880805,
                    -5.298159,
                    -6.9342012,
                    -8.664906,
                    -7.352889,
                    -7.1342816,
                    5.413052,
                    -7.0765014,
                    -9.287766,
                    14.680272,
                    -11.563498,
                    -10.648008,
                    -11.207898,
                    4.6263676,
                    -6.4837546,
                    -6.917836,
                    -11.692962,
                    9.481635,
                    15.620184,
                    6.9743195,
                    -4.6907473,
                    -10.412596,
                    -7.1251073,
                    -8.927173,
                    13.679474,
                    2.1195617,
                    9.705052,
                    -6.149444,
                    5.2458744,
                    9.661076,
                    6.745973,
                    -6.833133,
                    14.626982,
                    -8.803942,
                    -9.307932,
                    -9.431312,
                    -8.690343,
                    8.922597,
                    3.2546241,
                    15.537145,
                    0.073431365,
                    -8.80221,
                    2.7150486,
                    9.011837,
                    8.841384,
                    5.512425,
                    0.0041010114,
                    -13.28693,
                    -11.89791,
                    -4.9248195,
                    2.3036551,
                    4.4449415,
                    -7.236181,
                    14.966724,
                    8.726235,
                    5.5568123,
                    -9.993013,
                    -6.6527314,
                    -11.798031,
                    14.182989,
                    -9.653422,
                    19.62073,
                    -8.816567,
                    4.9200296,
                    -8.680594,
                    -7.297014,
                    5.4257956,
                    4.025021,
                    8.169794,
                    11.809064,
                    -9.738012,
                    -4.794366,
                    3.139669,
                    -9.702012,
                    -7.0211754,
                    4.318992,
                    -9.80638,
                    -8.321111,
                    15.050387,
                    -7.187992,
                    6.4815016,
                    8.89389,
                    0.66990674,
                    8.034553,
                    -6.8060474,
                    7.153888,
                    15.461767,
                    -6.929278,
                    4.236632,
                    -11.668851,
                    -5.661666,
                    -8.030287,
                    8.122003,
                    -11.046545,
                    0.011112974,
                    1.5761044,
                    6.4501233,
                    -8.199632,
                    12.430935,
                    -4.975733,
                    0.9611272,
                    15.62949,
                    -6.9754457,
                    -9.631258,
                    -5.4265904,
                    13.305132,
                    -4.973933,
                    -6.4708867,
                    6.12973,
                    -11.707321,
                    8.177513,
                    15.084885,
                    14.027804,
                    19.749655,
                    13.243934,
                    5.2986526,
                    11.6958685,
                    9.761188,
                    -9.940803,
                    -6.5552764,
                    10.590886,
                    -7.246628,
                    -8.4811,
                    -7.111043,
                    18.701145,
                    -7.1729236,
                    -6.2025156,
                    10.923649,
                    -7.587795,
                    18.43418,
                    -12.844181,
                    -10.890561,
                    6.9888163,
                    -10.304405,
                    -6.107769,
                    -0.07816859,
                    -12.419909,
                    6.7770243,
                    14.763256,
                    12.528272,
                    9.089277,
                    -6.789158,
                    -10.750214,
                    -9.619373,
                    -10.123304,
                    -6.2379107,
                    3.8952534,
                    14.505585,
                    -9.182132,
                    -8.218044,
                    18.221567,
                    5.4739933,
                    11.806913,
                    -6.710645,
                    -5.7709246,
                    12.331492,
                    -9.910683,
                    -0.06205308,
                    -6.575515,
                    -6.6677966,
                    8.170176,
                    9.944444,
                    -7.4041924,
                    -5.7199883,
                    -6.120954,
                    -10.898231,
                    14.892075,
                    -8.959794,
                    -11.931711,
                    16.938427,
                    -6.1237946,
                    -7.4384813,
                    -8.3866205,
                    -11.053513,
                    14.788344,
                    4.742802,
                    -9.4013195,
                    -11.840524,
                    0.26305774,
                    -8.448749,
                    -5.086125,
                    -8.3590765,
                    -5.333179,
                    -6.091621,
                    -10.643328,
                    -8.9464245,
                    12.601197,
                    13.303983,
                    7.1281595,
                    5.512255,
                    5.024827,
                    6.8956304,
                    -8.756542,
                    -10.469595,
                    -6.37388,
                    8.422024,
                    -8.676293,
                    -5.198156,
                    9.249107,
                    5.150414,
                    11.360227
                  ],
                  "y": [
                    -0.7221048,
                    -0.3323087,
                    1.6634182,
                    4.492992,
                    -2.6960034,
                    -6.503089,
                    -0.31897226,
                    -6.500108,
                    4.8929267,
                    0.51691556,
                    -4.2590938,
                    3.4514172,
                    -5.9328594,
                    2.0726597,
                    3.9215326,
                    5.935935,
                    3.6321154,
                    -9.426895,
                    0.58325183,
                    -8.14544,
                    3.2939758,
                    -1.8603452,
                    -0.5590047,
                    3.1094341,
                    -3.5521748,
                    3.6573575,
                    -0.015970161,
                    3.147887,
                    5.4922276,
                    2.165096,
                    -0.057570003,
                    -6.1787715,
                    0.62991816,
                    1.478852,
                    -4.3786345,
                    -3.6018674,
                    -0.6364836,
                    2.9619243,
                    4.2548156,
                    -2.4640253,
                    5.083338,
                    -4.645055,
                    4.6299567,
                    -0.50591826,
                    1.9330131,
                    -6.9072843,
                    0.47122282,
                    -0.1916372,
                    0.13774487,
                    2.2060902,
                    -2.9178045,
                    3.7661493,
                    3.658982,
                    7.6335936,
                    -0.38017175,
                    2.3352513,
                    5.648398,
                    -9.360757,
                    0.2119318,
                    -2.718304,
                    3.341514,
                    4.1911817,
                    4.6195173,
                    -2.979103,
                    -8.129802,
                    3.5235374,
                    -1.8028421,
                    4.9639225,
                    -6.601218,
                    1.3298007,
                    3.7609134,
                    5.5184207,
                    5.3240495,
                    -6.343086,
                    -0.47626618,
                    -3.0902693,
                    -1.2587374,
                    -4.8731704,
                    -4.0693297,
                    -3.5506914,
                    -0.35354385,
                    0.87550616,
                    2.3361676,
                    4.6753707,
                    -9.778863,
                    -6.2253876,
                    3.5376806,
                    5.1958256,
                    4.125789,
                    0.7708657,
                    -1.1708118,
                    2.2652235,
                    3.26331,
                    0.6381272,
                    5.1166377,
                    3.024063,
                    -0.83727866,
                    -2.3078156,
                    3.3445897,
                    6.4239874,
                    0.26157677,
                    4.4212646,
                    -2.4555213,
                    0.8181961,
                    5.1926003,
                    -4.3469105,
                    -3.732997,
                    4.4573355,
                    3.9897246,
                    1.0077697,
                    -1.5040959,
                    2.3262224,
                    3.7962406,
                    -4.6816587,
                    -1.6317872,
                    -1.9332067,
                    1.4164518,
                    1.028616,
                    1.4590956,
                    3.2099793,
                    3.373628,
                    3.0165858,
                    -2.9873376,
                    -1.9549191,
                    -6.9034643,
                    -0.6562983,
                    -6.106643,
                    3.5013294,
                    -9.191607,
                    -3.1943853,
                    -2.8926544,
                    -0.8527682,
                    -6.941467,
                    0.5072729,
                    3.5904284,
                    -0.39737618,
                    -0.28411803,
                    -9.327108,
                    -6.312824,
                    -1.2449949,
                    -8.480499,
                    -4.0651765,
                    1.517433,
                    0.5063729,
                    -2.7516751,
                    -0.0869475,
                    7.9839716,
                    1.645117,
                    -3.125113,
                    -1.003995,
                    -3.741161,
                    -3.8336616,
                    -0.49847597,
                    -8.037419,
                    -0.40348694,
                    3.0495412,
                    2.0390337,
                    0.0010380563,
                    1.1473413,
                    -0.018507013,
                    3.9309099,
                    -0.47494587,
                    -7.018508,
                    -4.976651,
                    -3.214445,
                    2.219051,
                    7.8919797,
                    -2.4181595,
                    0.32342064,
                    0.6815124,
                    -2.3484898,
                    4.3259254,
                    3.1380177,
                    0.49774912,
                    1.0915954,
                    4.796776,
                    0.9048592,
                    2.449889,
                    -0.443274,
                    2.5725453,
                    4.673389,
                    -3.758015,
                    -0.5042701,
                    3.3871236,
                    4.7814374,
                    -1.9399428,
                    -0.06557414,
                    1.2590882,
                    6.7629395,
                    3.6439576,
                    2.5044,
                    -1.5446523,
                    4.110543,
                    -9.159903,
                    -1.90678,
                    -0.74543285,
                    -3.2150657,
                    1.4518166,
                    -3.2614295,
                    -0.87374336,
                    4.4122324,
                    1.6761655,
                    -9.21507,
                    0.14972238,
                    3.625706,
                    2.5619268,
                    -2.592913,
                    -5.261185,
                    -6.51123,
                    1.7488934,
                    -4.7395396,
                    4.2201824,
                    -8.342923,
                    -7.098379,
                    2.0274103,
                    -7.998151,
                    4.1143384,
                    4.8931365,
                    2.5549903,
                    -1.0213172,
                    -1.9347354,
                    3.3398643,
                    0.53038484,
                    3.08138,
                    -7.882675,
                    -0.47161195,
                    5.7619348,
                    1.3351529,
                    2.468599,
                    -0.86371803,
                    0.6889675,
                    4.9183316,
                    0.06472762,
                    1.0481509,
                    -1.0618675,
                    0.54666376,
                    -5.270045,
                    2.7022276,
                    1.6505663,
                    3.010418,
                    3.2569144,
                    1.4353495,
                    -0.554891,
                    -4.8265796,
                    -8.029527,
                    -7.742684,
                    1.5038006,
                    -0.16650763,
                    -2.2755973,
                    -7.3965874,
                    0.36170384,
                    2.4633994,
                    -1.3671927,
                    4.6490903,
                    4.2974243,
                    -0.14186043,
                    2.1286364,
                    -4.103371,
                    -0.3541582,
                    -6.475204,
                    -6.4681497,
                    4.019826,
                    0.6927432,
                    1.2621223,
                    0.13002923,
                    -2.1222208,
                    5.0646925,
                    4.3361683,
                    -5.311637,
                    -6.5767694,
                    -0.20207329,
                    -1.5150162,
                    -1.7664423,
                    4.311044,
                    -1.1909976,
                    0.22309537,
                    4.5092483,
                    -0.30506238,
                    4.8116264,
                    2.7901762,
                    -7.987585,
                    -3.4598773,
                    0.92636126,
                    -7.158739,
                    4.4289064,
                    6.0519204,
                    1.7665056,
                    2.9756727,
                    3.5230541,
                    -4.858975,
                    1.5423403,
                    -1.6082293,
                    -5.212379,
                    2.011895,
                    3.0638332,
                    0.09365943,
                    1.9103392,
                    4.517962,
                    0.484833,
                    -2.7588634,
                    3.0493734,
                    5.953628,
                    1.465166,
                    -1.195542,
                    2.9521217,
                    -0.5477562,
                    5.4045687,
                    2.1214333,
                    2.9842813,
                    4.97108,
                    3.5164056,
                    2.9433281,
                    -0.5954614,
                    2.458443,
                    -7.6889176,
                    6.0266743,
                    0.19503999,
                    -0.8344013,
                    3.7650557,
                    1.0937347,
                    2.3779352,
                    5.2946734,
                    4.4377646,
                    -8.370934,
                    2.5013785,
                    0.8112036,
                    2.2496793,
                    -6.649264,
                    2.4270537,
                    0.67517567,
                    -0.9965491,
                    -3.3995154,
                    -0.2579895,
                    -10.074665,
                    -0.57000965,
                    -8.149049,
                    4.5376887,
                    4.7152424,
                    3.7688491,
                    3.0931504,
                    -0.72082746,
                    0.9168885,
                    -2.8797817,
                    0.5837437,
                    -7.5589986,
                    1.9988077,
                    0.23448974,
                    -2.7340894,
                    0.74132955,
                    2.8617797,
                    -8.697341,
                    1.1102083,
                    -2.2164233,
                    3.8357234,
                    3.700814,
                    5.224672,
                    0.96622825,
                    -2.3519192,
                    1.5839716,
                    4.1849194,
                    -6.8758717,
                    -2.7746975,
                    5.6923704,
                    -3.270772,
                    4.0805264,
                    2.3434765,
                    2.804821,
                    -5.49761,
                    0.8457139,
                    3.74184,
                    -8.388739,
                    -1.4104682,
                    5.983104,
                    4.990893,
                    -9.054332,
                    -8.308748,
                    0.7903267,
                    3.714285,
                    -3.8843572,
                    -0.48806083,
                    -7.9006395,
                    5.5612493,
                    -0.22628902,
                    4.228091,
                    4.2007127,
                    -0.504603,
                    2.4457755,
                    2.325721,
                    3.8487573,
                    5.35634,
                    -7.234029,
                    4.222104,
                    4.356745,
                    1.7334292,
                    3.3013465,
                    -8.690854,
                    -0.72161436,
                    -1.8209716,
                    5.317329,
                    -3.8537853,
                    -9.684565,
                    4.285635,
                    -2.991227,
                    4.407297,
                    0.5326702,
                    -3.7877963,
                    4.9849997,
                    1.1081419,
                    -6.85439,
                    -7.322421,
                    -7.914185,
                    5.382177,
                    2.960641,
                    -6.0523043,
                    4.293598,
                    3.9121604,
                    1.7153028,
                    3.4733791,
                    4.327961,
                    -9.792017,
                    2.0444925,
                    -3.7114577,
                    2.8265219,
                    -1.983761,
                    -4.4915166,
                    2.7082868,
                    3.6150246,
                    2.5060015,
                    -0.08221359,
                    -10.0272665,
                    -6.7589035,
                    -2.3729947,
                    -7.4329224,
                    1.2475061,
                    1.7686658,
                    -6.7664013,
                    4.6082263,
                    2.977314,
                    5.4677587,
                    -9.06564,
                    3.0325336,
                    -8.619429,
                    -8.318032,
                    2.6023057,
                    -7.097134,
                    4.5569754,
                    2.0208223,
                    -2.729251,
                    -0.5227886,
                    -7.2683687,
                    1.9979656,
                    -0.7522495,
                    -3.168864,
                    5.2950344,
                    3.9139051,
                    3.2690058,
                    -1.098786,
                    1.4799016,
                    -9.204704,
                    -1.3825703,
                    0.38449073,
                    -10.027213,
                    1.5220821,
                    0.9460302,
                    -5.2450013,
                    -2.520524,
                    -0.2572897,
                    -7.88258,
                    -7.6142697,
                    -5.9358983,
                    0.29151613,
                    -8.404104,
                    -7.1378818,
                    3.3055027,
                    3.0269344,
                    0.8939839,
                    -7.352099,
                    -0.09950727,
                    1.8652902,
                    0.47015932,
                    3.4022267,
                    -7.301557,
                    1.1664492,
                    3.177525,
                    -2.2564273,
                    0.8426402,
                    -7.299508,
                    5.6524305,
                    -0.73726,
                    3.717517,
                    -6.057631,
                    -6.862692,
                    4.2588644,
                    -0.68189126,
                    -5.653463,
                    0.64899707,
                    -0.34044054,
                    3.2772627,
                    3.797296,
                    1.1739376,
                    1.1283926,
                    2.7000833,
                    2.662745,
                    -4.0904827,
                    -2.2919564,
                    3.5946033,
                    -0.010027128,
                    -4.9905515,
                    5.149325,
                    -5.681555,
                    -4.140766,
                    -1.1584202,
                    1.9484862,
                    -0.08988005,
                    3.529421,
                    -6.2138433,
                    2.5907364,
                    3.4974937,
                    4.297258,
                    -5.0020394,
                    -0.13023442,
                    3.6404903,
                    -4.643855,
                    -0.42036113,
                    5.3338842,
                    3.5214777,
                    3.1818607,
                    5.9555206,
                    0.36313352,
                    -7.472114,
                    -3.8342295,
                    0.24390087,
                    -0.43942636,
                    1.3607432,
                    -4.1586695,
                    1.4290792,
                    5.1779785,
                    2.7313526,
                    -6.2203774,
                    -6.9964485,
                    4.3352423,
                    2.0960085,
                    1.4074647,
                    -0.261245,
                    -6.2556577,
                    6.349292,
                    0.27261385,
                    8.073462,
                    2.9329965,
                    -6.058253,
                    4.8159223,
                    1.8406016,
                    -8.983313,
                    5.456546,
                    0.2811486,
                    0.6175353,
                    1.1668185,
                    4.9369307,
                    -5.8057647,
                    5.0065994,
                    2.5824215,
                    2.6751342,
                    1.3690518,
                    1.5893774,
                    2.9024582,
                    -9.435059,
                    -1.281557,
                    0.084269494,
                    2.1696754,
                    0.07610435,
                    -8.29177,
                    5.416799,
                    0.5502712,
                    1.7354392,
                    0.63479203,
                    -6.7612185,
                    -5.8484373,
                    5.3578067,
                    -4.5705104,
                    -5.2679605,
                    3.7710462,
                    -0.19592911,
                    -0.07596641,
                    3.0302067,
                    1.2168561,
                    2.020119,
                    2.470203,
                    -7.5653796,
                    4.977935,
                    0.48913303,
                    1.518113,
                    -7.458747,
                    4.7151327,
                    -0.16636093,
                    1.5200434,
                    1.0706309,
                    -1.3962872,
                    4.5454435,
                    -2.0565562,
                    1.5283055,
                    0.90138,
                    -7.98953,
                    0.86003804,
                    -5.738515,
                    -8.184588,
                    -9.920491,
                    -2.1072018,
                    3.387575,
                    3.2730289,
                    2.9659436,
                    -0.2636319,
                    -1.0324999,
                    4.558462,
                    3.0142603,
                    -3.728107,
                    -7.36187,
                    -3.3658834,
                    4.728953,
                    5.131128,
                    0.628725,
                    2.0363483,
                    3.3999422,
                    -5.7721643,
                    0.8462426,
                    -0.69284594,
                    -7.8078094,
                    2.755902,
                    7.7552633,
                    1.4327338,
                    0.4565802,
                    6.2000103,
                    -0.673574,
                    3.9043489,
                    1.0404389,
                    -0.8621759,
                    3.8946364,
                    -5.614321,
                    2.760522,
                    6.596571,
                    4.7801614,
                    -6.584942,
                    -8.24902,
                    3.274158,
                    1.7320094,
                    -5.0435715,
                    3.9032938,
                    -6.5283384,
                    7.6330233,
                    5.2670794,
                    1.5668154,
                    1.2110199,
                    0.75314355,
                    1.2053406,
                    0.25084385,
                    -2.8080144,
                    -2.592586,
                    1.6846989,
                    -1.4043257,
                    4.668767,
                    -1.1425471,
                    2.3784747,
                    -0.6156564,
                    1.4397137,
                    7.088805,
                    2.6863406,
                    1.9629765,
                    3.8956518,
                    -5.729427,
                    1.7830819,
                    2.0533714,
                    -4.090126,
                    5.697683,
                    -0.50058,
                    4.2321596,
                    -4.6040354,
                    1.8006247,
                    -8.425352,
                    -2.4880803,
                    -3.567286,
                    3.0119967,
                    4.456811,
                    -8.050436,
                    3.268551,
                    1.4710523,
                    -1.4780052,
                    2.2641134,
                    5.443007,
                    1.7433332,
                    3.1218622,
                    4.246127,
                    -2.1478913,
                    -0.46147892,
                    -2.610845,
                    -2.979827,
                    0.010371526,
                    1.5399561,
                    0.4581017,
                    3.8738344,
                    1.8653102,
                    2.482818,
                    0.51179606,
                    2.7896824,
                    -4.441068,
                    -6.870861,
                    -3.402564,
                    -1.439025,
                    -0.31041777,
                    4.4673557,
                    0.66739,
                    -2.0964131,
                    0.023527052,
                    -6.0541787,
                    -1.8432244,
                    -1.1944269,
                    -1.0197293,
                    0.7599461,
                    2.5377975,
                    -2.7641692,
                    3.2445993,
                    1.6232036,
                    -0.8727513,
                    1.3954722,
                    -1.5733057,
                    -7.0407724,
                    -8.9728155,
                    -3.7461853,
                    -0.050059225,
                    4.4480124,
                    1.0345021,
                    4.0546165,
                    3.00813,
                    -4.852957,
                    -2.0275035,
                    -9.656512,
                    1.7727964,
                    -9.151743,
                    0.5283861,
                    -2.2335455,
                    -0.8726238,
                    5.2196193,
                    3.0052955,
                    -3.7863882,
                    4.6503186,
                    0.7514051,
                    -7.5112963,
                    3.2397695,
                    3.6992586,
                    0.5469109,
                    2.715966,
                    -3.9568431,
                    1.6210657,
                    2.446221,
                    -7.7961035,
                    -0.6083981,
                    1.8042889,
                    -7.7464485,
                    2.5277245,
                    3.2724338,
                    2.0348065,
                    2.9715972,
                    2.1271105,
                    1.400155,
                    0.049670387,
                    -4.157829,
                    0.7875306,
                    5.711902,
                    0.9402704,
                    1.0149925,
                    -6.9649954,
                    2.0277803,
                    3.032545,
                    -5.7455206,
                    0.38768184,
                    -0.8645679,
                    -7.41718,
                    0.89472085,
                    2.6834521,
                    5.221056,
                    2.6153824,
                    2.7683034,
                    -4.688024,
                    2.9897466,
                    -2.2497013,
                    -4.6764793,
                    -3.107368,
                    -6.4997587,
                    3.5975947,
                    -5.007436,
                    -9.418549,
                    0.7634376,
                    2.6025434,
                    1.5382144,
                    -7.363558,
                    -0.71922725,
                    -5.7391844,
                    -1.4132082,
                    1.5449717,
                    1.0441821,
                    -6.0342536,
                    -3.5097206,
                    0.41983378,
                    -1.2999539,
                    -6.364049,
                    -7.991451,
                    -3.5265253,
                    5.209064,
                    -7.8304253,
                    -8.133595,
                    4.9089174,
                    -4.519222,
                    -6.8029394,
                    -8.12716,
                    2.3010383,
                    2.6639977,
                    -4.5325627,
                    -1.4895892,
                    1.9114695,
                    -0.21111916,
                    6.877507,
                    -1.9832152,
                    -3.5450041,
                    -5.089072,
                    -9.361834,
                    -0.18947534,
                    3.3992898,
                    4.5241694,
                    3.2830663,
                    1.8356107,
                    -1.5314212,
                    4.5051136,
                    3.2357635,
                    0.31952974,
                    -5.454394,
                    -8.545029,
                    3.0811048,
                    -8.284246,
                    -0.60888165,
                    1.9066049,
                    0.4924865,
                    1.4395382,
                    -3.9561918,
                    1.8582189,
                    1.9873033,
                    4.2363577,
                    1.4816842,
                    2.645367,
                    -5.2131305,
                    -3.103403,
                    -0.079939045,
                    3.7235346,
                    3.4442596,
                    -8.345347,
                    0.045744374,
                    3.6853735,
                    2.7893577,
                    -3.2304204,
                    -8.388791,
                    -6.251365,
                    -3.1006277,
                    5.5424094,
                    1.7168856,
                    -2.7304902,
                    3.6396456,
                    -9.105323,
                    0.9693202,
                    3.4511766,
                    3.4114678,
                    0.31900868,
                    -0.5195712,
                    3.0352292,
                    -1.8856872,
                    2.4718008,
                    -7.7669334,
                    -3.6662138,
                    3.0764217,
                    -7.8588004,
                    -4.60227,
                    4.579608,
                    4.8182387,
                    3.9378846,
                    1.7454623,
                    2.1828873,
                    5.327632,
                    -6.1194205,
                    3.0895753,
                    3.6694205,
                    2.7044618,
                    2.653385,
                    -7.76567,
                    -2.6540623,
                    6.782564,
                    2.0383978,
                    0.71944827,
                    3.200273,
                    1.6260535,
                    0.07287221,
                    -4.537991,
                    2.6908686,
                    5.3084073,
                    4.494448,
                    -0.4380264,
                    4.8622932,
                    3.8094509,
                    -1.035984,
                    -2.9418607,
                    -1.2206419,
                    4.354163,
                    3.5048258,
                    -6.5639696,
                    1.8669487,
                    4.0566306,
                    1.7383595,
                    1.7710807,
                    0.6678754,
                    3.3257532,
                    3.042586,
                    1.0550394,
                    2.684866,
                    -1.6925063,
                    -0.9938487,
                    0.077671476,
                    -4.107076,
                    -4.1936507,
                    0.7453905,
                    -4.459082,
                    -5.3124175,
                    0.83845437,
                    -6.5005703,
                    1.0042117,
                    -7.110995,
                    -2.948,
                    -0.95779413,
                    4.23311,
                    2.8333988,
                    3.7128825,
                    -6.384748,
                    -0.5283454,
                    1.1755811,
                    -0.019566247,
                    3.1392708,
                    -7.3609204,
                    -0.34923834,
                    -8.768385,
                    3.198688,
                    2.7725656,
                    2.0506525,
                    3.267927,
                    4.856646,
                    -8.92552,
                    0.9963738,
                    4.850053,
                    5.3609324,
                    1.3743821,
                    1.4103389,
                    3.2960572,
                    5.1088977,
                    4.084666,
                    -5.698108,
                    -6.9782524,
                    1.8225683,
                    -0.19909588,
                    1.9146024,
                    1.112068,
                    -6.5620008,
                    -7.403119,
                    -2.6323512,
                    -4.2773595,
                    5.302828,
                    0.7973858,
                    -8.082353,
                    -1.4924941,
                    -3.5018597,
                    0.3633843,
                    1.9785639,
                    1.4637096,
                    5.037194,
                    -0.7723058,
                    1.8771495,
                    -10.197022,
                    3.5279357,
                    2.7316053,
                    4.350466,
                    -0.09283445,
                    -1.2081617,
                    -3.9286416,
                    -0.27560776,
                    2.5477438,
                    0.48296648,
                    4.704819,
                    3.9978256,
                    0.4422544,
                    -10.086644,
                    -9.799807,
                    1.2170874,
                    3.7149239,
                    3.9361289,
                    0.18813424,
                    1.3180777,
                    3.1760197,
                    1.1600437
                  ],
                  "z": [
                    -4.6089144,
                    4.3024516,
                    1.4353546,
                    -4.390906,
                    -3.0605495,
                    1.4519849,
                    -6.382866,
                    7.851506,
                    -11.270029,
                    -1.0899907,
                    1.2402897,
                    1.2567309,
                    2.3693912,
                    2.2347562,
                    -1.4974576,
                    -8.033305,
                    3.2799542,
                    11.316103,
                    1.2102922,
                    1.5411149,
                    -2.5992465,
                    2.9127426,
                    1.0612451,
                    -1.6854612,
                    3.0312984,
                    0.7999293,
                    -4.151315,
                    -11.248048,
                    -2.3578022,
                    -0.8207897,
                    0.002425366,
                    8.526744,
                    -1.7097886,
                    -11.795988,
                    5.2332187,
                    8.263615,
                    -5.722774,
                    -10.858133,
                    -8.927376,
                    -0.98105264,
                    -7.3291264,
                    4.181131,
                    2.594943,
                    1.9275469,
                    0.34306902,
                    5.0350995,
                    3.600164,
                    -3.9784288,
                    3.4174232,
                    -2.212606,
                    3.4545238,
                    -11.4556055,
                    -0.70346874,
                    -1.3746176,
                    -3.5341282,
                    -2.3422163,
                    -2.0819077,
                    12.280014,
                    2.4107077,
                    2.6853836,
                    -5.0948734,
                    -3.2541716,
                    -8.284012,
                    4.095787,
                    9.161997,
                    -4.679454,
                    1.4203502,
                    -4.6629496,
                    2.3457274,
                    -5.0434113,
                    0.2635082,
                    0.9393462,
                    -3.264226,
                    1.1908932,
                    -6.327623,
                    3.8170938,
                    0.5485277,
                    8.092135,
                    2.426128,
                    4.555234,
                    -1.6430967,
                    -4.2331996,
                    -2.8334394,
                    0.05206487,
                    3.8913252,
                    2.6540346,
                    -4.287127,
                    -1.9218341,
                    -1.6438727,
                    -8.862624,
                    0.5913812,
                    1.6593485,
                    -3.2678883,
                    -3.1552696,
                    -1.0714558,
                    -10.324123,
                    0.42120996,
                    7.288794,
                    -10.025641,
                    -8.884003,
                    -4.951534,
                    -1.825075,
                    2.2283604,
                    -2.1632085,
                    1.6578827,
                    3.1289773,
                    3.8049479,
                    0.67124206,
                    -11.438776,
                    -0.70556456,
                    7.188727,
                    -3.3665366,
                    2.5612645,
                    1.1633403,
                    -0.7184329,
                    7.229054,
                    0.3615145,
                    -6.920636,
                    -1.8414855,
                    -3.9823132,
                    4.5639906,
                    1.1425679,
                    5.488622,
                    4.025892,
                    2.5871696,
                    3.2145946,
                    6.6256995,
                    -12.275906,
                    3.9995043,
                    5.5218697,
                    -0.8412062,
                    6.7529197,
                    4.595557,
                    4.252261,
                    -10.7038555,
                    2.62361,
                    0.36129147,
                    3.833999,
                    4.336788,
                    3.1681867,
                    10.348497,
                    4.769886,
                    0.4267576,
                    1.363873,
                    7.236637,
                    2.1505961,
                    -0.13482192,
                    6.4128146,
                    2.2522123,
                    -3.66021,
                    -0.6670034,
                    3.2145722,
                    3.0597198,
                    0.24246465,
                    1.6400127,
                    3.1592784,
                    -3.2086358,
                    -4.539621,
                    0.13997047,
                    -2.2679334,
                    -0.8943472,
                    7.057556,
                    6.155429,
                    6.532909,
                    2.3810077,
                    0.3000301,
                    -0.8919113,
                    1.3870671,
                    0.6693352,
                    -6.961352,
                    1.7425082,
                    -9.588958,
                    -4.0450387,
                    -5.495375,
                    1.7347325,
                    -1.386286,
                    -2.4770398,
                    -12.1354265,
                    1.5907477,
                    -9.8389015,
                    -0.28183088,
                    10.629106,
                    -3.3443108,
                    -7.772901,
                    -6.8577504,
                    2.2909691,
                    3.3497608,
                    5.9703393,
                    0.030327436,
                    -0.7025404,
                    -3.0312111,
                    0.35642982,
                    -9.585684,
                    2.7142735,
                    1.7989643,
                    -2.9101746,
                    4.4941344,
                    -0.21073282,
                    6.1055,
                    2.5097513,
                    -9.884026,
                    -2.5396845,
                    11.647303,
                    -2.9840102,
                    -9.351342,
                    -10.536391,
                    -3.223819,
                    4.6872025,
                    2.484287,
                    -6.836577,
                    10.393719,
                    -8.434858,
                    8.203964,
                    11.733066,
                    0.03777254,
                    6.790388,
                    -6.158739,
                    -3.8077235,
                    -6.319732,
                    3.8414452,
                    2.8067288,
                    -9.421653,
                    0.4282138,
                    -11.711287,
                    5.4859776,
                    1.4887627,
                    -10.12128,
                    1.9628181,
                    2.8642256,
                    -3.671005,
                    -4.429593,
                    -8.386627,
                    -0.90244216,
                    4.0576196,
                    1.4170712,
                    0.45738047,
                    6.578309,
                    -1.5928481,
                    5.6484804,
                    -10.52794,
                    -13.333761,
                    0.040084086,
                    -5.639384,
                    8.690612,
                    4.4900327,
                    5.010289,
                    -12.75039,
                    -0.0035025363,
                    10.09719,
                    3.0356817,
                    -4.4266047,
                    2.8702035,
                    -7.286928,
                    -8.596402,
                    1.3007357,
                    1.8047658,
                    -12.039049,
                    3.1449528,
                    0.685451,
                    9.660457,
                    8.335341,
                    -11.167255,
                    -1.4660162,
                    4.1457825,
                    -4.111942,
                    7.075445,
                    0.39249194,
                    1.5215687,
                    5.4357667,
                    9.717407,
                    -3.4555132,
                    6.7728853,
                    -3.3014157,
                    -9.386308,
                    -2.2069294,
                    3.0518897,
                    0.78390855,
                    1.3683113,
                    1.3827386,
                    4.3999405,
                    2.0305986,
                    10.263527,
                    5.133782,
                    5.8200426,
                    2.3529923,
                    -8.496848,
                    -6.64874,
                    -1.6528313,
                    -1.6651897,
                    1.4000069,
                    0.31899238,
                    -1.7774476,
                    10.948263,
                    0.4131054,
                    4.9225016,
                    -5.316743,
                    -5.722339,
                    -3.2809403,
                    3.3205822,
                    7.581015,
                    -3.8952394,
                    0.8644824,
                    2.375528,
                    -0.32264486,
                    -11.254122,
                    -3.6537218,
                    -12.440135,
                    1.900969,
                    -10.9889,
                    2.7829404,
                    -3.656357,
                    -8.890259,
                    0.2906278,
                    3.7526681,
                    2.9525964,
                    -1.7715725,
                    -3.441492,
                    -0.2368373,
                    -8.260805,
                    -5.0508556,
                    -10.155956,
                    -0.30286765,
                    2.2201977,
                    6.7352095,
                    2.1543405,
                    1.8362353,
                    -10.309331,
                    6.2504177,
                    -11.318609,
                    0.8369986,
                    2.2803004,
                    7.1927705,
                    -4.4537067,
                    6.6185303,
                    0.079845354,
                    6.7331877,
                    -3.251624,
                    -11.82392,
                    -1.1003977,
                    -1.2234771,
                    -4.226175,
                    -9.195824,
                    -3.4744902,
                    -7.98124,
                    5.4060855,
                    -8.324181,
                    0.012501241,
                    -0.1985357,
                    0.15134588,
                    -3.163533,
                    11.481145,
                    3.7855177,
                    -0.22492796,
                    1.5213435,
                    -3.690074,
                    2.2806785,
                    4.139047,
                    -3.3120015,
                    -11.095256,
                    -7.3582883,
                    2.0837595,
                    1.5450288,
                    0.13329795,
                    3.4830623,
                    -1.4554416,
                    4.8281865,
                    2.5641894,
                    7.0095243,
                    -5.6214156,
                    2.1213562,
                    3.4706197,
                    -3.7569582,
                    1.2088056,
                    0.18172269,
                    7.439926,
                    1.9018853,
                    4.6258283,
                    2.4210422,
                    6.925004,
                    -7.70602,
                    6.593531,
                    -11.7318945,
                    6.9859667,
                    -12.917222,
                    -6.8943586,
                    -4.541741,
                    -3.7019863,
                    -1.8695382,
                    0.50953704,
                    -3.4806206,
                    8.670313,
                    -9.418283,
                    0.7496557,
                    -2.2820344,
                    4.9288607,
                    1.4779391,
                    0.7207474,
                    7.803796,
                    -10.645173,
                    10.535896,
                    3.950575,
                    -9.526929,
                    -1.1445516,
                    -8.752881,
                    -3.5916114,
                    7.989459,
                    -3.566767,
                    -5.2602477,
                    7.576042,
                    3.4994977,
                    -0.011261297,
                    1.8744327,
                    0.81504256,
                    3.936446,
                    -0.22385257,
                    -4.8457036,
                    -7.989017,
                    -3.8555257,
                    -10.63974,
                    7.8449984,
                    -0.49537954,
                    -0.92460823,
                    -8.816955,
                    -3.2476199,
                    4.640811,
                    -10.912879,
                    1.0026168,
                    -3.9953144,
                    1.7629358,
                    5.799717,
                    1.3950884,
                    -0.60650516,
                    1.5208434,
                    3.6900427,
                    6.4709907,
                    7.760016,
                    -3.9429102,
                    -11.836447,
                    -7.7765975,
                    6.3044024,
                    -0.7122542,
                    5.945225,
                    8.519637,
                    -4.7282896,
                    11.94188,
                    -8.479998,
                    -4.7968373,
                    5.880302,
                    -7.047577,
                    9.372006,
                    -5.8726907,
                    -0.085136935,
                    1.620324,
                    -3.429475,
                    0.30968374,
                    4.907227,
                    -3.7241583,
                    -7.5776534,
                    9.985686,
                    -2.2639027,
                    1.6264344,
                    7.910001,
                    0.2916147,
                    2.8521256,
                    7.412658,
                    3.0040877,
                    4.0583816,
                    2.2144833,
                    11.824822,
                    10.503152,
                    3.2789786,
                    10.431337,
                    4.786654,
                    -10.163217,
                    -1.4936128,
                    5.189049,
                    4.811318,
                    -3.3658786,
                    0.61048836,
                    3.5455503,
                    -10.327158,
                    4.920767,
                    4.385478,
                    3.1558783,
                    3.1745985,
                    5.5414734,
                    2.8442254,
                    -10.686704,
                    -5.6743765,
                    4.697548,
                    10.991758,
                    5.0135217,
                    1.5173582,
                    0.8722407,
                    12.075299,
                    -2.2850344,
                    -0.62373936,
                    -8.1368065,
                    -3.4986494,
                    5.1975284,
                    5.6253843,
                    -5.4002523,
                    -2.896504,
                    3.23186,
                    0.6109733,
                    2.6715157,
                    5.0511875,
                    5.856899,
                    3.1989722,
                    5.8929496,
                    3.1548128,
                    1.2183887,
                    -2.1816554,
                    2.2787752,
                    -9.95281,
                    9.0528755,
                    -7.4834247,
                    -12.316067,
                    0.429163,
                    1.4196947,
                    -3.8588598,
                    -4.4818907,
                    2.1884463,
                    -1.9727968,
                    -8.934069,
                    1.1863251,
                    -5.139642,
                    -8.13898,
                    3.6035166,
                    3.9824238,
                    4.8381624,
                    -1.421008,
                    -6.7001534,
                    5.8118215,
                    7.194425,
                    5.0555663,
                    -3.061146,
                    3.8433468,
                    6.4143896,
                    8.412124,
                    -7.810353,
                    -8.568198,
                    2.2324867,
                    3.7763512,
                    2.0085955,
                    0.7861166,
                    2.3809764,
                    -1.4793968,
                    -1.0219228,
                    8.386624,
                    1.9948056,
                    -3.194299,
                    5.8412485,
                    -3.2684567,
                    -6.6905518,
                    4.6954904,
                    -2.1891973,
                    2.0837579,
                    10.982965,
                    -0.5153441,
                    -0.0402029,
                    -7.787275,
                    4.4535584,
                    0.5020646,
                    3.335108,
                    2.214762,
                    -2.4771593,
                    0.17963615,
                    2.3403184,
                    1.3702656,
                    3.691846,
                    1.6615812,
                    4.557845,
                    -9.490177,
                    -7.142237,
                    8.299347,
                    9.81244,
                    -10.643982,
                    -1.5076748,
                    4.1778803,
                    2.0648217,
                    2.767841,
                    2.5304878,
                    -2.1173127,
                    -3.286152,
                    -3.3459356,
                    0.8527336,
                    4.0618844,
                    -9.341603,
                    1.950477,
                    5.0933785,
                    11.60266,
                    -6.86112,
                    2.7109292,
                    -0.4592772,
                    5.0298333,
                    -0.83050406,
                    -4.357082,
                    2.1107447,
                    -2.727159,
                    2.5627456,
                    8.603727,
                    -2.6683948,
                    7.6314588,
                    7.134896,
                    5.895719,
                    7.314699,
                    -7.4407825,
                    -7.5607915,
                    -5.117309,
                    2.496349,
                    -2.7879725,
                    -0.7830742,
                    -2.9227023,
                    2.38653,
                    9.003039,
                    8.860589,
                    0.9292493,
                    1.9704561,
                    1.5512782,
                    -1.6120737,
                    -1.3223176,
                    5.259317,
                    -3.5661922,
                    -0.005318734,
                    9.484271,
                    -11.869699,
                    -0.85566705,
                    -1.0878545,
                    -1.311722,
                    0.8435747,
                    2.9132488,
                    -8.650076,
                    0.94169545,
                    -6.3954897,
                    -2.1268146,
                    9.934356,
                    -9.737396,
                    -0.15924078,
                    -6.7256517,
                    5.935276,
                    5.4015884,
                    -1.7443422,
                    -6.7982106,
                    -0.072999194,
                    0.61629504,
                    11.725363,
                    -1.2446378,
                    -10.251478,
                    -2.2362313,
                    3.844193,
                    -1.2207901,
                    3.7923567,
                    -3.680102,
                    -3.4868822,
                    -1.974484,
                    -4.173701,
                    -2.7551298,
                    2.1122909,
                    3.7192113,
                    -3.4702775,
                    1.5797436,
                    -5.169189,
                    -7.9630003,
                    -8.00595,
                    -10.324251,
                    3.6649272,
                    12.009894,
                    2.2026026,
                    4.2439027,
                    2.5575168,
                    -10.298571,
                    -3.0771902,
                    -3.9182153,
                    6.5457416,
                    0.3327909,
                    9.887352,
                    7.017542,
                    4.283085,
                    -0.123779155,
                    -2.0999424,
                    6.1463804,
                    -12.790762,
                    0.50472784,
                    -7.3582053,
                    -6.935976,
                    -3.154934,
                    -12.125649,
                    5.668359,
                    2.0684268,
                    0.059320465,
                    -1.1383439,
                    -2.7761993,
                    8.2090225,
                    3.6222708,
                    5.2651095,
                    -3.5101056,
                    -5.5193787,
                    2.1296546,
                    -5.7014093,
                    -3.2935643,
                    -2.2264802,
                    1.5659271,
                    4.7720942,
                    0.05998859,
                    0.73498833,
                    0.5040744,
                    -8.338612,
                    -3.5900257,
                    10.099286,
                    3.0627048,
                    11.447596,
                    3.5131388,
                    -0.38857636,
                    -0.76371056,
                    0.30957934,
                    -3.7685008,
                    3.224038,
                    -7.471005,
                    1.6627331,
                    -2.797495,
                    2.8000479,
                    -1.210174,
                    3.370871,
                    10.288976,
                    -3.331507,
                    2.4119656,
                    0.08598452,
                    -2.9618833,
                    3.5438545,
                    0.73273724,
                    8.926331,
                    5.131635,
                    5.1971474,
                    -2.782373,
                    12.144683,
                    -5.864646,
                    -0.21703702,
                    3.7296078,
                    -3.4751065,
                    -13.347421,
                    3.466189,
                    -6.78067,
                    3.8874269,
                    2.655013,
                    0.69504136,
                    -0.5447161,
                    2.90109,
                    0.573491,
                    3.8104134,
                    0.24478441,
                    -9.085915,
                    2.662762,
                    -0.16663755,
                    -3.5312974,
                    10.908253,
                    1.7261795,
                    -0.7151376,
                    -5.5592036,
                    -5.647828,
                    0.8670183,
                    4.2659197,
                    3.7586844,
                    -0.9250866,
                    -1.0564125,
                    1.9859465,
                    -8.460805,
                    -8.68726,
                    2.7510092,
                    -8.761978,
                    -12.31428,
                    11.105481,
                    2.7359624,
                    2.2823126,
                    1.4840726,
                    -1.045661,
                    -1.7978661,
                    -1.2123892,
                    -8.986553,
                    -1.5131193,
                    7.709951,
                    -11.040133,
                    3.14424,
                    5.1379375,
                    -0.31408274,
                    6.2272053,
                    -4.5608454,
                    8.949845,
                    12.358698,
                    -1.6058826,
                    3.1509771,
                    0.27659136,
                    4.3909106,
                    -5.8438396,
                    8.172861,
                    1.5839152,
                    -12.471158,
                    4.8333826,
                    3.3043647,
                    1.891422,
                    5.6095624,
                    6.1373444,
                    3.201073,
                    12.130123,
                    10.239059,
                    -10.899672,
                    1.5899465,
                    7.0532393,
                    1.9787372,
                    4.3841014,
                    2.934261,
                    6.173648,
                    -5.8161077,
                    4.4574986,
                    6.567368,
                    -1.1137993,
                    0.49453628,
                    0.86481273,
                    -7.891767,
                    6.9234624,
                    6.117721,
                    8.962738,
                    3.5153298,
                    3.092086,
                    -9.655801,
                    -7.7117057,
                    0.88417584,
                    -1.5774508,
                    1.5998248,
                    -0.92929596,
                    4.4225206,
                    2.8892925,
                    7.2322254,
                    0.9385803,
                    -3.2961824,
                    8.650941,
                    -0.9834494,
                    -9.788852,
                    4.970251,
                    -11.112921,
                    -0.88926476,
                    -6.859547,
                    -6.9907126,
                    -8.179785,
                    -1.8245885,
                    -12.061422,
                    4.707158,
                    -0.0977526,
                    6.556727,
                    -10.979997,
                    -3.6425178,
                    11.231419,
                    -3.823692,
                    1.244731,
                    -2.1575074,
                    2.0148435,
                    1.892382,
                    5.8788037,
                    -3.2972429,
                    -2.5351477,
                    5.555405,
                    1.4639747,
                    -5.6282716,
                    5.5269237,
                    -1.0844076,
                    -7.591905,
                    -7.6041036,
                    -6.388899,
                    -3.6782718,
                    -1.0046369,
                    3.0998056,
                    -12.184178,
                    5.839375,
                    -1.2264014,
                    -13.36913,
                    2.565711,
                    2.4306056,
                    1.7928526,
                    4.091954,
                    -0.8672778,
                    -0.84321827,
                    -10.386478,
                    -10.554167,
                    11.487472,
                    -8.690651,
                    3.9910288,
                    4.1938014,
                    -12.661406,
                    2.9718254,
                    8.752401,
                    -1.438213,
                    -0.43126345,
                    -1.9353939,
                    -11.911909,
                    -12.099987,
                    -2.702752,
                    3.6291044,
                    -3.7017684,
                    2.671575,
                    -10.49155,
                    0.46791083,
                    1.739832,
                    -4.0584793,
                    7.4057016,
                    -2.8492692,
                    0.47556967,
                    1.5622927,
                    -10.936465,
                    8.240618,
                    -7.4558396,
                    3.6509175,
                    0.1016195,
                    5.8494263,
                    5.162168,
                    -7.9588385,
                    2.9750676,
                    0.79604733,
                    -2.8628047,
                    4.224178,
                    0.2900352,
                    -1.754929,
                    4.3630075,
                    6.497141,
                    3.5113184,
                    -0.80273396,
                    10.714494,
                    4.421675,
                    6.1044807,
                    5.1222277,
                    6.795622,
                    -0.3570641,
                    -5.6200366,
                    1.734795,
                    6.0738072,
                    -11.240311,
                    7.689614,
                    -5.7500935,
                    3.228245,
                    2.2018719,
                    -3.9770405,
                    3.1415467,
                    -2.3125737,
                    8.90056,
                    -1.5814068,
                    5.860498,
                    -5.8633475,
                    0.40506876,
                    3.04749,
                    9.924768,
                    3.5071604,
                    -10.265194,
                    -0.3586652,
                    1.9309565,
                    4.1899433,
                    -1.6252915,
                    -2.473402,
                    -11.609802,
                    10.458028,
                    1.286629,
                    -9.010131,
                    -4.3493233,
                    -0.14222397,
                    5.131038,
                    9.721231,
                    4.4878697,
                    -2.3258054,
                    2.2896178,
                    -1.1273046,
                    4.89834,
                    7.188662,
                    7.1567245,
                    -0.24200134,
                    1.3989087,
                    -1.965866,
                    -1.443072,
                    -0.038756475,
                    1.9802691,
                    -10.519063,
                    7.19821,
                    3.5658927,
                    0.5168164,
                    2.6388254,
                    5.8435216,
                    -2.2831898,
                    -1.066909,
                    -1.3123633,
                    -3.7465405,
                    -5.8583674,
                    -11.170977,
                    -13.035572,
                    -7.9683585,
                    8.009118,
                    4.8116417,
                    2.7041652,
                    -2.2669282,
                    -3.4945095,
                    3.3227189,
                    3.8663163,
                    -3.293004,
                    3.4437523
                  ],
                  "type": "scatter3d"
                }
              ],
              "layout": {
                "template": {
                  "data": {
                    "bar": [
                      {
                        "error_x": {
                          "color": "#2a3f5f"
                        },
                        "error_y": {
                          "color": "#2a3f5f"
                        },
                        "marker": {
                          "line": {
                            "color": "#E5ECF6",
                            "width": 0.5
                          },
                          "pattern": {
                            "fillmode": "overlay",
                            "size": 10,
                            "solidity": 0.2
                          }
                        },
                        "type": "bar"
                      }
                    ],
                    "barpolar": [
                      {
                        "marker": {
                          "line": {
                            "color": "#E5ECF6",
                            "width": 0.5
                          },
                          "pattern": {
                            "fillmode": "overlay",
                            "size": 10,
                            "solidity": 0.2
                          }
                        },
                        "type": "barpolar"
                      }
                    ],
                    "carpet": [
                      {
                        "aaxis": {
                          "endlinecolor": "#2a3f5f",
                          "gridcolor": "white",
                          "linecolor": "white",
                          "minorgridcolor": "white",
                          "startlinecolor": "#2a3f5f"
                        },
                        "baxis": {
                          "endlinecolor": "#2a3f5f",
                          "gridcolor": "white",
                          "linecolor": "white",
                          "minorgridcolor": "white",
                          "startlinecolor": "#2a3f5f"
                        },
                        "type": "carpet"
                      }
                    ],
                    "choropleth": [
                      {
                        "colorbar": {
                          "outlinewidth": 0,
                          "ticks": ""
                        },
                        "type": "choropleth"
                      }
                    ],
                    "contour": [
                      {
                        "colorbar": {
                          "outlinewidth": 0,
                          "ticks": ""
                        },
                        "colorscale": [
                          [
                            0,
                            "#0d0887"
                          ],
                          [
                            0.1111111111111111,
                            "#46039f"
                          ],
                          [
                            0.2222222222222222,
                            "#7201a8"
                          ],
                          [
                            0.3333333333333333,
                            "#9c179e"
                          ],
                          [
                            0.4444444444444444,
                            "#bd3786"
                          ],
                          [
                            0.5555555555555556,
                            "#d8576b"
                          ],
                          [
                            0.6666666666666666,
                            "#ed7953"
                          ],
                          [
                            0.7777777777777778,
                            "#fb9f3a"
                          ],
                          [
                            0.8888888888888888,
                            "#fdca26"
                          ],
                          [
                            1,
                            "#f0f921"
                          ]
                        ],
                        "type": "contour"
                      }
                    ],
                    "contourcarpet": [
                      {
                        "colorbar": {
                          "outlinewidth": 0,
                          "ticks": ""
                        },
                        "type": "contourcarpet"
                      }
                    ],
                    "heatmap": [
                      {
                        "colorbar": {
                          "outlinewidth": 0,
                          "ticks": ""
                        },
                        "colorscale": [
                          [
                            0,
                            "#0d0887"
                          ],
                          [
                            0.1111111111111111,
                            "#46039f"
                          ],
                          [
                            0.2222222222222222,
                            "#7201a8"
                          ],
                          [
                            0.3333333333333333,
                            "#9c179e"
                          ],
                          [
                            0.4444444444444444,
                            "#bd3786"
                          ],
                          [
                            0.5555555555555556,
                            "#d8576b"
                          ],
                          [
                            0.6666666666666666,
                            "#ed7953"
                          ],
                          [
                            0.7777777777777778,
                            "#fb9f3a"
                          ],
                          [
                            0.8888888888888888,
                            "#fdca26"
                          ],
                          [
                            1,
                            "#f0f921"
                          ]
                        ],
                        "type": "heatmap"
                      }
                    ],
                    "heatmapgl": [
                      {
                        "colorbar": {
                          "outlinewidth": 0,
                          "ticks": ""
                        },
                        "colorscale": [
                          [
                            0,
                            "#0d0887"
                          ],
                          [
                            0.1111111111111111,
                            "#46039f"
                          ],
                          [
                            0.2222222222222222,
                            "#7201a8"
                          ],
                          [
                            0.3333333333333333,
                            "#9c179e"
                          ],
                          [
                            0.4444444444444444,
                            "#bd3786"
                          ],
                          [
                            0.5555555555555556,
                            "#d8576b"
                          ],
                          [
                            0.6666666666666666,
                            "#ed7953"
                          ],
                          [
                            0.7777777777777778,
                            "#fb9f3a"
                          ],
                          [
                            0.8888888888888888,
                            "#fdca26"
                          ],
                          [
                            1,
                            "#f0f921"
                          ]
                        ],
                        "type": "heatmapgl"
                      }
                    ],
                    "histogram": [
                      {
                        "marker": {
                          "pattern": {
                            "fillmode": "overlay",
                            "size": 10,
                            "solidity": 0.2
                          }
                        },
                        "type": "histogram"
                      }
                    ],
                    "histogram2d": [
                      {
                        "colorbar": {
                          "outlinewidth": 0,
                          "ticks": ""
                        },
                        "colorscale": [
                          [
                            0,
                            "#0d0887"
                          ],
                          [
                            0.1111111111111111,
                            "#46039f"
                          ],
                          [
                            0.2222222222222222,
                            "#7201a8"
                          ],
                          [
                            0.3333333333333333,
                            "#9c179e"
                          ],
                          [
                            0.4444444444444444,
                            "#bd3786"
                          ],
                          [
                            0.5555555555555556,
                            "#d8576b"
                          ],
                          [
                            0.6666666666666666,
                            "#ed7953"
                          ],
                          [
                            0.7777777777777778,
                            "#fb9f3a"
                          ],
                          [
                            0.8888888888888888,
                            "#fdca26"
                          ],
                          [
                            1,
                            "#f0f921"
                          ]
                        ],
                        "type": "histogram2d"
                      }
                    ],
                    "histogram2dcontour": [
                      {
                        "colorbar": {
                          "outlinewidth": 0,
                          "ticks": ""
                        },
                        "colorscale": [
                          [
                            0,
                            "#0d0887"
                          ],
                          [
                            0.1111111111111111,
                            "#46039f"
                          ],
                          [
                            0.2222222222222222,
                            "#7201a8"
                          ],
                          [
                            0.3333333333333333,
                            "#9c179e"
                          ],
                          [
                            0.4444444444444444,
                            "#bd3786"
                          ],
                          [
                            0.5555555555555556,
                            "#d8576b"
                          ],
                          [
                            0.6666666666666666,
                            "#ed7953"
                          ],
                          [
                            0.7777777777777778,
                            "#fb9f3a"
                          ],
                          [
                            0.8888888888888888,
                            "#fdca26"
                          ],
                          [
                            1,
                            "#f0f921"
                          ]
                        ],
                        "type": "histogram2dcontour"
                      }
                    ],
                    "mesh3d": [
                      {
                        "colorbar": {
                          "outlinewidth": 0,
                          "ticks": ""
                        },
                        "type": "mesh3d"
                      }
                    ],
                    "parcoords": [
                      {
                        "line": {
                          "colorbar": {
                            "outlinewidth": 0,
                            "ticks": ""
                          }
                        },
                        "type": "parcoords"
                      }
                    ],
                    "pie": [
                      {
                        "automargin": true,
                        "type": "pie"
                      }
                    ],
                    "scatter": [
                      {
                        "marker": {
                          "colorbar": {
                            "outlinewidth": 0,
                            "ticks": ""
                          }
                        },
                        "type": "scatter"
                      }
                    ],
                    "scatter3d": [
                      {
                        "line": {
                          "colorbar": {
                            "outlinewidth": 0,
                            "ticks": ""
                          }
                        },
                        "marker": {
                          "colorbar": {
                            "outlinewidth": 0,
                            "ticks": ""
                          }
                        },
                        "type": "scatter3d"
                      }
                    ],
                    "scattercarpet": [
                      {
                        "marker": {
                          "colorbar": {
                            "outlinewidth": 0,
                            "ticks": ""
                          }
                        },
                        "type": "scattercarpet"
                      }
                    ],
                    "scattergeo": [
                      {
                        "marker": {
                          "colorbar": {
                            "outlinewidth": 0,
                            "ticks": ""
                          }
                        },
                        "type": "scattergeo"
                      }
                    ],
                    "scattergl": [
                      {
                        "marker": {
                          "colorbar": {
                            "outlinewidth": 0,
                            "ticks": ""
                          }
                        },
                        "type": "scattergl"
                      }
                    ],
                    "scattermapbox": [
                      {
                        "marker": {
                          "colorbar": {
                            "outlinewidth": 0,
                            "ticks": ""
                          }
                        },
                        "type": "scattermapbox"
                      }
                    ],
                    "scatterpolar": [
                      {
                        "marker": {
                          "colorbar": {
                            "outlinewidth": 0,
                            "ticks": ""
                          }
                        },
                        "type": "scatterpolar"
                      }
                    ],
                    "scatterpolargl": [
                      {
                        "marker": {
                          "colorbar": {
                            "outlinewidth": 0,
                            "ticks": ""
                          }
                        },
                        "type": "scatterpolargl"
                      }
                    ],
                    "scatterternary": [
                      {
                        "marker": {
                          "colorbar": {
                            "outlinewidth": 0,
                            "ticks": ""
                          }
                        },
                        "type": "scatterternary"
                      }
                    ],
                    "surface": [
                      {
                        "colorbar": {
                          "outlinewidth": 0,
                          "ticks": ""
                        },
                        "colorscale": [
                          [
                            0,
                            "#0d0887"
                          ],
                          [
                            0.1111111111111111,
                            "#46039f"
                          ],
                          [
                            0.2222222222222222,
                            "#7201a8"
                          ],
                          [
                            0.3333333333333333,
                            "#9c179e"
                          ],
                          [
                            0.4444444444444444,
                            "#bd3786"
                          ],
                          [
                            0.5555555555555556,
                            "#d8576b"
                          ],
                          [
                            0.6666666666666666,
                            "#ed7953"
                          ],
                          [
                            0.7777777777777778,
                            "#fb9f3a"
                          ],
                          [
                            0.8888888888888888,
                            "#fdca26"
                          ],
                          [
                            1,
                            "#f0f921"
                          ]
                        ],
                        "type": "surface"
                      }
                    ],
                    "table": [
                      {
                        "cells": {
                          "fill": {
                            "color": "#EBF0F8"
                          },
                          "line": {
                            "color": "white"
                          }
                        },
                        "header": {
                          "fill": {
                            "color": "#C8D4E3"
                          },
                          "line": {
                            "color": "white"
                          }
                        },
                        "type": "table"
                      }
                    ]
                  },
                  "layout": {
                    "annotationdefaults": {
                      "arrowcolor": "#2a3f5f",
                      "arrowhead": 0,
                      "arrowwidth": 1
                    },
                    "autotypenumbers": "strict",
                    "coloraxis": {
                      "colorbar": {
                        "outlinewidth": 0,
                        "ticks": ""
                      }
                    },
                    "colorscale": {
                      "diverging": [
                        [
                          0,
                          "#8e0152"
                        ],
                        [
                          0.1,
                          "#c51b7d"
                        ],
                        [
                          0.2,
                          "#de77ae"
                        ],
                        [
                          0.3,
                          "#f1b6da"
                        ],
                        [
                          0.4,
                          "#fde0ef"
                        ],
                        [
                          0.5,
                          "#f7f7f7"
                        ],
                        [
                          0.6,
                          "#e6f5d0"
                        ],
                        [
                          0.7,
                          "#b8e186"
                        ],
                        [
                          0.8,
                          "#7fbc41"
                        ],
                        [
                          0.9,
                          "#4d9221"
                        ],
                        [
                          1,
                          "#276419"
                        ]
                      ],
                      "sequential": [
                        [
                          0,
                          "#0d0887"
                        ],
                        [
                          0.1111111111111111,
                          "#46039f"
                        ],
                        [
                          0.2222222222222222,
                          "#7201a8"
                        ],
                        [
                          0.3333333333333333,
                          "#9c179e"
                        ],
                        [
                          0.4444444444444444,
                          "#bd3786"
                        ],
                        [
                          0.5555555555555556,
                          "#d8576b"
                        ],
                        [
                          0.6666666666666666,
                          "#ed7953"
                        ],
                        [
                          0.7777777777777778,
                          "#fb9f3a"
                        ],
                        [
                          0.8888888888888888,
                          "#fdca26"
                        ],
                        [
                          1,
                          "#f0f921"
                        ]
                      ],
                      "sequentialminus": [
                        [
                          0,
                          "#0d0887"
                        ],
                        [
                          0.1111111111111111,
                          "#46039f"
                        ],
                        [
                          0.2222222222222222,
                          "#7201a8"
                        ],
                        [
                          0.3333333333333333,
                          "#9c179e"
                        ],
                        [
                          0.4444444444444444,
                          "#bd3786"
                        ],
                        [
                          0.5555555555555556,
                          "#d8576b"
                        ],
                        [
                          0.6666666666666666,
                          "#ed7953"
                        ],
                        [
                          0.7777777777777778,
                          "#fb9f3a"
                        ],
                        [
                          0.8888888888888888,
                          "#fdca26"
                        ],
                        [
                          1,
                          "#f0f921"
                        ]
                      ]
                    },
                    "colorway": [
                      "#636efa",
                      "#EF553B",
                      "#00cc96",
                      "#ab63fa",
                      "#FFA15A",
                      "#19d3f3",
                      "#FF6692",
                      "#B6E880",
                      "#FF97FF",
                      "#FECB52"
                    ],
                    "font": {
                      "color": "#2a3f5f"
                    },
                    "geo": {
                      "bgcolor": "white",
                      "lakecolor": "white",
                      "landcolor": "#E5ECF6",
                      "showlakes": true,
                      "showland": true,
                      "subunitcolor": "white"
                    },
                    "hoverlabel": {
                      "align": "left"
                    },
                    "hovermode": "closest",
                    "mapbox": {
                      "style": "light"
                    },
                    "paper_bgcolor": "white",
                    "plot_bgcolor": "#E5ECF6",
                    "polar": {
                      "angularaxis": {
                        "gridcolor": "white",
                        "linecolor": "white",
                        "ticks": ""
                      },
                      "bgcolor": "#E5ECF6",
                      "radialaxis": {
                        "gridcolor": "white",
                        "linecolor": "white",
                        "ticks": ""
                      }
                    },
                    "scene": {
                      "xaxis": {
                        "backgroundcolor": "#E5ECF6",
                        "gridcolor": "white",
                        "gridwidth": 2,
                        "linecolor": "white",
                        "showbackground": true,
                        "ticks": "",
                        "zerolinecolor": "white"
                      },
                      "yaxis": {
                        "backgroundcolor": "#E5ECF6",
                        "gridcolor": "white",
                        "gridwidth": 2,
                        "linecolor": "white",
                        "showbackground": true,
                        "ticks": "",
                        "zerolinecolor": "white"
                      },
                      "zaxis": {
                        "backgroundcolor": "#E5ECF6",
                        "gridcolor": "white",
                        "gridwidth": 2,
                        "linecolor": "white",
                        "showbackground": true,
                        "ticks": "",
                        "zerolinecolor": "white"
                      }
                    },
                    "shapedefaults": {
                      "line": {
                        "color": "#2a3f5f"
                      }
                    },
                    "ternary": {
                      "aaxis": {
                        "gridcolor": "white",
                        "linecolor": "white",
                        "ticks": ""
                      },
                      "baxis": {
                        "gridcolor": "white",
                        "linecolor": "white",
                        "ticks": ""
                      },
                      "bgcolor": "#E5ECF6",
                      "caxis": {
                        "gridcolor": "white",
                        "linecolor": "white",
                        "ticks": ""
                      }
                    },
                    "title": {
                      "x": 0.05
                    },
                    "xaxis": {
                      "automargin": true,
                      "gridcolor": "white",
                      "linecolor": "white",
                      "ticks": "",
                      "title": {
                        "standoff": 15
                      },
                      "zerolinecolor": "white",
                      "zerolinewidth": 2
                    },
                    "yaxis": {
                      "automargin": true,
                      "gridcolor": "white",
                      "linecolor": "white",
                      "ticks": "",
                      "title": {
                        "standoff": 15
                      },
                      "zerolinecolor": "white",
                      "zerolinewidth": 2
                    }
                  }
                },
                "scene": {
                  "domain": {
                    "x": [
                      0,
                      1
                    ],
                    "y": [
                      0,
                      1
                    ]
                  },
                  "xaxis": {
                    "title": {
                      "text": "0"
                    }
                  },
                  "yaxis": {
                    "title": {
                      "text": "1"
                    }
                  },
                  "zaxis": {
                    "title": {
                      "text": "2"
                    }
                  }
                },
                "coloraxis": {
                  "colorbar": {
                    "title": {
                      "text": "Anomaly"
                    }
                  },
                  "colorscale": [
                    [
                      0,
                      "#0d0887"
                    ],
                    [
                      0.1111111111111111,
                      "#46039f"
                    ],
                    [
                      0.2222222222222222,
                      "#7201a8"
                    ],
                    [
                      0.3333333333333333,
                      "#9c179e"
                    ],
                    [
                      0.4444444444444444,
                      "#bd3786"
                    ],
                    [
                      0.5555555555555556,
                      "#d8576b"
                    ],
                    [
                      0.6666666666666666,
                      "#ed7953"
                    ],
                    [
                      0.7777777777777778,
                      "#fb9f3a"
                    ],
                    [
                      0.8888888888888888,
                      "#fdca26"
                    ],
                    [
                      1,
                      "#f0f921"
                    ]
                  ]
                },
                "legend": {
                  "tracegroupgap": 0
                },
                "title": {
                  "text": "3d TSNE Plot for Outliers"
                },
                "height": 800,
                "width": 900
              },
              "config": {
                "plotlyServerURL": "https://plot.ly"
              }
            },
            "text/html": [
              "<div>                            <div id=\"0ee82391-97f2-4667-8d3a-8153079b8bc0\" class=\"plotly-graph-div\" style=\"height:800px; width:900px;\"></div>            <script type=\"text/javascript\">                require([\"plotly\"], function(Plotly) {                    window.PLOTLYENV=window.PLOTLYENV || {};                                    if (document.getElementById(\"0ee82391-97f2-4667-8d3a-8153079b8bc0\")) {                    Plotly.newPlot(                        \"0ee82391-97f2-4667-8d3a-8153079b8bc0\",                        [{\"customdata\":[[3],[3],[3],[3],[3],[3],[3],[3],[3],[3],[3],[3],[3],[3],[3],[3],[3],[3],[3],[3],[3],[3],[3],[3],[3],[3],[3],[3],[3],[3],[3],[3],[3],[3],[3],[3],[3],[3],[3],[3],[3],[3],[3],[3],[3],[3],[3],[3],[3],[3],[3],[3],[3],[3],[3],[3],[3],[3],[3],[3],[3],[3],[3],[3],[3],[3],[3],[3],[3],[3],[3],[3],[3],[3],[3],[3],[3],[3],[3],[3],[3],[3],[3],[3],[3],[3],[3],[3],[3],[3],[3],[3],[3],[3],[3],[3],[3],[3],[3],[3],[3],[3],[3],[3],[3],[3],[3],[3],[3],[3],[3],[3],[3],[3],[3],[3],[3],[3],[3],[3],[3],[3],[3],[3],[3],[3],[3],[3],[3],[3],[3],[3],[3],[3],[3],[3],[3],[3],[3],[3],[3],[3],[3],[3],[3],[3],[3],[3],[3],[3],[3],[3],[3],[3],[3],[3],[3],[3],[3],[3],[3],[3],[3],[3],[3],[3],[3],[3],[3],[3],[3],[3],[3],[3],[3],[3],[3],[3],[3],[3],[3],[3],[3],[3],[3],[3],[3],[3],[3],[3],[3],[3],[3],[3],[3],[3],[3],[3],[3],[3],[3],[3],[3],[3],[3],[3],[3],[3],[3],[3],[3],[3],[3],[3],[3],[3],[3],[3],[3],[3],[3],[3],[3],[3],[3],[3],[3],[3],[3],[3],[3],[3],[3],[3],[3],[3],[3],[3],[3],[3],[3],[3],[3],[3],[3],[3],[3],[3],[3],[3],[3],[3],[3],[3],[3],[3],[3],[3],[3],[3],[3],[3],[3],[3],[3],[3],[3],[3],[3],[3],[3],[3],[3],[3],[3],[3],[3],[3],[3],[3],[3],[3],[3],[3],[3],[3],[3],[3],[3],[3],[3],[3],[3],[3],[3],[3],[3],[3],[3],[3],[3],[3],[3],[3],[3],[3],[3],[3],[3],[3],[3],[3],[3],[3],[3],[3],[3],[3],[3],[3],[3],[3],[3],[3],[3],[3],[3],[3],[3],[3],[3],[3],[3],[3],[3],[3],[3],[3],[3],[3],[3],[3],[3],[3],[3],[3],[3],[3],[3],[3],[3],[3],[3],[3],[3],[3],[3],[3],[3],[3],[3],[3],[3],[3],[3],[3],[3],[3],[3],[3],[3],[3],[3],[3],[3],[3],[3],[3],[3],[3],[3],[3],[3],[3],[3],[3],[3],[3],[3],[3],[3],[3],[3],[3],[3],[3],[3],[3],[3],[3],[3],[3],[3],[3],[3],[3],[3],[3],[3],[3],[3],[3],[3],[3],[3],[3],[3],[3],[3],[3],[3],[3],[3],[3],[3],[3],[3],[3],[3],[3],[3],[3],[3],[3],[3],[3],[3],[3],[3],[3],[3],[3],[3],[3],[3],[3],[3],[3],[3],[3],[3],[3],[3],[3],[3],[3],[3],[3],[3],[3],[3],[3],[3],[3],[3],[3],[3],[3],[3],[3],[3],[3],[3],[3],[3],[3],[3],[3],[3],[3],[3],[3],[3],[3],[3],[3],[3],[3],[3],[3],[3],[3],[3],[3],[3],[3],[3],[3],[3],[3],[3],[3],[3],[3],[3],[3],[3],[3],[3],[3],[3],[3],[3],[3],[3],[3],[3],[3],[3],[3],[3],[3],[3],[3],[3],[3],[3],[3],[3],[3],[3],[3],[3],[3],[3],[3],[3],[3],[3],[3],[3],[3],[3],[3],[3],[3],[3],[3],[3],[3],[3],[3],[3],[3],[3],[3],[3],[3],[3],[3],[3],[3],[3],[3],[3],[3],[3],[3],[3],[3],[3],[3],[3],[3],[3],[3],[3],[3],[3],[3],[3],[3],[3],[3],[3],[3],[3],[3],[3],[3],[3],[3],[3],[3],[3],[3],[3],[3],[3],[3],[3],[3],[3],[3],[3],[3],[3],[3],[3],[3],[3],[3],[3],[3],[3],[3],[3],[3],[3],[3],[3],[3],[3],[3],[3],[3],[3],[3],[3],[3],[3],[3],[3],[3],[3],[3],[3],[3],[3],[3],[3],[3],[3],[3],[3],[3],[3],[3],[3],[3],[3],[3],[3],[3],[3],[3],[3],[3],[3],[3],[3],[3],[3],[3],[3],[3],[3],[3],[3],[3],[3],[3],[3],[3],[3],[3],[3],[3],[3],[3],[3],[3],[3],[3],[3],[3],[3],[3],[3],[3],[3],[3],[3],[3],[3],[3],[3],[3],[3],[3],[3],[3],[3],[3],[3],[3],[3],[3],[3],[3],[3],[3],[3],[3],[3],[3],[3],[3],[3],[3],[3],[3],[3],[3],[3],[3],[3],[3],[3],[3],[3],[3],[3],[3],[3],[3],[3],[3],[3],[3],[3],[3],[3],[3],[3],[3],[3],[3],[3],[3],[3],[3],[3],[3],[3],[3],[3],[3],[3],[3],[3],[3],[3],[3],[3],[3],[3],[3],[3],[3],[3],[3],[3],[3],[3],[3],[3],[3],[3],[3],[3],[3],[3],[3],[3],[3],[3],[3],[3],[3],[3],[3],[3],[3],[3],[3],[3],[3],[3],[3],[3],[3],[3],[3],[3],[3],[3],[3],[3],[3],[3],[3],[3],[3],[3],[3],[3],[3],[3],[3],[3],[3],[3],[3],[3],[3],[3],[3],[3],[3],[3],[3],[3],[3],[3],[3],[3],[3],[3],[3],[3],[3],[3],[3],[3],[3],[3],[3],[3],[3],[3],[3],[3],[3],[3],[3],[3],[3],[3],[3],[3],[3],[3],[3],[3],[3],[3],[3],[3],[3],[3],[3],[3],[3],[3],[3],[3],[3],[3],[3],[3],[3],[3],[3],[3],[3],[3],[3],[3],[3],[3],[3],[3],[3],[3],[3],[3],[3],[3],[3],[3],[3],[3],[3],[3],[3],[3],[3],[3],[3],[3],[3],[3],[3],[3],[3],[3],[3],[3],[3],[3],[3],[3],[3],[3],[3],[3],[3],[3],[3],[3],[3],[3],[3],[3],[3],[3],[3],[3],[3],[3],[3],[3],[3],[3],[3],[3],[3],[3],[3],[3],[3],[3],[3],[3],[3],[3],[3],[3],[3],[3],[3],[3],[3],[3],[3],[3],[3],[3],[3],[3],[3],[3],[3],[3],[3],[3],[3],[3],[3],[3],[3],[3],[3],[3],[3],[3],[3],[3],[3],[3],[3],[3],[3],[3],[3],[3],[3],[3],[3]],\"hovertemplate\":\"0=%{x}<br>1=%{y}<br>2=%{z}<br>Feature=%{customdata[0]}<br>Anomaly=%{marker.color}<extra></extra>\",\"legendgroup\":\"\",\"marker\":{\"color\":[0,0,0,0,0,0,0,0,0,0,0,0,0,0,0,0,0,1,0,1,1,0,0,0,0,0,0,0,0,0,0,0,0,0,0,0,0,1,0,0,0,0,0,0,0,0,0,0,0,0,0,0,0,1,0,0,0,1,0,0,0,0,0,0,0,0,0,0,0,0,0,0,0,0,0,0,0,0,0,0,0,0,0,0,0,0,0,0,0,0,0,0,0,0,0,0,0,0,1,1,0,0,0,0,0,0,0,0,0,0,0,0,1,0,0,0,0,0,0,0,0,0,0,0,0,0,0,0,0,0,0,0,0,0,0,0,0,0,0,0,0,0,0,0,0,0,1,0,0,0,0,0,0,0,0,0,0,0,0,0,0,0,0,0,0,0,1,0,0,0,0,0,0,0,0,0,0,0,0,0,0,1,0,0,0,0,0,1,0,0,0,0,0,0,0,0,0,0,0,0,0,0,1,0,0,0,0,0,0,0,0,0,0,0,0,0,0,0,0,0,0,0,0,0,0,0,0,0,0,0,0,0,0,0,0,0,0,0,1,0,0,0,0,0,0,0,0,0,0,0,0,0,0,0,0,0,0,0,0,1,0,0,0,0,0,0,0,0,0,0,0,0,0,0,0,0,0,0,0,0,0,0,0,0,0,0,0,0,0,0,0,0,0,0,1,0,0,0,0,0,0,0,0,0,0,0,1,0,0,0,0,0,0,0,0,0,0,0,0,0,0,0,0,0,0,0,0,0,0,0,0,0,0,0,0,0,0,0,0,0,0,0,0,0,0,0,0,0,0,0,0,0,0,0,0,0,0,0,0,0,0,0,0,0,0,1,0,0,0,0,0,0,0,0,0,0,0,0,0,0,0,0,0,0,0,0,0,0,0,0,0,0,0,0,0,0,0,0,0,1,0,0,0,0,0,0,0,0,1,0,0,1,0,0,0,0,0,0,0,0,0,0,0,0,0,0,0,0,0,0,0,0,0,0,0,0,0,0,0,0,0,0,0,0,0,0,0,0,0,0,0,0,0,0,0,0,0,0,0,0,0,0,0,0,0,0,0,0,1,0,0,0,0,0,0,0,0,0,0,0,1,0,0,1,0,0,0,0,0,0,0,0,0,0,0,0,0,0,0,0,0,0,0,0,0,0,0,0,0,0,0,0,0,0,0,0,1,0,0,0,0,0,0,0,0,0,1,0,0,0,0,0,0,1,0,1,0,0,0,0,0,0,0,0,0,0,0,1,0,0,0,0,0,0,0,0,0,0,0,0,0,1,1,0,0,0,0,0,0,0,0,0,0,0,0,0,0,0,0,0,0,0,0,0,0,0,0,0,0,0,0,0,0,0,0,0,0,0,0,0,0,0,0,0,0,0,0,0,0,0,0,0,0,0,0,0,1,0,0,0,0,0,0,0,0,0,0,1,0,0,0,0,0,0,0,0,0,0,1,0,0,0,0,0,0,0,0,1,0,0,0,0,0,0,0,0,0,0,0,0,0,0,0,0,1,0,0,1,0,0,0,0,0,0,0,0,0,0,0,0,0,0,0,0,0,0,0,0,0,0,0,0,0,0,0,0,0,0,0,0,0,0,0,0,0,0,0,0,0,1,0,0,0,0,0,0,0,0,0,0,0,0,0,0,0,1,0,0,0,0,0,0,0,0,0,1,0,0,0,0,0,0,0,0,0,0,0,0,0,0,0,0,0,0,0,0,0,0,0,0,0,0,0,0,0,0,0,0,0,0,0,0,0,0,0,1,0,0,0,0,0,0,0,0,0,0,0,0,1,0,0,0,0,0,0,0,0,0,0,0,0,0,0,1,0,0,0,0,0,0,0,0,0,0,0,0,0,0,0,0,0,0,0,0,0,0,0,0,0,0,0,0,0,0,0,0,0,0,0,0,0,0,0,0,0,0,0,0,0,0,0,0,0,0,0,0,0,0,0,0,1,0,0,0,0,0,0,0,0,0,0,0,0,1,0,0,0,0,1,0,0,0,0,0,0,0,0,0,0,0,0,0,0,0,0,0,0,0,0,0,0,0,0,0,0,0,0,0,0,0,0,0,1,1,0,0,0,0,0,0,0,0,0,0,0,0,0,0,0,0,0,0,0,0,0,0,0,0,0,0,0,0,0,0,0,0,0,0,0,0,0,0,0,0,0,0,0,0,0,0,0,0,0,0,0,0,0,0,0,0,0,0,0,0,0,0,0,0,0,0,0,0,0,0,0,0,0,0,0,0,0,0,0,0,0,0,0,1,0,0],\"coloraxis\":\"coloraxis\",\"opacity\":0.7,\"symbol\":\"circle\"},\"mode\":\"markers\",\"name\":\"\",\"scene\":\"scene\",\"showlegend\":false,\"x\":[12.405544,17.00232,-9.4577,7.860222,11.647634,-9.424868,10.79904,-12.707265,5.7028537,-8.193089,-8.27224,13.601774,-9.179614,12.402096,13.24843,5.465972,-5.285955,-8.0504875,-5.170829,-5.409106,14.814348,-5.095002,10.430947,-11.613417,-7.054168,-9.910041,-8.017705,2.2015204,-9.891732,-6.194162,8.918188,-7.6254883,12.999537,0.14353989,-11.562792,-7.2294126,7.4828005,-0.9289826,8.483166,-9.948295,6.7736998,-13.185132,-6.671833,-6.185093,-6.9025545,-6.1836543,12.777952,-6.396874,-8.086282,4.8368387,-9.052625,5.573467,15.429967,-8.061742,-6.0302334,-10.866658,-10.141442,-7.7797227,13.289372,-12.354296,10.16743,-9.342004,7.961724,-5.141053,-8.424754,3.8393397,-8.069402,6.445568,-10.548503,5.8814425,-8.366238,-7.0579443,-8.829703,-9.159359,10.850337,-5.0864253,-10.342645,-5.929369,-11.07298,-9.619025,14.361315,11.05375,13.310839,-11.587003,-8.190961,-11.142418,10.424804,-7.877763,10.475748,8.77419,-5.054484,15.3155,-9.79687,12.891007,-10.411718,2.8950708,11.628555,-8.519347,-0.77792656,4.925029,10.024327,9.72812,-12.184248,-10.962902,11.930215,-6.849569,-5.4873567,-7.226736,5.921172,-9.823416,-9.220261,-7.8039374,8.6758585,-8.920612,-12.149068,-9.1313925,10.492057,7.8309927,5.5597444,10.668881,-4.995196,16.15998,-5.2943926,-6.7018523,-8.913926,-4.9750953,-10.099706,3.212895,-9.528612,-8.509946,-9.8379965,-4.285764,-13.330914,18.054846,2.168721,15.329509,15.967328,-9.689001,-6.603479,14.243216,-8.335976,-5.9613194,-11.083768,-5.308493,-8.116453,-7.6972094,-7.1319838,-6.0902905,-11.906686,5.821612,-11.014787,-6.9837756,-4.135772,-9.430916,10.765653,-5.2400904,8.053914,9.986381,-9.861148,-10.567751,11.64498,-5.400029,-7.3113217,-9.089192,-9.481486,11.13607,-7.995365,-11.813121,16.044514,4.7390337,-12.071057,1.7783463,10.144706,8.91,16.063196,-11.175617,-8.884569,4.2176456,-9.9494505,3.7887745,12.80589,-7.619498,6.301235,3.4893048,4.4675145,-4.011189,17.348251,17.740099,-7.2584877,15.43289,-9.828446,-10.00944,5.5520964,-9.497868,10.279258,-7.063395,-10.885142,-7.3836884,-10.413003,14.118159,1.6190386,8.046657,-7.9751806,13.844499,8.467468,2.8027678,11.793484,-13.409724,-12.115753,3.0703597,-7.0546145,7.5643563,-9.429932,-7.625736,8.2985735,-6.587158,9.069485,7.19728,8.9451885,-8.120202,-7.263151,7.197763,-5.1167893,0.22044584,-9.582572,16.31008,4.346888,-8.893048,17.884966,12.073984,5.619428,7.4643116,9.394877,10.436004,-5.783118,14.857984,-10.090896,11.560305,19.557247,4.0469236,4.4131913,-10.67706,8.039548,-6.6186843,-11.464495,-9.411474,2.4322636,8.803165,-6.9975705,-11.641588,11.04112,-9.729075,10.387595,9.003031,-10.244158,-11.38827,0.72878706,-11.299493,-7.5938473,-9.532705,-11.711533,0.57039016,13.441918,-8.847983,-7.8304706,-9.351108,-10.204003,-5.7228107,-13.498721,-5.9478683,13.336927,-4.1572313,13.248899,5.7504787,-10.492368,12.270016,10.924269,11.108444,13.084038,-6.7885437,-6.9124045,-5.7759643,-5.853007,-5.683555,15.765871,8.905011,2.6651814,13.032577,12.319885,-11.623236,10.967493,-11.039578,-6.5698576,8.636865,16.065657,10.521567,3.9857762,-9.079154,18.055767,-5.7802887,10.456942,-7.5677423,-10.141111,10.525485,1.8953999,12.460491,6.616312,16.223131,0.79093164,-6.514541,4.987365,3.94213,-5.1531997,-4.436701,-12.110819,-7.82941,14.003146,12.754633,7.6679544,7.6058593,3.298597,-10.643725,15.564564,-7.094181,14.200204,16.05718,0.7574193,-11.748228,1.6586646,14.746256,-7.165515,-6.848519,11.419877,-8.249143,8.7213745,-7.3984985,-9.345821,6.1703973,-7.745871,8.886266,-7.413912,4.912703,14.05233,6.8801103,-9.065131,7.9965606,-5.3359222,13.188582,-10.782219,-9.309203,-7.8079824,18.815546,-12.611453,-5.789035,7.6171846,-5.4366674,10.629101,13.730992,0.047193985,8.565806,-9.207469,-8.140364,-10.4129,-9.760423,-7.1109324,15.1873665,17.622173,-8.687248,8.9347105,-10.356552,-9.529815,12.694032,-6.079607,12.0532875,-9.364093,-5.2155104,18.543577,8.963095,-6.2173457,9.891128,-6.6186028,6.1760187,-5.3123174,5.276336,4.226381,11.550027,12.250462,5.4994636,-8.830021,6.2967205,-10.040146,8.464433,13.817253,9.963777,-6.9562426,-9.245924,14.667211,-5.3966136,5.7299104,-5.5887165,-10.060315,8.5679455,-9.326679,5.5557456,-7.042529,-8.012975,6.633412,6.4096527,-13.396508,-8.756856,-9.702633,11.686691,16.737001,-11.509828,12.371317,7.607585,2.845885,8.470887,2.4457662,-8.663107,8.037655,-8.6304455,6.8382792,13.7317,-11.577821,5.815648,13.705556,-9.381058,-10.896557,-6.999666,-6.457194,-9.950287,-6.8377295,10.560836,-6.0822897,-9.837034,-9.899046,0.14290442,4.6481633,-11.646004,9.653246,-9.553837,-6.6700487,8.094618,-7.389588,6.5587044,8.062183,-10.942574,10.005581,-6.075991,3.955209,13.08686,-8.442181,9.012206,-12.014282,-5.1171794,5.6983337,6.174805,-8.144529,-10.717707,-6.1005974,-9.140538,-8.037143,14.113516,-9.575648,-10.144185,16.264606,-12.850293,-8.273059,-6.2300744,17.59805,-7.03709,-6.8165026,4.8821945,-9.747853,15.021071,-7.6740065,4.679504,-11.335886,-7.795484,-0.6890349,-8.910616,-5.8865004,11.608801,-4.5835986,-5.779259,-5.8466387,6.681199,7.2855873,-7.286237,-5.519916,-9.142016,-7.2522,10.34891,-5.7855206,13.860289,13.367073,3.2435424,9.293921,-5.7621226,18.093786,3.4813616,10.779285,-11.07643,-9.034186,9.025375,-4.86636,-11.692084,-7.1397276,-11.699434,-10.764272,12.297319,13.320907,-7.95986,2.7101343,-6.5833893,1.2227896,3.2318141,13.718197,-7.6491237,-6.5205836,7.305079,-8.487183,-9.457999,8.485567,-10.065091,2.8113852,5.299552,18.07746,-8.758022,-8.666259,12.598872,9.461649,18.58344,-6.9269648,19.504383,-8.419016,-4.8357453,-7.949554,-7.41198,8.838331,7.4184804,13.120402,16.277243,-12.348348,-7.4936314,12.722167,-7.9952993,9.176374,-11.411795,-6.9445443,12.981406,-9.169244,8.429563,7.6209073,15.495992,9.844327,-7.0599146,-5.479192,-12.030977,9.829063,0.8948391,19.374655,-10.290206,-9.92311,-9.716744,-6.6167126,16.22956,14.395481,11.3326235,-9.146146,-6.4063044,15.574711,8.034502,5.7620773,-7.328768,-7.7907753,8.069202,-8.976367,-11.425449,16.354666,-10.333213,13.677826,11.034429,-8.803648,12.672108,-9.466434,-11.744379,8.482117,-10.892847,18.143135,-8.135225,5.880813,-5.8483434,-7.5569725,19.054802,10.595972,7.996174,-7.633161,-10.391268,13.876874,-8.27272,-8.947192,-9.632743,-11.129567,-7.0214524,-8.63867,6.801334,5.6311784,9.491388,14.400118,-6.813281,10.564777,14.2201805,-6.403861,-9.698237,-5.0504904,11.210128,-7.8119354,-6.027704,-8.2115,-8.4136915,-12.606983,-8.111172,11.857624,-8.059466,2.6410506,-8.557541,8.60074,9.496982,-6.451737,15.593978,6.8534646,11.166384,11.219894,-10.562917,-7.983025,1.2044134,-10.212767,5.1867867,-9.61277,-12.545302,-11.616493,6.2426944,-9.591147,10.452243,-6.7880116,-8.063837,5.43261,7.700351,15.691335,13.5039215,10.05614,11.173858,14.052411,15.246596,9.146739,14.125615,15.309495,-7.948437,10.400709,15.770398,7.3941617,7.5114303,0.7129443,2.465447,15.306104,-5.759285,15.998444,15.358233,-10.942623,4.340237,-7.6302986,6.8929176,-6.869252,-8.912048,-8.039763,-9.273907,-10.336042,-9.64265,-10.834739,-9.85476,3.6805727,-9.640677,10.269284,9.558705,-9.84011,2.087139,-6.5259085,15.5692005,-9.901897,12.032694,13.54458,-6.1693087,17.234562,14.464854,4.8753414,5.6436267,11.678632,5.15247,12.937957,6.0252624,-11.561527,-13.369378,-9.311839,-6.726021,10.540728,7.1025887,-7.6658635,-7.125165,16.621634,-6.100275,-6.912882,12.893916,10.524595,-7.547329,11.703286,-7.205034,6.7407923,9.735423,12.868743,16.253614,11.0206375,-11.10934,-7.3104234,14.1506,13.6690235,14.536053,9.574599,15.203412,-6.0746136,-6.888265,-6.457775,-10.45785,-9.820985,-7.7686167,9.076009,-12.972924,-8.164542,9.265688,4.330135,-6.0255055,5.651233,15.114162,-10.180464,14.9567795,6.1032076,16.738695,-7.907892,-6.302106,-4.478082,1.4214733,-10.695652,12.388995,-8.752461,-7.9983773,16.157679,-8.948141,9.405702,9.380247,14.538264,-8.801663,-5.132907,-7.6961226,9.533264,-6.181524,5.920856,5.947959,-10.459311,6.6262703,1.1185259,-6.8054414,18.766447,-6.752675,-7.4119687,4.199465,5.687212,-10.484384,2.175518,11.520695,-5.5610137,1.1551178,-7.3974442,-5.9119263,13.238409,-11.405784,8.212267,-6.949784,-7.7856474,-7.533123,-9.900101,10.325645,-13.434968,8.863002,-10.200796,9.643477,2.1415715,18.583216,-8.121552,-5.880805,-5.298159,-6.9342012,-8.664906,-7.352889,-7.1342816,5.413052,-7.0765014,-9.287766,14.680272,-11.563498,-10.648008,-11.207898,4.6263676,-6.4837546,-6.917836,-11.692962,9.481635,15.620184,6.9743195,-4.6907473,-10.412596,-7.1251073,-8.927173,13.679474,2.1195617,9.705052,-6.149444,5.2458744,9.661076,6.745973,-6.833133,14.626982,-8.803942,-9.307932,-9.431312,-8.690343,8.922597,3.2546241,15.537145,0.073431365,-8.80221,2.7150486,9.011837,8.841384,5.512425,0.0041010114,-13.28693,-11.89791,-4.9248195,2.3036551,4.4449415,-7.236181,14.966724,8.726235,5.5568123,-9.993013,-6.6527314,-11.798031,14.182989,-9.653422,19.62073,-8.816567,4.9200296,-8.680594,-7.297014,5.4257956,4.025021,8.169794,11.809064,-9.738012,-4.794366,3.139669,-9.702012,-7.0211754,4.318992,-9.80638,-8.321111,15.050387,-7.187992,6.4815016,8.89389,0.66990674,8.034553,-6.8060474,7.153888,15.461767,-6.929278,4.236632,-11.668851,-5.661666,-8.030287,8.122003,-11.046545,0.011112974,1.5761044,6.4501233,-8.199632,12.430935,-4.975733,0.9611272,15.62949,-6.9754457,-9.631258,-5.4265904,13.305132,-4.973933,-6.4708867,6.12973,-11.707321,8.177513,15.084885,14.027804,19.749655,13.243934,5.2986526,11.6958685,9.761188,-9.940803,-6.5552764,10.590886,-7.246628,-8.4811,-7.111043,18.701145,-7.1729236,-6.2025156,10.923649,-7.587795,18.43418,-12.844181,-10.890561,6.9888163,-10.304405,-6.107769,-0.07816859,-12.419909,6.7770243,14.763256,12.528272,9.089277,-6.789158,-10.750214,-9.619373,-10.123304,-6.2379107,3.8952534,14.505585,-9.182132,-8.218044,18.221567,5.4739933,11.806913,-6.710645,-5.7709246,12.331492,-9.910683,-0.06205308,-6.575515,-6.6677966,8.170176,9.944444,-7.4041924,-5.7199883,-6.120954,-10.898231,14.892075,-8.959794,-11.931711,16.938427,-6.1237946,-7.4384813,-8.3866205,-11.053513,14.788344,4.742802,-9.4013195,-11.840524,0.26305774,-8.448749,-5.086125,-8.3590765,-5.333179,-6.091621,-10.643328,-8.9464245,12.601197,13.303983,7.1281595,5.512255,5.024827,6.8956304,-8.756542,-10.469595,-6.37388,8.422024,-8.676293,-5.198156,9.249107,5.150414,11.360227],\"y\":[-0.7221048,-0.3323087,1.6634182,4.492992,-2.6960034,-6.503089,-0.31897226,-6.500108,4.8929267,0.51691556,-4.2590938,3.4514172,-5.9328594,2.0726597,3.9215326,5.935935,3.6321154,-9.426895,0.58325183,-8.14544,3.2939758,-1.8603452,-0.5590047,3.1094341,-3.5521748,3.6573575,-0.015970161,3.147887,5.4922276,2.165096,-0.057570003,-6.1787715,0.62991816,1.478852,-4.3786345,-3.6018674,-0.6364836,2.9619243,4.2548156,-2.4640253,5.083338,-4.645055,4.6299567,-0.50591826,1.9330131,-6.9072843,0.47122282,-0.1916372,0.13774487,2.2060902,-2.9178045,3.7661493,3.658982,7.6335936,-0.38017175,2.3352513,5.648398,-9.360757,0.2119318,-2.718304,3.341514,4.1911817,4.6195173,-2.979103,-8.129802,3.5235374,-1.8028421,4.9639225,-6.601218,1.3298007,3.7609134,5.5184207,5.3240495,-6.343086,-0.47626618,-3.0902693,-1.2587374,-4.8731704,-4.0693297,-3.5506914,-0.35354385,0.87550616,2.3361676,4.6753707,-9.778863,-6.2253876,3.5376806,5.1958256,4.125789,0.7708657,-1.1708118,2.2652235,3.26331,0.6381272,5.1166377,3.024063,-0.83727866,-2.3078156,3.3445897,6.4239874,0.26157677,4.4212646,-2.4555213,0.8181961,5.1926003,-4.3469105,-3.732997,4.4573355,3.9897246,1.0077697,-1.5040959,2.3262224,3.7962406,-4.6816587,-1.6317872,-1.9332067,1.4164518,1.028616,1.4590956,3.2099793,3.373628,3.0165858,-2.9873376,-1.9549191,-6.9034643,-0.6562983,-6.106643,3.5013294,-9.191607,-3.1943853,-2.8926544,-0.8527682,-6.941467,0.5072729,3.5904284,-0.39737618,-0.28411803,-9.327108,-6.312824,-1.2449949,-8.480499,-4.0651765,1.517433,0.5063729,-2.7516751,-0.0869475,7.9839716,1.645117,-3.125113,-1.003995,-3.741161,-3.8336616,-0.49847597,-8.037419,-0.40348694,3.0495412,2.0390337,0.0010380563,1.1473413,-0.018507013,3.9309099,-0.47494587,-7.018508,-4.976651,-3.214445,2.219051,7.8919797,-2.4181595,0.32342064,0.6815124,-2.3484898,4.3259254,3.1380177,0.49774912,1.0915954,4.796776,0.9048592,2.449889,-0.443274,2.5725453,4.673389,-3.758015,-0.5042701,3.3871236,4.7814374,-1.9399428,-0.06557414,1.2590882,6.7629395,3.6439576,2.5044,-1.5446523,4.110543,-9.159903,-1.90678,-0.74543285,-3.2150657,1.4518166,-3.2614295,-0.87374336,4.4122324,1.6761655,-9.21507,0.14972238,3.625706,2.5619268,-2.592913,-5.261185,-6.51123,1.7488934,-4.7395396,4.2201824,-8.342923,-7.098379,2.0274103,-7.998151,4.1143384,4.8931365,2.5549903,-1.0213172,-1.9347354,3.3398643,0.53038484,3.08138,-7.882675,-0.47161195,5.7619348,1.3351529,2.468599,-0.86371803,0.6889675,4.9183316,0.06472762,1.0481509,-1.0618675,0.54666376,-5.270045,2.7022276,1.6505663,3.010418,3.2569144,1.4353495,-0.554891,-4.8265796,-8.029527,-7.742684,1.5038006,-0.16650763,-2.2755973,-7.3965874,0.36170384,2.4633994,-1.3671927,4.6490903,4.2974243,-0.14186043,2.1286364,-4.103371,-0.3541582,-6.475204,-6.4681497,4.019826,0.6927432,1.2621223,0.13002923,-2.1222208,5.0646925,4.3361683,-5.311637,-6.5767694,-0.20207329,-1.5150162,-1.7664423,4.311044,-1.1909976,0.22309537,4.5092483,-0.30506238,4.8116264,2.7901762,-7.987585,-3.4598773,0.92636126,-7.158739,4.4289064,6.0519204,1.7665056,2.9756727,3.5230541,-4.858975,1.5423403,-1.6082293,-5.212379,2.011895,3.0638332,0.09365943,1.9103392,4.517962,0.484833,-2.7588634,3.0493734,5.953628,1.465166,-1.195542,2.9521217,-0.5477562,5.4045687,2.1214333,2.9842813,4.97108,3.5164056,2.9433281,-0.5954614,2.458443,-7.6889176,6.0266743,0.19503999,-0.8344013,3.7650557,1.0937347,2.3779352,5.2946734,4.4377646,-8.370934,2.5013785,0.8112036,2.2496793,-6.649264,2.4270537,0.67517567,-0.9965491,-3.3995154,-0.2579895,-10.074665,-0.57000965,-8.149049,4.5376887,4.7152424,3.7688491,3.0931504,-0.72082746,0.9168885,-2.8797817,0.5837437,-7.5589986,1.9988077,0.23448974,-2.7340894,0.74132955,2.8617797,-8.697341,1.1102083,-2.2164233,3.8357234,3.700814,5.224672,0.96622825,-2.3519192,1.5839716,4.1849194,-6.8758717,-2.7746975,5.6923704,-3.270772,4.0805264,2.3434765,2.804821,-5.49761,0.8457139,3.74184,-8.388739,-1.4104682,5.983104,4.990893,-9.054332,-8.308748,0.7903267,3.714285,-3.8843572,-0.48806083,-7.9006395,5.5612493,-0.22628902,4.228091,4.2007127,-0.504603,2.4457755,2.325721,3.8487573,5.35634,-7.234029,4.222104,4.356745,1.7334292,3.3013465,-8.690854,-0.72161436,-1.8209716,5.317329,-3.8537853,-9.684565,4.285635,-2.991227,4.407297,0.5326702,-3.7877963,4.9849997,1.1081419,-6.85439,-7.322421,-7.914185,5.382177,2.960641,-6.0523043,4.293598,3.9121604,1.7153028,3.4733791,4.327961,-9.792017,2.0444925,-3.7114577,2.8265219,-1.983761,-4.4915166,2.7082868,3.6150246,2.5060015,-0.08221359,-10.0272665,-6.7589035,-2.3729947,-7.4329224,1.2475061,1.7686658,-6.7664013,4.6082263,2.977314,5.4677587,-9.06564,3.0325336,-8.619429,-8.318032,2.6023057,-7.097134,4.5569754,2.0208223,-2.729251,-0.5227886,-7.2683687,1.9979656,-0.7522495,-3.168864,5.2950344,3.9139051,3.2690058,-1.098786,1.4799016,-9.204704,-1.3825703,0.38449073,-10.027213,1.5220821,0.9460302,-5.2450013,-2.520524,-0.2572897,-7.88258,-7.6142697,-5.9358983,0.29151613,-8.404104,-7.1378818,3.3055027,3.0269344,0.8939839,-7.352099,-0.09950727,1.8652902,0.47015932,3.4022267,-7.301557,1.1664492,3.177525,-2.2564273,0.8426402,-7.299508,5.6524305,-0.73726,3.717517,-6.057631,-6.862692,4.2588644,-0.68189126,-5.653463,0.64899707,-0.34044054,3.2772627,3.797296,1.1739376,1.1283926,2.7000833,2.662745,-4.0904827,-2.2919564,3.5946033,-0.010027128,-4.9905515,5.149325,-5.681555,-4.140766,-1.1584202,1.9484862,-0.08988005,3.529421,-6.2138433,2.5907364,3.4974937,4.297258,-5.0020394,-0.13023442,3.6404903,-4.643855,-0.42036113,5.3338842,3.5214777,3.1818607,5.9555206,0.36313352,-7.472114,-3.8342295,0.24390087,-0.43942636,1.3607432,-4.1586695,1.4290792,5.1779785,2.7313526,-6.2203774,-6.9964485,4.3352423,2.0960085,1.4074647,-0.261245,-6.2556577,6.349292,0.27261385,8.073462,2.9329965,-6.058253,4.8159223,1.8406016,-8.983313,5.456546,0.2811486,0.6175353,1.1668185,4.9369307,-5.8057647,5.0065994,2.5824215,2.6751342,1.3690518,1.5893774,2.9024582,-9.435059,-1.281557,0.084269494,2.1696754,0.07610435,-8.29177,5.416799,0.5502712,1.7354392,0.63479203,-6.7612185,-5.8484373,5.3578067,-4.5705104,-5.2679605,3.7710462,-0.19592911,-0.07596641,3.0302067,1.2168561,2.020119,2.470203,-7.5653796,4.977935,0.48913303,1.518113,-7.458747,4.7151327,-0.16636093,1.5200434,1.0706309,-1.3962872,4.5454435,-2.0565562,1.5283055,0.90138,-7.98953,0.86003804,-5.738515,-8.184588,-9.920491,-2.1072018,3.387575,3.2730289,2.9659436,-0.2636319,-1.0324999,4.558462,3.0142603,-3.728107,-7.36187,-3.3658834,4.728953,5.131128,0.628725,2.0363483,3.3999422,-5.7721643,0.8462426,-0.69284594,-7.8078094,2.755902,7.7552633,1.4327338,0.4565802,6.2000103,-0.673574,3.9043489,1.0404389,-0.8621759,3.8946364,-5.614321,2.760522,6.596571,4.7801614,-6.584942,-8.24902,3.274158,1.7320094,-5.0435715,3.9032938,-6.5283384,7.6330233,5.2670794,1.5668154,1.2110199,0.75314355,1.2053406,0.25084385,-2.8080144,-2.592586,1.6846989,-1.4043257,4.668767,-1.1425471,2.3784747,-0.6156564,1.4397137,7.088805,2.6863406,1.9629765,3.8956518,-5.729427,1.7830819,2.0533714,-4.090126,5.697683,-0.50058,4.2321596,-4.6040354,1.8006247,-8.425352,-2.4880803,-3.567286,3.0119967,4.456811,-8.050436,3.268551,1.4710523,-1.4780052,2.2641134,5.443007,1.7433332,3.1218622,4.246127,-2.1478913,-0.46147892,-2.610845,-2.979827,0.010371526,1.5399561,0.4581017,3.8738344,1.8653102,2.482818,0.51179606,2.7896824,-4.441068,-6.870861,-3.402564,-1.439025,-0.31041777,4.4673557,0.66739,-2.0964131,0.023527052,-6.0541787,-1.8432244,-1.1944269,-1.0197293,0.7599461,2.5377975,-2.7641692,3.2445993,1.6232036,-0.8727513,1.3954722,-1.5733057,-7.0407724,-8.9728155,-3.7461853,-0.050059225,4.4480124,1.0345021,4.0546165,3.00813,-4.852957,-2.0275035,-9.656512,1.7727964,-9.151743,0.5283861,-2.2335455,-0.8726238,5.2196193,3.0052955,-3.7863882,4.6503186,0.7514051,-7.5112963,3.2397695,3.6992586,0.5469109,2.715966,-3.9568431,1.6210657,2.446221,-7.7961035,-0.6083981,1.8042889,-7.7464485,2.5277245,3.2724338,2.0348065,2.9715972,2.1271105,1.400155,0.049670387,-4.157829,0.7875306,5.711902,0.9402704,1.0149925,-6.9649954,2.0277803,3.032545,-5.7455206,0.38768184,-0.8645679,-7.41718,0.89472085,2.6834521,5.221056,2.6153824,2.7683034,-4.688024,2.9897466,-2.2497013,-4.6764793,-3.107368,-6.4997587,3.5975947,-5.007436,-9.418549,0.7634376,2.6025434,1.5382144,-7.363558,-0.71922725,-5.7391844,-1.4132082,1.5449717,1.0441821,-6.0342536,-3.5097206,0.41983378,-1.2999539,-6.364049,-7.991451,-3.5265253,5.209064,-7.8304253,-8.133595,4.9089174,-4.519222,-6.8029394,-8.12716,2.3010383,2.6639977,-4.5325627,-1.4895892,1.9114695,-0.21111916,6.877507,-1.9832152,-3.5450041,-5.089072,-9.361834,-0.18947534,3.3992898,4.5241694,3.2830663,1.8356107,-1.5314212,4.5051136,3.2357635,0.31952974,-5.454394,-8.545029,3.0811048,-8.284246,-0.60888165,1.9066049,0.4924865,1.4395382,-3.9561918,1.8582189,1.9873033,4.2363577,1.4816842,2.645367,-5.2131305,-3.103403,-0.079939045,3.7235346,3.4442596,-8.345347,0.045744374,3.6853735,2.7893577,-3.2304204,-8.388791,-6.251365,-3.1006277,5.5424094,1.7168856,-2.7304902,3.6396456,-9.105323,0.9693202,3.4511766,3.4114678,0.31900868,-0.5195712,3.0352292,-1.8856872,2.4718008,-7.7669334,-3.6662138,3.0764217,-7.8588004,-4.60227,4.579608,4.8182387,3.9378846,1.7454623,2.1828873,5.327632,-6.1194205,3.0895753,3.6694205,2.7044618,2.653385,-7.76567,-2.6540623,6.782564,2.0383978,0.71944827,3.200273,1.6260535,0.07287221,-4.537991,2.6908686,5.3084073,4.494448,-0.4380264,4.8622932,3.8094509,-1.035984,-2.9418607,-1.2206419,4.354163,3.5048258,-6.5639696,1.8669487,4.0566306,1.7383595,1.7710807,0.6678754,3.3257532,3.042586,1.0550394,2.684866,-1.6925063,-0.9938487,0.077671476,-4.107076,-4.1936507,0.7453905,-4.459082,-5.3124175,0.83845437,-6.5005703,1.0042117,-7.110995,-2.948,-0.95779413,4.23311,2.8333988,3.7128825,-6.384748,-0.5283454,1.1755811,-0.019566247,3.1392708,-7.3609204,-0.34923834,-8.768385,3.198688,2.7725656,2.0506525,3.267927,4.856646,-8.92552,0.9963738,4.850053,5.3609324,1.3743821,1.4103389,3.2960572,5.1088977,4.084666,-5.698108,-6.9782524,1.8225683,-0.19909588,1.9146024,1.112068,-6.5620008,-7.403119,-2.6323512,-4.2773595,5.302828,0.7973858,-8.082353,-1.4924941,-3.5018597,0.3633843,1.9785639,1.4637096,5.037194,-0.7723058,1.8771495,-10.197022,3.5279357,2.7316053,4.350466,-0.09283445,-1.2081617,-3.9286416,-0.27560776,2.5477438,0.48296648,4.704819,3.9978256,0.4422544,-10.086644,-9.799807,1.2170874,3.7149239,3.9361289,0.18813424,1.3180777,3.1760197,1.1600437],\"z\":[-4.6089144,4.3024516,1.4353546,-4.390906,-3.0605495,1.4519849,-6.382866,7.851506,-11.270029,-1.0899907,1.2402897,1.2567309,2.3693912,2.2347562,-1.4974576,-8.033305,3.2799542,11.316103,1.2102922,1.5411149,-2.5992465,2.9127426,1.0612451,-1.6854612,3.0312984,0.7999293,-4.151315,-11.248048,-2.3578022,-0.8207897,0.002425366,8.526744,-1.7097886,-11.795988,5.2332187,8.263615,-5.722774,-10.858133,-8.927376,-0.98105264,-7.3291264,4.181131,2.594943,1.9275469,0.34306902,5.0350995,3.600164,-3.9784288,3.4174232,-2.212606,3.4545238,-11.4556055,-0.70346874,-1.3746176,-3.5341282,-2.3422163,-2.0819077,12.280014,2.4107077,2.6853836,-5.0948734,-3.2541716,-8.284012,4.095787,9.161997,-4.679454,1.4203502,-4.6629496,2.3457274,-5.0434113,0.2635082,0.9393462,-3.264226,1.1908932,-6.327623,3.8170938,0.5485277,8.092135,2.426128,4.555234,-1.6430967,-4.2331996,-2.8334394,0.05206487,3.8913252,2.6540346,-4.287127,-1.9218341,-1.6438727,-8.862624,0.5913812,1.6593485,-3.2678883,-3.1552696,-1.0714558,-10.324123,0.42120996,7.288794,-10.025641,-8.884003,-4.951534,-1.825075,2.2283604,-2.1632085,1.6578827,3.1289773,3.8049479,0.67124206,-11.438776,-0.70556456,7.188727,-3.3665366,2.5612645,1.1633403,-0.7184329,7.229054,0.3615145,-6.920636,-1.8414855,-3.9823132,4.5639906,1.1425679,5.488622,4.025892,2.5871696,3.2145946,6.6256995,-12.275906,3.9995043,5.5218697,-0.8412062,6.7529197,4.595557,4.252261,-10.7038555,2.62361,0.36129147,3.833999,4.336788,3.1681867,10.348497,4.769886,0.4267576,1.363873,7.236637,2.1505961,-0.13482192,6.4128146,2.2522123,-3.66021,-0.6670034,3.2145722,3.0597198,0.24246465,1.6400127,3.1592784,-3.2086358,-4.539621,0.13997047,-2.2679334,-0.8943472,7.057556,6.155429,6.532909,2.3810077,0.3000301,-0.8919113,1.3870671,0.6693352,-6.961352,1.7425082,-9.588958,-4.0450387,-5.495375,1.7347325,-1.386286,-2.4770398,-12.1354265,1.5907477,-9.8389015,-0.28183088,10.629106,-3.3443108,-7.772901,-6.8577504,2.2909691,3.3497608,5.9703393,0.030327436,-0.7025404,-3.0312111,0.35642982,-9.585684,2.7142735,1.7989643,-2.9101746,4.4941344,-0.21073282,6.1055,2.5097513,-9.884026,-2.5396845,11.647303,-2.9840102,-9.351342,-10.536391,-3.223819,4.6872025,2.484287,-6.836577,10.393719,-8.434858,8.203964,11.733066,0.03777254,6.790388,-6.158739,-3.8077235,-6.319732,3.8414452,2.8067288,-9.421653,0.4282138,-11.711287,5.4859776,1.4887627,-10.12128,1.9628181,2.8642256,-3.671005,-4.429593,-8.386627,-0.90244216,4.0576196,1.4170712,0.45738047,6.578309,-1.5928481,5.6484804,-10.52794,-13.333761,0.040084086,-5.639384,8.690612,4.4900327,5.010289,-12.75039,-0.0035025363,10.09719,3.0356817,-4.4266047,2.8702035,-7.286928,-8.596402,1.3007357,1.8047658,-12.039049,3.1449528,0.685451,9.660457,8.335341,-11.167255,-1.4660162,4.1457825,-4.111942,7.075445,0.39249194,1.5215687,5.4357667,9.717407,-3.4555132,6.7728853,-3.3014157,-9.386308,-2.2069294,3.0518897,0.78390855,1.3683113,1.3827386,4.3999405,2.0305986,10.263527,5.133782,5.8200426,2.3529923,-8.496848,-6.64874,-1.6528313,-1.6651897,1.4000069,0.31899238,-1.7774476,10.948263,0.4131054,4.9225016,-5.316743,-5.722339,-3.2809403,3.3205822,7.581015,-3.8952394,0.8644824,2.375528,-0.32264486,-11.254122,-3.6537218,-12.440135,1.900969,-10.9889,2.7829404,-3.656357,-8.890259,0.2906278,3.7526681,2.9525964,-1.7715725,-3.441492,-0.2368373,-8.260805,-5.0508556,-10.155956,-0.30286765,2.2201977,6.7352095,2.1543405,1.8362353,-10.309331,6.2504177,-11.318609,0.8369986,2.2803004,7.1927705,-4.4537067,6.6185303,0.079845354,6.7331877,-3.251624,-11.82392,-1.1003977,-1.2234771,-4.226175,-9.195824,-3.4744902,-7.98124,5.4060855,-8.324181,0.012501241,-0.1985357,0.15134588,-3.163533,11.481145,3.7855177,-0.22492796,1.5213435,-3.690074,2.2806785,4.139047,-3.3120015,-11.095256,-7.3582883,2.0837595,1.5450288,0.13329795,3.4830623,-1.4554416,4.8281865,2.5641894,7.0095243,-5.6214156,2.1213562,3.4706197,-3.7569582,1.2088056,0.18172269,7.439926,1.9018853,4.6258283,2.4210422,6.925004,-7.70602,6.593531,-11.7318945,6.9859667,-12.917222,-6.8943586,-4.541741,-3.7019863,-1.8695382,0.50953704,-3.4806206,8.670313,-9.418283,0.7496557,-2.2820344,4.9288607,1.4779391,0.7207474,7.803796,-10.645173,10.535896,3.950575,-9.526929,-1.1445516,-8.752881,-3.5916114,7.989459,-3.566767,-5.2602477,7.576042,3.4994977,-0.011261297,1.8744327,0.81504256,3.936446,-0.22385257,-4.8457036,-7.989017,-3.8555257,-10.63974,7.8449984,-0.49537954,-0.92460823,-8.816955,-3.2476199,4.640811,-10.912879,1.0026168,-3.9953144,1.7629358,5.799717,1.3950884,-0.60650516,1.5208434,3.6900427,6.4709907,7.760016,-3.9429102,-11.836447,-7.7765975,6.3044024,-0.7122542,5.945225,8.519637,-4.7282896,11.94188,-8.479998,-4.7968373,5.880302,-7.047577,9.372006,-5.8726907,-0.085136935,1.620324,-3.429475,0.30968374,4.907227,-3.7241583,-7.5776534,9.985686,-2.2639027,1.6264344,7.910001,0.2916147,2.8521256,7.412658,3.0040877,4.0583816,2.2144833,11.824822,10.503152,3.2789786,10.431337,4.786654,-10.163217,-1.4936128,5.189049,4.811318,-3.3658786,0.61048836,3.5455503,-10.327158,4.920767,4.385478,3.1558783,3.1745985,5.5414734,2.8442254,-10.686704,-5.6743765,4.697548,10.991758,5.0135217,1.5173582,0.8722407,12.075299,-2.2850344,-0.62373936,-8.1368065,-3.4986494,5.1975284,5.6253843,-5.4002523,-2.896504,3.23186,0.6109733,2.6715157,5.0511875,5.856899,3.1989722,5.8929496,3.1548128,1.2183887,-2.1816554,2.2787752,-9.95281,9.0528755,-7.4834247,-12.316067,0.429163,1.4196947,-3.8588598,-4.4818907,2.1884463,-1.9727968,-8.934069,1.1863251,-5.139642,-8.13898,3.6035166,3.9824238,4.8381624,-1.421008,-6.7001534,5.8118215,7.194425,5.0555663,-3.061146,3.8433468,6.4143896,8.412124,-7.810353,-8.568198,2.2324867,3.7763512,2.0085955,0.7861166,2.3809764,-1.4793968,-1.0219228,8.386624,1.9948056,-3.194299,5.8412485,-3.2684567,-6.6905518,4.6954904,-2.1891973,2.0837579,10.982965,-0.5153441,-0.0402029,-7.787275,4.4535584,0.5020646,3.335108,2.214762,-2.4771593,0.17963615,2.3403184,1.3702656,3.691846,1.6615812,4.557845,-9.490177,-7.142237,8.299347,9.81244,-10.643982,-1.5076748,4.1778803,2.0648217,2.767841,2.5304878,-2.1173127,-3.286152,-3.3459356,0.8527336,4.0618844,-9.341603,1.950477,5.0933785,11.60266,-6.86112,2.7109292,-0.4592772,5.0298333,-0.83050406,-4.357082,2.1107447,-2.727159,2.5627456,8.603727,-2.6683948,7.6314588,7.134896,5.895719,7.314699,-7.4407825,-7.5607915,-5.117309,2.496349,-2.7879725,-0.7830742,-2.9227023,2.38653,9.003039,8.860589,0.9292493,1.9704561,1.5512782,-1.6120737,-1.3223176,5.259317,-3.5661922,-0.005318734,9.484271,-11.869699,-0.85566705,-1.0878545,-1.311722,0.8435747,2.9132488,-8.650076,0.94169545,-6.3954897,-2.1268146,9.934356,-9.737396,-0.15924078,-6.7256517,5.935276,5.4015884,-1.7443422,-6.7982106,-0.072999194,0.61629504,11.725363,-1.2446378,-10.251478,-2.2362313,3.844193,-1.2207901,3.7923567,-3.680102,-3.4868822,-1.974484,-4.173701,-2.7551298,2.1122909,3.7192113,-3.4702775,1.5797436,-5.169189,-7.9630003,-8.00595,-10.324251,3.6649272,12.009894,2.2026026,4.2439027,2.5575168,-10.298571,-3.0771902,-3.9182153,6.5457416,0.3327909,9.887352,7.017542,4.283085,-0.123779155,-2.0999424,6.1463804,-12.790762,0.50472784,-7.3582053,-6.935976,-3.154934,-12.125649,5.668359,2.0684268,0.059320465,-1.1383439,-2.7761993,8.2090225,3.6222708,5.2651095,-3.5101056,-5.5193787,2.1296546,-5.7014093,-3.2935643,-2.2264802,1.5659271,4.7720942,0.05998859,0.73498833,0.5040744,-8.338612,-3.5900257,10.099286,3.0627048,11.447596,3.5131388,-0.38857636,-0.76371056,0.30957934,-3.7685008,3.224038,-7.471005,1.6627331,-2.797495,2.8000479,-1.210174,3.370871,10.288976,-3.331507,2.4119656,0.08598452,-2.9618833,3.5438545,0.73273724,8.926331,5.131635,5.1971474,-2.782373,12.144683,-5.864646,-0.21703702,3.7296078,-3.4751065,-13.347421,3.466189,-6.78067,3.8874269,2.655013,0.69504136,-0.5447161,2.90109,0.573491,3.8104134,0.24478441,-9.085915,2.662762,-0.16663755,-3.5312974,10.908253,1.7261795,-0.7151376,-5.5592036,-5.647828,0.8670183,4.2659197,3.7586844,-0.9250866,-1.0564125,1.9859465,-8.460805,-8.68726,2.7510092,-8.761978,-12.31428,11.105481,2.7359624,2.2823126,1.4840726,-1.045661,-1.7978661,-1.2123892,-8.986553,-1.5131193,7.709951,-11.040133,3.14424,5.1379375,-0.31408274,6.2272053,-4.5608454,8.949845,12.358698,-1.6058826,3.1509771,0.27659136,4.3909106,-5.8438396,8.172861,1.5839152,-12.471158,4.8333826,3.3043647,1.891422,5.6095624,6.1373444,3.201073,12.130123,10.239059,-10.899672,1.5899465,7.0532393,1.9787372,4.3841014,2.934261,6.173648,-5.8161077,4.4574986,6.567368,-1.1137993,0.49453628,0.86481273,-7.891767,6.9234624,6.117721,8.962738,3.5153298,3.092086,-9.655801,-7.7117057,0.88417584,-1.5774508,1.5998248,-0.92929596,4.4225206,2.8892925,7.2322254,0.9385803,-3.2961824,8.650941,-0.9834494,-9.788852,4.970251,-11.112921,-0.88926476,-6.859547,-6.9907126,-8.179785,-1.8245885,-12.061422,4.707158,-0.0977526,6.556727,-10.979997,-3.6425178,11.231419,-3.823692,1.244731,-2.1575074,2.0148435,1.892382,5.8788037,-3.2972429,-2.5351477,5.555405,1.4639747,-5.6282716,5.5269237,-1.0844076,-7.591905,-7.6041036,-6.388899,-3.6782718,-1.0046369,3.0998056,-12.184178,5.839375,-1.2264014,-13.36913,2.565711,2.4306056,1.7928526,4.091954,-0.8672778,-0.84321827,-10.386478,-10.554167,11.487472,-8.690651,3.9910288,4.1938014,-12.661406,2.9718254,8.752401,-1.438213,-0.43126345,-1.9353939,-11.911909,-12.099987,-2.702752,3.6291044,-3.7017684,2.671575,-10.49155,0.46791083,1.739832,-4.0584793,7.4057016,-2.8492692,0.47556967,1.5622927,-10.936465,8.240618,-7.4558396,3.6509175,0.1016195,5.8494263,5.162168,-7.9588385,2.9750676,0.79604733,-2.8628047,4.224178,0.2900352,-1.754929,4.3630075,6.497141,3.5113184,-0.80273396,10.714494,4.421675,6.1044807,5.1222277,6.795622,-0.3570641,-5.6200366,1.734795,6.0738072,-11.240311,7.689614,-5.7500935,3.228245,2.2018719,-3.9770405,3.1415467,-2.3125737,8.90056,-1.5814068,5.860498,-5.8633475,0.40506876,3.04749,9.924768,3.5071604,-10.265194,-0.3586652,1.9309565,4.1899433,-1.6252915,-2.473402,-11.609802,10.458028,1.286629,-9.010131,-4.3493233,-0.14222397,5.131038,9.721231,4.4878697,-2.3258054,2.2896178,-1.1273046,4.89834,7.188662,7.1567245,-0.24200134,1.3989087,-1.965866,-1.443072,-0.038756475,1.9802691,-10.519063,7.19821,3.5658927,0.5168164,2.6388254,5.8435216,-2.2831898,-1.066909,-1.3123633,-3.7465405,-5.8583674,-11.170977,-13.035572,-7.9683585,8.009118,4.8116417,2.7041652,-2.2669282,-3.4945095,3.3227189,3.8663163,-3.293004,3.4437523],\"type\":\"scatter3d\"}],                        {\"template\":{\"data\":{\"bar\":[{\"error_x\":{\"color\":\"#2a3f5f\"},\"error_y\":{\"color\":\"#2a3f5f\"},\"marker\":{\"line\":{\"color\":\"#E5ECF6\",\"width\":0.5},\"pattern\":{\"fillmode\":\"overlay\",\"size\":10,\"solidity\":0.2}},\"type\":\"bar\"}],\"barpolar\":[{\"marker\":{\"line\":{\"color\":\"#E5ECF6\",\"width\":0.5},\"pattern\":{\"fillmode\":\"overlay\",\"size\":10,\"solidity\":0.2}},\"type\":\"barpolar\"}],\"carpet\":[{\"aaxis\":{\"endlinecolor\":\"#2a3f5f\",\"gridcolor\":\"white\",\"linecolor\":\"white\",\"minorgridcolor\":\"white\",\"startlinecolor\":\"#2a3f5f\"},\"baxis\":{\"endlinecolor\":\"#2a3f5f\",\"gridcolor\":\"white\",\"linecolor\":\"white\",\"minorgridcolor\":\"white\",\"startlinecolor\":\"#2a3f5f\"},\"type\":\"carpet\"}],\"choropleth\":[{\"colorbar\":{\"outlinewidth\":0,\"ticks\":\"\"},\"type\":\"choropleth\"}],\"contour\":[{\"colorbar\":{\"outlinewidth\":0,\"ticks\":\"\"},\"colorscale\":[[0.0,\"#0d0887\"],[0.1111111111111111,\"#46039f\"],[0.2222222222222222,\"#7201a8\"],[0.3333333333333333,\"#9c179e\"],[0.4444444444444444,\"#bd3786\"],[0.5555555555555556,\"#d8576b\"],[0.6666666666666666,\"#ed7953\"],[0.7777777777777778,\"#fb9f3a\"],[0.8888888888888888,\"#fdca26\"],[1.0,\"#f0f921\"]],\"type\":\"contour\"}],\"contourcarpet\":[{\"colorbar\":{\"outlinewidth\":0,\"ticks\":\"\"},\"type\":\"contourcarpet\"}],\"heatmap\":[{\"colorbar\":{\"outlinewidth\":0,\"ticks\":\"\"},\"colorscale\":[[0.0,\"#0d0887\"],[0.1111111111111111,\"#46039f\"],[0.2222222222222222,\"#7201a8\"],[0.3333333333333333,\"#9c179e\"],[0.4444444444444444,\"#bd3786\"],[0.5555555555555556,\"#d8576b\"],[0.6666666666666666,\"#ed7953\"],[0.7777777777777778,\"#fb9f3a\"],[0.8888888888888888,\"#fdca26\"],[1.0,\"#f0f921\"]],\"type\":\"heatmap\"}],\"heatmapgl\":[{\"colorbar\":{\"outlinewidth\":0,\"ticks\":\"\"},\"colorscale\":[[0.0,\"#0d0887\"],[0.1111111111111111,\"#46039f\"],[0.2222222222222222,\"#7201a8\"],[0.3333333333333333,\"#9c179e\"],[0.4444444444444444,\"#bd3786\"],[0.5555555555555556,\"#d8576b\"],[0.6666666666666666,\"#ed7953\"],[0.7777777777777778,\"#fb9f3a\"],[0.8888888888888888,\"#fdca26\"],[1.0,\"#f0f921\"]],\"type\":\"heatmapgl\"}],\"histogram\":[{\"marker\":{\"pattern\":{\"fillmode\":\"overlay\",\"size\":10,\"solidity\":0.2}},\"type\":\"histogram\"}],\"histogram2d\":[{\"colorbar\":{\"outlinewidth\":0,\"ticks\":\"\"},\"colorscale\":[[0.0,\"#0d0887\"],[0.1111111111111111,\"#46039f\"],[0.2222222222222222,\"#7201a8\"],[0.3333333333333333,\"#9c179e\"],[0.4444444444444444,\"#bd3786\"],[0.5555555555555556,\"#d8576b\"],[0.6666666666666666,\"#ed7953\"],[0.7777777777777778,\"#fb9f3a\"],[0.8888888888888888,\"#fdca26\"],[1.0,\"#f0f921\"]],\"type\":\"histogram2d\"}],\"histogram2dcontour\":[{\"colorbar\":{\"outlinewidth\":0,\"ticks\":\"\"},\"colorscale\":[[0.0,\"#0d0887\"],[0.1111111111111111,\"#46039f\"],[0.2222222222222222,\"#7201a8\"],[0.3333333333333333,\"#9c179e\"],[0.4444444444444444,\"#bd3786\"],[0.5555555555555556,\"#d8576b\"],[0.6666666666666666,\"#ed7953\"],[0.7777777777777778,\"#fb9f3a\"],[0.8888888888888888,\"#fdca26\"],[1.0,\"#f0f921\"]],\"type\":\"histogram2dcontour\"}],\"mesh3d\":[{\"colorbar\":{\"outlinewidth\":0,\"ticks\":\"\"},\"type\":\"mesh3d\"}],\"parcoords\":[{\"line\":{\"colorbar\":{\"outlinewidth\":0,\"ticks\":\"\"}},\"type\":\"parcoords\"}],\"pie\":[{\"automargin\":true,\"type\":\"pie\"}],\"scatter\":[{\"marker\":{\"colorbar\":{\"outlinewidth\":0,\"ticks\":\"\"}},\"type\":\"scatter\"}],\"scatter3d\":[{\"line\":{\"colorbar\":{\"outlinewidth\":0,\"ticks\":\"\"}},\"marker\":{\"colorbar\":{\"outlinewidth\":0,\"ticks\":\"\"}},\"type\":\"scatter3d\"}],\"scattercarpet\":[{\"marker\":{\"colorbar\":{\"outlinewidth\":0,\"ticks\":\"\"}},\"type\":\"scattercarpet\"}],\"scattergeo\":[{\"marker\":{\"colorbar\":{\"outlinewidth\":0,\"ticks\":\"\"}},\"type\":\"scattergeo\"}],\"scattergl\":[{\"marker\":{\"colorbar\":{\"outlinewidth\":0,\"ticks\":\"\"}},\"type\":\"scattergl\"}],\"scattermapbox\":[{\"marker\":{\"colorbar\":{\"outlinewidth\":0,\"ticks\":\"\"}},\"type\":\"scattermapbox\"}],\"scatterpolar\":[{\"marker\":{\"colorbar\":{\"outlinewidth\":0,\"ticks\":\"\"}},\"type\":\"scatterpolar\"}],\"scatterpolargl\":[{\"marker\":{\"colorbar\":{\"outlinewidth\":0,\"ticks\":\"\"}},\"type\":\"scatterpolargl\"}],\"scatterternary\":[{\"marker\":{\"colorbar\":{\"outlinewidth\":0,\"ticks\":\"\"}},\"type\":\"scatterternary\"}],\"surface\":[{\"colorbar\":{\"outlinewidth\":0,\"ticks\":\"\"},\"colorscale\":[[0.0,\"#0d0887\"],[0.1111111111111111,\"#46039f\"],[0.2222222222222222,\"#7201a8\"],[0.3333333333333333,\"#9c179e\"],[0.4444444444444444,\"#bd3786\"],[0.5555555555555556,\"#d8576b\"],[0.6666666666666666,\"#ed7953\"],[0.7777777777777778,\"#fb9f3a\"],[0.8888888888888888,\"#fdca26\"],[1.0,\"#f0f921\"]],\"type\":\"surface\"}],\"table\":[{\"cells\":{\"fill\":{\"color\":\"#EBF0F8\"},\"line\":{\"color\":\"white\"}},\"header\":{\"fill\":{\"color\":\"#C8D4E3\"},\"line\":{\"color\":\"white\"}},\"type\":\"table\"}]},\"layout\":{\"annotationdefaults\":{\"arrowcolor\":\"#2a3f5f\",\"arrowhead\":0,\"arrowwidth\":1},\"autotypenumbers\":\"strict\",\"coloraxis\":{\"colorbar\":{\"outlinewidth\":0,\"ticks\":\"\"}},\"colorscale\":{\"diverging\":[[0,\"#8e0152\"],[0.1,\"#c51b7d\"],[0.2,\"#de77ae\"],[0.3,\"#f1b6da\"],[0.4,\"#fde0ef\"],[0.5,\"#f7f7f7\"],[0.6,\"#e6f5d0\"],[0.7,\"#b8e186\"],[0.8,\"#7fbc41\"],[0.9,\"#4d9221\"],[1,\"#276419\"]],\"sequential\":[[0.0,\"#0d0887\"],[0.1111111111111111,\"#46039f\"],[0.2222222222222222,\"#7201a8\"],[0.3333333333333333,\"#9c179e\"],[0.4444444444444444,\"#bd3786\"],[0.5555555555555556,\"#d8576b\"],[0.6666666666666666,\"#ed7953\"],[0.7777777777777778,\"#fb9f3a\"],[0.8888888888888888,\"#fdca26\"],[1.0,\"#f0f921\"]],\"sequentialminus\":[[0.0,\"#0d0887\"],[0.1111111111111111,\"#46039f\"],[0.2222222222222222,\"#7201a8\"],[0.3333333333333333,\"#9c179e\"],[0.4444444444444444,\"#bd3786\"],[0.5555555555555556,\"#d8576b\"],[0.6666666666666666,\"#ed7953\"],[0.7777777777777778,\"#fb9f3a\"],[0.8888888888888888,\"#fdca26\"],[1.0,\"#f0f921\"]]},\"colorway\":[\"#636efa\",\"#EF553B\",\"#00cc96\",\"#ab63fa\",\"#FFA15A\",\"#19d3f3\",\"#FF6692\",\"#B6E880\",\"#FF97FF\",\"#FECB52\"],\"font\":{\"color\":\"#2a3f5f\"},\"geo\":{\"bgcolor\":\"white\",\"lakecolor\":\"white\",\"landcolor\":\"#E5ECF6\",\"showlakes\":true,\"showland\":true,\"subunitcolor\":\"white\"},\"hoverlabel\":{\"align\":\"left\"},\"hovermode\":\"closest\",\"mapbox\":{\"style\":\"light\"},\"paper_bgcolor\":\"white\",\"plot_bgcolor\":\"#E5ECF6\",\"polar\":{\"angularaxis\":{\"gridcolor\":\"white\",\"linecolor\":\"white\",\"ticks\":\"\"},\"bgcolor\":\"#E5ECF6\",\"radialaxis\":{\"gridcolor\":\"white\",\"linecolor\":\"white\",\"ticks\":\"\"}},\"scene\":{\"xaxis\":{\"backgroundcolor\":\"#E5ECF6\",\"gridcolor\":\"white\",\"gridwidth\":2,\"linecolor\":\"white\",\"showbackground\":true,\"ticks\":\"\",\"zerolinecolor\":\"white\"},\"yaxis\":{\"backgroundcolor\":\"#E5ECF6\",\"gridcolor\":\"white\",\"gridwidth\":2,\"linecolor\":\"white\",\"showbackground\":true,\"ticks\":\"\",\"zerolinecolor\":\"white\"},\"zaxis\":{\"backgroundcolor\":\"#E5ECF6\",\"gridcolor\":\"white\",\"gridwidth\":2,\"linecolor\":\"white\",\"showbackground\":true,\"ticks\":\"\",\"zerolinecolor\":\"white\"}},\"shapedefaults\":{\"line\":{\"color\":\"#2a3f5f\"}},\"ternary\":{\"aaxis\":{\"gridcolor\":\"white\",\"linecolor\":\"white\",\"ticks\":\"\"},\"baxis\":{\"gridcolor\":\"white\",\"linecolor\":\"white\",\"ticks\":\"\"},\"bgcolor\":\"#E5ECF6\",\"caxis\":{\"gridcolor\":\"white\",\"linecolor\":\"white\",\"ticks\":\"\"}},\"title\":{\"x\":0.05},\"xaxis\":{\"automargin\":true,\"gridcolor\":\"white\",\"linecolor\":\"white\",\"ticks\":\"\",\"title\":{\"standoff\":15},\"zerolinecolor\":\"white\",\"zerolinewidth\":2},\"yaxis\":{\"automargin\":true,\"gridcolor\":\"white\",\"linecolor\":\"white\",\"ticks\":\"\",\"title\":{\"standoff\":15},\"zerolinecolor\":\"white\",\"zerolinewidth\":2}}},\"scene\":{\"domain\":{\"x\":[0.0,1.0],\"y\":[0.0,1.0]},\"xaxis\":{\"title\":{\"text\":\"0\"}},\"yaxis\":{\"title\":{\"text\":\"1\"}},\"zaxis\":{\"title\":{\"text\":\"2\"}}},\"coloraxis\":{\"colorbar\":{\"title\":{\"text\":\"Anomaly\"}},\"colorscale\":[[0.0,\"#0d0887\"],[0.1111111111111111,\"#46039f\"],[0.2222222222222222,\"#7201a8\"],[0.3333333333333333,\"#9c179e\"],[0.4444444444444444,\"#bd3786\"],[0.5555555555555556,\"#d8576b\"],[0.6666666666666666,\"#ed7953\"],[0.7777777777777778,\"#fb9f3a\"],[0.8888888888888888,\"#fdca26\"],[1.0,\"#f0f921\"]]},\"legend\":{\"tracegroupgap\":0},\"title\":{\"text\":\"3d TSNE Plot for Outliers\"},\"height\":800,\"width\":900},                        {\"responsive\": true}                    ).then(function(){\n",
              "                            \n",
              "var gd = document.getElementById('0ee82391-97f2-4667-8d3a-8153079b8bc0');\n",
              "var x = new MutationObserver(function (mutations, observer) {{\n",
              "        var display = window.getComputedStyle(gd).display;\n",
              "        if (!display || display === 'none') {{\n",
              "            console.log([gd, 'removed!']);\n",
              "            Plotly.purge(gd);\n",
              "            observer.disconnect();\n",
              "        }}\n",
              "}});\n",
              "\n",
              "// Listen for the removal of the full notebook cells\n",
              "var notebookContainer = gd.closest('#notebook-container');\n",
              "if (notebookContainer) {{\n",
              "    x.observe(notebookContainer, {childList: true});\n",
              "}}\n",
              "\n",
              "// Listen for the clearing of the current output cell\n",
              "var outputEl = gd.closest('.output');\n",
              "if (outputEl) {{\n",
              "    x.observe(outputEl, {childList: true});\n",
              "}}\n",
              "\n",
              "                        })                };                });            </script>        </div>"
            ]
          },
          "metadata": {}
        },
        {
          "output_type": "stream",
          "name": "stderr",
          "text": [
            "INFO:logs:Visual Rendered Successfully\n",
            "INFO:logs:plot_model() successfully completed......................................\n"
          ]
        }
      ]
    },
    {
      "cell_type": "code",
      "source": [
        "knn_predictions = predict_model(knn, data = df)"
      ],
      "metadata": {
        "colab": {
          "base_uri": "https://localhost:8080/"
        },
        "id": "G0lAepor84oE",
        "outputId": "d14ea9d0-0b0a-437e-a0f9-fd08aa9bc6ff"
      },
      "execution_count": 38,
      "outputs": [
        {
          "output_type": "stream",
          "name": "stderr",
          "text": [
            "INFO:logs:Initializing predict_model()\n",
            "INFO:logs:predict_model(self=<pycaret.anomaly.oop.AnomalyExperiment object at 0x7fdea61da650>, estimator=KNN(algorithm='auto', contamination=0.05, leaf_size=30, method='largest',\n",
            "  metric='minkowski', metric_params=None, n_jobs=-1, n_neighbors=5, p=2,\n",
            "  radius=1.0), ml_usecase=None)\n",
            "INFO:logs:Set up data.\n"
          ]
        }
      ]
    },
    {
      "cell_type": "code",
      "source": [
        "knn_predictions"
      ],
      "metadata": {
        "colab": {
          "base_uri": "https://localhost:8080/",
          "height": 522
        },
        "id": "4wRrgfHc-lWb",
        "outputId": "4ad7fbb8-f0a8-4e59-cfe5-a5b8066bcd39"
      },
      "execution_count": 39,
      "outputs": [
        {
          "output_type": "execute_result",
          "data": {
            "text/plain": [
              "     %,% di ossigeno  *C,Temperatura Corporea  bpm,Frequenza Cardiaca  \\\n",
              "0          93.949005                35.958916               80.006706   \n",
              "1          94.157120                36.252296               83.116188   \n",
              "2          95.146698                35.877064               79.570717   \n",
              "3          94.008133                36.194714               80.753181   \n",
              "4          94.053665                36.186886               80.994652   \n",
              "..               ...                      ...                     ...   \n",
              "995        95.699593                35.639668               83.604416   \n",
              "996        95.439453                33.274929               81.237801   \n",
              "997        93.647720                36.038761               81.131355   \n",
              "998        94.209656                36.104916               80.895729   \n",
              "999        94.095230                36.014488               81.316101   \n",
              "\n",
              "     bpm,Frequenza Cardiaca Master    Kg,Peso  Kg/m2,Indice Massa Corporea  \\\n",
              "0                        69.767044  66.972168                    23.204119   \n",
              "1                        70.088348  67.187943                    23.930307   \n",
              "2                        67.602158  66.490067                    24.562563   \n",
              "3                        70.527504  64.127609                    23.832878   \n",
              "4                        69.719543  66.860420                    24.609070   \n",
              "..                             ...        ...                          ...   \n",
              "995                      67.513702  65.698112                    24.820473   \n",
              "996                      67.838303  66.507172                    24.884150   \n",
              "997                      71.392563  64.124046                    24.846205   \n",
              "998                      70.423340  64.008270                    24.015678   \n",
              "999                      70.769028  65.996170                    24.875784   \n",
              "\n",
              "       L,FEV1   L/min,PEF   mmHg,MAP  mmHg,Pressione Diastolica  \\\n",
              "0    2.317629  393.420746  86.521629                  71.788040   \n",
              "1    2.305194  386.678711  85.294395                  70.208458   \n",
              "2    2.315017  419.490143  85.274483                  72.501884   \n",
              "3    2.304304  396.934204  85.487022                  69.956482   \n",
              "4    2.282185  393.607117  84.546944                  70.764709   \n",
              "..        ...         ...        ...                        ...   \n",
              "995  2.346984  416.045471  85.010620                  70.362747   \n",
              "996  2.342386  420.821899  87.751488                  74.063553   \n",
              "997  2.302850  393.686127  85.703278                  72.783775   \n",
              "998  2.359943  396.886536  87.004562                  71.256630   \n",
              "999  2.304013  391.431946  87.512184                  70.584023   \n",
              "\n",
              "     mmHg,Pressione Sistolica  Anomaly  Anomaly_Score  \n",
              "0                  117.709839        0       2.008168  \n",
              "1                  118.583931        0       2.490748  \n",
              "2                  117.717125        0       2.211408  \n",
              "3                  117.960693        0       1.881453  \n",
              "4                  114.964470        0       2.705108  \n",
              "..                        ...      ...            ...  \n",
              "995                118.316483        0       2.827154  \n",
              "996                118.446129        0       2.788547  \n",
              "997                111.995850        1       4.688202  \n",
              "998                115.564163        0       2.551933  \n",
              "999                114.951202        0       2.360785  \n",
              "\n",
              "[1000 rows x 13 columns]"
            ],
            "text/html": [
              "\n",
              "  <div id=\"df-fee38efb-8c5e-413d-badd-a1752c27d123\">\n",
              "    <div class=\"colab-df-container\">\n",
              "      <div>\n",
              "<style scoped>\n",
              "    .dataframe tbody tr th:only-of-type {\n",
              "        vertical-align: middle;\n",
              "    }\n",
              "\n",
              "    .dataframe tbody tr th {\n",
              "        vertical-align: top;\n",
              "    }\n",
              "\n",
              "    .dataframe thead th {\n",
              "        text-align: right;\n",
              "    }\n",
              "</style>\n",
              "<table border=\"1\" class=\"dataframe\">\n",
              "  <thead>\n",
              "    <tr style=\"text-align: right;\">\n",
              "      <th></th>\n",
              "      <th>%,% di ossigeno</th>\n",
              "      <th>*C,Temperatura Corporea</th>\n",
              "      <th>bpm,Frequenza Cardiaca</th>\n",
              "      <th>bpm,Frequenza Cardiaca Master</th>\n",
              "      <th>Kg,Peso</th>\n",
              "      <th>Kg/m2,Indice Massa Corporea</th>\n",
              "      <th>L,FEV1</th>\n",
              "      <th>L/min,PEF</th>\n",
              "      <th>mmHg,MAP</th>\n",
              "      <th>mmHg,Pressione Diastolica</th>\n",
              "      <th>mmHg,Pressione Sistolica</th>\n",
              "      <th>Anomaly</th>\n",
              "      <th>Anomaly_Score</th>\n",
              "    </tr>\n",
              "  </thead>\n",
              "  <tbody>\n",
              "    <tr>\n",
              "      <th>0</th>\n",
              "      <td>93.949005</td>\n",
              "      <td>35.958916</td>\n",
              "      <td>80.006706</td>\n",
              "      <td>69.767044</td>\n",
              "      <td>66.972168</td>\n",
              "      <td>23.204119</td>\n",
              "      <td>2.317629</td>\n",
              "      <td>393.420746</td>\n",
              "      <td>86.521629</td>\n",
              "      <td>71.788040</td>\n",
              "      <td>117.709839</td>\n",
              "      <td>0</td>\n",
              "      <td>2.008168</td>\n",
              "    </tr>\n",
              "    <tr>\n",
              "      <th>1</th>\n",
              "      <td>94.157120</td>\n",
              "      <td>36.252296</td>\n",
              "      <td>83.116188</td>\n",
              "      <td>70.088348</td>\n",
              "      <td>67.187943</td>\n",
              "      <td>23.930307</td>\n",
              "      <td>2.305194</td>\n",
              "      <td>386.678711</td>\n",
              "      <td>85.294395</td>\n",
              "      <td>70.208458</td>\n",
              "      <td>118.583931</td>\n",
              "      <td>0</td>\n",
              "      <td>2.490748</td>\n",
              "    </tr>\n",
              "    <tr>\n",
              "      <th>2</th>\n",
              "      <td>95.146698</td>\n",
              "      <td>35.877064</td>\n",
              "      <td>79.570717</td>\n",
              "      <td>67.602158</td>\n",
              "      <td>66.490067</td>\n",
              "      <td>24.562563</td>\n",
              "      <td>2.315017</td>\n",
              "      <td>419.490143</td>\n",
              "      <td>85.274483</td>\n",
              "      <td>72.501884</td>\n",
              "      <td>117.717125</td>\n",
              "      <td>0</td>\n",
              "      <td>2.211408</td>\n",
              "    </tr>\n",
              "    <tr>\n",
              "      <th>3</th>\n",
              "      <td>94.008133</td>\n",
              "      <td>36.194714</td>\n",
              "      <td>80.753181</td>\n",
              "      <td>70.527504</td>\n",
              "      <td>64.127609</td>\n",
              "      <td>23.832878</td>\n",
              "      <td>2.304304</td>\n",
              "      <td>396.934204</td>\n",
              "      <td>85.487022</td>\n",
              "      <td>69.956482</td>\n",
              "      <td>117.960693</td>\n",
              "      <td>0</td>\n",
              "      <td>1.881453</td>\n",
              "    </tr>\n",
              "    <tr>\n",
              "      <th>4</th>\n",
              "      <td>94.053665</td>\n",
              "      <td>36.186886</td>\n",
              "      <td>80.994652</td>\n",
              "      <td>69.719543</td>\n",
              "      <td>66.860420</td>\n",
              "      <td>24.609070</td>\n",
              "      <td>2.282185</td>\n",
              "      <td>393.607117</td>\n",
              "      <td>84.546944</td>\n",
              "      <td>70.764709</td>\n",
              "      <td>114.964470</td>\n",
              "      <td>0</td>\n",
              "      <td>2.705108</td>\n",
              "    </tr>\n",
              "    <tr>\n",
              "      <th>...</th>\n",
              "      <td>...</td>\n",
              "      <td>...</td>\n",
              "      <td>...</td>\n",
              "      <td>...</td>\n",
              "      <td>...</td>\n",
              "      <td>...</td>\n",
              "      <td>...</td>\n",
              "      <td>...</td>\n",
              "      <td>...</td>\n",
              "      <td>...</td>\n",
              "      <td>...</td>\n",
              "      <td>...</td>\n",
              "      <td>...</td>\n",
              "    </tr>\n",
              "    <tr>\n",
              "      <th>995</th>\n",
              "      <td>95.699593</td>\n",
              "      <td>35.639668</td>\n",
              "      <td>83.604416</td>\n",
              "      <td>67.513702</td>\n",
              "      <td>65.698112</td>\n",
              "      <td>24.820473</td>\n",
              "      <td>2.346984</td>\n",
              "      <td>416.045471</td>\n",
              "      <td>85.010620</td>\n",
              "      <td>70.362747</td>\n",
              "      <td>118.316483</td>\n",
              "      <td>0</td>\n",
              "      <td>2.827154</td>\n",
              "    </tr>\n",
              "    <tr>\n",
              "      <th>996</th>\n",
              "      <td>95.439453</td>\n",
              "      <td>33.274929</td>\n",
              "      <td>81.237801</td>\n",
              "      <td>67.838303</td>\n",
              "      <td>66.507172</td>\n",
              "      <td>24.884150</td>\n",
              "      <td>2.342386</td>\n",
              "      <td>420.821899</td>\n",
              "      <td>87.751488</td>\n",
              "      <td>74.063553</td>\n",
              "      <td>118.446129</td>\n",
              "      <td>0</td>\n",
              "      <td>2.788547</td>\n",
              "    </tr>\n",
              "    <tr>\n",
              "      <th>997</th>\n",
              "      <td>93.647720</td>\n",
              "      <td>36.038761</td>\n",
              "      <td>81.131355</td>\n",
              "      <td>71.392563</td>\n",
              "      <td>64.124046</td>\n",
              "      <td>24.846205</td>\n",
              "      <td>2.302850</td>\n",
              "      <td>393.686127</td>\n",
              "      <td>85.703278</td>\n",
              "      <td>72.783775</td>\n",
              "      <td>111.995850</td>\n",
              "      <td>1</td>\n",
              "      <td>4.688202</td>\n",
              "    </tr>\n",
              "    <tr>\n",
              "      <th>998</th>\n",
              "      <td>94.209656</td>\n",
              "      <td>36.104916</td>\n",
              "      <td>80.895729</td>\n",
              "      <td>70.423340</td>\n",
              "      <td>64.008270</td>\n",
              "      <td>24.015678</td>\n",
              "      <td>2.359943</td>\n",
              "      <td>396.886536</td>\n",
              "      <td>87.004562</td>\n",
              "      <td>71.256630</td>\n",
              "      <td>115.564163</td>\n",
              "      <td>0</td>\n",
              "      <td>2.551933</td>\n",
              "    </tr>\n",
              "    <tr>\n",
              "      <th>999</th>\n",
              "      <td>94.095230</td>\n",
              "      <td>36.014488</td>\n",
              "      <td>81.316101</td>\n",
              "      <td>70.769028</td>\n",
              "      <td>65.996170</td>\n",
              "      <td>24.875784</td>\n",
              "      <td>2.304013</td>\n",
              "      <td>391.431946</td>\n",
              "      <td>87.512184</td>\n",
              "      <td>70.584023</td>\n",
              "      <td>114.951202</td>\n",
              "      <td>0</td>\n",
              "      <td>2.360785</td>\n",
              "    </tr>\n",
              "  </tbody>\n",
              "</table>\n",
              "<p>1000 rows × 13 columns</p>\n",
              "</div>\n",
              "      <button class=\"colab-df-convert\" onclick=\"convertToInteractive('df-fee38efb-8c5e-413d-badd-a1752c27d123')\"\n",
              "              title=\"Convert this dataframe to an interactive table.\"\n",
              "              style=\"display:none;\">\n",
              "        \n",
              "  <svg xmlns=\"http://www.w3.org/2000/svg\" height=\"24px\"viewBox=\"0 0 24 24\"\n",
              "       width=\"24px\">\n",
              "    <path d=\"M0 0h24v24H0V0z\" fill=\"none\"/>\n",
              "    <path d=\"M18.56 5.44l.94 2.06.94-2.06 2.06-.94-2.06-.94-.94-2.06-.94 2.06-2.06.94zm-11 1L8.5 8.5l.94-2.06 2.06-.94-2.06-.94L8.5 2.5l-.94 2.06-2.06.94zm10 10l.94 2.06.94-2.06 2.06-.94-2.06-.94-.94-2.06-.94 2.06-2.06.94z\"/><path d=\"M17.41 7.96l-1.37-1.37c-.4-.4-.92-.59-1.43-.59-.52 0-1.04.2-1.43.59L10.3 9.45l-7.72 7.72c-.78.78-.78 2.05 0 2.83L4 21.41c.39.39.9.59 1.41.59.51 0 1.02-.2 1.41-.59l7.78-7.78 2.81-2.81c.8-.78.8-2.07 0-2.86zM5.41 20L4 18.59l7.72-7.72 1.47 1.35L5.41 20z\"/>\n",
              "  </svg>\n",
              "      </button>\n",
              "      \n",
              "  <style>\n",
              "    .colab-df-container {\n",
              "      display:flex;\n",
              "      flex-wrap:wrap;\n",
              "      gap: 12px;\n",
              "    }\n",
              "\n",
              "    .colab-df-convert {\n",
              "      background-color: #E8F0FE;\n",
              "      border: none;\n",
              "      border-radius: 50%;\n",
              "      cursor: pointer;\n",
              "      display: none;\n",
              "      fill: #1967D2;\n",
              "      height: 32px;\n",
              "      padding: 0 0 0 0;\n",
              "      width: 32px;\n",
              "    }\n",
              "\n",
              "    .colab-df-convert:hover {\n",
              "      background-color: #E2EBFA;\n",
              "      box-shadow: 0px 1px 2px rgba(60, 64, 67, 0.3), 0px 1px 3px 1px rgba(60, 64, 67, 0.15);\n",
              "      fill: #174EA6;\n",
              "    }\n",
              "\n",
              "    [theme=dark] .colab-df-convert {\n",
              "      background-color: #3B4455;\n",
              "      fill: #D2E3FC;\n",
              "    }\n",
              "\n",
              "    [theme=dark] .colab-df-convert:hover {\n",
              "      background-color: #434B5C;\n",
              "      box-shadow: 0px 1px 3px 1px rgba(0, 0, 0, 0.15);\n",
              "      filter: drop-shadow(0px 1px 2px rgba(0, 0, 0, 0.3));\n",
              "      fill: #FFFFFF;\n",
              "    }\n",
              "  </style>\n",
              "\n",
              "      <script>\n",
              "        const buttonEl =\n",
              "          document.querySelector('#df-fee38efb-8c5e-413d-badd-a1752c27d123 button.colab-df-convert');\n",
              "        buttonEl.style.display =\n",
              "          google.colab.kernel.accessAllowed ? 'block' : 'none';\n",
              "\n",
              "        async function convertToInteractive(key) {\n",
              "          const element = document.querySelector('#df-fee38efb-8c5e-413d-badd-a1752c27d123');\n",
              "          const dataTable =\n",
              "            await google.colab.kernel.invokeFunction('convertToInteractive',\n",
              "                                                     [key], {});\n",
              "          if (!dataTable) return;\n",
              "\n",
              "          const docLinkHtml = 'Like what you see? Visit the ' +\n",
              "            '<a target=\"_blank\" href=https://colab.research.google.com/notebooks/data_table.ipynb>data table notebook</a>'\n",
              "            + ' to learn more about interactive tables.';\n",
              "          element.innerHTML = '';\n",
              "          dataTable['output_type'] = 'display_data';\n",
              "          await google.colab.output.renderOutput(dataTable, element);\n",
              "          const docLink = document.createElement('div');\n",
              "          docLink.innerHTML = docLinkHtml;\n",
              "          element.appendChild(docLink);\n",
              "        }\n",
              "      </script>\n",
              "    </div>\n",
              "  </div>\n",
              "  "
            ]
          },
          "metadata": {},
          "execution_count": 39
        }
      ]
    },
    {
      "cell_type": "code",
      "source": [
        "from sklearn.metrics import confusion_matrix\n",
        "#confusion_matrix(df_1, knn_predictions)"
      ],
      "metadata": {
        "colab": {
          "base_uri": "https://localhost:8080/",
          "height": 328
        },
        "id": "zIF542Ea_ARR",
        "outputId": "7b22957e-1fd2-4835-f5c4-8b556f1c9d29"
      },
      "execution_count": 48,
      "outputs": [
        {
          "output_type": "error",
          "ename": "ValueError",
          "evalue": "ignored",
          "traceback": [
            "\u001b[0;31m---------------------------------------------------------------------------\u001b[0m",
            "\u001b[0;31mValueError\u001b[0m                                Traceback (most recent call last)",
            "\u001b[0;32m<ipython-input-48-d4b08739de81>\u001b[0m in \u001b[0;36m<module>\u001b[0;34m\u001b[0m\n\u001b[1;32m      1\u001b[0m \u001b[0;32mfrom\u001b[0m \u001b[0msklearn\u001b[0m\u001b[0;34m.\u001b[0m\u001b[0mmetrics\u001b[0m \u001b[0;32mimport\u001b[0m \u001b[0mconfusion_matrix\u001b[0m\u001b[0;34m\u001b[0m\u001b[0;34m\u001b[0m\u001b[0m\n\u001b[0;32m----> 2\u001b[0;31m \u001b[0mconfusion_matrix\u001b[0m\u001b[0;34m(\u001b[0m\u001b[0mdf_1\u001b[0m\u001b[0;34m,\u001b[0m \u001b[0mknn_predictions\u001b[0m\u001b[0;34m)\u001b[0m\u001b[0;34m\u001b[0m\u001b[0;34m\u001b[0m\u001b[0m\n\u001b[0m",
            "\u001b[0;32m/usr/local/lib/python3.7/dist-packages/sklearn/metrics/_classification.py\u001b[0m in \u001b[0;36mconfusion_matrix\u001b[0;34m(y_true, y_pred, labels, sample_weight, normalize)\u001b[0m\n\u001b[1;32m    305\u001b[0m     \u001b[0;34m(\u001b[0m\u001b[0;36m0\u001b[0m\u001b[0;34m,\u001b[0m \u001b[0;36m2\u001b[0m\u001b[0;34m,\u001b[0m \u001b[0;36m1\u001b[0m\u001b[0;34m,\u001b[0m \u001b[0;36m1\u001b[0m\u001b[0;34m)\u001b[0m\u001b[0;34m\u001b[0m\u001b[0;34m\u001b[0m\u001b[0m\n\u001b[1;32m    306\u001b[0m     \"\"\"\n\u001b[0;32m--> 307\u001b[0;31m     \u001b[0my_type\u001b[0m\u001b[0;34m,\u001b[0m \u001b[0my_true\u001b[0m\u001b[0;34m,\u001b[0m \u001b[0my_pred\u001b[0m \u001b[0;34m=\u001b[0m \u001b[0m_check_targets\u001b[0m\u001b[0;34m(\u001b[0m\u001b[0my_true\u001b[0m\u001b[0;34m,\u001b[0m \u001b[0my_pred\u001b[0m\u001b[0;34m)\u001b[0m\u001b[0;34m\u001b[0m\u001b[0;34m\u001b[0m\u001b[0m\n\u001b[0m\u001b[1;32m    308\u001b[0m     \u001b[0;32mif\u001b[0m \u001b[0my_type\u001b[0m \u001b[0;32mnot\u001b[0m \u001b[0;32min\u001b[0m \u001b[0;34m(\u001b[0m\u001b[0;34m\"binary\"\u001b[0m\u001b[0;34m,\u001b[0m \u001b[0;34m\"multiclass\"\u001b[0m\u001b[0;34m)\u001b[0m\u001b[0;34m:\u001b[0m\u001b[0;34m\u001b[0m\u001b[0;34m\u001b[0m\u001b[0m\n\u001b[1;32m    309\u001b[0m         \u001b[0;32mraise\u001b[0m \u001b[0mValueError\u001b[0m\u001b[0;34m(\u001b[0m\u001b[0;34m\"%s is not supported\"\u001b[0m \u001b[0;34m%\u001b[0m \u001b[0my_type\u001b[0m\u001b[0;34m)\u001b[0m\u001b[0;34m\u001b[0m\u001b[0;34m\u001b[0m\u001b[0m\n",
            "\u001b[0;32m/usr/local/lib/python3.7/dist-packages/sklearn/metrics/_classification.py\u001b[0m in \u001b[0;36m_check_targets\u001b[0;34m(y_true, y_pred)\u001b[0m\n\u001b[1;32m    102\u001b[0m     \u001b[0;31m# No metrics support \"multiclass-multioutput\" format\u001b[0m\u001b[0;34m\u001b[0m\u001b[0;34m\u001b[0m\u001b[0;34m\u001b[0m\u001b[0m\n\u001b[1;32m    103\u001b[0m     \u001b[0;32mif\u001b[0m \u001b[0my_type\u001b[0m \u001b[0;32mnot\u001b[0m \u001b[0;32min\u001b[0m \u001b[0;34m[\u001b[0m\u001b[0;34m\"binary\"\u001b[0m\u001b[0;34m,\u001b[0m \u001b[0;34m\"multiclass\"\u001b[0m\u001b[0;34m,\u001b[0m \u001b[0;34m\"multilabel-indicator\"\u001b[0m\u001b[0;34m]\u001b[0m\u001b[0;34m:\u001b[0m\u001b[0;34m\u001b[0m\u001b[0;34m\u001b[0m\u001b[0m\n\u001b[0;32m--> 104\u001b[0;31m         \u001b[0;32mraise\u001b[0m \u001b[0mValueError\u001b[0m\u001b[0;34m(\u001b[0m\u001b[0;34m\"{0} is not supported\"\u001b[0m\u001b[0;34m.\u001b[0m\u001b[0mformat\u001b[0m\u001b[0;34m(\u001b[0m\u001b[0my_type\u001b[0m\u001b[0;34m)\u001b[0m\u001b[0;34m)\u001b[0m\u001b[0;34m\u001b[0m\u001b[0;34m\u001b[0m\u001b[0m\n\u001b[0m\u001b[1;32m    105\u001b[0m \u001b[0;34m\u001b[0m\u001b[0m\n\u001b[1;32m    106\u001b[0m     \u001b[0;32mif\u001b[0m \u001b[0my_type\u001b[0m \u001b[0;32min\u001b[0m \u001b[0;34m[\u001b[0m\u001b[0;34m\"binary\"\u001b[0m\u001b[0;34m,\u001b[0m \u001b[0;34m\"multiclass\"\u001b[0m\u001b[0;34m]\u001b[0m\u001b[0;34m:\u001b[0m\u001b[0;34m\u001b[0m\u001b[0;34m\u001b[0m\u001b[0m\n",
            "\u001b[0;31mValueError\u001b[0m: continuous-multioutput is not supported"
          ]
        }
      ]
    },
    {
      "cell_type": "code",
      "source": [
        "best = compare_models()"
      ],
      "metadata": {
        "colab": {
          "base_uri": "https://localhost:8080/",
          "height": 165
        },
        "id": "mPBNABMAE6QT",
        "outputId": "154fc3bd-c92a-46a0-cc6b-a334298a1ba0"
      },
      "execution_count": 49,
      "outputs": [
        {
          "output_type": "error",
          "ename": "NameError",
          "evalue": "ignored",
          "traceback": [
            "\u001b[0;31m---------------------------------------------------------------------------\u001b[0m",
            "\u001b[0;31mNameError\u001b[0m                                 Traceback (most recent call last)",
            "\u001b[0;32m<ipython-input-49-9dbb5bbd548b>\u001b[0m in \u001b[0;36m<module>\u001b[0;34m\u001b[0m\n\u001b[0;32m----> 1\u001b[0;31m \u001b[0mbest\u001b[0m \u001b[0;34m=\u001b[0m \u001b[0mcompare_models\u001b[0m\u001b[0;34m(\u001b[0m\u001b[0;34m)\u001b[0m\u001b[0;34m\u001b[0m\u001b[0;34m\u001b[0m\u001b[0m\n\u001b[0m",
            "\u001b[0;31mNameError\u001b[0m: name 'compare_models' is not defined"
          ]
        }
      ]
    }
  ]
}